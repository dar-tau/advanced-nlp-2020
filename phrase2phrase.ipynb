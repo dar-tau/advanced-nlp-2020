{
 "cells": [
  {
   "cell_type": "markdown",
   "metadata": {},
   "source": [
    "## Initialization"
   ]
  },
  {
   "cell_type": "markdown",
   "metadata": {},
   "source": [
    "### pip"
   ]
  },
  {
   "cell_type": "code",
   "execution_count": 82,
   "metadata": {
    "collapsed": false
   },
   "outputs": [
    {
     "name": "stdout",
     "output_type": "stream",
     "text": [
      "Requirement already satisfied: jupyter_contrib_nbextensions in /specific/scratches/scratch/guy/miniconda/lib/python3.7/site-packages (0.5.1)\n",
      "Requirement already satisfied: jupyter-core in /specific/scratches/scratch/guy/miniconda/lib/python3.7/site-packages (from jupyter_contrib_nbextensions) (4.6.3)\n",
      "Requirement already satisfied: jupyter-latex-envs>=1.3.8 in /specific/scratches/scratch/guy/miniconda/lib/python3.7/site-packages (from jupyter_contrib_nbextensions) (1.4.6)\n",
      "Requirement already satisfied: tornado in /specific/scratches/scratch/guy/miniconda/lib/python3.7/site-packages (from jupyter_contrib_nbextensions) (6.0.4)\n",
      "Requirement already satisfied: traitlets>=4.1 in /specific/scratches/scratch/guy/miniconda/lib/python3.7/site-packages (from jupyter_contrib_nbextensions) (4.3.3)\n",
      "Requirement already satisfied: notebook>=4.0 in /specific/scratches/scratch/guy/miniconda/lib/python3.7/site-packages (from jupyter_contrib_nbextensions) (6.0.3)\n",
      "Requirement already satisfied: nbconvert>=4.2 in /specific/scratches/scratch/guy/miniconda/lib/python3.7/site-packages (from jupyter_contrib_nbextensions) (5.6.1)\n",
      "Requirement already satisfied: lxml in /specific/scratches/scratch/guy/miniconda/lib/python3.7/site-packages (from jupyter_contrib_nbextensions) (4.5.2)\n",
      "Requirement already satisfied: jupyter-highlight-selected-word>=0.1.1 in /specific/scratches/scratch/guy/miniconda/lib/python3.7/site-packages (from jupyter_contrib_nbextensions) (0.2.0)\n",
      "Requirement already satisfied: jupyter-contrib-core>=0.3.3 in /specific/scratches/scratch/guy/miniconda/lib/python3.7/site-packages (from jupyter_contrib_nbextensions) (0.3.3)\n",
      "Requirement already satisfied: ipython-genutils in /specific/scratches/scratch/guy/miniconda/lib/python3.7/site-packages (from jupyter_contrib_nbextensions) (0.2.0)\n",
      "Requirement already satisfied: jupyter-nbextensions-configurator>=0.4.0 in /specific/scratches/scratch/guy/miniconda/lib/python3.7/site-packages (from jupyter_contrib_nbextensions) (0.4.1)\n",
      "Requirement already satisfied: pyyaml in /specific/scratches/scratch/guy/miniconda/lib/python3.7/site-packages (from jupyter_contrib_nbextensions) (5.3.1)\n",
      "Requirement already satisfied: ipython in /specific/scratches/scratch/guy/miniconda/lib/python3.7/site-packages (from jupyter-latex-envs>=1.3.8->jupyter_contrib_nbextensions) (7.16.1)\n",
      "Requirement already satisfied: six in /specific/scratches/scratch/guy/miniconda/lib/python3.7/site-packages (from traitlets>=4.1->jupyter_contrib_nbextensions) (1.14.0)\n",
      "Requirement already satisfied: decorator in /specific/scratches/scratch/guy/miniconda/lib/python3.7/site-packages (from traitlets>=4.1->jupyter_contrib_nbextensions) (4.4.2)\n",
      "Requirement already satisfied: nbformat in /specific/scratches/scratch/guy/miniconda/lib/python3.7/site-packages (from notebook>=4.0->jupyter_contrib_nbextensions) (5.0.7)\n",
      "Requirement already satisfied: terminado>=0.8.1 in /specific/scratches/scratch/guy/miniconda/lib/python3.7/site-packages (from notebook>=4.0->jupyter_contrib_nbextensions) (0.8.3)\n",
      "Requirement already satisfied: jinja2 in /specific/scratches/scratch/guy/miniconda/lib/python3.7/site-packages (from notebook>=4.0->jupyter_contrib_nbextensions) (2.11.2)\n",
      "Requirement already satisfied: pyzmq>=17 in /specific/scratches/scratch/guy/miniconda/lib/python3.7/site-packages (from notebook>=4.0->jupyter_contrib_nbextensions) (19.0.1)\n",
      "Requirement already satisfied: Send2Trash in /specific/scratches/scratch/guy/miniconda/lib/python3.7/site-packages (from notebook>=4.0->jupyter_contrib_nbextensions) (1.5.0)\n",
      "Requirement already satisfied: prometheus-client in /specific/scratches/scratch/guy/miniconda/lib/python3.7/site-packages (from notebook>=4.0->jupyter_contrib_nbextensions) (0.8.0)\n",
      "Requirement already satisfied: ipykernel in /specific/scratches/scratch/guy/miniconda/lib/python3.7/site-packages (from notebook>=4.0->jupyter_contrib_nbextensions) (5.3.3)\n",
      "Requirement already satisfied: jupyter-client>=5.3.4 in /specific/scratches/scratch/guy/miniconda/lib/python3.7/site-packages (from notebook>=4.0->jupyter_contrib_nbextensions) (6.1.6)\n",
      "Requirement already satisfied: entrypoints>=0.2.2 in /specific/scratches/scratch/guy/miniconda/lib/python3.7/site-packages (from nbconvert>=4.2->jupyter_contrib_nbextensions) (0.3)\n",
      "Requirement already satisfied: mistune<2,>=0.8.1 in /specific/scratches/scratch/guy/miniconda/lib/python3.7/site-packages (from nbconvert>=4.2->jupyter_contrib_nbextensions) (0.8.4)\n",
      "Requirement already satisfied: bleach in /specific/scratches/scratch/guy/miniconda/lib/python3.7/site-packages (from nbconvert>=4.2->jupyter_contrib_nbextensions) (3.1.5)\n",
      "Requirement already satisfied: pandocfilters>=1.4.1 in /specific/scratches/scratch/guy/miniconda/lib/python3.7/site-packages (from nbconvert>=4.2->jupyter_contrib_nbextensions) (1.4.2)\n",
      "Requirement already satisfied: testpath in /specific/scratches/scratch/guy/miniconda/lib/python3.7/site-packages (from nbconvert>=4.2->jupyter_contrib_nbextensions) (0.4.4)\n",
      "Requirement already satisfied: pygments in /specific/scratches/scratch/guy/miniconda/lib/python3.7/site-packages (from nbconvert>=4.2->jupyter_contrib_nbextensions) (2.6.1)\n",
      "Requirement already satisfied: defusedxml in /specific/scratches/scratch/guy/miniconda/lib/python3.7/site-packages (from nbconvert>=4.2->jupyter_contrib_nbextensions) (0.6.0)\n",
      "Requirement already satisfied: setuptools in /specific/scratches/scratch/guy/miniconda/lib/python3.7/site-packages (from jupyter-contrib-core>=0.3.3->jupyter_contrib_nbextensions) (46.4.0.post20200518)\n",
      "Requirement already satisfied: pexpect; sys_platform != \"win32\" in /specific/scratches/scratch/guy/miniconda/lib/python3.7/site-packages (from ipython->jupyter-latex-envs>=1.3.8->jupyter_contrib_nbextensions) (4.8.0)\n",
      "Requirement already satisfied: pickleshare in /specific/scratches/scratch/guy/miniconda/lib/python3.7/site-packages (from ipython->jupyter-latex-envs>=1.3.8->jupyter_contrib_nbextensions) (0.7.5)\n",
      "Requirement already satisfied: backcall in /specific/scratches/scratch/guy/miniconda/lib/python3.7/site-packages (from ipython->jupyter-latex-envs>=1.3.8->jupyter_contrib_nbextensions) (0.2.0)\n",
      "Requirement already satisfied: prompt-toolkit!=3.0.0,!=3.0.1,<3.1.0,>=2.0.0 in /specific/scratches/scratch/guy/miniconda/lib/python3.7/site-packages (from ipython->jupyter-latex-envs>=1.3.8->jupyter_contrib_nbextensions) (3.0.5)\n",
      "Requirement already satisfied: jedi>=0.10 in /specific/scratches/scratch/guy/miniconda/lib/python3.7/site-packages (from ipython->jupyter-latex-envs>=1.3.8->jupyter_contrib_nbextensions) (0.17.1)\n",
      "Requirement already satisfied: jsonschema!=2.5.0,>=2.4 in /specific/scratches/scratch/guy/miniconda/lib/python3.7/site-packages (from nbformat->notebook>=4.0->jupyter_contrib_nbextensions) (3.2.0)\n",
      "Requirement already satisfied: ptyprocess; os_name != \"nt\" in /specific/scratches/scratch/guy/miniconda/lib/python3.7/site-packages (from terminado>=0.8.1->notebook>=4.0->jupyter_contrib_nbextensions) (0.6.0)\n",
      "Requirement already satisfied: MarkupSafe>=0.23 in /specific/scratches/scratch/guy/miniconda/lib/python3.7/site-packages (from jinja2->notebook>=4.0->jupyter_contrib_nbextensions) (1.1.1)\n",
      "Requirement already satisfied: python-dateutil>=2.1 in /specific/scratches/scratch/guy/miniconda/lib/python3.7/site-packages (from jupyter-client>=5.3.4->notebook>=4.0->jupyter_contrib_nbextensions) (2.8.1)\n",
      "Requirement already satisfied: packaging in /specific/scratches/scratch/guy/miniconda/lib/python3.7/site-packages (from bleach->nbconvert>=4.2->jupyter_contrib_nbextensions) (20.4)\n",
      "Requirement already satisfied: webencodings in /specific/scratches/scratch/guy/miniconda/lib/python3.7/site-packages (from bleach->nbconvert>=4.2->jupyter_contrib_nbextensions) (0.5.1)\n",
      "Requirement already satisfied: wcwidth in /specific/scratches/scratch/guy/miniconda/lib/python3.7/site-packages (from prompt-toolkit!=3.0.0,!=3.0.1,<3.1.0,>=2.0.0->ipython->jupyter-latex-envs>=1.3.8->jupyter_contrib_nbextensions) (0.2.5)\n",
      "Requirement already satisfied: parso<0.8.0,>=0.7.0 in /specific/scratches/scratch/guy/miniconda/lib/python3.7/site-packages (from jedi>=0.10->ipython->jupyter-latex-envs>=1.3.8->jupyter_contrib_nbextensions) (0.7.0)\n",
      "Requirement already satisfied: attrs>=17.4.0 in /specific/scratches/scratch/guy/miniconda/lib/python3.7/site-packages (from jsonschema!=2.5.0,>=2.4->nbformat->notebook>=4.0->jupyter_contrib_nbextensions) (19.3.0)\n",
      "Requirement already satisfied: importlib-metadata; python_version < \"3.8\" in /specific/scratches/scratch/guy/miniconda/lib/python3.7/site-packages (from jsonschema!=2.5.0,>=2.4->nbformat->notebook>=4.0->jupyter_contrib_nbextensions) (1.7.0)\n",
      "Requirement already satisfied: pyrsistent>=0.14.0 in /specific/scratches/scratch/guy/miniconda/lib/python3.7/site-packages (from jsonschema!=2.5.0,>=2.4->nbformat->notebook>=4.0->jupyter_contrib_nbextensions) (0.16.0)\n",
      "Requirement already satisfied: pyparsing>=2.0.2 in /specific/scratches/scratch/guy/miniconda/lib/python3.7/site-packages (from packaging->bleach->nbconvert>=4.2->jupyter_contrib_nbextensions) (2.4.7)\n",
      "Requirement already satisfied: zipp>=0.5 in /specific/scratches/scratch/guy/miniconda/lib/python3.7/site-packages (from importlib-metadata; python_version < \"3.8\"->jsonschema!=2.5.0,>=2.4->nbformat->notebook>=4.0->jupyter_contrib_nbextensions) (3.1.0)\n",
      "Note: you may need to restart the kernel to use updated packages.\n",
      "\u001b[32m[I 22:13:21 InstallContribNbextensionsApp]\u001b[m jupyter contrib nbextension install --user\n",
      "\u001b[32m[I 22:13:21 InstallContribNbextensionsApp]\u001b[m Installing jupyter_contrib_nbextensions nbextension files to jupyter data directory\n",
      "\u001b[32m[I 22:13:22 InstallContribNbextensionsApp]\u001b[m Installing /specific/scratches/scratch/guy/miniconda/lib/python3.7/site-packages/jupyter_contrib_nbextensions/nbextensions/zenmode -> zenmode\n",
      "\u001b[32m[I 22:13:22 InstallContribNbextensionsApp]\u001b[m Making directory: /specific/a/home/cc/students/cs/dar/.local/share/jupyter/nbextensions/zenmode/\n",
      "\u001b[32m[I 22:13:22 InstallContribNbextensionsApp]\u001b[m Copying: /specific/scratches/scratch/guy/miniconda/lib/python3.7/site-packages/jupyter_contrib_nbextensions/nbextensions/zenmode/zenmode.yaml -> /specific/a/home/cc/students/cs/dar/.local/share/jupyter/nbextensions/zenmode/zenmode.yaml\n",
      "\u001b[32m[I 22:13:22 InstallContribNbextensionsApp]\u001b[m Copying: /specific/scratches/scratch/guy/miniconda/lib/python3.7/site-packages/jupyter_contrib_nbextensions/nbextensions/zenmode/main.js -> /specific/a/home/cc/students/cs/dar/.local/share/jupyter/nbextensions/zenmode/main.js\n",
      "\u001b[32m[I 22:13:22 InstallContribNbextensionsApp]\u001b[m Copying: /specific/scratches/scratch/guy/miniconda/lib/python3.7/site-packages/jupyter_contrib_nbextensions/nbextensions/zenmode/main.css -> /specific/a/home/cc/students/cs/dar/.local/share/jupyter/nbextensions/zenmode/main.css\n",
      "\u001b[32m[I 22:13:22 InstallContribNbextensionsApp]\u001b[m Copying: /specific/scratches/scratch/guy/miniconda/lib/python3.7/site-packages/jupyter_contrib_nbextensions/nbextensions/zenmode/README.md -> /specific/a/home/cc/students/cs/dar/.local/share/jupyter/nbextensions/zenmode/README.md\n",
      "\u001b[32m[I 22:13:22 InstallContribNbextensionsApp]\u001b[m Making directory: /specific/a/home/cc/students/cs/dar/.local/share/jupyter/nbextensions/zenmode/images\n",
      "\u001b[32m[I 22:13:22 InstallContribNbextensionsApp]\u001b[m Copying: /specific/scratches/scratch/guy/miniconda/lib/python3.7/site-packages/jupyter_contrib_nbextensions/nbextensions/zenmode/images/ipynblogo1.png -> /specific/a/home/cc/students/cs/dar/.local/share/jupyter/nbextensions/zenmode/images/ipynblogo1.png\n",
      "\u001b[32m[I 22:13:22 InstallContribNbextensionsApp]\u001b[m Copying: /specific/scratches/scratch/guy/miniconda/lib/python3.7/site-packages/jupyter_contrib_nbextensions/nbextensions/zenmode/images/ipynblogo0.png -> /specific/a/home/cc/students/cs/dar/.local/share/jupyter/nbextensions/zenmode/images/ipynblogo0.png\n",
      "\u001b[32m[I 22:13:22 InstallContribNbextensionsApp]\u001b[m Copying: /specific/scratches/scratch/guy/miniconda/lib/python3.7/site-packages/jupyter_contrib_nbextensions/nbextensions/zenmode/images/back3.jpg -> /specific/a/home/cc/students/cs/dar/.local/share/jupyter/nbextensions/zenmode/images/back3.jpg\n",
      "\u001b[32m[I 22:13:22 InstallContribNbextensionsApp]\u001b[m Copying: /specific/scratches/scratch/guy/miniconda/lib/python3.7/site-packages/jupyter_contrib_nbextensions/nbextensions/zenmode/images/back22.jpg -> /specific/a/home/cc/students/cs/dar/.local/share/jupyter/nbextensions/zenmode/images/back22.jpg\n",
      "\u001b[32m[I 22:13:22 InstallContribNbextensionsApp]\u001b[m Copying: /specific/scratches/scratch/guy/miniconda/lib/python3.7/site-packages/jupyter_contrib_nbextensions/nbextensions/zenmode/images/back21.jpg -> /specific/a/home/cc/students/cs/dar/.local/share/jupyter/nbextensions/zenmode/images/back21.jpg\n",
      "\u001b[32m[I 22:13:22 InstallContribNbextensionsApp]\u001b[m Copying: /specific/scratches/scratch/guy/miniconda/lib/python3.7/site-packages/jupyter_contrib_nbextensions/nbextensions/zenmode/images/back2.jpg -> /specific/a/home/cc/students/cs/dar/.local/share/jupyter/nbextensions/zenmode/images/back2.jpg\n",
      "\u001b[32m[I 22:13:22 InstallContribNbextensionsApp]\u001b[m Copying: /specific/scratches/scratch/guy/miniconda/lib/python3.7/site-packages/jupyter_contrib_nbextensions/nbextensions/zenmode/images/back12.jpg -> /specific/a/home/cc/students/cs/dar/.local/share/jupyter/nbextensions/zenmode/images/back12.jpg\n",
      "\u001b[32m[I 22:13:22 InstallContribNbextensionsApp]\u001b[m Copying: /specific/scratches/scratch/guy/miniconda/lib/python3.7/site-packages/jupyter_contrib_nbextensions/nbextensions/zenmode/images/back11.jpg -> /specific/a/home/cc/students/cs/dar/.local/share/jupyter/nbextensions/zenmode/images/back11.jpg\n",
      "\u001b[32m[I 22:13:22 InstallContribNbextensionsApp]\u001b[m Copying: /specific/scratches/scratch/guy/miniconda/lib/python3.7/site-packages/jupyter_contrib_nbextensions/nbextensions/zenmode/images/back1.jpg -> /specific/a/home/cc/students/cs/dar/.local/share/jupyter/nbextensions/zenmode/images/back1.jpg\n",
      "\u001b[32m[I 22:13:22 InstallContribNbextensionsApp]\u001b[m - Validating: \u001b[32mOK\u001b[0m\n",
      "\u001b[32m[I 22:13:22 InstallContribNbextensionsApp]\u001b[m Installing /specific/scratches/scratch/guy/miniconda/lib/python3.7/site-packages/jupyter_contrib_nbextensions/nbextensions/varInspector -> varInspector\n",
      "\u001b[32m[I 22:13:22 InstallContribNbextensionsApp]\u001b[m Making directory: /specific/a/home/cc/students/cs/dar/.local/share/jupyter/nbextensions/varInspector/\n",
      "\u001b[32m[I 22:13:22 InstallContribNbextensionsApp]\u001b[m Copying: /specific/scratches/scratch/guy/miniconda/lib/python3.7/site-packages/jupyter_contrib_nbextensions/nbextensions/varInspector/var_list.r -> /specific/a/home/cc/students/cs/dar/.local/share/jupyter/nbextensions/varInspector/var_list.r\n",
      "\u001b[32m[I 22:13:22 InstallContribNbextensionsApp]\u001b[m Copying: /specific/scratches/scratch/guy/miniconda/lib/python3.7/site-packages/jupyter_contrib_nbextensions/nbextensions/varInspector/var_list.py -> /specific/a/home/cc/students/cs/dar/.local/share/jupyter/nbextensions/varInspector/var_list.py\n",
      "\u001b[32m[I 22:13:22 InstallContribNbextensionsApp]\u001b[m Copying: /specific/scratches/scratch/guy/miniconda/lib/python3.7/site-packages/jupyter_contrib_nbextensions/nbextensions/varInspector/varInspector.yaml -> /specific/a/home/cc/students/cs/dar/.local/share/jupyter/nbextensions/varInspector/varInspector.yaml\n",
      "\u001b[32m[I 22:13:22 InstallContribNbextensionsApp]\u001b[m Copying: /specific/scratches/scratch/guy/miniconda/lib/python3.7/site-packages/jupyter_contrib_nbextensions/nbextensions/varInspector/tablesorter_LICENSE.txt -> /specific/a/home/cc/students/cs/dar/.local/share/jupyter/nbextensions/varInspector/tablesorter_LICENSE.txt\n",
      "\u001b[32m[I 22:13:22 InstallContribNbextensionsApp]\u001b[m Copying: /specific/scratches/scratch/guy/miniconda/lib/python3.7/site-packages/jupyter_contrib_nbextensions/nbextensions/varInspector/main.js -> /specific/a/home/cc/students/cs/dar/.local/share/jupyter/nbextensions/varInspector/main.js\n",
      "\u001b[32m[I 22:13:22 InstallContribNbextensionsApp]\u001b[m Copying: /specific/scratches/scratch/guy/miniconda/lib/python3.7/site-packages/jupyter_contrib_nbextensions/nbextensions/varInspector/main.css -> /specific/a/home/cc/students/cs/dar/.local/share/jupyter/nbextensions/varInspector/main.css\n",
      "\u001b[32m[I 22:13:22 InstallContribNbextensionsApp]\u001b[m Copying: /specific/scratches/scratch/guy/miniconda/lib/python3.7/site-packages/jupyter_contrib_nbextensions/nbextensions/varInspector/jquery.tablesorter.min.js -> /specific/a/home/cc/students/cs/dar/.local/share/jupyter/nbextensions/varInspector/jquery.tablesorter.min.js\n",
      "\u001b[32m[I 22:13:22 InstallContribNbextensionsApp]\u001b[m Copying: /specific/scratches/scratch/guy/miniconda/lib/python3.7/site-packages/jupyter_contrib_nbextensions/nbextensions/varInspector/icon.png -> /specific/a/home/cc/students/cs/dar/.local/share/jupyter/nbextensions/varInspector/icon.png\n",
      "\u001b[32m[I 22:13:22 InstallContribNbextensionsApp]\u001b[m Copying: /specific/scratches/scratch/guy/miniconda/lib/python3.7/site-packages/jupyter_contrib_nbextensions/nbextensions/varInspector/demo.gif -> /specific/a/home/cc/students/cs/dar/.local/share/jupyter/nbextensions/varInspector/demo.gif\n",
      "\u001b[32m[I 22:13:22 InstallContribNbextensionsApp]\u001b[m Copying: /specific/scratches/scratch/guy/miniconda/lib/python3.7/site-packages/jupyter_contrib_nbextensions/nbextensions/varInspector/README.md -> /specific/a/home/cc/students/cs/dar/.local/share/jupyter/nbextensions/varInspector/README.md\n",
      "\u001b[32m[I 22:13:22 InstallContribNbextensionsApp]\u001b[m Making directory: /specific/a/home/cc/students/cs/dar/.local/share/jupyter/nbextensions/varInspector/__pycache__\n",
      "\u001b[32m[I 22:13:22 InstallContribNbextensionsApp]\u001b[m Copying: /specific/scratches/scratch/guy/miniconda/lib/python3.7/site-packages/jupyter_contrib_nbextensions/nbextensions/varInspector/__pycache__/var_list.cpython-37.pyc -> /specific/a/home/cc/students/cs/dar/.local/share/jupyter/nbextensions/varInspector/__pycache__/var_list.cpython-37.pyc\n",
      "\u001b[32m[I 22:13:22 InstallContribNbextensionsApp]\u001b[m - Validating: \u001b[32mOK\u001b[0m\n",
      "\u001b[32m[I 22:13:22 InstallContribNbextensionsApp]\u001b[m Installing /specific/scratches/scratch/guy/miniconda/lib/python3.7/site-packages/jupyter_contrib_nbextensions/nbextensions/tree-filter -> tree-filter\n",
      "\u001b[32m[I 22:13:22 InstallContribNbextensionsApp]\u001b[m Making directory: /specific/a/home/cc/students/cs/dar/.local/share/jupyter/nbextensions/tree-filter/\n",
      "\u001b[32m[I 22:13:22 InstallContribNbextensionsApp]\u001b[m Copying: /specific/scratches/scratch/guy/miniconda/lib/python3.7/site-packages/jupyter_contrib_nbextensions/nbextensions/tree-filter/tree-filter.yaml -> /specific/a/home/cc/students/cs/dar/.local/share/jupyter/nbextensions/tree-filter/tree-filter.yaml\n",
      "\u001b[32m[I 22:13:22 InstallContribNbextensionsApp]\u001b[m Copying: /specific/scratches/scratch/guy/miniconda/lib/python3.7/site-packages/jupyter_contrib_nbextensions/nbextensions/tree-filter/readme.md -> /specific/a/home/cc/students/cs/dar/.local/share/jupyter/nbextensions/tree-filter/readme.md\n",
      "\u001b[32m[I 22:13:22 InstallContribNbextensionsApp]\u001b[m Copying: /specific/scratches/scratch/guy/miniconda/lib/python3.7/site-packages/jupyter_contrib_nbextensions/nbextensions/tree-filter/index.js -> /specific/a/home/cc/students/cs/dar/.local/share/jupyter/nbextensions/tree-filter/index.js\n",
      "\u001b[32m[I 22:13:22 InstallContribNbextensionsApp]\u001b[m Copying: /specific/scratches/scratch/guy/miniconda/lib/python3.7/site-packages/jupyter_contrib_nbextensions/nbextensions/tree-filter/demo.gif -> /specific/a/home/cc/students/cs/dar/.local/share/jupyter/nbextensions/tree-filter/demo.gif\n",
      "\u001b[32m[I 22:13:22 InstallContribNbextensionsApp]\u001b[m - Validating: \u001b[32mOK\u001b[0m\n",
      "\u001b[32m[I 22:13:22 InstallContribNbextensionsApp]\u001b[m Installing /specific/scratches/scratch/guy/miniconda/lib/python3.7/site-packages/jupyter_contrib_nbextensions/nbextensions/toggle_all_line_numbers -> toggle_all_line_numbers\n",
      "\u001b[32m[I 22:13:22 InstallContribNbextensionsApp]\u001b[m Making directory: /specific/a/home/cc/students/cs/dar/.local/share/jupyter/nbextensions/toggle_all_line_numbers/\n",
      "\u001b[32m[I 22:13:22 InstallContribNbextensionsApp]\u001b[m Copying: /specific/scratches/scratch/guy/miniconda/lib/python3.7/site-packages/jupyter_contrib_nbextensions/nbextensions/toggle_all_line_numbers/readme.md -> /specific/a/home/cc/students/cs/dar/.local/share/jupyter/nbextensions/toggle_all_line_numbers/readme.md\n",
      "\u001b[32m[I 22:13:22 InstallContribNbextensionsApp]\u001b[m Copying: /specific/scratches/scratch/guy/miniconda/lib/python3.7/site-packages/jupyter_contrib_nbextensions/nbextensions/toggle_all_line_numbers/main.yaml -> /specific/a/home/cc/students/cs/dar/.local/share/jupyter/nbextensions/toggle_all_line_numbers/main.yaml\n",
      "\u001b[32m[I 22:13:22 InstallContribNbextensionsApp]\u001b[m Copying: /specific/scratches/scratch/guy/miniconda/lib/python3.7/site-packages/jupyter_contrib_nbextensions/nbextensions/toggle_all_line_numbers/main.js -> /specific/a/home/cc/students/cs/dar/.local/share/jupyter/nbextensions/toggle_all_line_numbers/main.js\n",
      "\u001b[32m[I 22:13:22 InstallContribNbextensionsApp]\u001b[m Copying: /specific/scratches/scratch/guy/miniconda/lib/python3.7/site-packages/jupyter_contrib_nbextensions/nbextensions/toggle_all_line_numbers/icon.png -> /specific/a/home/cc/students/cs/dar/.local/share/jupyter/nbextensions/toggle_all_line_numbers/icon.png\n",
      "\u001b[32m[I 22:13:22 InstallContribNbextensionsApp]\u001b[m - Validating: \u001b[32mOK\u001b[0m\n",
      "\u001b[32m[I 22:13:22 InstallContribNbextensionsApp]\u001b[m Installing /specific/scratches/scratch/guy/miniconda/lib/python3.7/site-packages/jupyter_contrib_nbextensions/nbextensions/toc2 -> toc2\n",
      "\u001b[32m[I 22:13:22 InstallContribNbextensionsApp]\u001b[m Making directory: /specific/a/home/cc/students/cs/dar/.local/share/jupyter/nbextensions/toc2/\n",
      "\u001b[32m[I 22:13:22 InstallContribNbextensionsApp]\u001b[m Copying: /specific/scratches/scratch/guy/miniconda/lib/python3.7/site-packages/jupyter_contrib_nbextensions/nbextensions/toc2/toc2.yaml -> /specific/a/home/cc/students/cs/dar/.local/share/jupyter/nbextensions/toc2/toc2.yaml\n",
      "\u001b[32m[I 22:13:22 InstallContribNbextensionsApp]\u001b[m Copying: /specific/scratches/scratch/guy/miniconda/lib/python3.7/site-packages/jupyter_contrib_nbextensions/nbextensions/toc2/toc2.js -> /specific/a/home/cc/students/cs/dar/.local/share/jupyter/nbextensions/toc2/toc2.js\n",
      "\u001b[32m[I 22:13:22 InstallContribNbextensionsApp]\u001b[m Copying: /specific/scratches/scratch/guy/miniconda/lib/python3.7/site-packages/jupyter_contrib_nbextensions/nbextensions/toc2/main.js -> /specific/a/home/cc/students/cs/dar/.local/share/jupyter/nbextensions/toc2/main.js\n",
      "\u001b[32m[I 22:13:22 InstallContribNbextensionsApp]\u001b[m Copying: /specific/scratches/scratch/guy/miniconda/lib/python3.7/site-packages/jupyter_contrib_nbextensions/nbextensions/toc2/main.css -> /specific/a/home/cc/students/cs/dar/.local/share/jupyter/nbextensions/toc2/main.css\n",
      "\u001b[32m[I 22:13:22 InstallContribNbextensionsApp]\u001b[m Copying: /specific/scratches/scratch/guy/miniconda/lib/python3.7/site-packages/jupyter_contrib_nbextensions/nbextensions/toc2/image.png -> /specific/a/home/cc/students/cs/dar/.local/share/jupyter/nbextensions/toc2/image.png\n",
      "\u001b[32m[I 22:13:22 InstallContribNbextensionsApp]\u001b[m Copying: /specific/scratches/scratch/guy/miniconda/lib/python3.7/site-packages/jupyter_contrib_nbextensions/nbextensions/toc2/icon.png -> /specific/a/home/cc/students/cs/dar/.local/share/jupyter/nbextensions/toc2/icon.png\n",
      "\u001b[32m[I 22:13:22 InstallContribNbextensionsApp]\u001b[m Copying: /specific/scratches/scratch/guy/miniconda/lib/python3.7/site-packages/jupyter_contrib_nbextensions/nbextensions/toc2/demo_dark.png -> /specific/a/home/cc/students/cs/dar/.local/share/jupyter/nbextensions/toc2/demo_dark.png\n",
      "\u001b[32m[I 22:13:22 InstallContribNbextensionsApp]\u001b[m Copying: /specific/scratches/scratch/guy/miniconda/lib/python3.7/site-packages/jupyter_contrib_nbextensions/nbextensions/toc2/demo3.gif -> /specific/a/home/cc/students/cs/dar/.local/share/jupyter/nbextensions/toc2/demo3.gif\n",
      "\u001b[32m[I 22:13:22 InstallContribNbextensionsApp]\u001b[m Copying: /specific/scratches/scratch/guy/miniconda/lib/python3.7/site-packages/jupyter_contrib_nbextensions/nbextensions/toc2/demo2.gif -> /specific/a/home/cc/students/cs/dar/.local/share/jupyter/nbextensions/toc2/demo2.gif\n",
      "\u001b[32m[I 22:13:22 InstallContribNbextensionsApp]\u001b[m Copying: /specific/scratches/scratch/guy/miniconda/lib/python3.7/site-packages/jupyter_contrib_nbextensions/nbextensions/toc2/demo.gif -> /specific/a/home/cc/students/cs/dar/.local/share/jupyter/nbextensions/toc2/demo.gif\n",
      "\u001b[32m[I 22:13:22 InstallContribNbextensionsApp]\u001b[m Copying: /specific/scratches/scratch/guy/miniconda/lib/python3.7/site-packages/jupyter_contrib_nbextensions/nbextensions/toc2/README.md -> /specific/a/home/cc/students/cs/dar/.local/share/jupyter/nbextensions/toc2/README.md\n",
      "\u001b[32m[I 22:13:22 InstallContribNbextensionsApp]\u001b[m - Validating: \u001b[32mOK\u001b[0m\n",
      "\u001b[32m[I 22:13:22 InstallContribNbextensionsApp]\u001b[m Installing /specific/scratches/scratch/guy/miniconda/lib/python3.7/site-packages/jupyter_contrib_nbextensions/nbextensions/table_beautifier -> table_beautifier\n",
      "\u001b[32m[I 22:13:22 InstallContribNbextensionsApp]\u001b[m Making directory: /specific/a/home/cc/students/cs/dar/.local/share/jupyter/nbextensions/table_beautifier/\n",
      "\u001b[32m[I 22:13:22 InstallContribNbextensionsApp]\u001b[m Copying: /specific/scratches/scratch/guy/miniconda/lib/python3.7/site-packages/jupyter_contrib_nbextensions/nbextensions/table_beautifier/table_beautifier.yaml -> /specific/a/home/cc/students/cs/dar/.local/share/jupyter/nbextensions/table_beautifier/table_beautifier.yaml\n",
      "\u001b[32m[I 22:13:22 InstallContribNbextensionsApp]\u001b[m Copying: /specific/scratches/scratch/guy/miniconda/lib/python3.7/site-packages/jupyter_contrib_nbextensions/nbextensions/table_beautifier/main.js -> /specific/a/home/cc/students/cs/dar/.local/share/jupyter/nbextensions/table_beautifier/main.js\n",
      "\u001b[32m[I 22:13:22 InstallContribNbextensionsApp]\u001b[m Copying: /specific/scratches/scratch/guy/miniconda/lib/python3.7/site-packages/jupyter_contrib_nbextensions/nbextensions/table_beautifier/main.css -> /specific/a/home/cc/students/cs/dar/.local/share/jupyter/nbextensions/table_beautifier/main.css\n",
      "\u001b[32m[I 22:13:22 InstallContribNbextensionsApp]\u001b[m Copying: /specific/scratches/scratch/guy/miniconda/lib/python3.7/site-packages/jupyter_contrib_nbextensions/nbextensions/table_beautifier/README.md -> /specific/a/home/cc/students/cs/dar/.local/share/jupyter/nbextensions/table_beautifier/README.md\n",
      "\u001b[32m[I 22:13:22 InstallContribNbextensionsApp]\u001b[m - Validating: \u001b[32mOK\u001b[0m\n",
      "\u001b[32m[I 22:13:22 InstallContribNbextensionsApp]\u001b[m Installing /specific/scratches/scratch/guy/miniconda/lib/python3.7/site-packages/jupyter_contrib_nbextensions/nbextensions/splitcell -> splitcell\n",
      "\u001b[32m[I 22:13:22 InstallContribNbextensionsApp]\u001b[m Making directory: /specific/a/home/cc/students/cs/dar/.local/share/jupyter/nbextensions/splitcell/\n",
      "\u001b[32m[I 22:13:22 InstallContribNbextensionsApp]\u001b[m Copying: /specific/scratches/scratch/guy/miniconda/lib/python3.7/site-packages/jupyter_contrib_nbextensions/nbextensions/splitcell/splitcell.yaml -> /specific/a/home/cc/students/cs/dar/.local/share/jupyter/nbextensions/splitcell/splitcell.yaml\n",
      "\u001b[32m[I 22:13:22 InstallContribNbextensionsApp]\u001b[m Copying: /specific/scratches/scratch/guy/miniconda/lib/python3.7/site-packages/jupyter_contrib_nbextensions/nbextensions/splitcell/splitcell.js -> /specific/a/home/cc/students/cs/dar/.local/share/jupyter/nbextensions/splitcell/splitcell.js\n",
      "\u001b[32m[I 22:13:22 InstallContribNbextensionsApp]\u001b[m Copying: /specific/scratches/scratch/guy/miniconda/lib/python3.7/site-packages/jupyter_contrib_nbextensions/nbextensions/splitcell/readme.md -> /specific/a/home/cc/students/cs/dar/.local/share/jupyter/nbextensions/splitcell/readme.md\n",
      "\u001b[32m[I 22:13:22 InstallContribNbextensionsApp]\u001b[m Copying: /specific/scratches/scratch/guy/miniconda/lib/python3.7/site-packages/jupyter_contrib_nbextensions/nbextensions/splitcell/icon.png -> /specific/a/home/cc/students/cs/dar/.local/share/jupyter/nbextensions/splitcell/icon.png\n",
      "\u001b[32m[I 22:13:23 InstallContribNbextensionsApp]\u001b[m - Validating: \u001b[32mOK\u001b[0m\n",
      "\u001b[32m[I 22:13:23 InstallContribNbextensionsApp]\u001b[m Installing /specific/scratches/scratch/guy/miniconda/lib/python3.7/site-packages/jupyter_contrib_nbextensions/nbextensions/spellchecker -> spellchecker\n",
      "\u001b[32m[I 22:13:23 InstallContribNbextensionsApp]\u001b[m Making directory: /specific/a/home/cc/students/cs/dar/.local/share/jupyter/nbextensions/spellchecker/\n",
      "\u001b[32m[I 22:13:23 InstallContribNbextensionsApp]\u001b[m Copying: /specific/scratches/scratch/guy/miniconda/lib/python3.7/site-packages/jupyter_contrib_nbextensions/nbextensions/spellchecker/screenshot.png -> /specific/a/home/cc/students/cs/dar/.local/share/jupyter/nbextensions/spellchecker/screenshot.png\n",
      "\u001b[32m[I 22:13:23 InstallContribNbextensionsApp]\u001b[m Copying: /specific/scratches/scratch/guy/miniconda/lib/python3.7/site-packages/jupyter_contrib_nbextensions/nbextensions/spellchecker/main.js -> /specific/a/home/cc/students/cs/dar/.local/share/jupyter/nbextensions/spellchecker/main.js\n",
      "\u001b[32m[I 22:13:23 InstallContribNbextensionsApp]\u001b[m Copying: /specific/scratches/scratch/guy/miniconda/lib/python3.7/site-packages/jupyter_contrib_nbextensions/nbextensions/spellchecker/main.css -> /specific/a/home/cc/students/cs/dar/.local/share/jupyter/nbextensions/spellchecker/main.css\n",
      "\u001b[32m[I 22:13:23 InstallContribNbextensionsApp]\u001b[m Copying: /specific/scratches/scratch/guy/miniconda/lib/python3.7/site-packages/jupyter_contrib_nbextensions/nbextensions/spellchecker/download_new_dict.py -> /specific/a/home/cc/students/cs/dar/.local/share/jupyter/nbextensions/spellchecker/download_new_dict.py\n",
      "\u001b[32m[I 22:13:23 InstallContribNbextensionsApp]\u001b[m Copying: /specific/scratches/scratch/guy/miniconda/lib/python3.7/site-packages/jupyter_contrib_nbextensions/nbextensions/spellchecker/config.yaml -> /specific/a/home/cc/students/cs/dar/.local/share/jupyter/nbextensions/spellchecker/config.yaml\n",
      "\u001b[32m[I 22:13:23 InstallContribNbextensionsApp]\u001b[m Copying: /specific/scratches/scratch/guy/miniconda/lib/python3.7/site-packages/jupyter_contrib_nbextensions/nbextensions/spellchecker/README.md -> /specific/a/home/cc/students/cs/dar/.local/share/jupyter/nbextensions/spellchecker/README.md\n",
      "\u001b[32m[I 22:13:23 InstallContribNbextensionsApp]\u001b[m Making directory: /specific/a/home/cc/students/cs/dar/.local/share/jupyter/nbextensions/spellchecker/__pycache__\n",
      "\u001b[32m[I 22:13:23 InstallContribNbextensionsApp]\u001b[m Copying: /specific/scratches/scratch/guy/miniconda/lib/python3.7/site-packages/jupyter_contrib_nbextensions/nbextensions/spellchecker/__pycache__/download_new_dict.cpython-37.pyc -> /specific/a/home/cc/students/cs/dar/.local/share/jupyter/nbextensions/spellchecker/__pycache__/download_new_dict.cpython-37.pyc\n",
      "\u001b[32m[I 22:13:23 InstallContribNbextensionsApp]\u001b[m Making directory: /specific/a/home/cc/students/cs/dar/.local/share/jupyter/nbextensions/spellchecker/typo\n",
      "\u001b[32m[I 22:13:23 InstallContribNbextensionsApp]\u001b[m Copying: /specific/scratches/scratch/guy/miniconda/lib/python3.7/site-packages/jupyter_contrib_nbextensions/nbextensions/spellchecker/typo/typo.js -> /specific/a/home/cc/students/cs/dar/.local/share/jupyter/nbextensions/spellchecker/typo/typo.js\n",
      "\u001b[32m[I 22:13:23 InstallContribNbextensionsApp]\u001b[m Copying: /specific/scratches/scratch/guy/miniconda/lib/python3.7/site-packages/jupyter_contrib_nbextensions/nbextensions/spellchecker/typo/LICENSE.txt -> /specific/a/home/cc/students/cs/dar/.local/share/jupyter/nbextensions/spellchecker/typo/LICENSE.txt\n",
      "\u001b[32m[I 22:13:23 InstallContribNbextensionsApp]\u001b[m - Validating: \u001b[32mOK\u001b[0m\n",
      "\u001b[32m[I 22:13:23 InstallContribNbextensionsApp]\u001b[m Installing /specific/scratches/scratch/guy/miniconda/lib/python3.7/site-packages/jupyter_contrib_nbextensions/nbextensions/snippets_menu -> snippets_menu\n",
      "\u001b[32m[I 22:13:23 InstallContribNbextensionsApp]\u001b[m Making directory: /specific/a/home/cc/students/cs/dar/.local/share/jupyter/nbextensions/snippets_menu/\n",
      "\u001b[32m[I 22:13:23 InstallContribNbextensionsApp]\u001b[m Copying: /specific/scratches/scratch/guy/miniconda/lib/python3.7/site-packages/jupyter_contrib_nbextensions/nbextensions/snippets_menu/thumbnail.png -> /specific/a/home/cc/students/cs/dar/.local/share/jupyter/nbextensions/snippets_menu/thumbnail.png\n",
      "\u001b[32m[I 22:13:23 InstallContribNbextensionsApp]\u001b[m Copying: /specific/scratches/scratch/guy/miniconda/lib/python3.7/site-packages/jupyter_contrib_nbextensions/nbextensions/snippets_menu/snippets_submenu_python.js -> /specific/a/home/cc/students/cs/dar/.local/share/jupyter/nbextensions/snippets_menu/snippets_submenu_python.js\n",
      "\u001b[32m[I 22:13:23 InstallContribNbextensionsApp]\u001b[m Copying: /specific/scratches/scratch/guy/miniconda/lib/python3.7/site-packages/jupyter_contrib_nbextensions/nbextensions/snippets_menu/snippets_submenu_markdown.js -> /specific/a/home/cc/students/cs/dar/.local/share/jupyter/nbextensions/snippets_menu/snippets_submenu_markdown.js\n",
      "\u001b[32m[I 22:13:23 InstallContribNbextensionsApp]\u001b[m Copying: /specific/scratches/scratch/guy/miniconda/lib/python3.7/site-packages/jupyter_contrib_nbextensions/nbextensions/snippets_menu/snippets_menu.css -> /specific/a/home/cc/students/cs/dar/.local/share/jupyter/nbextensions/snippets_menu/snippets_menu.css\n",
      "\u001b[32m[I 22:13:23 InstallContribNbextensionsApp]\u001b[m Copying: /specific/scratches/scratch/guy/miniconda/lib/python3.7/site-packages/jupyter_contrib_nbextensions/nbextensions/snippets_menu/screenshot3.png -> /specific/a/home/cc/students/cs/dar/.local/share/jupyter/nbextensions/snippets_menu/screenshot3.png\n",
      "\u001b[32m[I 22:13:23 InstallContribNbextensionsApp]\u001b[m Copying: /specific/scratches/scratch/guy/miniconda/lib/python3.7/site-packages/jupyter_contrib_nbextensions/nbextensions/snippets_menu/screenshot2.png -> /specific/a/home/cc/students/cs/dar/.local/share/jupyter/nbextensions/snippets_menu/screenshot2.png\n",
      "\u001b[32m[I 22:13:23 InstallContribNbextensionsApp]\u001b[m Copying: /specific/scratches/scratch/guy/miniconda/lib/python3.7/site-packages/jupyter_contrib_nbextensions/nbextensions/snippets_menu/screenshot1.png -> /specific/a/home/cc/students/cs/dar/.local/share/jupyter/nbextensions/snippets_menu/screenshot1.png\n",
      "\u001b[32m[I 22:13:23 InstallContribNbextensionsApp]\u001b[m Copying: /specific/scratches/scratch/guy/miniconda/lib/python3.7/site-packages/jupyter_contrib_nbextensions/nbextensions/snippets_menu/readme.md -> /specific/a/home/cc/students/cs/dar/.local/share/jupyter/nbextensions/snippets_menu/readme.md\n",
      "\u001b[32m[I 22:13:23 InstallContribNbextensionsApp]\u001b[m Copying: /specific/scratches/scratch/guy/miniconda/lib/python3.7/site-packages/jupyter_contrib_nbextensions/nbextensions/snippets_menu/main.js -> /specific/a/home/cc/students/cs/dar/.local/share/jupyter/nbextensions/snippets_menu/main.js\n",
      "\u001b[32m[I 22:13:23 InstallContribNbextensionsApp]\u001b[m Copying: /specific/scratches/scratch/guy/miniconda/lib/python3.7/site-packages/jupyter_contrib_nbextensions/nbextensions/snippets_menu/examples_for_custom.js -> /specific/a/home/cc/students/cs/dar/.local/share/jupyter/nbextensions/snippets_menu/examples_for_custom.js\n",
      "\u001b[32m[I 22:13:23 InstallContribNbextensionsApp]\u001b[m Copying: /specific/scratches/scratch/guy/miniconda/lib/python3.7/site-packages/jupyter_contrib_nbextensions/nbextensions/snippets_menu/config.yaml -> /specific/a/home/cc/students/cs/dar/.local/share/jupyter/nbextensions/snippets_menu/config.yaml\n",
      "\u001b[32m[I 22:13:23 InstallContribNbextensionsApp]\u001b[m Making directory: /specific/a/home/cc/students/cs/dar/.local/share/jupyter/nbextensions/snippets_menu/snippets_submenus_python\n",
      "\u001b[32m[I 22:13:23 InstallContribNbextensionsApp]\u001b[m Copying: /specific/scratches/scratch/guy/miniconda/lib/python3.7/site-packages/jupyter_contrib_nbextensions/nbextensions/snippets_menu/snippets_submenus_python/sympy_functions.js -> /specific/a/home/cc/students/cs/dar/.local/share/jupyter/nbextensions/snippets_menu/snippets_submenus_python/sympy_functions.js\n",
      "\u001b[32m[I 22:13:23 InstallContribNbextensionsApp]\u001b[m Copying: /specific/scratches/scratch/guy/miniconda/lib/python3.7/site-packages/jupyter_contrib_nbextensions/nbextensions/snippets_menu/snippets_submenus_python/sympy_assumptions.js -> /specific/a/home/cc/students/cs/dar/.local/share/jupyter/nbextensions/snippets_menu/snippets_submenus_python/sympy_assumptions.js\n",
      "\u001b[32m[I 22:13:23 InstallContribNbextensionsApp]\u001b[m Copying: /specific/scratches/scratch/guy/miniconda/lib/python3.7/site-packages/jupyter_contrib_nbextensions/nbextensions/snippets_menu/snippets_submenus_python/sympy.js -> /specific/a/home/cc/students/cs/dar/.local/share/jupyter/nbextensions/snippets_menu/snippets_submenus_python/sympy.js\n",
      "\u001b[32m[I 22:13:23 InstallContribNbextensionsApp]\u001b[m Copying: /specific/scratches/scratch/guy/miniconda/lib/python3.7/site-packages/jupyter_contrib_nbextensions/nbextensions/snippets_menu/snippets_submenus_python/scipy_special.js -> /specific/a/home/cc/students/cs/dar/.local/share/jupyter/nbextensions/snippets_menu/snippets_submenus_python/scipy_special.js\n",
      "\u001b[32m[I 22:13:23 InstallContribNbextensionsApp]\u001b[m Copying: /specific/scratches/scratch/guy/miniconda/lib/python3.7/site-packages/jupyter_contrib_nbextensions/nbextensions/snippets_menu/snippets_submenus_python/scipy_constants.js -> /specific/a/home/cc/students/cs/dar/.local/share/jupyter/nbextensions/snippets_menu/snippets_submenus_python/scipy_constants.js\n",
      "\u001b[32m[I 22:13:23 InstallContribNbextensionsApp]\u001b[m Copying: /specific/scratches/scratch/guy/miniconda/lib/python3.7/site-packages/jupyter_contrib_nbextensions/nbextensions/snippets_menu/snippets_submenus_python/scipy.js -> /specific/a/home/cc/students/cs/dar/.local/share/jupyter/nbextensions/snippets_menu/snippets_submenus_python/scipy.js\n",
      "\u001b[32m[I 22:13:23 InstallContribNbextensionsApp]\u001b[m Copying: /specific/scratches/scratch/guy/miniconda/lib/python3.7/site-packages/jupyter_contrib_nbextensions/nbextensions/snippets_menu/snippets_submenus_python/python_regex.js -> /specific/a/home/cc/students/cs/dar/.local/share/jupyter/nbextensions/snippets_menu/snippets_submenus_python/python_regex.js\n",
      "\u001b[32m[I 22:13:23 InstallContribNbextensionsApp]\u001b[m Copying: /specific/scratches/scratch/guy/miniconda/lib/python3.7/site-packages/jupyter_contrib_nbextensions/nbextensions/snippets_menu/snippets_submenus_python/python.js -> /specific/a/home/cc/students/cs/dar/.local/share/jupyter/nbextensions/snippets_menu/snippets_submenus_python/python.js\n",
      "\u001b[32m[I 22:13:23 InstallContribNbextensionsApp]\u001b[m Copying: /specific/scratches/scratch/guy/miniconda/lib/python3.7/site-packages/jupyter_contrib_nbextensions/nbextensions/snippets_menu/snippets_submenus_python/pandas.js -> /specific/a/home/cc/students/cs/dar/.local/share/jupyter/nbextensions/snippets_menu/snippets_submenus_python/pandas.js\n",
      "\u001b[32m[I 22:13:23 InstallContribNbextensionsApp]\u001b[m Copying: /specific/scratches/scratch/guy/miniconda/lib/python3.7/site-packages/jupyter_contrib_nbextensions/nbextensions/snippets_menu/snippets_submenus_python/numpy_ufuncs.js -> /specific/a/home/cc/students/cs/dar/.local/share/jupyter/nbextensions/snippets_menu/snippets_submenus_python/numpy_ufuncs.js\n",
      "\u001b[32m[I 22:13:23 InstallContribNbextensionsApp]\u001b[m Copying: /specific/scratches/scratch/guy/miniconda/lib/python3.7/site-packages/jupyter_contrib_nbextensions/nbextensions/snippets_menu/snippets_submenus_python/numpy_polynomial.js -> /specific/a/home/cc/students/cs/dar/.local/share/jupyter/nbextensions/snippets_menu/snippets_submenus_python/numpy_polynomial.js\n",
      "\u001b[32m[I 22:13:23 InstallContribNbextensionsApp]\u001b[m Copying: /specific/scratches/scratch/guy/miniconda/lib/python3.7/site-packages/jupyter_contrib_nbextensions/nbextensions/snippets_menu/snippets_submenus_python/numpy.js -> /specific/a/home/cc/students/cs/dar/.local/share/jupyter/nbextensions/snippets_menu/snippets_submenus_python/numpy.js\n",
      "\u001b[32m[I 22:13:23 InstallContribNbextensionsApp]\u001b[m Copying: /specific/scratches/scratch/guy/miniconda/lib/python3.7/site-packages/jupyter_contrib_nbextensions/nbextensions/snippets_menu/snippets_submenus_python/numba.js -> /specific/a/home/cc/students/cs/dar/.local/share/jupyter/nbextensions/snippets_menu/snippets_submenus_python/numba.js\n",
      "\u001b[32m[I 22:13:23 InstallContribNbextensionsApp]\u001b[m Copying: /specific/scratches/scratch/guy/miniconda/lib/python3.7/site-packages/jupyter_contrib_nbextensions/nbextensions/snippets_menu/snippets_submenus_python/matplotlib.js -> /specific/a/home/cc/students/cs/dar/.local/share/jupyter/nbextensions/snippets_menu/snippets_submenus_python/matplotlib.js\n",
      "\u001b[32m[I 22:13:23 InstallContribNbextensionsApp]\u001b[m Copying: /specific/scratches/scratch/guy/miniconda/lib/python3.7/site-packages/jupyter_contrib_nbextensions/nbextensions/snippets_menu/snippets_submenus_python/h5py.js -> /specific/a/home/cc/students/cs/dar/.local/share/jupyter/nbextensions/snippets_menu/snippets_submenus_python/h5py.js\n",
      "\u001b[32m[I 22:13:23 InstallContribNbextensionsApp]\u001b[m Copying: /specific/scratches/scratch/guy/miniconda/lib/python3.7/site-packages/jupyter_contrib_nbextensions/nbextensions/snippets_menu/snippets_submenus_python/astropy.js -> /specific/a/home/cc/students/cs/dar/.local/share/jupyter/nbextensions/snippets_menu/snippets_submenus_python/astropy.js\n",
      "\u001b[32m[I 22:13:23 InstallContribNbextensionsApp]\u001b[m - Validating: \u001b[32mOK\u001b[0m\n",
      "\u001b[32m[I 22:13:23 InstallContribNbextensionsApp]\u001b[m Installing /specific/scratches/scratch/guy/miniconda/lib/python3.7/site-packages/jupyter_contrib_nbextensions/nbextensions/snippets -> snippets\n",
      "\u001b[32m[I 22:13:23 InstallContribNbextensionsApp]\u001b[m Making directory: /specific/a/home/cc/students/cs/dar/.local/share/jupyter/nbextensions/snippets/\n",
      "\u001b[32m[I 22:13:23 InstallContribNbextensionsApp]\u001b[m Copying: /specific/scratches/scratch/guy/miniconda/lib/python3.7/site-packages/jupyter_contrib_nbextensions/nbextensions/snippets/snippets.yaml -> /specific/a/home/cc/students/cs/dar/.local/share/jupyter/nbextensions/snippets/snippets.yaml\n",
      "\u001b[32m[I 22:13:23 InstallContribNbextensionsApp]\u001b[m Copying: /specific/scratches/scratch/guy/miniconda/lib/python3.7/site-packages/jupyter_contrib_nbextensions/nbextensions/snippets/snippets.json -> /specific/a/home/cc/students/cs/dar/.local/share/jupyter/nbextensions/snippets/snippets.json\n",
      "\u001b[32m[I 22:13:23 InstallContribNbextensionsApp]\u001b[m Copying: /specific/scratches/scratch/guy/miniconda/lib/python3.7/site-packages/jupyter_contrib_nbextensions/nbextensions/snippets/snippets-demo.gif -> /specific/a/home/cc/students/cs/dar/.local/share/jupyter/nbextensions/snippets/snippets-demo.gif\n",
      "\u001b[32m[I 22:13:23 InstallContribNbextensionsApp]\u001b[m Copying: /specific/scratches/scratch/guy/miniconda/lib/python3.7/site-packages/jupyter_contrib_nbextensions/nbextensions/snippets/main.js -> /specific/a/home/cc/students/cs/dar/.local/share/jupyter/nbextensions/snippets/main.js\n",
      "\u001b[32m[I 22:13:23 InstallContribNbextensionsApp]\u001b[m Copying: /specific/scratches/scratch/guy/miniconda/lib/python3.7/site-packages/jupyter_contrib_nbextensions/nbextensions/snippets/README.md -> /specific/a/home/cc/students/cs/dar/.local/share/jupyter/nbextensions/snippets/README.md\n",
      "\u001b[32m[I 22:13:23 InstallContribNbextensionsApp]\u001b[m - Validating: \u001b[32mOK\u001b[0m\n",
      "\u001b[32m[I 22:13:23 InstallContribNbextensionsApp]\u001b[m Installing /specific/scratches/scratch/guy/miniconda/lib/python3.7/site-packages/jupyter_contrib_nbextensions/nbextensions/skip-traceback -> skip-traceback\n",
      "\u001b[32m[I 22:13:23 InstallContribNbextensionsApp]\u001b[m Making directory: /specific/a/home/cc/students/cs/dar/.local/share/jupyter/nbextensions/skip-traceback/\n",
      "\u001b[32m[I 22:13:23 InstallContribNbextensionsApp]\u001b[m Copying: /specific/scratches/scratch/guy/miniconda/lib/python3.7/site-packages/jupyter_contrib_nbextensions/nbextensions/skip-traceback/traceback.png -> /specific/a/home/cc/students/cs/dar/.local/share/jupyter/nbextensions/skip-traceback/traceback.png\n",
      "\u001b[32m[I 22:13:23 InstallContribNbextensionsApp]\u001b[m Copying: /specific/scratches/scratch/guy/miniconda/lib/python3.7/site-packages/jupyter_contrib_nbextensions/nbextensions/skip-traceback/skip-traceback.yaml -> /specific/a/home/cc/students/cs/dar/.local/share/jupyter/nbextensions/skip-traceback/skip-traceback.yaml\n",
      "\u001b[32m[I 22:13:23 InstallContribNbextensionsApp]\u001b[m Copying: /specific/scratches/scratch/guy/miniconda/lib/python3.7/site-packages/jupyter_contrib_nbextensions/nbextensions/skip-traceback/skip-traceback.png -> /specific/a/home/cc/students/cs/dar/.local/share/jupyter/nbextensions/skip-traceback/skip-traceback.png\n",
      "\u001b[32m[I 22:13:23 InstallContribNbextensionsApp]\u001b[m Copying: /specific/scratches/scratch/guy/miniconda/lib/python3.7/site-packages/jupyter_contrib_nbextensions/nbextensions/skip-traceback/readme.md -> /specific/a/home/cc/students/cs/dar/.local/share/jupyter/nbextensions/skip-traceback/readme.md\n",
      "\u001b[32m[I 22:13:23 InstallContribNbextensionsApp]\u001b[m Copying: /specific/scratches/scratch/guy/miniconda/lib/python3.7/site-packages/jupyter_contrib_nbextensions/nbextensions/skip-traceback/main.js -> /specific/a/home/cc/students/cs/dar/.local/share/jupyter/nbextensions/skip-traceback/main.js\n",
      "\u001b[32m[I 22:13:23 InstallContribNbextensionsApp]\u001b[m Copying: /specific/scratches/scratch/guy/miniconda/lib/python3.7/site-packages/jupyter_contrib_nbextensions/nbextensions/skip-traceback/icon.png -> /specific/a/home/cc/students/cs/dar/.local/share/jupyter/nbextensions/skip-traceback/icon.png\n",
      "\u001b[32m[I 22:13:23 InstallContribNbextensionsApp]\u001b[m - Validating: \u001b[32mOK\u001b[0m\n",
      "\u001b[32m[I 22:13:23 InstallContribNbextensionsApp]\u001b[m Installing /specific/scratches/scratch/guy/miniconda/lib/python3.7/site-packages/jupyter_contrib_nbextensions/nbextensions/skill -> skill\n",
      "\u001b[32m[I 22:13:23 InstallContribNbextensionsApp]\u001b[m Making directory: /specific/a/home/cc/students/cs/dar/.local/share/jupyter/nbextensions/skill/\n",
      "\u001b[32m[I 22:13:23 InstallContribNbextensionsApp]\u001b[m Copying: /specific/scratches/scratch/guy/miniconda/lib/python3.7/site-packages/jupyter_contrib_nbextensions/nbextensions/skill/skill.yaml -> /specific/a/home/cc/students/cs/dar/.local/share/jupyter/nbextensions/skill/skill.yaml\n",
      "\u001b[32m[I 22:13:23 InstallContribNbextensionsApp]\u001b[m Copying: /specific/scratches/scratch/guy/miniconda/lib/python3.7/site-packages/jupyter_contrib_nbextensions/nbextensions/skill/skill.js -> /specific/a/home/cc/students/cs/dar/.local/share/jupyter/nbextensions/skill/skill.js\n",
      "\u001b[32m[I 22:13:23 InstallContribNbextensionsApp]\u001b[m Copying: /specific/scratches/scratch/guy/miniconda/lib/python3.7/site-packages/jupyter_contrib_nbextensions/nbextensions/skill/main.js -> /specific/a/home/cc/students/cs/dar/.local/share/jupyter/nbextensions/skill/main.js\n",
      "\u001b[32m[I 22:13:23 InstallContribNbextensionsApp]\u001b[m Copying: /specific/scratches/scratch/guy/miniconda/lib/python3.7/site-packages/jupyter_contrib_nbextensions/nbextensions/skill/README.md -> /specific/a/home/cc/students/cs/dar/.local/share/jupyter/nbextensions/skill/README.md\n",
      "\u001b[32m[I 22:13:23 InstallContribNbextensionsApp]\u001b[m - Validating: \u001b[32mOK\u001b[0m\n",
      "\u001b[32m[I 22:13:23 InstallContribNbextensionsApp]\u001b[m Installing /specific/scratches/scratch/guy/miniconda/lib/python3.7/site-packages/jupyter_contrib_nbextensions/nbextensions/select_keymap -> select_keymap\n",
      "\u001b[32m[I 22:13:23 InstallContribNbextensionsApp]\u001b[m Making directory: /specific/a/home/cc/students/cs/dar/.local/share/jupyter/nbextensions/select_keymap/\n",
      "\u001b[32m[I 22:13:23 InstallContribNbextensionsApp]\u001b[m Copying: /specific/scratches/scratch/guy/miniconda/lib/python3.7/site-packages/jupyter_contrib_nbextensions/nbextensions/select_keymap/select_keymap.yaml -> /specific/a/home/cc/students/cs/dar/.local/share/jupyter/nbextensions/select_keymap/select_keymap.yaml\n",
      "\u001b[32m[I 22:13:23 InstallContribNbextensionsApp]\u001b[m Copying: /specific/scratches/scratch/guy/miniconda/lib/python3.7/site-packages/jupyter_contrib_nbextensions/nbextensions/select_keymap/select_keymap.png -> /specific/a/home/cc/students/cs/dar/.local/share/jupyter/nbextensions/select_keymap/select_keymap.png\n",
      "\u001b[32m[I 22:13:23 InstallContribNbextensionsApp]\u001b[m Copying: /specific/scratches/scratch/guy/miniconda/lib/python3.7/site-packages/jupyter_contrib_nbextensions/nbextensions/select_keymap/main.js -> /specific/a/home/cc/students/cs/dar/.local/share/jupyter/nbextensions/select_keymap/main.js\n",
      "\u001b[32m[I 22:13:23 InstallContribNbextensionsApp]\u001b[m Copying: /specific/scratches/scratch/guy/miniconda/lib/python3.7/site-packages/jupyter_contrib_nbextensions/nbextensions/select_keymap/README.md -> /specific/a/home/cc/students/cs/dar/.local/share/jupyter/nbextensions/select_keymap/README.md\n",
      "\u001b[32m[I 22:13:23 InstallContribNbextensionsApp]\u001b[m - Validating: \u001b[32mOK\u001b[0m\n",
      "\u001b[32m[I 22:13:23 InstallContribNbextensionsApp]\u001b[m Installing /specific/scratches/scratch/guy/miniconda/lib/python3.7/site-packages/jupyter_contrib_nbextensions/nbextensions/scroll_down -> scroll_down\n",
      "\u001b[32m[I 22:13:23 InstallContribNbextensionsApp]\u001b[m Making directory: /specific/a/home/cc/students/cs/dar/.local/share/jupyter/nbextensions/scroll_down/\n",
      "\u001b[32m[I 22:13:23 InstallContribNbextensionsApp]\u001b[m Copying: /specific/scratches/scratch/guy/miniconda/lib/python3.7/site-packages/jupyter_contrib_nbextensions/nbextensions/scroll_down/readme.md -> /specific/a/home/cc/students/cs/dar/.local/share/jupyter/nbextensions/scroll_down/readme.md\n",
      "\u001b[32m[I 22:13:23 InstallContribNbextensionsApp]\u001b[m Copying: /specific/scratches/scratch/guy/miniconda/lib/python3.7/site-packages/jupyter_contrib_nbextensions/nbextensions/scroll_down/main.js -> /specific/a/home/cc/students/cs/dar/.local/share/jupyter/nbextensions/scroll_down/main.js\n",
      "\u001b[32m[I 22:13:23 InstallContribNbextensionsApp]\u001b[m Copying: /specific/scratches/scratch/guy/miniconda/lib/python3.7/site-packages/jupyter_contrib_nbextensions/nbextensions/scroll_down/icon.png -> /specific/a/home/cc/students/cs/dar/.local/share/jupyter/nbextensions/scroll_down/icon.png\n",
      "\u001b[32m[I 22:13:23 InstallContribNbextensionsApp]\u001b[m Copying: /specific/scratches/scratch/guy/miniconda/lib/python3.7/site-packages/jupyter_contrib_nbextensions/nbextensions/scroll_down/config.yaml -> /specific/a/home/cc/students/cs/dar/.local/share/jupyter/nbextensions/scroll_down/config.yaml\n",
      "\u001b[32m[I 22:13:23 InstallContribNbextensionsApp]\u001b[m - Validating: \u001b[32mOK\u001b[0m\n",
      "\u001b[32m[I 22:13:23 InstallContribNbextensionsApp]\u001b[m Installing /specific/scratches/scratch/guy/miniconda/lib/python3.7/site-packages/jupyter_contrib_nbextensions/nbextensions/scratchpad -> scratchpad\n",
      "\u001b[32m[I 22:13:23 InstallContribNbextensionsApp]\u001b[m Making directory: /specific/a/home/cc/students/cs/dar/.local/share/jupyter/nbextensions/scratchpad/\n",
      "\u001b[32m[I 22:13:23 InstallContribNbextensionsApp]\u001b[m Copying: /specific/scratches/scratch/guy/miniconda/lib/python3.7/site-packages/jupyter_contrib_nbextensions/nbextensions/scratchpad/scratchpad.yaml -> /specific/a/home/cc/students/cs/dar/.local/share/jupyter/nbextensions/scratchpad/scratchpad.yaml\n",
      "\u001b[32m[I 22:13:23 InstallContribNbextensionsApp]\u001b[m Copying: /specific/scratches/scratch/guy/miniconda/lib/python3.7/site-packages/jupyter_contrib_nbextensions/nbextensions/scratchpad/scratchpad.css -> /specific/a/home/cc/students/cs/dar/.local/share/jupyter/nbextensions/scratchpad/scratchpad.css\n",
      "\u001b[32m[I 22:13:23 InstallContribNbextensionsApp]\u001b[m Copying: /specific/scratches/scratch/guy/miniconda/lib/python3.7/site-packages/jupyter_contrib_nbextensions/nbextensions/scratchpad/main.js -> /specific/a/home/cc/students/cs/dar/.local/share/jupyter/nbextensions/scratchpad/main.js\n",
      "\u001b[32m[I 22:13:23 InstallContribNbextensionsApp]\u001b[m Copying: /specific/scratches/scratch/guy/miniconda/lib/python3.7/site-packages/jupyter_contrib_nbextensions/nbextensions/scratchpad/demo.gif -> /specific/a/home/cc/students/cs/dar/.local/share/jupyter/nbextensions/scratchpad/demo.gif\n",
      "\u001b[32m[I 22:13:23 InstallContribNbextensionsApp]\u001b[m Copying: /specific/scratches/scratch/guy/miniconda/lib/python3.7/site-packages/jupyter_contrib_nbextensions/nbextensions/scratchpad/README.md -> /specific/a/home/cc/students/cs/dar/.local/share/jupyter/nbextensions/scratchpad/README.md\n",
      "\u001b[32m[I 22:13:23 InstallContribNbextensionsApp]\u001b[m Copying: /specific/scratches/scratch/guy/miniconda/lib/python3.7/site-packages/jupyter_contrib_nbextensions/nbextensions/scratchpad/LICENSE -> /specific/a/home/cc/students/cs/dar/.local/share/jupyter/nbextensions/scratchpad/LICENSE\n",
      "\u001b[32m[I 22:13:23 InstallContribNbextensionsApp]\u001b[m - Validating: \u001b[32mOK\u001b[0m\n",
      "\u001b[32m[I 22:13:23 InstallContribNbextensionsApp]\u001b[m Installing /specific/scratches/scratch/guy/miniconda/lib/python3.7/site-packages/jupyter_contrib_nbextensions/nbextensions/runtools -> runtools\n",
      "\u001b[32m[I 22:13:23 InstallContribNbextensionsApp]\u001b[m Making directory: /specific/a/home/cc/students/cs/dar/.local/share/jupyter/nbextensions/runtools/\n",
      "\u001b[32m[I 22:13:23 InstallContribNbextensionsApp]\u001b[m Copying: /specific/scratches/scratch/guy/miniconda/lib/python3.7/site-packages/jupyter_contrib_nbextensions/nbextensions/runtools/runtools_show_hide.png -> /specific/a/home/cc/students/cs/dar/.local/share/jupyter/nbextensions/runtools/runtools_show_hide.png\n",
      "\u001b[32m[I 22:13:23 InstallContribNbextensionsApp]\u001b[m Copying: /specific/scratches/scratch/guy/miniconda/lib/python3.7/site-packages/jupyter_contrib_nbextensions/nbextensions/runtools/runtools_nb.png -> /specific/a/home/cc/students/cs/dar/.local/share/jupyter/nbextensions/runtools/runtools_nb.png\n",
      "\u001b[32m[I 22:13:23 InstallContribNbextensionsApp]\u001b[m Copying: /specific/scratches/scratch/guy/miniconda/lib/python3.7/site-packages/jupyter_contrib_nbextensions/nbextensions/runtools/runtools_marker.png -> /specific/a/home/cc/students/cs/dar/.local/share/jupyter/nbextensions/runtools/runtools_marker.png\n",
      "\u001b[32m[I 22:13:23 InstallContribNbextensionsApp]\u001b[m Copying: /specific/scratches/scratch/guy/miniconda/lib/python3.7/site-packages/jupyter_contrib_nbextensions/nbextensions/runtools/runtools_lock.png -> /specific/a/home/cc/students/cs/dar/.local/share/jupyter/nbextensions/runtools/runtools_lock.png\n",
      "\u001b[32m[I 22:13:23 InstallContribNbextensionsApp]\u001b[m Copying: /specific/scratches/scratch/guy/miniconda/lib/python3.7/site-packages/jupyter_contrib_nbextensions/nbextensions/runtools/runtools_execute.png -> /specific/a/home/cc/students/cs/dar/.local/share/jupyter/nbextensions/runtools/runtools_execute.png\n",
      "\u001b[32m[I 22:13:23 InstallContribNbextensionsApp]\u001b[m Copying: /specific/scratches/scratch/guy/miniconda/lib/python3.7/site-packages/jupyter_contrib_nbextensions/nbextensions/runtools/runtools.yaml -> /specific/a/home/cc/students/cs/dar/.local/share/jupyter/nbextensions/runtools/runtools.yaml\n",
      "\u001b[32m[I 22:13:23 InstallContribNbextensionsApp]\u001b[m Copying: /specific/scratches/scratch/guy/miniconda/lib/python3.7/site-packages/jupyter_contrib_nbextensions/nbextensions/runtools/readme.md -> /specific/a/home/cc/students/cs/dar/.local/share/jupyter/nbextensions/runtools/readme.md\n",
      "\u001b[32m[I 22:13:23 InstallContribNbextensionsApp]\u001b[m Copying: /specific/scratches/scratch/guy/miniconda/lib/python3.7/site-packages/jupyter_contrib_nbextensions/nbextensions/runtools/main.js -> /specific/a/home/cc/students/cs/dar/.local/share/jupyter/nbextensions/runtools/main.js\n",
      "\u001b[32m[I 22:13:23 InstallContribNbextensionsApp]\u001b[m Copying: /specific/scratches/scratch/guy/miniconda/lib/python3.7/site-packages/jupyter_contrib_nbextensions/nbextensions/runtools/main.css -> /specific/a/home/cc/students/cs/dar/.local/share/jupyter/nbextensions/runtools/main.css\n",
      "\u001b[32m[I 22:13:23 InstallContribNbextensionsApp]\u001b[m Copying: /specific/scratches/scratch/guy/miniconda/lib/python3.7/site-packages/jupyter_contrib_nbextensions/nbextensions/runtools/icon.png -> /specific/a/home/cc/students/cs/dar/.local/share/jupyter/nbextensions/runtools/icon.png\n",
      "\u001b[32m[I 22:13:23 InstallContribNbextensionsApp]\u001b[m Copying: /specific/scratches/scratch/guy/miniconda/lib/python3.7/site-packages/jupyter_contrib_nbextensions/nbextensions/runtools/gutter.css -> /specific/a/home/cc/students/cs/dar/.local/share/jupyter/nbextensions/runtools/gutter.css\n",
      "\u001b[32m[I 22:13:23 InstallContribNbextensionsApp]\u001b[m Copying: /specific/scratches/scratch/guy/miniconda/lib/python3.7/site-packages/jupyter_contrib_nbextensions/nbextensions/runtools/demo.gif -> /specific/a/home/cc/students/cs/dar/.local/share/jupyter/nbextensions/runtools/demo.gif\n",
      "\u001b[32m[I 22:13:23 InstallContribNbextensionsApp]\u001b[m Copying: /specific/scratches/scratch/guy/miniconda/lib/python3.7/site-packages/jupyter_contrib_nbextensions/nbextensions/runtools/cellstate.js -> /specific/a/home/cc/students/cs/dar/.local/share/jupyter/nbextensions/runtools/cellstate.js\n",
      "\u001b[32m[I 22:13:23 InstallContribNbextensionsApp]\u001b[m Copying: /specific/scratches/scratch/guy/miniconda/lib/python3.7/site-packages/jupyter_contrib_nbextensions/nbextensions/runtools/annotations.odg -> /specific/a/home/cc/students/cs/dar/.local/share/jupyter/nbextensions/runtools/annotations.odg\n",
      "\u001b[32m[I 22:13:23 InstallContribNbextensionsApp]\u001b[m - Validating: \u001b[32mOK\u001b[0m\n",
      "\u001b[32m[I 22:13:23 InstallContribNbextensionsApp]\u001b[m Installing /specific/scratches/scratch/guy/miniconda/lib/python3.7/site-packages/jupyter_contrib_nbextensions/nbextensions/ruler -> ruler\n",
      "\u001b[32m[I 22:13:23 InstallContribNbextensionsApp]\u001b[m Making directory: /specific/a/home/cc/students/cs/dar/.local/share/jupyter/nbextensions/ruler/\n",
      "\u001b[32m[I 22:13:23 InstallContribNbextensionsApp]\u001b[m Copying: /specific/scratches/scratch/guy/miniconda/lib/python3.7/site-packages/jupyter_contrib_nbextensions/nbextensions/ruler/ruler_editor.yaml -> /specific/a/home/cc/students/cs/dar/.local/share/jupyter/nbextensions/ruler/ruler_editor.yaml\n",
      "\u001b[32m[I 22:13:23 InstallContribNbextensionsApp]\u001b[m Copying: /specific/scratches/scratch/guy/miniconda/lib/python3.7/site-packages/jupyter_contrib_nbextensions/nbextensions/ruler/ruler.yaml -> /specific/a/home/cc/students/cs/dar/.local/share/jupyter/nbextensions/ruler/ruler.yaml\n",
      "\u001b[32m[I 22:13:23 InstallContribNbextensionsApp]\u001b[m Copying: /specific/scratches/scratch/guy/miniconda/lib/python3.7/site-packages/jupyter_contrib_nbextensions/nbextensions/ruler/readme.md -> /specific/a/home/cc/students/cs/dar/.local/share/jupyter/nbextensions/ruler/readme.md\n",
      "\u001b[32m[I 22:13:23 InstallContribNbextensionsApp]\u001b[m Copying: /specific/scratches/scratch/guy/miniconda/lib/python3.7/site-packages/jupyter_contrib_nbextensions/nbextensions/ruler/main.js -> /specific/a/home/cc/students/cs/dar/.local/share/jupyter/nbextensions/ruler/main.js\n",
      "\u001b[32m[I 22:13:23 InstallContribNbextensionsApp]\u001b[m Copying: /specific/scratches/scratch/guy/miniconda/lib/python3.7/site-packages/jupyter_contrib_nbextensions/nbextensions/ruler/icon.png -> /specific/a/home/cc/students/cs/dar/.local/share/jupyter/nbextensions/ruler/icon.png\n",
      "\u001b[32m[I 22:13:23 InstallContribNbextensionsApp]\u001b[m Copying: /specific/scratches/scratch/guy/miniconda/lib/python3.7/site-packages/jupyter_contrib_nbextensions/nbextensions/ruler/edit.js -> /specific/a/home/cc/students/cs/dar/.local/share/jupyter/nbextensions/ruler/edit.js\n",
      "\u001b[32m[I 22:13:23 InstallContribNbextensionsApp]\u001b[m - Validating: \u001b[32mOK\u001b[0m\n",
      "\u001b[32m[I 22:13:23 InstallContribNbextensionsApp]\u001b[m Installing /specific/scratches/scratch/guy/miniconda/lib/python3.7/site-packages/jupyter_contrib_nbextensions/nbextensions/ruler -> ruler\n",
      "\u001b[32m[I 22:13:23 InstallContribNbextensionsApp]\u001b[m Up to date: /specific/a/home/cc/students/cs/dar/.local/share/jupyter/nbextensions/ruler/ruler_editor.yaml\n",
      "\u001b[32m[I 22:13:23 InstallContribNbextensionsApp]\u001b[m Up to date: /specific/a/home/cc/students/cs/dar/.local/share/jupyter/nbextensions/ruler/ruler.yaml\n",
      "\u001b[32m[I 22:13:23 InstallContribNbextensionsApp]\u001b[m Up to date: /specific/a/home/cc/students/cs/dar/.local/share/jupyter/nbextensions/ruler/readme.md\n",
      "\u001b[32m[I 22:13:23 InstallContribNbextensionsApp]\u001b[m Up to date: /specific/a/home/cc/students/cs/dar/.local/share/jupyter/nbextensions/ruler/main.js\n",
      "\u001b[32m[I 22:13:23 InstallContribNbextensionsApp]\u001b[m Up to date: /specific/a/home/cc/students/cs/dar/.local/share/jupyter/nbextensions/ruler/icon.png\n",
      "\u001b[32m[I 22:13:23 InstallContribNbextensionsApp]\u001b[m Up to date: /specific/a/home/cc/students/cs/dar/.local/share/jupyter/nbextensions/ruler/edit.js\n",
      "\u001b[32m[I 22:13:23 InstallContribNbextensionsApp]\u001b[m - Validating: \u001b[32mOK\u001b[0m\n",
      "\u001b[32m[I 22:13:23 InstallContribNbextensionsApp]\u001b[m Installing /specific/scratches/scratch/guy/miniconda/lib/python3.7/site-packages/jupyter_contrib_nbextensions/nbextensions/rubberband -> rubberband\n",
      "\u001b[32m[I 22:13:23 InstallContribNbextensionsApp]\u001b[m Making directory: /specific/a/home/cc/students/cs/dar/.local/share/jupyter/nbextensions/rubberband/\n",
      "\u001b[32m[I 22:13:23 InstallContribNbextensionsApp]\u001b[m Copying: /specific/scratches/scratch/guy/miniconda/lib/python3.7/site-packages/jupyter_contrib_nbextensions/nbextensions/rubberband/rubberband.yaml -> /specific/a/home/cc/students/cs/dar/.local/share/jupyter/nbextensions/rubberband/rubberband.yaml\n",
      "\u001b[32m[I 22:13:23 InstallContribNbextensionsApp]\u001b[m Copying: /specific/scratches/scratch/guy/miniconda/lib/python3.7/site-packages/jupyter_contrib_nbextensions/nbextensions/rubberband/readme.md -> /specific/a/home/cc/students/cs/dar/.local/share/jupyter/nbextensions/rubberband/readme.md\n",
      "\u001b[32m[I 22:13:23 InstallContribNbextensionsApp]\u001b[m Copying: /specific/scratches/scratch/guy/miniconda/lib/python3.7/site-packages/jupyter_contrib_nbextensions/nbextensions/rubberband/main.js -> /specific/a/home/cc/students/cs/dar/.local/share/jupyter/nbextensions/rubberband/main.js\n",
      "\u001b[32m[I 22:13:23 InstallContribNbextensionsApp]\u001b[m Copying: /specific/scratches/scratch/guy/miniconda/lib/python3.7/site-packages/jupyter_contrib_nbextensions/nbextensions/rubberband/main.css -> /specific/a/home/cc/students/cs/dar/.local/share/jupyter/nbextensions/rubberband/main.css\n",
      "\u001b[32m[I 22:13:23 InstallContribNbextensionsApp]\u001b[m Copying: /specific/scratches/scratch/guy/miniconda/lib/python3.7/site-packages/jupyter_contrib_nbextensions/nbextensions/rubberband/icon.png -> /specific/a/home/cc/students/cs/dar/.local/share/jupyter/nbextensions/rubberband/icon.png\n",
      "\u001b[32m[I 22:13:23 InstallContribNbextensionsApp]\u001b[m - Validating: \u001b[32mOK\u001b[0m\n",
      "\u001b[32m[I 22:13:23 InstallContribNbextensionsApp]\u001b[m Installing /specific/scratches/scratch/guy/miniconda/lib/python3.7/site-packages/jupyter_contrib_nbextensions/nbextensions/qtconsole -> qtconsole\n",
      "\u001b[32m[I 22:13:23 InstallContribNbextensionsApp]\u001b[m Making directory: /specific/a/home/cc/students/cs/dar/.local/share/jupyter/nbextensions/qtconsole/\n",
      "\u001b[32m[I 22:13:23 InstallContribNbextensionsApp]\u001b[m Copying: /specific/scratches/scratch/guy/miniconda/lib/python3.7/site-packages/jupyter_contrib_nbextensions/nbextensions/qtconsole/qtconsole.yaml -> /specific/a/home/cc/students/cs/dar/.local/share/jupyter/nbextensions/qtconsole/qtconsole.yaml\n",
      "\u001b[32m[I 22:13:23 InstallContribNbextensionsApp]\u001b[m Copying: /specific/scratches/scratch/guy/miniconda/lib/python3.7/site-packages/jupyter_contrib_nbextensions/nbextensions/qtconsole/qtconsole.js -> /specific/a/home/cc/students/cs/dar/.local/share/jupyter/nbextensions/qtconsole/qtconsole.js\n",
      "\u001b[32m[I 22:13:23 InstallContribNbextensionsApp]\u001b[m Copying: /specific/scratches/scratch/guy/miniconda/lib/python3.7/site-packages/jupyter_contrib_nbextensions/nbextensions/qtconsole/README.md -> /specific/a/home/cc/students/cs/dar/.local/share/jupyter/nbextensions/qtconsole/README.md\n",
      "\u001b[32m[I 22:13:23 InstallContribNbextensionsApp]\u001b[m - Validating: \u001b[32mOK\u001b[0m\n",
      "\u001b[32m[I 22:13:23 InstallContribNbextensionsApp]\u001b[m Installing /specific/scratches/scratch/guy/miniconda/lib/python3.7/site-packages/jupyter_contrib_nbextensions/nbextensions/python-markdown -> python-markdown\n",
      "\u001b[32m[I 22:13:23 InstallContribNbextensionsApp]\u001b[m Making directory: /specific/a/home/cc/students/cs/dar/.local/share/jupyter/nbextensions/python-markdown/\n",
      "\u001b[32m[I 22:13:23 InstallContribNbextensionsApp]\u001b[m Copying: /specific/scratches/scratch/guy/miniconda/lib/python3.7/site-packages/jupyter_contrib_nbextensions/nbextensions/python-markdown/untrusted.png -> /specific/a/home/cc/students/cs/dar/.local/share/jupyter/nbextensions/python-markdown/untrusted.png\n",
      "\u001b[32m[I 22:13:23 InstallContribNbextensionsApp]\u001b[m Copying: /specific/scratches/scratch/guy/miniconda/lib/python3.7/site-packages/jupyter_contrib_nbextensions/nbextensions/python-markdown/trusted.png -> /specific/a/home/cc/students/cs/dar/.local/share/jupyter/nbextensions/python-markdown/trusted.png\n",
      "\u001b[32m[I 22:13:23 InstallContribNbextensionsApp]\u001b[m Copying: /specific/scratches/scratch/guy/miniconda/lib/python3.7/site-packages/jupyter_contrib_nbextensions/nbextensions/python-markdown/readme.md -> /specific/a/home/cc/students/cs/dar/.local/share/jupyter/nbextensions/python-markdown/readme.md\n",
      "\u001b[32m[I 22:13:23 InstallContribNbextensionsApp]\u001b[m Copying: /specific/scratches/scratch/guy/miniconda/lib/python3.7/site-packages/jupyter_contrib_nbextensions/nbextensions/python-markdown/python-markdown.yaml -> /specific/a/home/cc/students/cs/dar/.local/share/jupyter/nbextensions/python-markdown/python-markdown.yaml\n",
      "\u001b[32m[I 22:13:23 InstallContribNbextensionsApp]\u001b[m Copying: /specific/scratches/scratch/guy/miniconda/lib/python3.7/site-packages/jupyter_contrib_nbextensions/nbextensions/python-markdown/python-markdown.png -> /specific/a/home/cc/students/cs/dar/.local/share/jupyter/nbextensions/python-markdown/python-markdown.png\n",
      "\u001b[32m[I 22:13:23 InstallContribNbextensionsApp]\u001b[m Copying: /specific/scratches/scratch/guy/miniconda/lib/python3.7/site-packages/jupyter_contrib_nbextensions/nbextensions/python-markdown/python-markdown-pre.png -> /specific/a/home/cc/students/cs/dar/.local/share/jupyter/nbextensions/python-markdown/python-markdown-pre.png\n",
      "\u001b[32m[I 22:13:23 InstallContribNbextensionsApp]\u001b[m Copying: /specific/scratches/scratch/guy/miniconda/lib/python3.7/site-packages/jupyter_contrib_nbextensions/nbextensions/python-markdown/python-markdown-post.png -> /specific/a/home/cc/students/cs/dar/.local/share/jupyter/nbextensions/python-markdown/python-markdown-post.png\n",
      "\u001b[32m[I 22:13:23 InstallContribNbextensionsApp]\u001b[m Copying: /specific/scratches/scratch/guy/miniconda/lib/python3.7/site-packages/jupyter_contrib_nbextensions/nbextensions/python-markdown/main.js -> /specific/a/home/cc/students/cs/dar/.local/share/jupyter/nbextensions/python-markdown/main.js\n",
      "\u001b[32m[I 22:13:23 InstallContribNbextensionsApp]\u001b[m Copying: /specific/scratches/scratch/guy/miniconda/lib/python3.7/site-packages/jupyter_contrib_nbextensions/nbextensions/python-markdown/main.css -> /specific/a/home/cc/students/cs/dar/.local/share/jupyter/nbextensions/python-markdown/main.css\n",
      "\u001b[32m[I 22:13:23 InstallContribNbextensionsApp]\u001b[m - Validating: \u001b[32mOK\u001b[0m\n",
      "\u001b[32m[I 22:13:23 InstallContribNbextensionsApp]\u001b[m Installing /specific/scratches/scratch/guy/miniconda/lib/python3.7/site-packages/jupyter_contrib_nbextensions/nbextensions/printview -> printview\n",
      "\u001b[32m[I 22:13:23 InstallContribNbextensionsApp]\u001b[m Making directory: /specific/a/home/cc/students/cs/dar/.local/share/jupyter/nbextensions/printview/\n",
      "\u001b[32m[I 22:13:23 InstallContribNbextensionsApp]\u001b[m Copying: /specific/scratches/scratch/guy/miniconda/lib/python3.7/site-packages/jupyter_contrib_nbextensions/nbextensions/printview/readme.md -> /specific/a/home/cc/students/cs/dar/.local/share/jupyter/nbextensions/printview/readme.md\n",
      "\u001b[32m[I 22:13:23 InstallContribNbextensionsApp]\u001b[m Copying: /specific/scratches/scratch/guy/miniconda/lib/python3.7/site-packages/jupyter_contrib_nbextensions/nbextensions/printview/printview.yaml -> /specific/a/home/cc/students/cs/dar/.local/share/jupyter/nbextensions/printview/printview.yaml\n",
      "\u001b[32m[I 22:13:23 InstallContribNbextensionsApp]\u001b[m Copying: /specific/scratches/scratch/guy/miniconda/lib/python3.7/site-packages/jupyter_contrib_nbextensions/nbextensions/printview/printview-button.png -> /specific/a/home/cc/students/cs/dar/.local/share/jupyter/nbextensions/printview/printview-button.png\n",
      "\u001b[32m[I 22:13:23 InstallContribNbextensionsApp]\u001b[m Copying: /specific/scratches/scratch/guy/miniconda/lib/python3.7/site-packages/jupyter_contrib_nbextensions/nbextensions/printview/main.js -> /specific/a/home/cc/students/cs/dar/.local/share/jupyter/nbextensions/printview/main.js\n",
      "\u001b[32m[I 22:13:23 InstallContribNbextensionsApp]\u001b[m Copying: /specific/scratches/scratch/guy/miniconda/lib/python3.7/site-packages/jupyter_contrib_nbextensions/nbextensions/printview/icon.png -> /specific/a/home/cc/students/cs/dar/.local/share/jupyter/nbextensions/printview/icon.png\n",
      "\u001b[32m[I 22:13:23 InstallContribNbextensionsApp]\u001b[m - Validating: \u001b[32mOK\u001b[0m\n",
      "\u001b[32m[I 22:13:23 InstallContribNbextensionsApp]\u001b[m Installing /specific/scratches/scratch/guy/miniconda/lib/python3.7/site-packages/jupyter_contrib_nbextensions/nbextensions/notify -> notify\n",
      "\u001b[32m[I 22:13:23 InstallContribNbextensionsApp]\u001b[m Making directory: /specific/a/home/cc/students/cs/dar/.local/share/jupyter/nbextensions/notify/\n",
      "\u001b[32m[I 22:13:23 InstallContribNbextensionsApp]\u001b[m Copying: /specific/scratches/scratch/guy/miniconda/lib/python3.7/site-packages/jupyter_contrib_nbextensions/nbextensions/notify/readme.md -> /specific/a/home/cc/students/cs/dar/.local/share/jupyter/nbextensions/notify/readme.md\n",
      "\u001b[32m[I 22:13:23 InstallContribNbextensionsApp]\u001b[m Copying: /specific/scratches/scratch/guy/miniconda/lib/python3.7/site-packages/jupyter_contrib_nbextensions/nbextensions/notify/notify.yaml -> /specific/a/home/cc/students/cs/dar/.local/share/jupyter/nbextensions/notify/notify.yaml\n",
      "\u001b[32m[I 22:13:23 InstallContribNbextensionsApp]\u001b[m Copying: /specific/scratches/scratch/guy/miniconda/lib/python3.7/site-packages/jupyter_contrib_nbextensions/nbextensions/notify/notify.mp3 -> /specific/a/home/cc/students/cs/dar/.local/share/jupyter/nbextensions/notify/notify.mp3\n",
      "\u001b[32m[I 22:13:23 InstallContribNbextensionsApp]\u001b[m Copying: /specific/scratches/scratch/guy/miniconda/lib/python3.7/site-packages/jupyter_contrib_nbextensions/nbextensions/notify/notify.js -> /specific/a/home/cc/students/cs/dar/.local/share/jupyter/nbextensions/notify/notify.js\n",
      "\u001b[32m[I 22:13:23 InstallContribNbextensionsApp]\u001b[m Copying: /specific/scratches/scratch/guy/miniconda/lib/python3.7/site-packages/jupyter_contrib_nbextensions/nbextensions/notify/notification.png -> /specific/a/home/cc/students/cs/dar/.local/share/jupyter/nbextensions/notify/notification.png\n",
      "\u001b[32m[I 22:13:23 InstallContribNbextensionsApp]\u001b[m - Validating: \u001b[32mOK\u001b[0m\n",
      "\u001b[32m[I 22:13:23 InstallContribNbextensionsApp]\u001b[m Installing /specific/scratches/scratch/guy/miniconda/lib/python3.7/site-packages/jupyter_contrib_nbextensions/nbextensions/nbTranslate -> nbTranslate\n",
      "\u001b[32m[I 22:13:23 InstallContribNbextensionsApp]\u001b[m Making directory: /specific/a/home/cc/students/cs/dar/.local/share/jupyter/nbextensions/nbTranslate/\n",
      "\u001b[32m[I 22:13:23 InstallContribNbextensionsApp]\u001b[m Copying: /specific/scratches/scratch/guy/miniconda/lib/python3.7/site-packages/jupyter_contrib_nbextensions/nbextensions/nbTranslate/nbTranslate.yaml -> /specific/a/home/cc/students/cs/dar/.local/share/jupyter/nbextensions/nbTranslate/nbTranslate.yaml\n",
      "\u001b[32m[I 22:13:23 InstallContribNbextensionsApp]\u001b[m Copying: /specific/scratches/scratch/guy/miniconda/lib/python3.7/site-packages/jupyter_contrib_nbextensions/nbextensions/nbTranslate/nbTranslate.js -> /specific/a/home/cc/students/cs/dar/.local/share/jupyter/nbextensions/nbTranslate/nbTranslate.js\n",
      "\u001b[32m[I 22:13:23 InstallContribNbextensionsApp]\u001b[m Copying: /specific/scratches/scratch/guy/miniconda/lib/python3.7/site-packages/jupyter_contrib_nbextensions/nbextensions/nbTranslate/mutils.js -> /specific/a/home/cc/students/cs/dar/.local/share/jupyter/nbextensions/nbTranslate/mutils.js\n",
      "\u001b[32m[I 22:13:23 InstallContribNbextensionsApp]\u001b[m Copying: /specific/scratches/scratch/guy/miniconda/lib/python3.7/site-packages/jupyter_contrib_nbextensions/nbextensions/nbTranslate/main.js -> /specific/a/home/cc/students/cs/dar/.local/share/jupyter/nbextensions/nbTranslate/main.js\n",
      "\u001b[32m[I 22:13:23 InstallContribNbextensionsApp]\u001b[m Copying: /specific/scratches/scratch/guy/miniconda/lib/python3.7/site-packages/jupyter_contrib_nbextensions/nbextensions/nbTranslate/languages.js -> /specific/a/home/cc/students/cs/dar/.local/share/jupyter/nbextensions/nbTranslate/languages.js\n",
      "\u001b[32m[I 22:13:23 InstallContribNbextensionsApp]\u001b[m Copying: /specific/scratches/scratch/guy/miniconda/lib/python3.7/site-packages/jupyter_contrib_nbextensions/nbextensions/nbTranslate/demo2.gif -> /specific/a/home/cc/students/cs/dar/.local/share/jupyter/nbextensions/nbTranslate/demo2.gif\n",
      "\u001b[32m[I 22:13:24 InstallContribNbextensionsApp]\u001b[m Copying: /specific/scratches/scratch/guy/miniconda/lib/python3.7/site-packages/jupyter_contrib_nbextensions/nbextensions/nbTranslate/demo1.gif -> /specific/a/home/cc/students/cs/dar/.local/share/jupyter/nbextensions/nbTranslate/demo1.gif\n",
      "\u001b[32m[I 22:13:24 InstallContribNbextensionsApp]\u001b[m Copying: /specific/scratches/scratch/guy/miniconda/lib/python3.7/site-packages/jupyter_contrib_nbextensions/nbextensions/nbTranslate/README.md -> /specific/a/home/cc/students/cs/dar/.local/share/jupyter/nbextensions/nbTranslate/README.md\n",
      "\u001b[32m[I 22:13:24 InstallContribNbextensionsApp]\u001b[m - Validating: \u001b[32mOK\u001b[0m\n",
      "\u001b[32m[I 22:13:24 InstallContribNbextensionsApp]\u001b[m Installing /specific/scratches/scratch/guy/miniconda/lib/python3.7/site-packages/jupyter_contrib_nbextensions/nbextensions/navigation-hotkeys -> navigation-hotkeys\n",
      "\u001b[32m[I 22:13:24 InstallContribNbextensionsApp]\u001b[m Making directory: /specific/a/home/cc/students/cs/dar/.local/share/jupyter/nbextensions/navigation-hotkeys/\n",
      "\u001b[32m[I 22:13:24 InstallContribNbextensionsApp]\u001b[m Copying: /specific/scratches/scratch/guy/miniconda/lib/python3.7/site-packages/jupyter_contrib_nbextensions/nbextensions/navigation-hotkeys/readme.md -> /specific/a/home/cc/students/cs/dar/.local/share/jupyter/nbextensions/navigation-hotkeys/readme.md\n",
      "\u001b[32m[I 22:13:24 InstallContribNbextensionsApp]\u001b[m Copying: /specific/scratches/scratch/guy/miniconda/lib/python3.7/site-packages/jupyter_contrib_nbextensions/nbextensions/navigation-hotkeys/main.js -> /specific/a/home/cc/students/cs/dar/.local/share/jupyter/nbextensions/navigation-hotkeys/main.js\n",
      "\u001b[32m[I 22:13:24 InstallContribNbextensionsApp]\u001b[m Copying: /specific/scratches/scratch/guy/miniconda/lib/python3.7/site-packages/jupyter_contrib_nbextensions/nbextensions/navigation-hotkeys/icon.png -> /specific/a/home/cc/students/cs/dar/.local/share/jupyter/nbextensions/navigation-hotkeys/icon.png\n",
      "\u001b[32m[I 22:13:24 InstallContribNbextensionsApp]\u001b[m Copying: /specific/scratches/scratch/guy/miniconda/lib/python3.7/site-packages/jupyter_contrib_nbextensions/nbextensions/navigation-hotkeys/hotkeys.yaml -> /specific/a/home/cc/students/cs/dar/.local/share/jupyter/nbextensions/navigation-hotkeys/hotkeys.yaml\n",
      "\u001b[32m[I 22:13:24 InstallContribNbextensionsApp]\u001b[m - Validating: \u001b[32mOK\u001b[0m\n",
      "\u001b[32m[I 22:13:24 InstallContribNbextensionsApp]\u001b[m Installing /specific/scratches/scratch/guy/miniconda/lib/python3.7/site-packages/jupyter_contrib_nbextensions/nbextensions/move_selected_cells -> move_selected_cells\n",
      "\u001b[32m[I 22:13:24 InstallContribNbextensionsApp]\u001b[m Making directory: /specific/a/home/cc/students/cs/dar/.local/share/jupyter/nbextensions/move_selected_cells/\n",
      "\u001b[32m[I 22:13:24 InstallContribNbextensionsApp]\u001b[m Copying: /specific/scratches/scratch/guy/miniconda/lib/python3.7/site-packages/jupyter_contrib_nbextensions/nbextensions/move_selected_cells/move_selected_cells.yaml -> /specific/a/home/cc/students/cs/dar/.local/share/jupyter/nbextensions/move_selected_cells/move_selected_cells.yaml\n",
      "\u001b[32m[I 22:13:24 InstallContribNbextensionsApp]\u001b[m Copying: /specific/scratches/scratch/guy/miniconda/lib/python3.7/site-packages/jupyter_contrib_nbextensions/nbextensions/move_selected_cells/main.js -> /specific/a/home/cc/students/cs/dar/.local/share/jupyter/nbextensions/move_selected_cells/main.js\n",
      "\u001b[32m[I 22:13:24 InstallContribNbextensionsApp]\u001b[m Copying: /specific/scratches/scratch/guy/miniconda/lib/python3.7/site-packages/jupyter_contrib_nbextensions/nbextensions/move_selected_cells/README.md -> /specific/a/home/cc/students/cs/dar/.local/share/jupyter/nbextensions/move_selected_cells/README.md\n",
      "\u001b[32m[I 22:13:24 InstallContribNbextensionsApp]\u001b[m - Validating: \u001b[32mOK\u001b[0m\n",
      "\u001b[32m[I 22:13:24 InstallContribNbextensionsApp]\u001b[m Installing /specific/scratches/scratch/guy/miniconda/lib/python3.7/site-packages/jupyter_contrib_nbextensions/nbextensions/load_tex_macros -> load_tex_macros\n",
      "\u001b[32m[I 22:13:24 InstallContribNbextensionsApp]\u001b[m Making directory: /specific/a/home/cc/students/cs/dar/.local/share/jupyter/nbextensions/load_tex_macros/\n",
      "\u001b[32m[I 22:13:24 InstallContribNbextensionsApp]\u001b[m Copying: /specific/scratches/scratch/guy/miniconda/lib/python3.7/site-packages/jupyter_contrib_nbextensions/nbextensions/load_tex_macros/readme.md -> /specific/a/home/cc/students/cs/dar/.local/share/jupyter/nbextensions/load_tex_macros/readme.md\n",
      "\u001b[32m[I 22:13:24 InstallContribNbextensionsApp]\u001b[m Copying: /specific/scratches/scratch/guy/miniconda/lib/python3.7/site-packages/jupyter_contrib_nbextensions/nbextensions/load_tex_macros/main.js -> /specific/a/home/cc/students/cs/dar/.local/share/jupyter/nbextensions/load_tex_macros/main.js\n",
      "\u001b[32m[I 22:13:24 InstallContribNbextensionsApp]\u001b[m Copying: /specific/scratches/scratch/guy/miniconda/lib/python3.7/site-packages/jupyter_contrib_nbextensions/nbextensions/load_tex_macros/load_tex_macros.yaml -> /specific/a/home/cc/students/cs/dar/.local/share/jupyter/nbextensions/load_tex_macros/load_tex_macros.yaml\n",
      "\u001b[32m[I 22:13:24 InstallContribNbextensionsApp]\u001b[m Copying: /specific/scratches/scratch/guy/miniconda/lib/python3.7/site-packages/jupyter_contrib_nbextensions/nbextensions/load_tex_macros/icon.png -> /specific/a/home/cc/students/cs/dar/.local/share/jupyter/nbextensions/load_tex_macros/icon.png\n",
      "\u001b[32m[I 22:13:24 InstallContribNbextensionsApp]\u001b[m - Validating: \u001b[32mOK\u001b[0m\n",
      "\u001b[32m[I 22:13:24 InstallContribNbextensionsApp]\u001b[m Installing /specific/scratches/scratch/guy/miniconda/lib/python3.7/site-packages/jupyter_contrib_nbextensions/nbextensions/livemdpreview -> livemdpreview\n",
      "\u001b[32m[I 22:13:24 InstallContribNbextensionsApp]\u001b[m Making directory: /specific/a/home/cc/students/cs/dar/.local/share/jupyter/nbextensions/livemdpreview/\n",
      "\u001b[32m[I 22:13:24 InstallContribNbextensionsApp]\u001b[m Copying: /specific/scratches/scratch/guy/miniconda/lib/python3.7/site-packages/jupyter_contrib_nbextensions/nbextensions/livemdpreview/livemdpreview.yml -> /specific/a/home/cc/students/cs/dar/.local/share/jupyter/nbextensions/livemdpreview/livemdpreview.yml\n",
      "\u001b[32m[I 22:13:24 InstallContribNbextensionsApp]\u001b[m Copying: /specific/scratches/scratch/guy/miniconda/lib/python3.7/site-packages/jupyter_contrib_nbextensions/nbextensions/livemdpreview/livemdpreview.js -> /specific/a/home/cc/students/cs/dar/.local/share/jupyter/nbextensions/livemdpreview/livemdpreview.js\n",
      "\u001b[32m[I 22:13:24 InstallContribNbextensionsApp]\u001b[m - Validating: \u001b[32mOK\u001b[0m\n",
      "\u001b[32m[I 22:13:24 InstallContribNbextensionsApp]\u001b[m Installing /specific/scratches/scratch/guy/miniconda/lib/python3.7/site-packages/jupyter_contrib_nbextensions/nbextensions/limit_output -> limit_output\n",
      "\u001b[32m[I 22:13:24 InstallContribNbextensionsApp]\u001b[m Making directory: /specific/a/home/cc/students/cs/dar/.local/share/jupyter/nbextensions/limit_output/\n",
      "\u001b[32m[I 22:13:24 InstallContribNbextensionsApp]\u001b[m Copying: /specific/scratches/scratch/guy/miniconda/lib/python3.7/site-packages/jupyter_contrib_nbextensions/nbextensions/limit_output/readme.md -> /specific/a/home/cc/students/cs/dar/.local/share/jupyter/nbextensions/limit_output/readme.md\n",
      "\u001b[32m[I 22:13:24 InstallContribNbextensionsApp]\u001b[m Copying: /specific/scratches/scratch/guy/miniconda/lib/python3.7/site-packages/jupyter_contrib_nbextensions/nbextensions/limit_output/main.js -> /specific/a/home/cc/students/cs/dar/.local/share/jupyter/nbextensions/limit_output/main.js\n",
      "\u001b[32m[I 22:13:24 InstallContribNbextensionsApp]\u001b[m Copying: /specific/scratches/scratch/guy/miniconda/lib/python3.7/site-packages/jupyter_contrib_nbextensions/nbextensions/limit_output/limit-output.yaml -> /specific/a/home/cc/students/cs/dar/.local/share/jupyter/nbextensions/limit_output/limit-output.yaml\n",
      "\u001b[32m[I 22:13:24 InstallContribNbextensionsApp]\u001b[m Copying: /specific/scratches/scratch/guy/miniconda/lib/python3.7/site-packages/jupyter_contrib_nbextensions/nbextensions/limit_output/icon.png -> /specific/a/home/cc/students/cs/dar/.local/share/jupyter/nbextensions/limit_output/icon.png\n",
      "\u001b[32m[I 22:13:24 InstallContribNbextensionsApp]\u001b[m - Validating: \u001b[32mOK\u001b[0m\n",
      "\u001b[32m[I 22:13:24 InstallContribNbextensionsApp]\u001b[m Installing /specific/scratches/scratch/guy/miniconda/lib/python3.7/site-packages/jupyter_contrib_nbextensions/nbextensions/keyboard_shortcut_editor -> keyboard_shortcut_editor\n",
      "\u001b[32m[I 22:13:24 InstallContribNbextensionsApp]\u001b[m Making directory: /specific/a/home/cc/students/cs/dar/.local/share/jupyter/nbextensions/keyboard_shortcut_editor/\n",
      "\u001b[32m[I 22:13:24 InstallContribNbextensionsApp]\u001b[m Copying: /specific/scratches/scratch/guy/miniconda/lib/python3.7/site-packages/jupyter_contrib_nbextensions/nbextensions/keyboard_shortcut_editor/readme_undefined_key.png -> /specific/a/home/cc/students/cs/dar/.local/share/jupyter/nbextensions/keyboard_shortcut_editor/readme_undefined_key.png\n",
      "\u001b[32m[I 22:13:24 InstallContribNbextensionsApp]\u001b[m Copying: /specific/scratches/scratch/guy/miniconda/lib/python3.7/site-packages/jupyter_contrib_nbextensions/nbextensions/keyboard_shortcut_editor/readme_shortcut_editor_success.png -> /specific/a/home/cc/students/cs/dar/.local/share/jupyter/nbextensions/keyboard_shortcut_editor/readme_shortcut_editor_success.png\n",
      "\u001b[32m[I 22:13:24 InstallContribNbextensionsApp]\u001b[m Copying: /specific/scratches/scratch/guy/miniconda/lib/python3.7/site-packages/jupyter_contrib_nbextensions/nbextensions/keyboard_shortcut_editor/readme_shortcut_editor_blank.png -> /specific/a/home/cc/students/cs/dar/.local/share/jupyter/nbextensions/keyboard_shortcut_editor/readme_shortcut_editor_blank.png\n",
      "\u001b[32m[I 22:13:24 InstallContribNbextensionsApp]\u001b[m Copying: /specific/scratches/scratch/guy/miniconda/lib/python3.7/site-packages/jupyter_contrib_nbextensions/nbextensions/keyboard_shortcut_editor/readme_reset_disabled.png -> /specific/a/home/cc/students/cs/dar/.local/share/jupyter/nbextensions/keyboard_shortcut_editor/readme_reset_disabled.png\n",
      "\u001b[32m[I 22:13:24 InstallContribNbextensionsApp]\u001b[m Copying: /specific/scratches/scratch/guy/miniconda/lib/python3.7/site-packages/jupyter_contrib_nbextensions/nbextensions/keyboard_shortcut_editor/readme_menu_item.png -> /specific/a/home/cc/students/cs/dar/.local/share/jupyter/nbextensions/keyboard_shortcut_editor/readme_menu_item.png\n",
      "\u001b[32m[I 22:13:24 InstallContribNbextensionsApp]\u001b[m Copying: /specific/scratches/scratch/guy/miniconda/lib/python3.7/site-packages/jupyter_contrib_nbextensions/nbextensions/keyboard_shortcut_editor/readme_dropdown.png -> /specific/a/home/cc/students/cs/dar/.local/share/jupyter/nbextensions/keyboard_shortcut_editor/readme_dropdown.png\n",
      "\u001b[32m[I 22:13:24 InstallContribNbextensionsApp]\u001b[m Copying: /specific/scratches/scratch/guy/miniconda/lib/python3.7/site-packages/jupyter_contrib_nbextensions/nbextensions/keyboard_shortcut_editor/readme_conflict.png -> /specific/a/home/cc/students/cs/dar/.local/share/jupyter/nbextensions/keyboard_shortcut_editor/readme_conflict.png\n",
      "\u001b[32m[I 22:13:24 InstallContribNbextensionsApp]\u001b[m Copying: /specific/scratches/scratch/guy/miniconda/lib/python3.7/site-packages/jupyter_contrib_nbextensions/nbextensions/keyboard_shortcut_editor/readme_comma.png -> /specific/a/home/cc/students/cs/dar/.local/share/jupyter/nbextensions/keyboard_shortcut_editor/readme_comma.png\n",
      "\u001b[32m[I 22:13:24 InstallContribNbextensionsApp]\u001b[m Copying: /specific/scratches/scratch/guy/miniconda/lib/python3.7/site-packages/jupyter_contrib_nbextensions/nbextensions/keyboard_shortcut_editor/readme_add_new_select_action.png -> /specific/a/home/cc/students/cs/dar/.local/share/jupyter/nbextensions/keyboard_shortcut_editor/readme_add_new_select_action.png\n",
      "\u001b[32m[I 22:13:24 InstallContribNbextensionsApp]\u001b[m Copying: /specific/scratches/scratch/guy/miniconda/lib/python3.7/site-packages/jupyter_contrib_nbextensions/nbextensions/keyboard_shortcut_editor/readme_add_new_link.png -> /specific/a/home/cc/students/cs/dar/.local/share/jupyter/nbextensions/keyboard_shortcut_editor/readme_add_new_link.png\n",
      "\u001b[32m[I 22:13:24 InstallContribNbextensionsApp]\u001b[m Copying: /specific/scratches/scratch/guy/miniconda/lib/python3.7/site-packages/jupyter_contrib_nbextensions/nbextensions/keyboard_shortcut_editor/quickhelp_shim.js -> /specific/a/home/cc/students/cs/dar/.local/share/jupyter/nbextensions/keyboard_shortcut_editor/quickhelp_shim.js\n",
      "\u001b[32m[I 22:13:24 InstallContribNbextensionsApp]\u001b[m Copying: /specific/scratches/scratch/guy/miniconda/lib/python3.7/site-packages/jupyter_contrib_nbextensions/nbextensions/keyboard_shortcut_editor/main.js -> /specific/a/home/cc/students/cs/dar/.local/share/jupyter/nbextensions/keyboard_shortcut_editor/main.js\n",
      "\u001b[32m[I 22:13:24 InstallContribNbextensionsApp]\u001b[m Copying: /specific/scratches/scratch/guy/miniconda/lib/python3.7/site-packages/jupyter_contrib_nbextensions/nbextensions/keyboard_shortcut_editor/main.css -> /specific/a/home/cc/students/cs/dar/.local/share/jupyter/nbextensions/keyboard_shortcut_editor/main.css\n",
      "\u001b[32m[I 22:13:24 InstallContribNbextensionsApp]\u001b[m Copying: /specific/scratches/scratch/guy/miniconda/lib/python3.7/site-packages/jupyter_contrib_nbextensions/nbextensions/keyboard_shortcut_editor/kse_components.js -> /specific/a/home/cc/students/cs/dar/.local/share/jupyter/nbextensions/keyboard_shortcut_editor/kse_components.js\n",
      "\u001b[32m[I 22:13:24 InstallContribNbextensionsApp]\u001b[m Copying: /specific/scratches/scratch/guy/miniconda/lib/python3.7/site-packages/jupyter_contrib_nbextensions/nbextensions/keyboard_shortcut_editor/keyboard_shortcut_editor.yaml -> /specific/a/home/cc/students/cs/dar/.local/share/jupyter/nbextensions/keyboard_shortcut_editor/keyboard_shortcut_editor.yaml\n",
      "\u001b[32m[I 22:13:24 InstallContribNbextensionsApp]\u001b[m Copying: /specific/scratches/scratch/guy/miniconda/lib/python3.7/site-packages/jupyter_contrib_nbextensions/nbextensions/keyboard_shortcut_editor/icon.png -> /specific/a/home/cc/students/cs/dar/.local/share/jupyter/nbextensions/keyboard_shortcut_editor/icon.png\n",
      "\u001b[32m[I 22:13:24 InstallContribNbextensionsApp]\u001b[m Copying: /specific/scratches/scratch/guy/miniconda/lib/python3.7/site-packages/jupyter_contrib_nbextensions/nbextensions/keyboard_shortcut_editor/README.md -> /specific/a/home/cc/students/cs/dar/.local/share/jupyter/nbextensions/keyboard_shortcut_editor/README.md\n",
      "\u001b[32m[I 22:13:24 InstallContribNbextensionsApp]\u001b[m - Validating: \u001b[32mOK\u001b[0m\n",
      "\u001b[32m[I 22:13:24 InstallContribNbextensionsApp]\u001b[m Installing /specific/scratches/scratch/guy/miniconda/lib/python3.7/site-packages/jupyter_contrib_nbextensions/nbextensions/init_cell -> init_cell\n",
      "\u001b[32m[I 22:13:24 InstallContribNbextensionsApp]\u001b[m Making directory: /specific/a/home/cc/students/cs/dar/.local/share/jupyter/nbextensions/init_cell/\n",
      "\u001b[32m[I 22:13:24 InstallContribNbextensionsApp]\u001b[m Copying: /specific/scratches/scratch/guy/miniconda/lib/python3.7/site-packages/jupyter_contrib_nbextensions/nbextensions/init_cell/main.js -> /specific/a/home/cc/students/cs/dar/.local/share/jupyter/nbextensions/init_cell/main.js\n",
      "\u001b[32m[I 22:13:24 InstallContribNbextensionsApp]\u001b[m Copying: /specific/scratches/scratch/guy/miniconda/lib/python3.7/site-packages/jupyter_contrib_nbextensions/nbextensions/init_cell/init_cell.yaml -> /specific/a/home/cc/students/cs/dar/.local/share/jupyter/nbextensions/init_cell/init_cell.yaml\n",
      "\u001b[32m[I 22:13:24 InstallContribNbextensionsApp]\u001b[m Copying: /specific/scratches/scratch/guy/miniconda/lib/python3.7/site-packages/jupyter_contrib_nbextensions/nbextensions/init_cell/icon.png -> /specific/a/home/cc/students/cs/dar/.local/share/jupyter/nbextensions/init_cell/icon.png\n",
      "\u001b[32m[I 22:13:24 InstallContribNbextensionsApp]\u001b[m Copying: /specific/scratches/scratch/guy/miniconda/lib/python3.7/site-packages/jupyter_contrib_nbextensions/nbextensions/init_cell/cell_toolbar_menu.png -> /specific/a/home/cc/students/cs/dar/.local/share/jupyter/nbextensions/init_cell/cell_toolbar_menu.png\n",
      "\u001b[32m[I 22:13:24 InstallContribNbextensionsApp]\u001b[m Copying: /specific/scratches/scratch/guy/miniconda/lib/python3.7/site-packages/jupyter_contrib_nbextensions/nbextensions/init_cell/README.md -> /specific/a/home/cc/students/cs/dar/.local/share/jupyter/nbextensions/init_cell/README.md\n",
      "\u001b[32m[I 22:13:24 InstallContribNbextensionsApp]\u001b[m - Validating: \u001b[32mOK\u001b[0m\n",
      "\u001b[32m[I 22:13:24 InstallContribNbextensionsApp]\u001b[m Installing /specific/scratches/scratch/guy/miniconda/lib/python3.7/site-packages/jupyter_contrib_nbextensions/nbextensions/hinterland -> hinterland\n",
      "\u001b[32m[I 22:13:24 InstallContribNbextensionsApp]\u001b[m Making directory: /specific/a/home/cc/students/cs/dar/.local/share/jupyter/nbextensions/hinterland/\n",
      "\u001b[32m[I 22:13:24 InstallContribNbextensionsApp]\u001b[m Copying: /specific/scratches/scratch/guy/miniconda/lib/python3.7/site-packages/jupyter_contrib_nbextensions/nbextensions/hinterland/hinterland.yaml -> /specific/a/home/cc/students/cs/dar/.local/share/jupyter/nbextensions/hinterland/hinterland.yaml\n",
      "\u001b[32m[I 22:13:24 InstallContribNbextensionsApp]\u001b[m Copying: /specific/scratches/scratch/guy/miniconda/lib/python3.7/site-packages/jupyter_contrib_nbextensions/nbextensions/hinterland/hinterland.js -> /specific/a/home/cc/students/cs/dar/.local/share/jupyter/nbextensions/hinterland/hinterland.js\n",
      "\u001b[32m[I 22:13:24 InstallContribNbextensionsApp]\u001b[m Copying: /specific/scratches/scratch/guy/miniconda/lib/python3.7/site-packages/jupyter_contrib_nbextensions/nbextensions/hinterland/README.md -> /specific/a/home/cc/students/cs/dar/.local/share/jupyter/nbextensions/hinterland/README.md\n",
      "\u001b[32m[I 22:13:24 InstallContribNbextensionsApp]\u001b[m - Validating: \u001b[32mOK\u001b[0m\n",
      "\u001b[32m[I 22:13:24 InstallContribNbextensionsApp]\u001b[m Installing /specific/scratches/scratch/guy/miniconda/lib/python3.7/site-packages/jupyter_contrib_nbextensions/nbextensions/highlighter -> highlighter\n",
      "\u001b[32m[I 22:13:24 InstallContribNbextensionsApp]\u001b[m Making directory: /specific/a/home/cc/students/cs/dar/.local/share/jupyter/nbextensions/highlighter/\n",
      "\u001b[32m[I 22:13:24 InstallContribNbextensionsApp]\u001b[m Copying: /specific/scratches/scratch/guy/miniconda/lib/python3.7/site-packages/jupyter_contrib_nbextensions/nbextensions/highlighter/tst_highlights.tex -> /specific/a/home/cc/students/cs/dar/.local/share/jupyter/nbextensions/highlighter/tst_highlights.tex\n",
      "\u001b[32m[I 22:13:24 InstallContribNbextensionsApp]\u001b[m Copying: /specific/scratches/scratch/guy/miniconda/lib/python3.7/site-packages/jupyter_contrib_nbextensions/nbextensions/highlighter/tst_highlights.pdf -> /specific/a/home/cc/students/cs/dar/.local/share/jupyter/nbextensions/highlighter/tst_highlights.pdf\n",
      "\u001b[32m[I 22:13:24 InstallContribNbextensionsApp]\u001b[m Copying: /specific/scratches/scratch/guy/miniconda/lib/python3.7/site-packages/jupyter_contrib_nbextensions/nbextensions/highlighter/tst_highlights.ipynb -> /specific/a/home/cc/students/cs/dar/.local/share/jupyter/nbextensions/highlighter/tst_highlights.ipynb\n",
      "\u001b[32m[I 22:13:24 InstallContribNbextensionsApp]\u001b[m Copying: /specific/scratches/scratch/guy/miniconda/lib/python3.7/site-packages/jupyter_contrib_nbextensions/nbextensions/highlighter/tst_highlights.html -> /specific/a/home/cc/students/cs/dar/.local/share/jupyter/nbextensions/highlighter/tst_highlights.html\n",
      "\u001b[32m[I 22:13:24 InstallContribNbextensionsApp]\u001b[m Copying: /specific/scratches/scratch/guy/miniconda/lib/python3.7/site-packages/jupyter_contrib_nbextensions/nbextensions/highlighter/readme.md -> /specific/a/home/cc/students/cs/dar/.local/share/jupyter/nbextensions/highlighter/readme.md\n",
      "\u001b[32m[I 22:13:24 InstallContribNbextensionsApp]\u001b[m Copying: /specific/scratches/scratch/guy/miniconda/lib/python3.7/site-packages/jupyter_contrib_nbextensions/nbextensions/highlighter/image.gif -> /specific/a/home/cc/students/cs/dar/.local/share/jupyter/nbextensions/highlighter/image.gif\n",
      "\u001b[32m[I 22:13:24 InstallContribNbextensionsApp]\u001b[m Copying: /specific/scratches/scratch/guy/miniconda/lib/python3.7/site-packages/jupyter_contrib_nbextensions/nbextensions/highlighter/icon.png -> /specific/a/home/cc/students/cs/dar/.local/share/jupyter/nbextensions/highlighter/icon.png\n",
      "\u001b[32m[I 22:13:24 InstallContribNbextensionsApp]\u001b[m Copying: /specific/scratches/scratch/guy/miniconda/lib/python3.7/site-packages/jupyter_contrib_nbextensions/nbextensions/highlighter/highlighter.yaml -> /specific/a/home/cc/students/cs/dar/.local/share/jupyter/nbextensions/highlighter/highlighter.yaml\n",
      "\u001b[32m[I 22:13:24 InstallContribNbextensionsApp]\u001b[m Copying: /specific/scratches/scratch/guy/miniconda/lib/python3.7/site-packages/jupyter_contrib_nbextensions/nbextensions/highlighter/highlighter.js -> /specific/a/home/cc/students/cs/dar/.local/share/jupyter/nbextensions/highlighter/highlighter.js\n",
      "\u001b[32m[I 22:13:24 InstallContribNbextensionsApp]\u001b[m Copying: /specific/scratches/scratch/guy/miniconda/lib/python3.7/site-packages/jupyter_contrib_nbextensions/nbextensions/highlighter/highlighter.css -> /specific/a/home/cc/students/cs/dar/.local/share/jupyter/nbextensions/highlighter/highlighter.css\n",
      "\u001b[32m[I 22:13:24 InstallContribNbextensionsApp]\u001b[m Copying: /specific/scratches/scratch/guy/miniconda/lib/python3.7/site-packages/jupyter_contrib_nbextensions/nbextensions/highlighter/export_highlights.tex -> /specific/a/home/cc/students/cs/dar/.local/share/jupyter/nbextensions/highlighter/export_highlights.tex\n",
      "\u001b[32m[I 22:13:24 InstallContribNbextensionsApp]\u001b[m Copying: /specific/scratches/scratch/guy/miniconda/lib/python3.7/site-packages/jupyter_contrib_nbextensions/nbextensions/highlighter/export_highlights.pdf -> /specific/a/home/cc/students/cs/dar/.local/share/jupyter/nbextensions/highlighter/export_highlights.pdf\n",
      "\u001b[32m[I 22:13:24 InstallContribNbextensionsApp]\u001b[m Copying: /specific/scratches/scratch/guy/miniconda/lib/python3.7/site-packages/jupyter_contrib_nbextensions/nbextensions/highlighter/export_highlights.ipynb -> /specific/a/home/cc/students/cs/dar/.local/share/jupyter/nbextensions/highlighter/export_highlights.ipynb\n",
      "\u001b[32m[I 22:13:24 InstallContribNbextensionsApp]\u001b[m Copying: /specific/scratches/scratch/guy/miniconda/lib/python3.7/site-packages/jupyter_contrib_nbextensions/nbextensions/highlighter/export_highlights.html -> /specific/a/home/cc/students/cs/dar/.local/share/jupyter/nbextensions/highlighter/export_highlights.html\n",
      "\u001b[32m[I 22:13:24 InstallContribNbextensionsApp]\u001b[m Copying: /specific/scratches/scratch/guy/miniconda/lib/python3.7/site-packages/jupyter_contrib_nbextensions/nbextensions/highlighter/demo_highlighter.ipynb -> /specific/a/home/cc/students/cs/dar/.local/share/jupyter/nbextensions/highlighter/demo_highlighter.ipynb\n",
      "\u001b[32m[I 22:13:24 InstallContribNbextensionsApp]\u001b[m Copying: /specific/scratches/scratch/guy/miniconda/lib/python3.7/site-packages/jupyter_contrib_nbextensions/nbextensions/highlighter/demo_highlighter.html -> /specific/a/home/cc/students/cs/dar/.local/share/jupyter/nbextensions/highlighter/demo_highlighter.html\n",
      "\u001b[32m[I 22:13:24 InstallContribNbextensionsApp]\u001b[m - Validating: \u001b[32mOK\u001b[0m\n",
      "\u001b[32m[I 22:13:24 InstallContribNbextensionsApp]\u001b[m Installing /specific/scratches/scratch/guy/miniconda/lib/python3.7/site-packages/jupyter_contrib_nbextensions/nbextensions/hide_input_all -> hide_input_all\n",
      "\u001b[32m[I 22:13:24 InstallContribNbextensionsApp]\u001b[m Making directory: /specific/a/home/cc/students/cs/dar/.local/share/jupyter/nbextensions/hide_input_all/\n",
      "\u001b[32m[I 22:13:24 InstallContribNbextensionsApp]\u001b[m Copying: /specific/scratches/scratch/guy/miniconda/lib/python3.7/site-packages/jupyter_contrib_nbextensions/nbextensions/hide_input_all/readme.md -> /specific/a/home/cc/students/cs/dar/.local/share/jupyter/nbextensions/hide_input_all/readme.md\n",
      "\u001b[32m[I 22:13:24 InstallContribNbextensionsApp]\u001b[m Copying: /specific/scratches/scratch/guy/miniconda/lib/python3.7/site-packages/jupyter_contrib_nbextensions/nbextensions/hide_input_all/main.js -> /specific/a/home/cc/students/cs/dar/.local/share/jupyter/nbextensions/hide_input_all/main.js\n",
      "\u001b[32m[I 22:13:24 InstallContribNbextensionsApp]\u001b[m Copying: /specific/scratches/scratch/guy/miniconda/lib/python3.7/site-packages/jupyter_contrib_nbextensions/nbextensions/hide_input_all/icon.png -> /specific/a/home/cc/students/cs/dar/.local/share/jupyter/nbextensions/hide_input_all/icon.png\n",
      "\u001b[32m[I 22:13:24 InstallContribNbextensionsApp]\u001b[m Copying: /specific/scratches/scratch/guy/miniconda/lib/python3.7/site-packages/jupyter_contrib_nbextensions/nbextensions/hide_input_all/hide_input_all_show.png -> /specific/a/home/cc/students/cs/dar/.local/share/jupyter/nbextensions/hide_input_all/hide_input_all_show.png\n",
      "\u001b[32m[I 22:13:24 InstallContribNbextensionsApp]\u001b[m Copying: /specific/scratches/scratch/guy/miniconda/lib/python3.7/site-packages/jupyter_contrib_nbextensions/nbextensions/hide_input_all/hide_input_all_hide.png -> /specific/a/home/cc/students/cs/dar/.local/share/jupyter/nbextensions/hide_input_all/hide_input_all_hide.png\n",
      "\u001b[32m[I 22:13:24 InstallContribNbextensionsApp]\u001b[m Copying: /specific/scratches/scratch/guy/miniconda/lib/python3.7/site-packages/jupyter_contrib_nbextensions/nbextensions/hide_input_all/hide_input_all.yaml -> /specific/a/home/cc/students/cs/dar/.local/share/jupyter/nbextensions/hide_input_all/hide_input_all.yaml\n",
      "\u001b[32m[I 22:13:24 InstallContribNbextensionsApp]\u001b[m - Validating: \u001b[32mOK\u001b[0m\n",
      "\u001b[32m[I 22:13:24 InstallContribNbextensionsApp]\u001b[m Installing /specific/scratches/scratch/guy/miniconda/lib/python3.7/site-packages/jupyter_contrib_nbextensions/nbextensions/hide_input -> hide_input\n",
      "\u001b[32m[I 22:13:24 InstallContribNbextensionsApp]\u001b[m Making directory: /specific/a/home/cc/students/cs/dar/.local/share/jupyter/nbextensions/hide_input/\n",
      "\u001b[32m[I 22:13:24 InstallContribNbextensionsApp]\u001b[m Copying: /specific/scratches/scratch/guy/miniconda/lib/python3.7/site-packages/jupyter_contrib_nbextensions/nbextensions/hide_input/readme.md -> /specific/a/home/cc/students/cs/dar/.local/share/jupyter/nbextensions/hide_input/readme.md\n",
      "\u001b[32m[I 22:13:24 InstallContribNbextensionsApp]\u001b[m Copying: /specific/scratches/scratch/guy/miniconda/lib/python3.7/site-packages/jupyter_contrib_nbextensions/nbextensions/hide_input/main.js -> /specific/a/home/cc/students/cs/dar/.local/share/jupyter/nbextensions/hide_input/main.js\n",
      "\u001b[32m[I 22:13:24 InstallContribNbextensionsApp]\u001b[m Copying: /specific/scratches/scratch/guy/miniconda/lib/python3.7/site-packages/jupyter_contrib_nbextensions/nbextensions/hide_input/icon.png -> /specific/a/home/cc/students/cs/dar/.local/share/jupyter/nbextensions/hide_input/icon.png\n",
      "\u001b[32m[I 22:13:24 InstallContribNbextensionsApp]\u001b[m Copying: /specific/scratches/scratch/guy/miniconda/lib/python3.7/site-packages/jupyter_contrib_nbextensions/nbextensions/hide_input/hide-input.yaml -> /specific/a/home/cc/students/cs/dar/.local/share/jupyter/nbextensions/hide_input/hide-input.yaml\n",
      "\u001b[32m[I 22:13:24 InstallContribNbextensionsApp]\u001b[m - Validating: \u001b[32mOK\u001b[0m\n",
      "\u001b[32m[I 22:13:24 InstallContribNbextensionsApp]\u001b[m Installing /specific/scratches/scratch/guy/miniconda/lib/python3.7/site-packages/jupyter_contrib_nbextensions/nbextensions/hide_header -> hide_header\n",
      "\u001b[32m[I 22:13:24 InstallContribNbextensionsApp]\u001b[m Making directory: /specific/a/home/cc/students/cs/dar/.local/share/jupyter/nbextensions/hide_header/\n",
      "\u001b[32m[I 22:13:24 InstallContribNbextensionsApp]\u001b[m Copying: /specific/scratches/scratch/guy/miniconda/lib/python3.7/site-packages/jupyter_contrib_nbextensions/nbextensions/hide_header/main.js -> /specific/a/home/cc/students/cs/dar/.local/share/jupyter/nbextensions/hide_header/main.js\n",
      "\u001b[32m[I 22:13:24 InstallContribNbextensionsApp]\u001b[m Copying: /specific/scratches/scratch/guy/miniconda/lib/python3.7/site-packages/jupyter_contrib_nbextensions/nbextensions/hide_header/hide_header.yaml -> /specific/a/home/cc/students/cs/dar/.local/share/jupyter/nbextensions/hide_header/hide_header.yaml\n",
      "\u001b[32m[I 22:13:24 InstallContribNbextensionsApp]\u001b[m Copying: /specific/scratches/scratch/guy/miniconda/lib/python3.7/site-packages/jupyter_contrib_nbextensions/nbextensions/hide_header/README.md -> /specific/a/home/cc/students/cs/dar/.local/share/jupyter/nbextensions/hide_header/README.md\n",
      "\u001b[32m[I 22:13:24 InstallContribNbextensionsApp]\u001b[m - Validating: \u001b[32mOK\u001b[0m\n",
      "\u001b[32m[I 22:13:24 InstallContribNbextensionsApp]\u001b[m Installing /specific/scratches/scratch/guy/miniconda/lib/python3.7/site-packages/jupyter_contrib_nbextensions/nbextensions/help_panel -> help_panel\n",
      "\u001b[32m[I 22:13:24 InstallContribNbextensionsApp]\u001b[m Making directory: /specific/a/home/cc/students/cs/dar/.local/share/jupyter/nbextensions/help_panel/\n",
      "\u001b[32m[I 22:13:24 InstallContribNbextensionsApp]\u001b[m Copying: /specific/scratches/scratch/guy/miniconda/lib/python3.7/site-packages/jupyter_contrib_nbextensions/nbextensions/help_panel/readme.md -> /specific/a/home/cc/students/cs/dar/.local/share/jupyter/nbextensions/help_panel/readme.md\n",
      "\u001b[32m[I 22:13:24 InstallContribNbextensionsApp]\u001b[m Copying: /specific/scratches/scratch/guy/miniconda/lib/python3.7/site-packages/jupyter_contrib_nbextensions/nbextensions/help_panel/icon.png -> /specific/a/home/cc/students/cs/dar/.local/share/jupyter/nbextensions/help_panel/icon.png\n",
      "\u001b[32m[I 22:13:24 InstallContribNbextensionsApp]\u001b[m Copying: /specific/scratches/scratch/guy/miniconda/lib/python3.7/site-packages/jupyter_contrib_nbextensions/nbextensions/help_panel/help_panel_ext_fullscreen.png -> /specific/a/home/cc/students/cs/dar/.local/share/jupyter/nbextensions/help_panel/help_panel_ext_fullscreen.png\n",
      "\u001b[32m[I 22:13:24 InstallContribNbextensionsApp]\u001b[m Copying: /specific/scratches/scratch/guy/miniconda/lib/python3.7/site-packages/jupyter_contrib_nbextensions/nbextensions/help_panel/help_panel_ext.png -> /specific/a/home/cc/students/cs/dar/.local/share/jupyter/nbextensions/help_panel/help_panel_ext.png\n",
      "\u001b[32m[I 22:13:24 InstallContribNbextensionsApp]\u001b[m Copying: /specific/scratches/scratch/guy/miniconda/lib/python3.7/site-packages/jupyter_contrib_nbextensions/nbextensions/help_panel/help_panel.yaml -> /specific/a/home/cc/students/cs/dar/.local/share/jupyter/nbextensions/help_panel/help_panel.yaml\n",
      "\u001b[32m[I 22:13:24 InstallContribNbextensionsApp]\u001b[m Copying: /specific/scratches/scratch/guy/miniconda/lib/python3.7/site-packages/jupyter_contrib_nbextensions/nbextensions/help_panel/help_panel.js -> /specific/a/home/cc/students/cs/dar/.local/share/jupyter/nbextensions/help_panel/help_panel.js\n",
      "\u001b[32m[I 22:13:24 InstallContribNbextensionsApp]\u001b[m Copying: /specific/scratches/scratch/guy/miniconda/lib/python3.7/site-packages/jupyter_contrib_nbextensions/nbextensions/help_panel/help_panel.css -> /specific/a/home/cc/students/cs/dar/.local/share/jupyter/nbextensions/help_panel/help_panel.css\n",
      "\u001b[32m[I 22:13:24 InstallContribNbextensionsApp]\u001b[m Making directory: /specific/a/home/cc/students/cs/dar/.local/share/jupyter/nbextensions/help_panel/img\n",
      "\u001b[32m[I 22:13:24 InstallContribNbextensionsApp]\u001b[m Copying: /specific/scratches/scratch/guy/miniconda/lib/python3.7/site-packages/jupyter_contrib_nbextensions/nbextensions/help_panel/img/handle-v.png -> /specific/a/home/cc/students/cs/dar/.local/share/jupyter/nbextensions/help_panel/img/handle-v.png\n",
      "\u001b[32m[I 22:13:24 InstallContribNbextensionsApp]\u001b[m - Validating: \u001b[32mOK\u001b[0m\n",
      "\u001b[32m[I 22:13:24 InstallContribNbextensionsApp]\u001b[m Installing /specific/scratches/scratch/guy/miniconda/lib/python3.7/site-packages/jupyter_contrib_nbextensions/nbextensions/gist_it -> gist_it\n",
      "\u001b[32m[I 22:13:24 InstallContribNbextensionsApp]\u001b[m Making directory: /specific/a/home/cc/students/cs/dar/.local/share/jupyter/nbextensions/gist_it/\n",
      "\u001b[32m[I 22:13:24 InstallContribNbextensionsApp]\u001b[m Copying: /specific/scratches/scratch/guy/miniconda/lib/python3.7/site-packages/jupyter_contrib_nbextensions/nbextensions/gist_it/readme.md -> /specific/a/home/cc/students/cs/dar/.local/share/jupyter/nbextensions/gist_it/readme.md\n",
      "\u001b[32m[I 22:13:24 InstallContribNbextensionsApp]\u001b[m Copying: /specific/scratches/scratch/guy/miniconda/lib/python3.7/site-packages/jupyter_contrib_nbextensions/nbextensions/gist_it/main.js -> /specific/a/home/cc/students/cs/dar/.local/share/jupyter/nbextensions/gist_it/main.js\n",
      "\u001b[32m[I 22:13:24 InstallContribNbextensionsApp]\u001b[m Copying: /specific/scratches/scratch/guy/miniconda/lib/python3.7/site-packages/jupyter_contrib_nbextensions/nbextensions/gist_it/icon.png -> /specific/a/home/cc/students/cs/dar/.local/share/jupyter/nbextensions/gist_it/icon.png\n",
      "\u001b[32m[I 22:13:24 InstallContribNbextensionsApp]\u001b[m Copying: /specific/scratches/scratch/guy/miniconda/lib/python3.7/site-packages/jupyter_contrib_nbextensions/nbextensions/gist_it/gist_it.yaml -> /specific/a/home/cc/students/cs/dar/.local/share/jupyter/nbextensions/gist_it/gist_it.yaml\n",
      "\u001b[32m[I 22:13:24 InstallContribNbextensionsApp]\u001b[m - Validating: \u001b[32mOK\u001b[0m\n",
      "\u001b[32m[I 22:13:24 InstallContribNbextensionsApp]\u001b[m Installing /specific/scratches/scratch/guy/miniconda/lib/python3.7/site-packages/jupyter_contrib_nbextensions/nbextensions/freeze -> freeze\n",
      "\u001b[32m[I 22:13:24 InstallContribNbextensionsApp]\u001b[m Making directory: /specific/a/home/cc/students/cs/dar/.local/share/jupyter/nbextensions/freeze/\n",
      "\u001b[32m[I 22:13:24 InstallContribNbextensionsApp]\u001b[m Copying: /specific/scratches/scratch/guy/miniconda/lib/python3.7/site-packages/jupyter_contrib_nbextensions/nbextensions/freeze/readme.md -> /specific/a/home/cc/students/cs/dar/.local/share/jupyter/nbextensions/freeze/readme.md\n",
      "\u001b[32m[I 22:13:24 InstallContribNbextensionsApp]\u001b[m Copying: /specific/scratches/scratch/guy/miniconda/lib/python3.7/site-packages/jupyter_contrib_nbextensions/nbextensions/freeze/main.js -> /specific/a/home/cc/students/cs/dar/.local/share/jupyter/nbextensions/freeze/main.js\n",
      "\u001b[32m[I 22:13:24 InstallContribNbextensionsApp]\u001b[m Copying: /specific/scratches/scratch/guy/miniconda/lib/python3.7/site-packages/jupyter_contrib_nbextensions/nbextensions/freeze/icon.png -> /specific/a/home/cc/students/cs/dar/.local/share/jupyter/nbextensions/freeze/icon.png\n",
      "\u001b[32m[I 22:13:24 InstallContribNbextensionsApp]\u001b[m Copying: /specific/scratches/scratch/guy/miniconda/lib/python3.7/site-packages/jupyter_contrib_nbextensions/nbextensions/freeze/config.yaml -> /specific/a/home/cc/students/cs/dar/.local/share/jupyter/nbextensions/freeze/config.yaml\n",
      "\u001b[32m[I 22:13:24 InstallContribNbextensionsApp]\u001b[m - Validating: \u001b[32mOK\u001b[0m\n",
      "\u001b[32m[I 22:13:24 InstallContribNbextensionsApp]\u001b[m Installing /specific/scratches/scratch/guy/miniconda/lib/python3.7/site-packages/jupyter_contrib_nbextensions/nbextensions/export_embedded -> export_embedded\n",
      "\u001b[32m[I 22:13:24 InstallContribNbextensionsApp]\u001b[m Making directory: /specific/a/home/cc/students/cs/dar/.local/share/jupyter/nbextensions/export_embedded/\n",
      "\u001b[32m[I 22:13:24 InstallContribNbextensionsApp]\u001b[m Copying: /specific/scratches/scratch/guy/miniconda/lib/python3.7/site-packages/jupyter_contrib_nbextensions/nbextensions/export_embedded/readme.md -> /specific/a/home/cc/students/cs/dar/.local/share/jupyter/nbextensions/export_embedded/readme.md\n",
      "\u001b[32m[I 22:13:24 InstallContribNbextensionsApp]\u001b[m Copying: /specific/scratches/scratch/guy/miniconda/lib/python3.7/site-packages/jupyter_contrib_nbextensions/nbextensions/export_embedded/main.js -> /specific/a/home/cc/students/cs/dar/.local/share/jupyter/nbextensions/export_embedded/main.js\n",
      "\u001b[32m[I 22:13:24 InstallContribNbextensionsApp]\u001b[m Copying: /specific/scratches/scratch/guy/miniconda/lib/python3.7/site-packages/jupyter_contrib_nbextensions/nbextensions/export_embedded/icon.png -> /specific/a/home/cc/students/cs/dar/.local/share/jupyter/nbextensions/export_embedded/icon.png\n",
      "\u001b[32m[I 22:13:24 InstallContribNbextensionsApp]\u001b[m Copying: /specific/scratches/scratch/guy/miniconda/lib/python3.7/site-packages/jupyter_contrib_nbextensions/nbextensions/export_embedded/export_embedded.yaml -> /specific/a/home/cc/students/cs/dar/.local/share/jupyter/nbextensions/export_embedded/export_embedded.yaml\n",
      "\u001b[32m[I 22:13:24 InstallContribNbextensionsApp]\u001b[m - Validating: \u001b[32mOK\u001b[0m\n",
      "\u001b[32m[I 22:13:24 InstallContribNbextensionsApp]\u001b[m Installing /specific/scratches/scratch/guy/miniconda/lib/python3.7/site-packages/jupyter_contrib_nbextensions/nbextensions/exercise2 -> exercise2\n",
      "\u001b[32m[I 22:13:24 InstallContribNbextensionsApp]\u001b[m Making directory: /specific/a/home/cc/students/cs/dar/.local/share/jupyter/nbextensions/exercise2/\n",
      "\u001b[32m[I 22:13:24 InstallContribNbextensionsApp]\u001b[m Copying: /specific/scratches/scratch/guy/miniconda/lib/python3.7/site-packages/jupyter_contrib_nbextensions/nbextensions/exercise2/readme.md -> /specific/a/home/cc/students/cs/dar/.local/share/jupyter/nbextensions/exercise2/readme.md\n",
      "\u001b[32m[I 22:13:24 InstallContribNbextensionsApp]\u001b[m Copying: /specific/scratches/scratch/guy/miniconda/lib/python3.7/site-packages/jupyter_contrib_nbextensions/nbextensions/exercise2/main.js -> /specific/a/home/cc/students/cs/dar/.local/share/jupyter/nbextensions/exercise2/main.js\n",
      "\u001b[32m[I 22:13:24 InstallContribNbextensionsApp]\u001b[m Copying: /specific/scratches/scratch/guy/miniconda/lib/python3.7/site-packages/jupyter_contrib_nbextensions/nbextensions/exercise2/main.css -> /specific/a/home/cc/students/cs/dar/.local/share/jupyter/nbextensions/exercise2/main.css\n",
      "\u001b[32m[I 22:13:24 InstallContribNbextensionsApp]\u001b[m Copying: /specific/scratches/scratch/guy/miniconda/lib/python3.7/site-packages/jupyter_contrib_nbextensions/nbextensions/exercise2/image.gif -> /specific/a/home/cc/students/cs/dar/.local/share/jupyter/nbextensions/exercise2/image.gif\n",
      "\u001b[32m[I 22:13:24 InstallContribNbextensionsApp]\u001b[m Copying: /specific/scratches/scratch/guy/miniconda/lib/python3.7/site-packages/jupyter_contrib_nbextensions/nbextensions/exercise2/icon.png -> /specific/a/home/cc/students/cs/dar/.local/share/jupyter/nbextensions/exercise2/icon.png\n",
      "\u001b[32m[I 22:13:24 InstallContribNbextensionsApp]\u001b[m Copying: /specific/scratches/scratch/guy/miniconda/lib/python3.7/site-packages/jupyter_contrib_nbextensions/nbextensions/exercise2/exercise2.yaml -> /specific/a/home/cc/students/cs/dar/.local/share/jupyter/nbextensions/exercise2/exercise2.yaml\n",
      "\u001b[32m[I 22:13:24 InstallContribNbextensionsApp]\u001b[m - Validating: \u001b[32mOK\u001b[0m\n",
      "\u001b[32m[I 22:13:24 InstallContribNbextensionsApp]\u001b[m Installing /specific/scratches/scratch/guy/miniconda/lib/python3.7/site-packages/jupyter_contrib_nbextensions/nbextensions/exercise -> exercise\n",
      "\u001b[32m[I 22:13:24 InstallContribNbextensionsApp]\u001b[m Making directory: /specific/a/home/cc/students/cs/dar/.local/share/jupyter/nbextensions/exercise/\n",
      "\u001b[32m[I 22:13:24 InstallContribNbextensionsApp]\u001b[m Copying: /specific/scratches/scratch/guy/miniconda/lib/python3.7/site-packages/jupyter_contrib_nbextensions/nbextensions/exercise/readme.md -> /specific/a/home/cc/students/cs/dar/.local/share/jupyter/nbextensions/exercise/readme.md\n",
      "\u001b[32m[I 22:13:24 InstallContribNbextensionsApp]\u001b[m Copying: /specific/scratches/scratch/guy/miniconda/lib/python3.7/site-packages/jupyter_contrib_nbextensions/nbextensions/exercise/main.js -> /specific/a/home/cc/students/cs/dar/.local/share/jupyter/nbextensions/exercise/main.js\n",
      "\u001b[32m[I 22:13:24 InstallContribNbextensionsApp]\u001b[m Copying: /specific/scratches/scratch/guy/miniconda/lib/python3.7/site-packages/jupyter_contrib_nbextensions/nbextensions/exercise/main.css -> /specific/a/home/cc/students/cs/dar/.local/share/jupyter/nbextensions/exercise/main.css\n",
      "\u001b[32m[I 22:13:24 InstallContribNbextensionsApp]\u001b[m Copying: /specific/scratches/scratch/guy/miniconda/lib/python3.7/site-packages/jupyter_contrib_nbextensions/nbextensions/exercise/image.gif -> /specific/a/home/cc/students/cs/dar/.local/share/jupyter/nbextensions/exercise/image.gif\n",
      "\u001b[32m[I 22:13:24 InstallContribNbextensionsApp]\u001b[m Copying: /specific/scratches/scratch/guy/miniconda/lib/python3.7/site-packages/jupyter_contrib_nbextensions/nbextensions/exercise/icon.png -> /specific/a/home/cc/students/cs/dar/.local/share/jupyter/nbextensions/exercise/icon.png\n",
      "\u001b[32m[I 22:13:24 InstallContribNbextensionsApp]\u001b[m Copying: /specific/scratches/scratch/guy/miniconda/lib/python3.7/site-packages/jupyter_contrib_nbextensions/nbextensions/exercise/history.md -> /specific/a/home/cc/students/cs/dar/.local/share/jupyter/nbextensions/exercise/history.md\n",
      "\u001b[32m[I 22:13:24 InstallContribNbextensionsApp]\u001b[m Copying: /specific/scratches/scratch/guy/miniconda/lib/python3.7/site-packages/jupyter_contrib_nbextensions/nbextensions/exercise/exercise.yaml -> /specific/a/home/cc/students/cs/dar/.local/share/jupyter/nbextensions/exercise/exercise.yaml\n",
      "\u001b[32m[I 22:13:24 InstallContribNbextensionsApp]\u001b[m - Validating: \u001b[32mOK\u001b[0m\n",
      "\u001b[32m[I 22:13:24 InstallContribNbextensionsApp]\u001b[m Installing /specific/scratches/scratch/guy/miniconda/lib/python3.7/site-packages/jupyter_contrib_nbextensions/nbextensions/execution_dependencies -> execution_dependencies\n",
      "\u001b[32m[I 22:13:24 InstallContribNbextensionsApp]\u001b[m Making directory: /specific/a/home/cc/students/cs/dar/.local/share/jupyter/nbextensions/execution_dependencies/\n",
      "\u001b[32m[I 22:13:24 InstallContribNbextensionsApp]\u001b[m Copying: /specific/scratches/scratch/guy/miniconda/lib/python3.7/site-packages/jupyter_contrib_nbextensions/nbextensions/execution_dependencies/execution_dependencies.yml -> /specific/a/home/cc/students/cs/dar/.local/share/jupyter/nbextensions/execution_dependencies/execution_dependencies.yml\n",
      "\u001b[32m[I 22:13:24 InstallContribNbextensionsApp]\u001b[m Copying: /specific/scratches/scratch/guy/miniconda/lib/python3.7/site-packages/jupyter_contrib_nbextensions/nbextensions/execution_dependencies/execution_dependencies.js -> /specific/a/home/cc/students/cs/dar/.local/share/jupyter/nbextensions/execution_dependencies/execution_dependencies.js\n",
      "\u001b[32m[I 22:13:24 InstallContribNbextensionsApp]\u001b[m Copying: /specific/scratches/scratch/guy/miniconda/lib/python3.7/site-packages/jupyter_contrib_nbextensions/nbextensions/execution_dependencies/README.md -> /specific/a/home/cc/students/cs/dar/.local/share/jupyter/nbextensions/execution_dependencies/README.md\n",
      "\u001b[32m[I 22:13:24 InstallContribNbextensionsApp]\u001b[m - Validating: \u001b[32mOK\u001b[0m\n",
      "\u001b[32m[I 22:13:24 InstallContribNbextensionsApp]\u001b[m Installing /specific/scratches/scratch/guy/miniconda/lib/python3.7/site-packages/jupyter_contrib_nbextensions/nbextensions/execute_time -> execute_time\n",
      "\u001b[32m[I 22:13:24 InstallContribNbextensionsApp]\u001b[m Making directory: /specific/a/home/cc/students/cs/dar/.local/share/jupyter/nbextensions/execute_time/\n",
      "\u001b[32m[I 22:13:24 InstallContribNbextensionsApp]\u001b[m Copying: /specific/scratches/scratch/guy/miniconda/lib/python3.7/site-packages/jupyter_contrib_nbextensions/nbextensions/execute_time/readme.md -> /specific/a/home/cc/students/cs/dar/.local/share/jupyter/nbextensions/execute_time/readme.md\n",
      "\u001b[32m[I 22:13:24 InstallContribNbextensionsApp]\u001b[m Copying: /specific/scratches/scratch/guy/miniconda/lib/python3.7/site-packages/jupyter_contrib_nbextensions/nbextensions/execute_time/icon.png -> /specific/a/home/cc/students/cs/dar/.local/share/jupyter/nbextensions/execute_time/icon.png\n",
      "\u001b[32m[I 22:13:24 InstallContribNbextensionsApp]\u001b[m Copying: /specific/scratches/scratch/guy/miniconda/lib/python3.7/site-packages/jupyter_contrib_nbextensions/nbextensions/execute_time/execution-timings-menu.png -> /specific/a/home/cc/students/cs/dar/.local/share/jupyter/nbextensions/execute_time/execution-timings-menu.png\n",
      "\u001b[32m[I 22:13:24 InstallContribNbextensionsApp]\u001b[m Copying: /specific/scratches/scratch/guy/miniconda/lib/python3.7/site-packages/jupyter_contrib_nbextensions/nbextensions/execute_time/execution-timings-box.png -> /specific/a/home/cc/students/cs/dar/.local/share/jupyter/nbextensions/execute_time/execution-timings-box.png\n",
      "\u001b[32m[I 22:13:24 InstallContribNbextensionsApp]\u001b[m Copying: /specific/scratches/scratch/guy/miniconda/lib/python3.7/site-packages/jupyter_contrib_nbextensions/nbextensions/execute_time/ExecuteTime.yaml -> /specific/a/home/cc/students/cs/dar/.local/share/jupyter/nbextensions/execute_time/ExecuteTime.yaml\n",
      "\u001b[32m[I 22:13:24 InstallContribNbextensionsApp]\u001b[m Copying: /specific/scratches/scratch/guy/miniconda/lib/python3.7/site-packages/jupyter_contrib_nbextensions/nbextensions/execute_time/ExecuteTime.js -> /specific/a/home/cc/students/cs/dar/.local/share/jupyter/nbextensions/execute_time/ExecuteTime.js\n",
      "\u001b[32m[I 22:13:24 InstallContribNbextensionsApp]\u001b[m Copying: /specific/scratches/scratch/guy/miniconda/lib/python3.7/site-packages/jupyter_contrib_nbextensions/nbextensions/execute_time/ExecuteTime.css -> /specific/a/home/cc/students/cs/dar/.local/share/jupyter/nbextensions/execute_time/ExecuteTime.css\n",
      "\u001b[32m[I 22:13:24 InstallContribNbextensionsApp]\u001b[m - Validating: \u001b[32mOK\u001b[0m\n",
      "\u001b[32m[I 22:13:24 InstallContribNbextensionsApp]\u001b[m Installing /specific/scratches/scratch/guy/miniconda/lib/python3.7/site-packages/jupyter_contrib_nbextensions/nbextensions/equation-numbering -> equation-numbering\n",
      "\u001b[32m[I 22:13:24 InstallContribNbextensionsApp]\u001b[m Making directory: /specific/a/home/cc/students/cs/dar/.local/share/jupyter/nbextensions/equation-numbering/\n",
      "\u001b[32m[I 22:13:24 InstallContribNbextensionsApp]\u001b[m Copying: /specific/scratches/scratch/guy/miniconda/lib/python3.7/site-packages/jupyter_contrib_nbextensions/nbextensions/equation-numbering/readme.md -> /specific/a/home/cc/students/cs/dar/.local/share/jupyter/nbextensions/equation-numbering/readme.md\n",
      "\u001b[32m[I 22:13:24 InstallContribNbextensionsApp]\u001b[m Copying: /specific/scratches/scratch/guy/miniconda/lib/python3.7/site-packages/jupyter_contrib_nbextensions/nbextensions/equation-numbering/main.js -> /specific/a/home/cc/students/cs/dar/.local/share/jupyter/nbextensions/equation-numbering/main.js\n",
      "\u001b[32m[I 22:13:24 InstallContribNbextensionsApp]\u001b[m Copying: /specific/scratches/scratch/guy/miniconda/lib/python3.7/site-packages/jupyter_contrib_nbextensions/nbextensions/equation-numbering/info.yaml -> /specific/a/home/cc/students/cs/dar/.local/share/jupyter/nbextensions/equation-numbering/info.yaml\n",
      "\u001b[32m[I 22:13:24 InstallContribNbextensionsApp]\u001b[m Copying: /specific/scratches/scratch/guy/miniconda/lib/python3.7/site-packages/jupyter_contrib_nbextensions/nbextensions/equation-numbering/icon.png -> /specific/a/home/cc/students/cs/dar/.local/share/jupyter/nbextensions/equation-numbering/icon.png\n",
      "\u001b[32m[I 22:13:24 InstallContribNbextensionsApp]\u001b[m Copying: /specific/scratches/scratch/guy/miniconda/lib/python3.7/site-packages/jupyter_contrib_nbextensions/nbextensions/equation-numbering/button.png -> /specific/a/home/cc/students/cs/dar/.local/share/jupyter/nbextensions/equation-numbering/button.png\n",
      "\u001b[32m[I 22:13:24 InstallContribNbextensionsApp]\u001b[m - Validating: \u001b[32mOK\u001b[0m\n",
      "\u001b[32m[I 22:13:24 InstallContribNbextensionsApp]\u001b[m Installing /specific/scratches/scratch/guy/miniconda/lib/python3.7/site-packages/jupyter_contrib_nbextensions/nbextensions/datestamper -> datestamper\n",
      "\u001b[32m[I 22:13:24 InstallContribNbextensionsApp]\u001b[m Making directory: /specific/a/home/cc/students/cs/dar/.local/share/jupyter/nbextensions/datestamper/\n",
      "\u001b[32m[I 22:13:24 InstallContribNbextensionsApp]\u001b[m Copying: /specific/scratches/scratch/guy/miniconda/lib/python3.7/site-packages/jupyter_contrib_nbextensions/nbextensions/datestamper/readme.md -> /specific/a/home/cc/students/cs/dar/.local/share/jupyter/nbextensions/datestamper/readme.md\n",
      "\u001b[32m[I 22:13:24 InstallContribNbextensionsApp]\u001b[m Copying: /specific/scratches/scratch/guy/miniconda/lib/python3.7/site-packages/jupyter_contrib_nbextensions/nbextensions/datestamper/main.yaml -> /specific/a/home/cc/students/cs/dar/.local/share/jupyter/nbextensions/datestamper/main.yaml\n",
      "\u001b[32m[I 22:13:24 InstallContribNbextensionsApp]\u001b[m Copying: /specific/scratches/scratch/guy/miniconda/lib/python3.7/site-packages/jupyter_contrib_nbextensions/nbextensions/datestamper/main.js -> /specific/a/home/cc/students/cs/dar/.local/share/jupyter/nbextensions/datestamper/main.js\n",
      "\u001b[32m[I 22:13:24 InstallContribNbextensionsApp]\u001b[m Copying: /specific/scratches/scratch/guy/miniconda/lib/python3.7/site-packages/jupyter_contrib_nbextensions/nbextensions/datestamper/icon.png -> /specific/a/home/cc/students/cs/dar/.local/share/jupyter/nbextensions/datestamper/icon.png\n",
      "\u001b[32m[I 22:13:24 InstallContribNbextensionsApp]\u001b[m - Validating: \u001b[32mOK\u001b[0m\n",
      "\u001b[32m[I 22:13:24 InstallContribNbextensionsApp]\u001b[m Installing /specific/scratches/scratch/guy/miniconda/lib/python3.7/site-packages/jupyter_contrib_nbextensions/nbextensions/contrib_nbextensions_help_item -> contrib_nbextensions_help_item\n",
      "\u001b[32m[I 22:13:24 InstallContribNbextensionsApp]\u001b[m Making directory: /specific/a/home/cc/students/cs/dar/.local/share/jupyter/nbextensions/contrib_nbextensions_help_item/\n",
      "\u001b[32m[I 22:13:24 InstallContribNbextensionsApp]\u001b[m Copying: /specific/scratches/scratch/guy/miniconda/lib/python3.7/site-packages/jupyter_contrib_nbextensions/nbextensions/contrib_nbextensions_help_item/main.js -> /specific/a/home/cc/students/cs/dar/.local/share/jupyter/nbextensions/contrib_nbextensions_help_item/main.js\n",
      "\u001b[32m[I 22:13:24 InstallContribNbextensionsApp]\u001b[m Copying: /specific/scratches/scratch/guy/miniconda/lib/python3.7/site-packages/jupyter_contrib_nbextensions/nbextensions/contrib_nbextensions_help_item/contrib_nbextensions_help_item.yaml -> /specific/a/home/cc/students/cs/dar/.local/share/jupyter/nbextensions/contrib_nbextensions_help_item/contrib_nbextensions_help_item.yaml\n",
      "\u001b[32m[I 22:13:24 InstallContribNbextensionsApp]\u001b[m Copying: /specific/scratches/scratch/guy/miniconda/lib/python3.7/site-packages/jupyter_contrib_nbextensions/nbextensions/contrib_nbextensions_help_item/README.md -> /specific/a/home/cc/students/cs/dar/.local/share/jupyter/nbextensions/contrib_nbextensions_help_item/README.md\n",
      "\u001b[32m[I 22:13:24 InstallContribNbextensionsApp]\u001b[m - Validating: \u001b[32mOK\u001b[0m\n",
      "\u001b[32m[I 22:13:24 InstallContribNbextensionsApp]\u001b[m Installing /specific/scratches/scratch/guy/miniconda/lib/python3.7/site-packages/jupyter_contrib_nbextensions/nbextensions/comment-uncomment -> comment-uncomment\n",
      "\u001b[32m[I 22:13:24 InstallContribNbextensionsApp]\u001b[m Making directory: /specific/a/home/cc/students/cs/dar/.local/share/jupyter/nbextensions/comment-uncomment/\n",
      "\u001b[32m[I 22:13:24 InstallContribNbextensionsApp]\u001b[m Copying: /specific/scratches/scratch/guy/miniconda/lib/python3.7/site-packages/jupyter_contrib_nbextensions/nbextensions/comment-uncomment/readme.md -> /specific/a/home/cc/students/cs/dar/.local/share/jupyter/nbextensions/comment-uncomment/readme.md\n",
      "\u001b[32m[I 22:13:24 InstallContribNbextensionsApp]\u001b[m Copying: /specific/scratches/scratch/guy/miniconda/lib/python3.7/site-packages/jupyter_contrib_nbextensions/nbextensions/comment-uncomment/main.js -> /specific/a/home/cc/students/cs/dar/.local/share/jupyter/nbextensions/comment-uncomment/main.js\n",
      "\u001b[32m[I 22:13:24 InstallContribNbextensionsApp]\u001b[m Copying: /specific/scratches/scratch/guy/miniconda/lib/python3.7/site-packages/jupyter_contrib_nbextensions/nbextensions/comment-uncomment/icon.png -> /specific/a/home/cc/students/cs/dar/.local/share/jupyter/nbextensions/comment-uncomment/icon.png\n",
      "\u001b[32m[I 22:13:24 InstallContribNbextensionsApp]\u001b[m Copying: /specific/scratches/scratch/guy/miniconda/lib/python3.7/site-packages/jupyter_contrib_nbextensions/nbextensions/comment-uncomment/comment-uncomment.yaml -> /specific/a/home/cc/students/cs/dar/.local/share/jupyter/nbextensions/comment-uncomment/comment-uncomment.yaml\n",
      "\u001b[32m[I 22:13:24 InstallContribNbextensionsApp]\u001b[m - Validating: \u001b[32mOK\u001b[0m\n",
      "\u001b[32m[I 22:13:24 InstallContribNbextensionsApp]\u001b[m Installing /specific/scratches/scratch/guy/miniconda/lib/python3.7/site-packages/jupyter_contrib_nbextensions/nbextensions/collapsible_headings -> collapsible_headings\n",
      "\u001b[32m[I 22:13:24 InstallContribNbextensionsApp]\u001b[m Making directory: /specific/a/home/cc/students/cs/dar/.local/share/jupyter/nbextensions/collapsible_headings/\n",
      "\u001b[32m[I 22:13:24 InstallContribNbextensionsApp]\u001b[m Copying: /specific/scratches/scratch/guy/miniconda/lib/python3.7/site-packages/jupyter_contrib_nbextensions/nbextensions/collapsible_headings/screenshot.png -> /specific/a/home/cc/students/cs/dar/.local/share/jupyter/nbextensions/collapsible_headings/screenshot.png\n",
      "\u001b[32m[I 22:13:24 InstallContribNbextensionsApp]\u001b[m Copying: /specific/scratches/scratch/guy/miniconda/lib/python3.7/site-packages/jupyter_contrib_nbextensions/nbextensions/collapsible_headings/readme.md -> /specific/a/home/cc/students/cs/dar/.local/share/jupyter/nbextensions/collapsible_headings/readme.md\n",
      "\u001b[32m[I 22:13:24 InstallContribNbextensionsApp]\u001b[m Copying: /specific/scratches/scratch/guy/miniconda/lib/python3.7/site-packages/jupyter_contrib_nbextensions/nbextensions/collapsible_headings/main.js -> /specific/a/home/cc/students/cs/dar/.local/share/jupyter/nbextensions/collapsible_headings/main.js\n",
      "\u001b[32m[I 22:13:24 InstallContribNbextensionsApp]\u001b[m Copying: /specific/scratches/scratch/guy/miniconda/lib/python3.7/site-packages/jupyter_contrib_nbextensions/nbextensions/collapsible_headings/main.css -> /specific/a/home/cc/students/cs/dar/.local/share/jupyter/nbextensions/collapsible_headings/main.css\n",
      "\u001b[32m[I 22:13:24 InstallContribNbextensionsApp]\u001b[m Copying: /specific/scratches/scratch/guy/miniconda/lib/python3.7/site-packages/jupyter_contrib_nbextensions/nbextensions/collapsible_headings/icon.png -> /specific/a/home/cc/students/cs/dar/.local/share/jupyter/nbextensions/collapsible_headings/icon.png\n",
      "\u001b[32m[I 22:13:24 InstallContribNbextensionsApp]\u001b[m Copying: /specific/scratches/scratch/guy/miniconda/lib/python3.7/site-packages/jupyter_contrib_nbextensions/nbextensions/collapsible_headings/collapsible_headings.yaml -> /specific/a/home/cc/students/cs/dar/.local/share/jupyter/nbextensions/collapsible_headings/collapsible_headings.yaml\n",
      "\u001b[32m[I 22:13:24 InstallContribNbextensionsApp]\u001b[m - Validating: \u001b[32mOK\u001b[0m\n",
      "\u001b[32m[I 22:13:24 InstallContribNbextensionsApp]\u001b[m Installing /specific/scratches/scratch/guy/miniconda/lib/python3.7/site-packages/jupyter_contrib_nbextensions/nbextensions/codemirror_mode_extensions -> codemirror_mode_extensions\n",
      "\u001b[32m[I 22:13:24 InstallContribNbextensionsApp]\u001b[m Making directory: /specific/a/home/cc/students/cs/dar/.local/share/jupyter/nbextensions/codemirror_mode_extensions/\n",
      "\u001b[32m[I 22:13:24 InstallContribNbextensionsApp]\u001b[m Copying: /specific/scratches/scratch/guy/miniconda/lib/python3.7/site-packages/jupyter_contrib_nbextensions/nbextensions/codemirror_mode_extensions/main.js -> /specific/a/home/cc/students/cs/dar/.local/share/jupyter/nbextensions/codemirror_mode_extensions/main.js\n",
      "\u001b[32m[I 22:13:24 InstallContribNbextensionsApp]\u001b[m Copying: /specific/scratches/scratch/guy/miniconda/lib/python3.7/site-packages/jupyter_contrib_nbextensions/nbextensions/codemirror_mode_extensions/codemirror_mode_extensions.yaml -> /specific/a/home/cc/students/cs/dar/.local/share/jupyter/nbextensions/codemirror_mode_extensions/codemirror_mode_extensions.yaml\n",
      "\u001b[32m[I 22:13:24 InstallContribNbextensionsApp]\u001b[m - Validating: \u001b[32mOK\u001b[0m\n",
      "\u001b[32m[I 22:13:24 InstallContribNbextensionsApp]\u001b[m Installing /specific/scratches/scratch/guy/miniconda/lib/python3.7/site-packages/jupyter_contrib_nbextensions/nbextensions/codefolding -> codefolding\n",
      "\u001b[32m[I 22:13:24 InstallContribNbextensionsApp]\u001b[m Making directory: /specific/a/home/cc/students/cs/dar/.local/share/jupyter/nbextensions/codefolding/\n",
      "\u001b[32m[I 22:13:24 InstallContribNbextensionsApp]\u001b[m Copying: /specific/scratches/scratch/guy/miniconda/lib/python3.7/site-packages/jupyter_contrib_nbextensions/nbextensions/codefolding/readme.md -> /specific/a/home/cc/students/cs/dar/.local/share/jupyter/nbextensions/codefolding/readme.md\n",
      "\u001b[32m[I 22:13:24 InstallContribNbextensionsApp]\u001b[m Copying: /specific/scratches/scratch/guy/miniconda/lib/python3.7/site-packages/jupyter_contrib_nbextensions/nbextensions/codefolding/main.js -> /specific/a/home/cc/students/cs/dar/.local/share/jupyter/nbextensions/codefolding/main.js\n",
      "\u001b[32m[I 22:13:24 InstallContribNbextensionsApp]\u001b[m Copying: /specific/scratches/scratch/guy/miniconda/lib/python3.7/site-packages/jupyter_contrib_nbextensions/nbextensions/codefolding/magic-unfolded.png -> /specific/a/home/cc/students/cs/dar/.local/share/jupyter/nbextensions/codefolding/magic-unfolded.png\n",
      "\u001b[32m[I 22:13:24 InstallContribNbextensionsApp]\u001b[m Copying: /specific/scratches/scratch/guy/miniconda/lib/python3.7/site-packages/jupyter_contrib_nbextensions/nbextensions/codefolding/magic-folded.png -> /specific/a/home/cc/students/cs/dar/.local/share/jupyter/nbextensions/codefolding/magic-folded.png\n",
      "\u001b[32m[I 22:13:24 InstallContribNbextensionsApp]\u001b[m Copying: /specific/scratches/scratch/guy/miniconda/lib/python3.7/site-packages/jupyter_contrib_nbextensions/nbextensions/codefolding/magic-fold.js -> /specific/a/home/cc/students/cs/dar/.local/share/jupyter/nbextensions/codefolding/magic-fold.js\n",
      "\u001b[32m[I 22:13:24 InstallContribNbextensionsApp]\u001b[m Copying: /specific/scratches/scratch/guy/miniconda/lib/python3.7/site-packages/jupyter_contrib_nbextensions/nbextensions/codefolding/icon.png -> /specific/a/home/cc/students/cs/dar/.local/share/jupyter/nbextensions/codefolding/icon.png\n",
      "\u001b[32m[I 22:13:24 InstallContribNbextensionsApp]\u001b[m Copying: /specific/scratches/scratch/guy/miniconda/lib/python3.7/site-packages/jupyter_contrib_nbextensions/nbextensions/codefolding/foldgutter.css -> /specific/a/home/cc/students/cs/dar/.local/share/jupyter/nbextensions/codefolding/foldgutter.css\n",
      "\u001b[32m[I 22:13:24 InstallContribNbextensionsApp]\u001b[m Copying: /specific/scratches/scratch/guy/miniconda/lib/python3.7/site-packages/jupyter_contrib_nbextensions/nbextensions/codefolding/firstline-fold.js -> /specific/a/home/cc/students/cs/dar/.local/share/jupyter/nbextensions/codefolding/firstline-fold.js\n",
      "\u001b[32m[I 22:13:25 InstallContribNbextensionsApp]\u001b[m Copying: /specific/scratches/scratch/guy/miniconda/lib/python3.7/site-packages/jupyter_contrib_nbextensions/nbextensions/codefolding/edit.js -> /specific/a/home/cc/students/cs/dar/.local/share/jupyter/nbextensions/codefolding/edit.js\n",
      "\u001b[32m[I 22:13:25 InstallContribNbextensionsApp]\u001b[m Copying: /specific/scratches/scratch/guy/miniconda/lib/python3.7/site-packages/jupyter_contrib_nbextensions/nbextensions/codefolding/codefolding_indent_unfolded.png -> /specific/a/home/cc/students/cs/dar/.local/share/jupyter/nbextensions/codefolding/codefolding_indent_unfolded.png\n",
      "\u001b[32m[I 22:13:25 InstallContribNbextensionsApp]\u001b[m Copying: /specific/scratches/scratch/guy/miniconda/lib/python3.7/site-packages/jupyter_contrib_nbextensions/nbextensions/codefolding/codefolding_indent_folded_2.png -> /specific/a/home/cc/students/cs/dar/.local/share/jupyter/nbextensions/codefolding/codefolding_indent_folded_2.png\n",
      "\u001b[32m[I 22:13:25 InstallContribNbextensionsApp]\u001b[m Copying: /specific/scratches/scratch/guy/miniconda/lib/python3.7/site-packages/jupyter_contrib_nbextensions/nbextensions/codefolding/codefolding_indent_folded_1.png -> /specific/a/home/cc/students/cs/dar/.local/share/jupyter/nbextensions/codefolding/codefolding_indent_folded_1.png\n",
      "\u001b[32m[I 22:13:25 InstallContribNbextensionsApp]\u001b[m Copying: /specific/scratches/scratch/guy/miniconda/lib/python3.7/site-packages/jupyter_contrib_nbextensions/nbextensions/codefolding/codefolding_firstline_unfolded.png -> /specific/a/home/cc/students/cs/dar/.local/share/jupyter/nbextensions/codefolding/codefolding_firstline_unfolded.png\n",
      "\u001b[32m[I 22:13:25 InstallContribNbextensionsApp]\u001b[m Copying: /specific/scratches/scratch/guy/miniconda/lib/python3.7/site-packages/jupyter_contrib_nbextensions/nbextensions/codefolding/codefolding_firstline_folded.png -> /specific/a/home/cc/students/cs/dar/.local/share/jupyter/nbextensions/codefolding/codefolding_firstline_folded.png\n",
      "\u001b[32m[I 22:13:25 InstallContribNbextensionsApp]\u001b[m Copying: /specific/scratches/scratch/guy/miniconda/lib/python3.7/site-packages/jupyter_contrib_nbextensions/nbextensions/codefolding/codefolding_editor.yaml -> /specific/a/home/cc/students/cs/dar/.local/share/jupyter/nbextensions/codefolding/codefolding_editor.yaml\n",
      "\u001b[32m[I 22:13:25 InstallContribNbextensionsApp]\u001b[m Copying: /specific/scratches/scratch/guy/miniconda/lib/python3.7/site-packages/jupyter_contrib_nbextensions/nbextensions/codefolding/codefolding_editor.png -> /specific/a/home/cc/students/cs/dar/.local/share/jupyter/nbextensions/codefolding/codefolding_editor.png\n",
      "\u001b[32m[I 22:13:25 InstallContribNbextensionsApp]\u001b[m Copying: /specific/scratches/scratch/guy/miniconda/lib/python3.7/site-packages/jupyter_contrib_nbextensions/nbextensions/codefolding/codefolding.yaml -> /specific/a/home/cc/students/cs/dar/.local/share/jupyter/nbextensions/codefolding/codefolding.yaml\n",
      "\u001b[32m[I 22:13:25 InstallContribNbextensionsApp]\u001b[m - Validating: \u001b[32mOK\u001b[0m\n",
      "\u001b[32m[I 22:13:25 InstallContribNbextensionsApp]\u001b[m Installing /specific/scratches/scratch/guy/miniconda/lib/python3.7/site-packages/jupyter_contrib_nbextensions/nbextensions/codefolding -> codefolding\n",
      "\u001b[32m[I 22:13:25 InstallContribNbextensionsApp]\u001b[m Up to date: /specific/a/home/cc/students/cs/dar/.local/share/jupyter/nbextensions/codefolding/readme.md\n",
      "\u001b[32m[I 22:13:25 InstallContribNbextensionsApp]\u001b[m Up to date: /specific/a/home/cc/students/cs/dar/.local/share/jupyter/nbextensions/codefolding/main.js\n",
      "\u001b[32m[I 22:13:25 InstallContribNbextensionsApp]\u001b[m Up to date: /specific/a/home/cc/students/cs/dar/.local/share/jupyter/nbextensions/codefolding/magic-unfolded.png\n",
      "\u001b[32m[I 22:13:25 InstallContribNbextensionsApp]\u001b[m Up to date: /specific/a/home/cc/students/cs/dar/.local/share/jupyter/nbextensions/codefolding/magic-folded.png\n",
      "\u001b[32m[I 22:13:25 InstallContribNbextensionsApp]\u001b[m Up to date: /specific/a/home/cc/students/cs/dar/.local/share/jupyter/nbextensions/codefolding/magic-fold.js\n",
      "\u001b[32m[I 22:13:25 InstallContribNbextensionsApp]\u001b[m Up to date: /specific/a/home/cc/students/cs/dar/.local/share/jupyter/nbextensions/codefolding/icon.png\n",
      "\u001b[32m[I 22:13:25 InstallContribNbextensionsApp]\u001b[m Up to date: /specific/a/home/cc/students/cs/dar/.local/share/jupyter/nbextensions/codefolding/foldgutter.css\n",
      "\u001b[32m[I 22:13:25 InstallContribNbextensionsApp]\u001b[m Up to date: /specific/a/home/cc/students/cs/dar/.local/share/jupyter/nbextensions/codefolding/firstline-fold.js\n",
      "\u001b[32m[I 22:13:25 InstallContribNbextensionsApp]\u001b[m Up to date: /specific/a/home/cc/students/cs/dar/.local/share/jupyter/nbextensions/codefolding/edit.js\n",
      "\u001b[32m[I 22:13:25 InstallContribNbextensionsApp]\u001b[m Up to date: /specific/a/home/cc/students/cs/dar/.local/share/jupyter/nbextensions/codefolding/codefolding_indent_unfolded.png\n",
      "\u001b[32m[I 22:13:25 InstallContribNbextensionsApp]\u001b[m Up to date: /specific/a/home/cc/students/cs/dar/.local/share/jupyter/nbextensions/codefolding/codefolding_indent_folded_2.png\n",
      "\u001b[32m[I 22:13:25 InstallContribNbextensionsApp]\u001b[m Up to date: /specific/a/home/cc/students/cs/dar/.local/share/jupyter/nbextensions/codefolding/codefolding_indent_folded_1.png\n",
      "\u001b[32m[I 22:13:25 InstallContribNbextensionsApp]\u001b[m Up to date: /specific/a/home/cc/students/cs/dar/.local/share/jupyter/nbextensions/codefolding/codefolding_firstline_unfolded.png\n",
      "\u001b[32m[I 22:13:25 InstallContribNbextensionsApp]\u001b[m Up to date: /specific/a/home/cc/students/cs/dar/.local/share/jupyter/nbextensions/codefolding/codefolding_firstline_folded.png\n",
      "\u001b[32m[I 22:13:25 InstallContribNbextensionsApp]\u001b[m Up to date: /specific/a/home/cc/students/cs/dar/.local/share/jupyter/nbextensions/codefolding/codefolding_editor.yaml\n",
      "\u001b[32m[I 22:13:25 InstallContribNbextensionsApp]\u001b[m Up to date: /specific/a/home/cc/students/cs/dar/.local/share/jupyter/nbextensions/codefolding/codefolding_editor.png\n",
      "\u001b[32m[I 22:13:25 InstallContribNbextensionsApp]\u001b[m Up to date: /specific/a/home/cc/students/cs/dar/.local/share/jupyter/nbextensions/codefolding/codefolding.yaml\n",
      "\u001b[32m[I 22:13:25 InstallContribNbextensionsApp]\u001b[m - Validating: \u001b[32mOK\u001b[0m\n",
      "\u001b[32m[I 22:13:25 InstallContribNbextensionsApp]\u001b[m Installing /specific/scratches/scratch/guy/miniconda/lib/python3.7/site-packages/jupyter_contrib_nbextensions/nbextensions/code_prettify -> code_prettify\n",
      "\u001b[32m[I 22:13:25 InstallContribNbextensionsApp]\u001b[m Making directory: /specific/a/home/cc/students/cs/dar/.local/share/jupyter/nbextensions/code_prettify/\n",
      "\u001b[32m[I 22:13:25 InstallContribNbextensionsApp]\u001b[m Copying: /specific/scratches/scratch/guy/miniconda/lib/python3.7/site-packages/jupyter_contrib_nbextensions/nbextensions/code_prettify/kernel_exec_on_cell.js -> /specific/a/home/cc/students/cs/dar/.local/share/jupyter/nbextensions/code_prettify/kernel_exec_on_cell.js\n",
      "\u001b[32m[I 22:13:25 InstallContribNbextensionsApp]\u001b[m Copying: /specific/scratches/scratch/guy/miniconda/lib/python3.7/site-packages/jupyter_contrib_nbextensions/nbextensions/code_prettify/isort.yaml -> /specific/a/home/cc/students/cs/dar/.local/share/jupyter/nbextensions/code_prettify/isort.yaml\n",
      "\u001b[32m[I 22:13:25 InstallContribNbextensionsApp]\u001b[m Copying: /specific/scratches/scratch/guy/miniconda/lib/python3.7/site-packages/jupyter_contrib_nbextensions/nbextensions/code_prettify/isort.js -> /specific/a/home/cc/students/cs/dar/.local/share/jupyter/nbextensions/code_prettify/isort.js\n",
      "\u001b[32m[I 22:13:25 InstallContribNbextensionsApp]\u001b[m Copying: /specific/scratches/scratch/guy/miniconda/lib/python3.7/site-packages/jupyter_contrib_nbextensions/nbextensions/code_prettify/demo_2to3.gif -> /specific/a/home/cc/students/cs/dar/.local/share/jupyter/nbextensions/code_prettify/demo_2to3.gif\n",
      "\u001b[32m[I 22:13:25 InstallContribNbextensionsApp]\u001b[m Copying: /specific/scratches/scratch/guy/miniconda/lib/python3.7/site-packages/jupyter_contrib_nbextensions/nbextensions/code_prettify/demo-py.gif -> /specific/a/home/cc/students/cs/dar/.local/share/jupyter/nbextensions/code_prettify/demo-py.gif\n",
      "\u001b[32m[I 22:13:25 InstallContribNbextensionsApp]\u001b[m Copying: /specific/scratches/scratch/guy/miniconda/lib/python3.7/site-packages/jupyter_contrib_nbextensions/nbextensions/code_prettify/demo-jv.gif -> /specific/a/home/cc/students/cs/dar/.local/share/jupyter/nbextensions/code_prettify/demo-jv.gif\n",
      "\u001b[32m[I 22:13:25 InstallContribNbextensionsApp]\u001b[m Copying: /specific/scratches/scratch/guy/miniconda/lib/python3.7/site-packages/jupyter_contrib_nbextensions/nbextensions/code_prettify/demo-R.gif -> /specific/a/home/cc/students/cs/dar/.local/share/jupyter/nbextensions/code_prettify/demo-R.gif\n",
      "\u001b[32m[I 22:13:25 InstallContribNbextensionsApp]\u001b[m Copying: /specific/scratches/scratch/guy/miniconda/lib/python3.7/site-packages/jupyter_contrib_nbextensions/nbextensions/code_prettify/code_prettify.yaml -> /specific/a/home/cc/students/cs/dar/.local/share/jupyter/nbextensions/code_prettify/code_prettify.yaml\n",
      "\u001b[32m[I 22:13:25 InstallContribNbextensionsApp]\u001b[m Copying: /specific/scratches/scratch/guy/miniconda/lib/python3.7/site-packages/jupyter_contrib_nbextensions/nbextensions/code_prettify/code_prettify.js -> /specific/a/home/cc/students/cs/dar/.local/share/jupyter/nbextensions/code_prettify/code_prettify.js\n",
      "\u001b[32m[I 22:13:25 InstallContribNbextensionsApp]\u001b[m Copying: /specific/scratches/scratch/guy/miniconda/lib/python3.7/site-packages/jupyter_contrib_nbextensions/nbextensions/code_prettify/autopep8.yaml -> /specific/a/home/cc/students/cs/dar/.local/share/jupyter/nbextensions/code_prettify/autopep8.yaml\n",
      "\u001b[32m[I 22:13:25 InstallContribNbextensionsApp]\u001b[m Copying: /specific/scratches/scratch/guy/miniconda/lib/python3.7/site-packages/jupyter_contrib_nbextensions/nbextensions/code_prettify/autopep8.js -> /specific/a/home/cc/students/cs/dar/.local/share/jupyter/nbextensions/code_prettify/autopep8.js\n",
      "\u001b[32m[I 22:13:25 InstallContribNbextensionsApp]\u001b[m Copying: /specific/scratches/scratch/guy/miniconda/lib/python3.7/site-packages/jupyter_contrib_nbextensions/nbextensions/code_prettify/README_isort.md -> /specific/a/home/cc/students/cs/dar/.local/share/jupyter/nbextensions/code_prettify/README_isort.md\n",
      "\u001b[32m[I 22:13:25 InstallContribNbextensionsApp]\u001b[m Copying: /specific/scratches/scratch/guy/miniconda/lib/python3.7/site-packages/jupyter_contrib_nbextensions/nbextensions/code_prettify/README_code_prettify.md -> /specific/a/home/cc/students/cs/dar/.local/share/jupyter/nbextensions/code_prettify/README_code_prettify.md\n",
      "\u001b[32m[I 22:13:25 InstallContribNbextensionsApp]\u001b[m Copying: /specific/scratches/scratch/guy/miniconda/lib/python3.7/site-packages/jupyter_contrib_nbextensions/nbextensions/code_prettify/README_autopep8.md -> /specific/a/home/cc/students/cs/dar/.local/share/jupyter/nbextensions/code_prettify/README_autopep8.md\n",
      "\u001b[32m[I 22:13:25 InstallContribNbextensionsApp]\u001b[m Copying: /specific/scratches/scratch/guy/miniconda/lib/python3.7/site-packages/jupyter_contrib_nbextensions/nbextensions/code_prettify/README_2to3.md -> /specific/a/home/cc/students/cs/dar/.local/share/jupyter/nbextensions/code_prettify/README_2to3.md\n",
      "\u001b[32m[I 22:13:25 InstallContribNbextensionsApp]\u001b[m Copying: /specific/scratches/scratch/guy/miniconda/lib/python3.7/site-packages/jupyter_contrib_nbextensions/nbextensions/code_prettify/README.md -> /specific/a/home/cc/students/cs/dar/.local/share/jupyter/nbextensions/code_prettify/README.md\n",
      "\u001b[32m[I 22:13:25 InstallContribNbextensionsApp]\u001b[m Copying: /specific/scratches/scratch/guy/miniconda/lib/python3.7/site-packages/jupyter_contrib_nbextensions/nbextensions/code_prettify/2to3.yaml -> /specific/a/home/cc/students/cs/dar/.local/share/jupyter/nbextensions/code_prettify/2to3.yaml\n",
      "\u001b[32m[I 22:13:25 InstallContribNbextensionsApp]\u001b[m Copying: /specific/scratches/scratch/guy/miniconda/lib/python3.7/site-packages/jupyter_contrib_nbextensions/nbextensions/code_prettify/2to3.js -> /specific/a/home/cc/students/cs/dar/.local/share/jupyter/nbextensions/code_prettify/2to3.js\n",
      "\u001b[32m[I 22:13:25 InstallContribNbextensionsApp]\u001b[m - Validating: \u001b[32mOK\u001b[0m\n",
      "\u001b[32m[I 22:13:25 InstallContribNbextensionsApp]\u001b[m Installing /specific/scratches/scratch/guy/miniconda/lib/python3.7/site-packages/jupyter_contrib_nbextensions/nbextensions/code_prettify -> code_prettify\n",
      "\u001b[32m[I 22:13:25 InstallContribNbextensionsApp]\u001b[m Up to date: /specific/a/home/cc/students/cs/dar/.local/share/jupyter/nbextensions/code_prettify/kernel_exec_on_cell.js\n",
      "\u001b[32m[I 22:13:25 InstallContribNbextensionsApp]\u001b[m Up to date: /specific/a/home/cc/students/cs/dar/.local/share/jupyter/nbextensions/code_prettify/isort.yaml\n",
      "\u001b[32m[I 22:13:25 InstallContribNbextensionsApp]\u001b[m Up to date: /specific/a/home/cc/students/cs/dar/.local/share/jupyter/nbextensions/code_prettify/isort.js\n",
      "\u001b[32m[I 22:13:25 InstallContribNbextensionsApp]\u001b[m Up to date: /specific/a/home/cc/students/cs/dar/.local/share/jupyter/nbextensions/code_prettify/demo_2to3.gif\n",
      "\u001b[32m[I 22:13:25 InstallContribNbextensionsApp]\u001b[m Up to date: /specific/a/home/cc/students/cs/dar/.local/share/jupyter/nbextensions/code_prettify/demo-py.gif\n",
      "\u001b[32m[I 22:13:25 InstallContribNbextensionsApp]\u001b[m Up to date: /specific/a/home/cc/students/cs/dar/.local/share/jupyter/nbextensions/code_prettify/demo-jv.gif\n",
      "\u001b[32m[I 22:13:25 InstallContribNbextensionsApp]\u001b[m Up to date: /specific/a/home/cc/students/cs/dar/.local/share/jupyter/nbextensions/code_prettify/demo-R.gif\n",
      "\u001b[32m[I 22:13:25 InstallContribNbextensionsApp]\u001b[m Up to date: /specific/a/home/cc/students/cs/dar/.local/share/jupyter/nbextensions/code_prettify/code_prettify.yaml\n",
      "\u001b[32m[I 22:13:25 InstallContribNbextensionsApp]\u001b[m Up to date: /specific/a/home/cc/students/cs/dar/.local/share/jupyter/nbextensions/code_prettify/code_prettify.js\n",
      "\u001b[32m[I 22:13:25 InstallContribNbextensionsApp]\u001b[m Up to date: /specific/a/home/cc/students/cs/dar/.local/share/jupyter/nbextensions/code_prettify/autopep8.yaml\n",
      "\u001b[32m[I 22:13:25 InstallContribNbextensionsApp]\u001b[m Up to date: /specific/a/home/cc/students/cs/dar/.local/share/jupyter/nbextensions/code_prettify/autopep8.js\n",
      "\u001b[32m[I 22:13:25 InstallContribNbextensionsApp]\u001b[m Up to date: /specific/a/home/cc/students/cs/dar/.local/share/jupyter/nbextensions/code_prettify/README_isort.md\n",
      "\u001b[32m[I 22:13:25 InstallContribNbextensionsApp]\u001b[m Up to date: /specific/a/home/cc/students/cs/dar/.local/share/jupyter/nbextensions/code_prettify/README_code_prettify.md\n",
      "\u001b[32m[I 22:13:25 InstallContribNbextensionsApp]\u001b[m Up to date: /specific/a/home/cc/students/cs/dar/.local/share/jupyter/nbextensions/code_prettify/README_autopep8.md\n",
      "\u001b[32m[I 22:13:25 InstallContribNbextensionsApp]\u001b[m Up to date: /specific/a/home/cc/students/cs/dar/.local/share/jupyter/nbextensions/code_prettify/README_2to3.md\n",
      "\u001b[32m[I 22:13:25 InstallContribNbextensionsApp]\u001b[m Up to date: /specific/a/home/cc/students/cs/dar/.local/share/jupyter/nbextensions/code_prettify/README.md\n",
      "\u001b[32m[I 22:13:25 InstallContribNbextensionsApp]\u001b[m Up to date: /specific/a/home/cc/students/cs/dar/.local/share/jupyter/nbextensions/code_prettify/2to3.yaml\n",
      "\u001b[32m[I 22:13:25 InstallContribNbextensionsApp]\u001b[m Up to date: /specific/a/home/cc/students/cs/dar/.local/share/jupyter/nbextensions/code_prettify/2to3.js\n",
      "\u001b[32m[I 22:13:25 InstallContribNbextensionsApp]\u001b[m - Validating: \u001b[32mOK\u001b[0m\n",
      "\u001b[32m[I 22:13:25 InstallContribNbextensionsApp]\u001b[m Installing /specific/scratches/scratch/guy/miniconda/lib/python3.7/site-packages/jupyter_contrib_nbextensions/nbextensions/code_prettify -> code_prettify\n",
      "\u001b[32m[I 22:13:25 InstallContribNbextensionsApp]\u001b[m Up to date: /specific/a/home/cc/students/cs/dar/.local/share/jupyter/nbextensions/code_prettify/kernel_exec_on_cell.js\n",
      "\u001b[32m[I 22:13:25 InstallContribNbextensionsApp]\u001b[m Up to date: /specific/a/home/cc/students/cs/dar/.local/share/jupyter/nbextensions/code_prettify/isort.yaml\n",
      "\u001b[32m[I 22:13:25 InstallContribNbextensionsApp]\u001b[m Up to date: /specific/a/home/cc/students/cs/dar/.local/share/jupyter/nbextensions/code_prettify/isort.js\n",
      "\u001b[32m[I 22:13:25 InstallContribNbextensionsApp]\u001b[m Up to date: /specific/a/home/cc/students/cs/dar/.local/share/jupyter/nbextensions/code_prettify/demo_2to3.gif\n",
      "\u001b[32m[I 22:13:25 InstallContribNbextensionsApp]\u001b[m Up to date: /specific/a/home/cc/students/cs/dar/.local/share/jupyter/nbextensions/code_prettify/demo-py.gif\n",
      "\u001b[32m[I 22:13:25 InstallContribNbextensionsApp]\u001b[m Up to date: /specific/a/home/cc/students/cs/dar/.local/share/jupyter/nbextensions/code_prettify/demo-jv.gif\n",
      "\u001b[32m[I 22:13:25 InstallContribNbextensionsApp]\u001b[m Up to date: /specific/a/home/cc/students/cs/dar/.local/share/jupyter/nbextensions/code_prettify/demo-R.gif\n",
      "\u001b[32m[I 22:13:25 InstallContribNbextensionsApp]\u001b[m Up to date: /specific/a/home/cc/students/cs/dar/.local/share/jupyter/nbextensions/code_prettify/code_prettify.yaml\n",
      "\u001b[32m[I 22:13:25 InstallContribNbextensionsApp]\u001b[m Up to date: /specific/a/home/cc/students/cs/dar/.local/share/jupyter/nbextensions/code_prettify/code_prettify.js\n",
      "\u001b[32m[I 22:13:25 InstallContribNbextensionsApp]\u001b[m Up to date: /specific/a/home/cc/students/cs/dar/.local/share/jupyter/nbextensions/code_prettify/autopep8.yaml\n",
      "\u001b[32m[I 22:13:25 InstallContribNbextensionsApp]\u001b[m Up to date: /specific/a/home/cc/students/cs/dar/.local/share/jupyter/nbextensions/code_prettify/autopep8.js\n",
      "\u001b[32m[I 22:13:25 InstallContribNbextensionsApp]\u001b[m Up to date: /specific/a/home/cc/students/cs/dar/.local/share/jupyter/nbextensions/code_prettify/README_isort.md\n",
      "\u001b[32m[I 22:13:25 InstallContribNbextensionsApp]\u001b[m Up to date: /specific/a/home/cc/students/cs/dar/.local/share/jupyter/nbextensions/code_prettify/README_code_prettify.md\n",
      "\u001b[32m[I 22:13:25 InstallContribNbextensionsApp]\u001b[m Up to date: /specific/a/home/cc/students/cs/dar/.local/share/jupyter/nbextensions/code_prettify/README_autopep8.md\n",
      "\u001b[32m[I 22:13:25 InstallContribNbextensionsApp]\u001b[m Up to date: /specific/a/home/cc/students/cs/dar/.local/share/jupyter/nbextensions/code_prettify/README_2to3.md\n",
      "\u001b[32m[I 22:13:25 InstallContribNbextensionsApp]\u001b[m Up to date: /specific/a/home/cc/students/cs/dar/.local/share/jupyter/nbextensions/code_prettify/README.md\n",
      "\u001b[32m[I 22:13:25 InstallContribNbextensionsApp]\u001b[m Up to date: /specific/a/home/cc/students/cs/dar/.local/share/jupyter/nbextensions/code_prettify/2to3.yaml\n",
      "\u001b[32m[I 22:13:25 InstallContribNbextensionsApp]\u001b[m Up to date: /specific/a/home/cc/students/cs/dar/.local/share/jupyter/nbextensions/code_prettify/2to3.js\n",
      "\u001b[32m[I 22:13:25 InstallContribNbextensionsApp]\u001b[m - Validating: \u001b[32mOK\u001b[0m\n",
      "\u001b[32m[I 22:13:25 InstallContribNbextensionsApp]\u001b[m Installing /specific/scratches/scratch/guy/miniconda/lib/python3.7/site-packages/jupyter_contrib_nbextensions/nbextensions/code_prettify -> code_prettify\n",
      "\u001b[32m[I 22:13:25 InstallContribNbextensionsApp]\u001b[m Up to date: /specific/a/home/cc/students/cs/dar/.local/share/jupyter/nbextensions/code_prettify/kernel_exec_on_cell.js\n",
      "\u001b[32m[I 22:13:25 InstallContribNbextensionsApp]\u001b[m Up to date: /specific/a/home/cc/students/cs/dar/.local/share/jupyter/nbextensions/code_prettify/isort.yaml\n",
      "\u001b[32m[I 22:13:25 InstallContribNbextensionsApp]\u001b[m Up to date: /specific/a/home/cc/students/cs/dar/.local/share/jupyter/nbextensions/code_prettify/isort.js\n",
      "\u001b[32m[I 22:13:25 InstallContribNbextensionsApp]\u001b[m Up to date: /specific/a/home/cc/students/cs/dar/.local/share/jupyter/nbextensions/code_prettify/demo_2to3.gif\n",
      "\u001b[32m[I 22:13:25 InstallContribNbextensionsApp]\u001b[m Up to date: /specific/a/home/cc/students/cs/dar/.local/share/jupyter/nbextensions/code_prettify/demo-py.gif\n",
      "\u001b[32m[I 22:13:25 InstallContribNbextensionsApp]\u001b[m Up to date: /specific/a/home/cc/students/cs/dar/.local/share/jupyter/nbextensions/code_prettify/demo-jv.gif\n",
      "\u001b[32m[I 22:13:25 InstallContribNbextensionsApp]\u001b[m Up to date: /specific/a/home/cc/students/cs/dar/.local/share/jupyter/nbextensions/code_prettify/demo-R.gif\n",
      "\u001b[32m[I 22:13:25 InstallContribNbextensionsApp]\u001b[m Up to date: /specific/a/home/cc/students/cs/dar/.local/share/jupyter/nbextensions/code_prettify/code_prettify.yaml\n",
      "\u001b[32m[I 22:13:25 InstallContribNbextensionsApp]\u001b[m Up to date: /specific/a/home/cc/students/cs/dar/.local/share/jupyter/nbextensions/code_prettify/code_prettify.js\n",
      "\u001b[32m[I 22:13:25 InstallContribNbextensionsApp]\u001b[m Up to date: /specific/a/home/cc/students/cs/dar/.local/share/jupyter/nbextensions/code_prettify/autopep8.yaml\n",
      "\u001b[32m[I 22:13:25 InstallContribNbextensionsApp]\u001b[m Up to date: /specific/a/home/cc/students/cs/dar/.local/share/jupyter/nbextensions/code_prettify/autopep8.js\n",
      "\u001b[32m[I 22:13:25 InstallContribNbextensionsApp]\u001b[m Up to date: /specific/a/home/cc/students/cs/dar/.local/share/jupyter/nbextensions/code_prettify/README_isort.md\n",
      "\u001b[32m[I 22:13:25 InstallContribNbextensionsApp]\u001b[m Up to date: /specific/a/home/cc/students/cs/dar/.local/share/jupyter/nbextensions/code_prettify/README_code_prettify.md\n",
      "\u001b[32m[I 22:13:25 InstallContribNbextensionsApp]\u001b[m Up to date: /specific/a/home/cc/students/cs/dar/.local/share/jupyter/nbextensions/code_prettify/README_autopep8.md\n",
      "\u001b[32m[I 22:13:25 InstallContribNbextensionsApp]\u001b[m Up to date: /specific/a/home/cc/students/cs/dar/.local/share/jupyter/nbextensions/code_prettify/README_2to3.md\n",
      "\u001b[32m[I 22:13:25 InstallContribNbextensionsApp]\u001b[m Up to date: /specific/a/home/cc/students/cs/dar/.local/share/jupyter/nbextensions/code_prettify/README.md\n",
      "\u001b[32m[I 22:13:25 InstallContribNbextensionsApp]\u001b[m Up to date: /specific/a/home/cc/students/cs/dar/.local/share/jupyter/nbextensions/code_prettify/2to3.yaml\n",
      "\u001b[32m[I 22:13:25 InstallContribNbextensionsApp]\u001b[m Up to date: /specific/a/home/cc/students/cs/dar/.local/share/jupyter/nbextensions/code_prettify/2to3.js\n",
      "\u001b[32m[I 22:13:25 InstallContribNbextensionsApp]\u001b[m - Validating: \u001b[32mOK\u001b[0m\n",
      "\u001b[32m[I 22:13:25 InstallContribNbextensionsApp]\u001b[m Installing /specific/scratches/scratch/guy/miniconda/lib/python3.7/site-packages/jupyter_contrib_nbextensions/nbextensions/code_font_size -> code_font_size\n",
      "\u001b[32m[I 22:13:25 InstallContribNbextensionsApp]\u001b[m Making directory: /specific/a/home/cc/students/cs/dar/.local/share/jupyter/nbextensions/code_font_size/\n",
      "\u001b[32m[I 22:13:25 InstallContribNbextensionsApp]\u001b[m Copying: /specific/scratches/scratch/guy/miniconda/lib/python3.7/site-packages/jupyter_contrib_nbextensions/nbextensions/code_font_size/code_font_size.yaml -> /specific/a/home/cc/students/cs/dar/.local/share/jupyter/nbextensions/code_font_size/code_font_size.yaml\n",
      "\u001b[32m[I 22:13:25 InstallContribNbextensionsApp]\u001b[m Copying: /specific/scratches/scratch/guy/miniconda/lib/python3.7/site-packages/jupyter_contrib_nbextensions/nbextensions/code_font_size/code_font_size.js -> /specific/a/home/cc/students/cs/dar/.local/share/jupyter/nbextensions/code_font_size/code_font_size.js\n",
      "\u001b[32m[I 22:13:25 InstallContribNbextensionsApp]\u001b[m Copying: /specific/scratches/scratch/guy/miniconda/lib/python3.7/site-packages/jupyter_contrib_nbextensions/nbextensions/code_font_size/README.md -> /specific/a/home/cc/students/cs/dar/.local/share/jupyter/nbextensions/code_font_size/README.md\n",
      "\u001b[32m[I 22:13:25 InstallContribNbextensionsApp]\u001b[m - Validating: \u001b[32mOK\u001b[0m\n",
      "\u001b[32m[I 22:13:25 InstallContribNbextensionsApp]\u001b[m Installing /specific/scratches/scratch/guy/miniconda/lib/python3.7/site-packages/jupyter_contrib_nbextensions/nbextensions/cell_filter -> cell_filter\n",
      "\u001b[32m[I 22:13:25 InstallContribNbextensionsApp]\u001b[m Making directory: /specific/a/home/cc/students/cs/dar/.local/share/jupyter/nbextensions/cell_filter/\n",
      "\u001b[32m[I 22:13:25 InstallContribNbextensionsApp]\u001b[m Copying: /specific/scratches/scratch/guy/miniconda/lib/python3.7/site-packages/jupyter_contrib_nbextensions/nbextensions/cell_filter/cell_filter.yml -> /specific/a/home/cc/students/cs/dar/.local/share/jupyter/nbextensions/cell_filter/cell_filter.yml\n",
      "\u001b[32m[I 22:13:25 InstallContribNbextensionsApp]\u001b[m Copying: /specific/scratches/scratch/guy/miniconda/lib/python3.7/site-packages/jupyter_contrib_nbextensions/nbextensions/cell_filter/cell_filter.js -> /specific/a/home/cc/students/cs/dar/.local/share/jupyter/nbextensions/cell_filter/cell_filter.js\n",
      "\u001b[32m[I 22:13:25 InstallContribNbextensionsApp]\u001b[m Copying: /specific/scratches/scratch/guy/miniconda/lib/python3.7/site-packages/jupyter_contrib_nbextensions/nbextensions/cell_filter/README.md -> /specific/a/home/cc/students/cs/dar/.local/share/jupyter/nbextensions/cell_filter/README.md\n",
      "\u001b[32m[I 22:13:25 InstallContribNbextensionsApp]\u001b[m - Validating: \u001b[32mOK\u001b[0m\n",
      "\u001b[32m[I 22:13:25 InstallContribNbextensionsApp]\u001b[m Installing /specific/scratches/scratch/guy/miniconda/lib/python3.7/site-packages/jupyter_contrib_nbextensions/nbextensions/autoscroll -> autoscroll\n",
      "\u001b[32m[I 22:13:25 InstallContribNbextensionsApp]\u001b[m Making directory: /specific/a/home/cc/students/cs/dar/.local/share/jupyter/nbextensions/autoscroll/\n",
      "\u001b[32m[I 22:13:25 InstallContribNbextensionsApp]\u001b[m Copying: /specific/scratches/scratch/guy/miniconda/lib/python3.7/site-packages/jupyter_contrib_nbextensions/nbextensions/autoscroll/main.js -> /specific/a/home/cc/students/cs/dar/.local/share/jupyter/nbextensions/autoscroll/main.js\n",
      "\u001b[32m[I 22:13:25 InstallContribNbextensionsApp]\u001b[m Copying: /specific/scratches/scratch/guy/miniconda/lib/python3.7/site-packages/jupyter_contrib_nbextensions/nbextensions/autoscroll/icon.png -> /specific/a/home/cc/students/cs/dar/.local/share/jupyter/nbextensions/autoscroll/icon.png\n",
      "\u001b[32m[I 22:13:25 InstallContribNbextensionsApp]\u001b[m Copying: /specific/scratches/scratch/guy/miniconda/lib/python3.7/site-packages/jupyter_contrib_nbextensions/nbextensions/autoscroll/autoscroll.yaml -> /specific/a/home/cc/students/cs/dar/.local/share/jupyter/nbextensions/autoscroll/autoscroll.yaml\n",
      "\u001b[32m[I 22:13:25 InstallContribNbextensionsApp]\u001b[m Copying: /specific/scratches/scratch/guy/miniconda/lib/python3.7/site-packages/jupyter_contrib_nbextensions/nbextensions/autoscroll/README.md -> /specific/a/home/cc/students/cs/dar/.local/share/jupyter/nbextensions/autoscroll/README.md\n",
      "\u001b[32m[I 22:13:25 InstallContribNbextensionsApp]\u001b[m - Validating: \u001b[32mOK\u001b[0m\n",
      "\u001b[32m[I 22:13:25 InstallContribNbextensionsApp]\u001b[m Installing /specific/scratches/scratch/guy/miniconda/lib/python3.7/site-packages/jupyter_contrib_nbextensions/nbextensions/autosavetime -> autosavetime\n",
      "\u001b[32m[I 22:13:25 InstallContribNbextensionsApp]\u001b[m Making directory: /specific/a/home/cc/students/cs/dar/.local/share/jupyter/nbextensions/autosavetime/\n",
      "\u001b[32m[I 22:13:25 InstallContribNbextensionsApp]\u001b[m Copying: /specific/scratches/scratch/guy/miniconda/lib/python3.7/site-packages/jupyter_contrib_nbextensions/nbextensions/autosavetime/main.js -> /specific/a/home/cc/students/cs/dar/.local/share/jupyter/nbextensions/autosavetime/main.js\n",
      "\u001b[32m[I 22:13:25 InstallContribNbextensionsApp]\u001b[m Copying: /specific/scratches/scratch/guy/miniconda/lib/python3.7/site-packages/jupyter_contrib_nbextensions/nbextensions/autosavetime/icon.png -> /specific/a/home/cc/students/cs/dar/.local/share/jupyter/nbextensions/autosavetime/icon.png\n",
      "\u001b[32m[I 22:13:25 InstallContribNbextensionsApp]\u001b[m Copying: /specific/scratches/scratch/guy/miniconda/lib/python3.7/site-packages/jupyter_contrib_nbextensions/nbextensions/autosavetime/autosavetime.yaml -> /specific/a/home/cc/students/cs/dar/.local/share/jupyter/nbextensions/autosavetime/autosavetime.yaml\n",
      "\u001b[32m[I 22:13:25 InstallContribNbextensionsApp]\u001b[m Copying: /specific/scratches/scratch/guy/miniconda/lib/python3.7/site-packages/jupyter_contrib_nbextensions/nbextensions/autosavetime/README.md -> /specific/a/home/cc/students/cs/dar/.local/share/jupyter/nbextensions/autosavetime/README.md\n",
      "\u001b[32m[I 22:13:25 InstallContribNbextensionsApp]\u001b[m - Validating: \u001b[32mOK\u001b[0m\n",
      "\u001b[32m[I 22:13:25 InstallContribNbextensionsApp]\u001b[m Installing /specific/scratches/scratch/guy/miniconda/lib/python3.7/site-packages/jupyter_contrib_nbextensions/nbextensions/addbefore -> addbefore\n",
      "\u001b[32m[I 22:13:25 InstallContribNbextensionsApp]\u001b[m Making directory: /specific/a/home/cc/students/cs/dar/.local/share/jupyter/nbextensions/addbefore/\n",
      "\u001b[32m[I 22:13:25 InstallContribNbextensionsApp]\u001b[m Copying: /specific/scratches/scratch/guy/miniconda/lib/python3.7/site-packages/jupyter_contrib_nbextensions/nbextensions/addbefore/readme.md -> /specific/a/home/cc/students/cs/dar/.local/share/jupyter/nbextensions/addbefore/readme.md\n",
      "\u001b[32m[I 22:13:25 InstallContribNbextensionsApp]\u001b[m Copying: /specific/scratches/scratch/guy/miniconda/lib/python3.7/site-packages/jupyter_contrib_nbextensions/nbextensions/addbefore/main.js -> /specific/a/home/cc/students/cs/dar/.local/share/jupyter/nbextensions/addbefore/main.js\n",
      "\u001b[32m[I 22:13:25 InstallContribNbextensionsApp]\u001b[m Copying: /specific/scratches/scratch/guy/miniconda/lib/python3.7/site-packages/jupyter_contrib_nbextensions/nbextensions/addbefore/icon.png -> /specific/a/home/cc/students/cs/dar/.local/share/jupyter/nbextensions/addbefore/icon.png\n",
      "\u001b[32m[I 22:13:25 InstallContribNbextensionsApp]\u001b[m Copying: /specific/scratches/scratch/guy/miniconda/lib/python3.7/site-packages/jupyter_contrib_nbextensions/nbextensions/addbefore/addbefore.yaml -> /specific/a/home/cc/students/cs/dar/.local/share/jupyter/nbextensions/addbefore/addbefore.yaml\n",
      "\u001b[32m[I 22:13:25 InstallContribNbextensionsApp]\u001b[m - Validating: \u001b[32mOK\u001b[0m\n",
      "\u001b[32m[I 22:13:25 InstallContribNbextensionsApp]\u001b[m Installing /specific/scratches/scratch/guy/miniconda/lib/python3.7/site-packages/jupyter_highlight_selected_word/static/highlight_selected_word -> highlight_selected_word\n",
      "\u001b[32m[I 22:13:25 InstallContribNbextensionsApp]\u001b[m Making directory: /specific/a/home/cc/students/cs/dar/.local/share/jupyter/nbextensions/highlight_selected_word/\n",
      "\u001b[32m[I 22:13:25 InstallContribNbextensionsApp]\u001b[m Copying: /specific/scratches/scratch/guy/miniconda/lib/python3.7/site-packages/jupyter_highlight_selected_word/static/highlight_selected_word/main.js -> /specific/a/home/cc/students/cs/dar/.local/share/jupyter/nbextensions/highlight_selected_word/main.js\n",
      "\u001b[32m[I 22:13:25 InstallContribNbextensionsApp]\u001b[m Copying: /specific/scratches/scratch/guy/miniconda/lib/python3.7/site-packages/jupyter_highlight_selected_word/static/highlight_selected_word/configurator.yaml -> /specific/a/home/cc/students/cs/dar/.local/share/jupyter/nbextensions/highlight_selected_word/configurator.yaml\n",
      "\u001b[32m[I 22:13:25 InstallContribNbextensionsApp]\u001b[m Copying: /specific/scratches/scratch/guy/miniconda/lib/python3.7/site-packages/jupyter_highlight_selected_word/static/highlight_selected_word/README.md -> /specific/a/home/cc/students/cs/dar/.local/share/jupyter/nbextensions/highlight_selected_word/README.md\n",
      "\u001b[32m[I 22:13:25 InstallContribNbextensionsApp]\u001b[m - Validating: \u001b[32mOK\u001b[0m\n",
      "\u001b[32m[I 22:13:25 InstallContribNbextensionsApp]\u001b[m Installing /specific/scratches/scratch/guy/miniconda/lib/python3.7/site-packages/latex_envs/static -> latex_envs\n",
      "\u001b[32m[I 22:13:25 InstallContribNbextensionsApp]\u001b[m Making directory: /specific/a/home/cc/students/cs/dar/.local/share/jupyter/nbextensions/latex_envs/\n",
      "\u001b[32m[I 22:13:25 InstallContribNbextensionsApp]\u001b[m Copying: /specific/scratches/scratch/guy/miniconda/lib/python3.7/site-packages/latex_envs/static/thmsInNb4.js -> /specific/a/home/cc/students/cs/dar/.local/share/jupyter/nbextensions/latex_envs/thmsInNb4.js\n",
      "\u001b[32m[I 22:13:25 InstallContribNbextensionsApp]\u001b[m Copying: /specific/scratches/scratch/guy/miniconda/lib/python3.7/site-packages/latex_envs/static/main_toolbar.png -> /specific/a/home/cc/students/cs/dar/.local/share/jupyter/nbextensions/latex_envs/main_toolbar.png\n",
      "\u001b[32m[I 22:13:25 InstallContribNbextensionsApp]\u001b[m Copying: /specific/scratches/scratch/guy/miniconda/lib/python3.7/site-packages/latex_envs/static/latex_envs.yaml -> /specific/a/home/cc/students/cs/dar/.local/share/jupyter/nbextensions/latex_envs/latex_envs.yaml\n",
      "\u001b[32m[I 22:13:25 InstallContribNbextensionsApp]\u001b[m Copying: /specific/scratches/scratch/guy/miniconda/lib/python3.7/site-packages/latex_envs/static/latex_envs.js -> /specific/a/home/cc/students/cs/dar/.local/share/jupyter/nbextensions/latex_envs/latex_envs.js\n",
      "\u001b[32m[I 22:13:25 InstallContribNbextensionsApp]\u001b[m Copying: /specific/scratches/scratch/guy/miniconda/lib/python3.7/site-packages/latex_envs/static/latex_envs.css -> /specific/a/home/cc/students/cs/dar/.local/share/jupyter/nbextensions/latex_envs/latex_envs.css\n",
      "\u001b[32m[I 22:13:25 InstallContribNbextensionsApp]\u001b[m Copying: /specific/scratches/scratch/guy/miniconda/lib/python3.7/site-packages/latex_envs/static/initNb.js -> /specific/a/home/cc/students/cs/dar/.local/share/jupyter/nbextensions/latex_envs/initNb.js\n",
      "\u001b[32m[I 22:13:25 InstallContribNbextensionsApp]\u001b[m Copying: /specific/scratches/scratch/guy/miniconda/lib/python3.7/site-packages/latex_envs/static/icon.png -> /specific/a/home/cc/students/cs/dar/.local/share/jupyter/nbextensions/latex_envs/icon.png\n",
      "\u001b[32m[I 22:13:25 InstallContribNbextensionsApp]\u001b[m Copying: /specific/scratches/scratch/guy/miniconda/lib/python3.7/site-packages/latex_envs/static/example_user_envs.json -> /specific/a/home/cc/students/cs/dar/.local/share/jupyter/nbextensions/latex_envs/example_user_envs.json\n",
      "\u001b[32m[I 22:13:25 InstallContribNbextensionsApp]\u001b[m Copying: /specific/scratches/scratch/guy/miniconda/lib/python3.7/site-packages/latex_envs/static/example.png -> /specific/a/home/cc/students/cs/dar/.local/share/jupyter/nbextensions/latex_envs/example.png\n",
      "\u001b[32m[I 22:13:25 InstallContribNbextensionsApp]\u001b[m Copying: /specific/scratches/scratch/guy/miniconda/lib/python3.7/site-packages/latex_envs/static/envsLatex.json -> /specific/a/home/cc/students/cs/dar/.local/share/jupyter/nbextensions/latex_envs/envsLatex.json\n",
      "\u001b[32m[I 22:13:25 InstallContribNbextensionsApp]\u001b[m Copying: /specific/scratches/scratch/guy/miniconda/lib/python3.7/site-packages/latex_envs/static/envsLatex.js -> /specific/a/home/cc/students/cs/dar/.local/share/jupyter/nbextensions/latex_envs/envsLatex.js\n",
      "\u001b[32m[I 22:13:25 InstallContribNbextensionsApp]\u001b[m Copying: /specific/scratches/scratch/guy/miniconda/lib/python3.7/site-packages/latex_envs/static/configuration_toolbar.png -> /specific/a/home/cc/students/cs/dar/.local/share/jupyter/nbextensions/latex_envs/configuration_toolbar.png\n",
      "\u001b[32m[I 22:13:25 InstallContribNbextensionsApp]\u001b[m Copying: /specific/scratches/scratch/guy/miniconda/lib/python3.7/site-packages/latex_envs/static/bibtex2.js -> /specific/a/home/cc/students/cs/dar/.local/share/jupyter/nbextensions/latex_envs/bibtex2.js\n",
      "\u001b[32m[I 22:13:25 InstallContribNbextensionsApp]\u001b[m Copying: /specific/scratches/scratch/guy/miniconda/lib/python3.7/site-packages/latex_envs/static/bibInNb4.js -> /specific/a/home/cc/students/cs/dar/.local/share/jupyter/nbextensions/latex_envs/bibInNb4.js\n",
      "\u001b[32m[I 22:13:25 InstallContribNbextensionsApp]\u001b[m Copying: /specific/scratches/scratch/guy/miniconda/lib/python3.7/site-packages/latex_envs/static/README.md -> /specific/a/home/cc/students/cs/dar/.local/share/jupyter/nbextensions/latex_envs/README.md\n",
      "\u001b[32m[I 22:13:25 InstallContribNbextensionsApp]\u001b[m Making directory: /specific/a/home/cc/students/cs/dar/.local/share/jupyter/nbextensions/latex_envs/doc\n",
      "\u001b[32m[I 22:13:25 InstallContribNbextensionsApp]\u001b[m Copying: /specific/scratches/scratch/guy/miniconda/lib/python3.7/site-packages/latex_envs/static/doc/main_toolbar.png -> /specific/a/home/cc/students/cs/dar/.local/share/jupyter/nbextensions/latex_envs/doc/main_toolbar.png\n",
      "\u001b[32m[I 22:13:25 InstallContribNbextensionsApp]\u001b[m Copying: /specific/scratches/scratch/guy/miniconda/lib/python3.7/site-packages/latex_envs/static/doc/latex_env_doc.tex -> /specific/a/home/cc/students/cs/dar/.local/share/jupyter/nbextensions/latex_envs/doc/latex_env_doc.tex\n",
      "\u001b[32m[I 22:13:25 InstallContribNbextensionsApp]\u001b[m Copying: /specific/scratches/scratch/guy/miniconda/lib/python3.7/site-packages/latex_envs/static/doc/latex_env_doc.ipynb -> /specific/a/home/cc/students/cs/dar/.local/share/jupyter/nbextensions/latex_envs/doc/latex_env_doc.ipynb\n",
      "\u001b[32m[I 22:13:25 InstallContribNbextensionsApp]\u001b[m Copying: /specific/scratches/scratch/guy/miniconda/lib/python3.7/site-packages/latex_envs/static/doc/latex_env_doc.html -> /specific/a/home/cc/students/cs/dar/.local/share/jupyter/nbextensions/latex_envs/doc/latex_env_doc.html\n",
      "\u001b[32m[I 22:13:25 InstallContribNbextensionsApp]\u001b[m Copying: /specific/scratches/scratch/guy/miniconda/lib/python3.7/site-packages/latex_envs/static/doc/header.tex -> /specific/a/home/cc/students/cs/dar/.local/share/jupyter/nbextensions/latex_envs/doc/header.tex\n",
      "\u001b[32m[I 22:13:25 InstallContribNbextensionsApp]\u001b[m Copying: /specific/scratches/scratch/guy/miniconda/lib/python3.7/site-packages/latex_envs/static/doc/example.png -> /specific/a/home/cc/students/cs/dar/.local/share/jupyter/nbextensions/latex_envs/doc/example.png\n",
      "\u001b[32m[I 22:13:25 InstallContribNbextensionsApp]\u001b[m Copying: /specific/scratches/scratch/guy/miniconda/lib/python3.7/site-packages/latex_envs/static/doc/documentation.tex -> /specific/a/home/cc/students/cs/dar/.local/share/jupyter/nbextensions/latex_envs/doc/documentation.tex\n",
      "\u001b[32m[I 22:13:25 InstallContribNbextensionsApp]\u001b[m Copying: /specific/scratches/scratch/guy/miniconda/lib/python3.7/site-packages/latex_envs/static/doc/documentation.pdf -> /specific/a/home/cc/students/cs/dar/.local/share/jupyter/nbextensions/latex_envs/doc/documentation.pdf\n",
      "\u001b[32m[I 22:13:25 InstallContribNbextensionsApp]\u001b[m Copying: /specific/scratches/scratch/guy/miniconda/lib/python3.7/site-packages/latex_envs/static/doc/configuration_toolbar.png -> /specific/a/home/cc/students/cs/dar/.local/share/jupyter/nbextensions/latex_envs/doc/configuration_toolbar.png\n",
      "\u001b[32m[I 22:13:25 InstallContribNbextensionsApp]\u001b[m Copying: /specific/scratches/scratch/guy/miniconda/lib/python3.7/site-packages/latex_envs/static/doc/config_toolbar.png -> /specific/a/home/cc/students/cs/dar/.local/share/jupyter/nbextensions/latex_envs/doc/config_toolbar.png\n",
      "\u001b[32m[I 22:13:25 InstallContribNbextensionsApp]\u001b[m Copying: /specific/scratches/scratch/guy/miniconda/lib/python3.7/site-packages/latex_envs/static/doc/biblio_ipython.bib -> /specific/a/home/cc/students/cs/dar/.local/share/jupyter/nbextensions/latex_envs/doc/biblio_ipython.bib\n",
      "\u001b[32m[I 22:13:25 InstallContribNbextensionsApp]\u001b[m Copying: /specific/scratches/scratch/guy/miniconda/lib/python3.7/site-packages/latex_envs/static/doc/Toggles.png -> /specific/a/home/cc/students/cs/dar/.local/share/jupyter/nbextensions/latex_envs/doc/Toggles.png\n",
      "\u001b[32m[I 22:13:25 InstallContribNbextensionsApp]\u001b[m Copying: /specific/scratches/scratch/guy/miniconda/lib/python3.7/site-packages/latex_envs/static/doc/README.md -> /specific/a/home/cc/students/cs/dar/.local/share/jupyter/nbextensions/latex_envs/doc/README.md\n",
      "\u001b[32m[I 22:13:25 InstallContribNbextensionsApp]\u001b[m Copying: /specific/scratches/scratch/guy/miniconda/lib/python3.7/site-packages/latex_envs/static/doc/LaTeX_envs_menu.png -> /specific/a/home/cc/students/cs/dar/.local/share/jupyter/nbextensions/latex_envs/doc/LaTeX_envs_menu.png\n",
      "\u001b[32m[I 22:13:25 InstallContribNbextensionsApp]\u001b[m Copying: /specific/scratches/scratch/guy/miniconda/lib/python3.7/site-packages/latex_envs/static/doc/IEEEtran.bst -> /specific/a/home/cc/students/cs/dar/.local/share/jupyter/nbextensions/latex_envs/doc/IEEEtran.bst\n",
      "\u001b[32m[I 22:13:25 InstallContribNbextensionsApp]\u001b[m Making directory: /specific/a/home/cc/students/cs/dar/.local/share/jupyter/nbextensions/latex_envs/doc/latex_env_doc_files\n",
      "\u001b[32m[I 22:13:25 InstallContribNbextensionsApp]\u001b[m Copying: /specific/scratches/scratch/guy/miniconda/lib/python3.7/site-packages/latex_envs/static/doc/latex_env_doc_files/latex_env_doc_52_0.png -> /specific/a/home/cc/students/cs/dar/.local/share/jupyter/nbextensions/latex_envs/doc/latex_env_doc_files/latex_env_doc_52_0.png\n",
      "\u001b[32m[I 22:13:25 InstallContribNbextensionsApp]\u001b[m Copying: /specific/scratches/scratch/guy/miniconda/lib/python3.7/site-packages/latex_envs/static/doc/latex_env_doc_files/latex_env_doc_51_0.png -> /specific/a/home/cc/students/cs/dar/.local/share/jupyter/nbextensions/latex_envs/doc/latex_env_doc_files/latex_env_doc_51_0.png\n",
      "\u001b[32m[I 22:13:25 InstallContribNbextensionsApp]\u001b[m Copying: /specific/scratches/scratch/guy/miniconda/lib/python3.7/site-packages/latex_envs/static/doc/latex_env_doc_files/latex_env_doc_50_0.png -> /specific/a/home/cc/students/cs/dar/.local/share/jupyter/nbextensions/latex_envs/doc/latex_env_doc_files/latex_env_doc_50_0.png\n",
      "\u001b[32m[I 22:13:25 InstallContribNbextensionsApp]\u001b[m Copying: /specific/scratches/scratch/guy/miniconda/lib/python3.7/site-packages/latex_envs/static/doc/latex_env_doc_files/latex_env_doc_49_0.png -> /specific/a/home/cc/students/cs/dar/.local/share/jupyter/nbextensions/latex_envs/doc/latex_env_doc_files/latex_env_doc_49_0.png\n",
      "\u001b[32m[I 22:13:25 InstallContribNbextensionsApp]\u001b[m Copying: /specific/scratches/scratch/guy/miniconda/lib/python3.7/site-packages/latex_envs/static/doc/latex_env_doc_files/latex_env_doc_48_0.png -> /specific/a/home/cc/students/cs/dar/.local/share/jupyter/nbextensions/latex_envs/doc/latex_env_doc_files/latex_env_doc_48_0.png\n",
      "\u001b[32m[I 22:13:25 InstallContribNbextensionsApp]\u001b[m Copying: /specific/scratches/scratch/guy/miniconda/lib/python3.7/site-packages/latex_envs/static/doc/latex_env_doc_files/latex_env_doc_47_0.png -> /specific/a/home/cc/students/cs/dar/.local/share/jupyter/nbextensions/latex_envs/doc/latex_env_doc_files/latex_env_doc_47_0.png\n",
      "\u001b[32m[I 22:13:25 InstallContribNbextensionsApp]\u001b[m Copying: /specific/scratches/scratch/guy/miniconda/lib/python3.7/site-packages/latex_envs/static/doc/latex_env_doc_files/latex_env_doc_46_0.png -> /specific/a/home/cc/students/cs/dar/.local/share/jupyter/nbextensions/latex_envs/doc/latex_env_doc_files/latex_env_doc_46_0.png\n",
      "\u001b[32m[I 22:13:25 InstallContribNbextensionsApp]\u001b[m Copying: /specific/scratches/scratch/guy/miniconda/lib/python3.7/site-packages/latex_envs/static/doc/latex_env_doc_files/latex_env_doc_45_0.png -> /specific/a/home/cc/students/cs/dar/.local/share/jupyter/nbextensions/latex_envs/doc/latex_env_doc_files/latex_env_doc_45_0.png\n",
      "\u001b[32m[I 22:13:25 InstallContribNbextensionsApp]\u001b[m Copying: /specific/scratches/scratch/guy/miniconda/lib/python3.7/site-packages/latex_envs/static/doc/latex_env_doc_files/latex_env_doc_44_0.png -> /specific/a/home/cc/students/cs/dar/.local/share/jupyter/nbextensions/latex_envs/doc/latex_env_doc_files/latex_env_doc_44_0.png\n",
      "\u001b[32m[I 22:13:25 InstallContribNbextensionsApp]\u001b[m Copying: /specific/scratches/scratch/guy/miniconda/lib/python3.7/site-packages/latex_envs/static/doc/latex_env_doc_files/latex_env_doc_43_0.png -> /specific/a/home/cc/students/cs/dar/.local/share/jupyter/nbextensions/latex_envs/doc/latex_env_doc_files/latex_env_doc_43_0.png\n",
      "\u001b[32m[I 22:13:25 InstallContribNbextensionsApp]\u001b[m Copying: /specific/scratches/scratch/guy/miniconda/lib/python3.7/site-packages/latex_envs/static/doc/latex_env_doc_files/latex_env_doc_42_0.png -> /specific/a/home/cc/students/cs/dar/.local/share/jupyter/nbextensions/latex_envs/doc/latex_env_doc_files/latex_env_doc_42_0.png\n",
      "\u001b[32m[I 22:13:25 InstallContribNbextensionsApp]\u001b[m Copying: /specific/scratches/scratch/guy/miniconda/lib/python3.7/site-packages/latex_envs/static/doc/latex_env_doc_files/latex_env_doc_41_0.png -> /specific/a/home/cc/students/cs/dar/.local/share/jupyter/nbextensions/latex_envs/doc/latex_env_doc_files/latex_env_doc_41_0.png\n",
      "\u001b[32m[I 22:13:25 InstallContribNbextensionsApp]\u001b[m Copying: /specific/scratches/scratch/guy/miniconda/lib/python3.7/site-packages/latex_envs/static/doc/latex_env_doc_files/latex_env_doc_27_2.png -> /specific/a/home/cc/students/cs/dar/.local/share/jupyter/nbextensions/latex_envs/doc/latex_env_doc_files/latex_env_doc_27_2.png\n",
      "\u001b[32m[I 22:13:25 InstallContribNbextensionsApp]\u001b[m Copying: /specific/scratches/scratch/guy/miniconda/lib/python3.7/site-packages/latex_envs/static/doc/latex_env_doc_files/latex_env_doc_26_2.png -> /specific/a/home/cc/students/cs/dar/.local/share/jupyter/nbextensions/latex_envs/doc/latex_env_doc_files/latex_env_doc_26_2.png\n",
      "\u001b[32m[I 22:13:25 InstallContribNbextensionsApp]\u001b[m Copying: /specific/scratches/scratch/guy/miniconda/lib/python3.7/site-packages/latex_envs/static/doc/latex_env_doc_files/latex_env_doc_24_2.png -> /specific/a/home/cc/students/cs/dar/.local/share/jupyter/nbextensions/latex_envs/doc/latex_env_doc_files/latex_env_doc_24_2.png\n",
      "\u001b[32m[I 22:13:25 InstallContribNbextensionsApp]\u001b[m Copying: /specific/scratches/scratch/guy/miniconda/lib/python3.7/site-packages/latex_envs/static/doc/latex_env_doc_files/latex_env_doc_23_2.png -> /specific/a/home/cc/students/cs/dar/.local/share/jupyter/nbextensions/latex_envs/doc/latex_env_doc_files/latex_env_doc_23_2.png\n",
      "\u001b[32m[I 22:13:25 InstallContribNbextensionsApp]\u001b[m Making directory: /specific/a/home/cc/students/cs/dar/.local/share/jupyter/nbextensions/latex_envs/doc/.ipynb_checkpoints\n",
      "\u001b[32m[I 22:13:25 InstallContribNbextensionsApp]\u001b[m Copying: /specific/scratches/scratch/guy/miniconda/lib/python3.7/site-packages/latex_envs/static/doc/.ipynb_checkpoints/latex_env_doc-checkpoint.ipynb -> /specific/a/home/cc/students/cs/dar/.local/share/jupyter/nbextensions/latex_envs/doc/.ipynb_checkpoints/latex_env_doc-checkpoint.ipynb\n",
      "\u001b[32m[I 22:13:25 InstallContribNbextensionsApp]\u001b[m - Validating: \u001b[32mOK\u001b[0m\n",
      "\u001b[32m[I 22:13:25 InstallContribNbextensionsApp]\u001b[m Installing jupyter_contrib_nbextensions items to config in /specific/a/home/cc/students/cs/dar/.jupyter\n",
      "Enabling: jupyter_nbextensions_configurator\n",
      "- Writing config: /specific/a/home/cc/students/cs/dar/.jupyter\n",
      "    - Validating...\n",
      "      jupyter_nbextensions_configurator 0.4.1 \u001b[32mOK\u001b[0m\n",
      "Enabling notebook nbextension nbextensions_configurator/config_menu/main...\n",
      "Enabling tree nbextension nbextensions_configurator/tree_tab/main...\n",
      "\u001b[32m[I 22:13:25 InstallContribNbextensionsApp]\u001b[m Enabling notebook extension contrib_nbextensions_help_item/main...\n",
      "\u001b[32m[I 22:13:25 InstallContribNbextensionsApp]\u001b[m       - Validating: \u001b[32mOK\u001b[0m\n",
      "\u001b[32m[I 22:13:25 InstallContribNbextensionsApp]\u001b[m - Editing config: /specific/a/home/cc/students/cs/dar/.jupyter/jupyter_nbconvert_config.json\n",
      "\u001b[32m[I 22:13:25 InstallContribNbextensionsApp]\u001b[m --  Configuring nbconvert template path\n",
      "\u001b[32m[I 22:13:25 InstallContribNbextensionsApp]\u001b[m --  Configuring nbconvert preprocessors\n",
      "\u001b[32m[I 22:13:25 InstallContribNbextensionsApp]\u001b[m - Writing config: /specific/a/home/cc/students/cs/dar/.jupyter/jupyter_nbconvert_config.json\n",
      "\u001b[32m[I 22:13:25 InstallContribNbextensionsApp]\u001b[m --  Writing updated config file /specific/a/home/cc/students/cs/dar/.jupyter/jupyter_nbconvert_config.json\n"
     ]
    }
   ],
   "source": [
    "%pip install --user jupyter_contrib_nbextensions\n",
    "!/vol/scratch/guy/miniconda/bin/python3.7 -m jupyter contrib nbextension install --user"
   ]
  },
  {
   "cell_type": "code",
   "execution_count": 83,
   "metadata": {
    "collapsed": false
   },
   "outputs": [
    {
     "data": {
      "text/plain": [
       "['Enabling notebook extension toc2/main...',\n",
       " '      - Validating: \\x1b[32mOK\\x1b[0m']"
      ]
     },
     "execution_count": 83,
     "metadata": {},
     "output_type": "execute_result"
    }
   ],
   "source": [
    "!!/vol/scratch/guy/miniconda/bin/python3.7 -m jupyter nbextension enable toc2/main"
   ]
  },
  {
   "cell_type": "code",
   "execution_count": 6,
   "metadata": {
    "collapsed": true
   },
   "outputs": [
    {
     "name": "stdout",
     "output_type": "stream",
     "text": [
      "Looking in links: https://download.pytorch.org/whl/torch_stable.html\n",
      "Requirement already satisfied: torch==1.3.1+cu100 in ./miniconda/lib/python3.7/site-packages (1.3.1+cu100)\n",
      "Requirement already satisfied: torchvision==0.4.2+cu100 in ./miniconda/lib/python3.7/site-packages (0.4.2+cu100)\n",
      "Requirement already satisfied: numpy in ./miniconda/lib/python3.7/site-packages (from torch==1.3.1+cu100) (1.19.1)\n",
      "Requirement already satisfied: pillow>=4.1.1 in ./miniconda/lib/python3.7/site-packages (from torchvision==0.4.2+cu100) (7.2.0)\n",
      "Requirement already satisfied: six in ./miniconda/lib/python3.7/site-packages (from torchvision==0.4.2+cu100) (1.14.0)\n",
      "Note: you may need to restart the kernel to use updated packages.\n"
     ]
    }
   ],
   "source": [
    "%pip install torch==1.3.1+cu100 torchvision==0.4.2+cu100 -f https://download.pytorch.org/whl/torch_stable.html"
   ]
  },
  {
   "cell_type": "code",
   "execution_count": 7,
   "metadata": {
    "collapsed": true
   },
   "outputs": [
    {
     "name": "stdout",
     "output_type": "stream",
     "text": [
      "/specific/scratches/scratch/guy/torch-transformers-cache\n",
      "fatal: destination path 'transformers' already exists and is not an empty directory.\n",
      "Processing ./transformers\n",
      "Requirement already satisfied: numpy in /specific/scratches/scratch/guy/miniconda/lib/python3.7/site-packages (from transformers==3.0.2) (1.19.1)\n",
      "Requirement already satisfied: tokenizers==0.8.1.rc2 in /specific/scratches/scratch/guy/miniconda/lib/python3.7/site-packages (from transformers==3.0.2) (0.8.1rc2)\n",
      "Requirement already satisfied: packaging in /specific/scratches/scratch/guy/miniconda/lib/python3.7/site-packages (from transformers==3.0.2) (20.4)\n",
      "Requirement already satisfied: filelock in /specific/scratches/scratch/guy/miniconda/lib/python3.7/site-packages (from transformers==3.0.2) (3.0.12)\n",
      "Requirement already satisfied: requests in /specific/scratches/scratch/guy/miniconda/lib/python3.7/site-packages (from transformers==3.0.2) (2.23.0)\n",
      "Requirement already satisfied: tqdm>=4.27 in /specific/scratches/scratch/guy/miniconda/lib/python3.7/site-packages (from transformers==3.0.2) (4.28.1)\n",
      "Requirement already satisfied: regex!=2019.12.17 in /specific/scratches/scratch/guy/miniconda/lib/python3.7/site-packages (from transformers==3.0.2) (2020.7.14)\n",
      "Requirement already satisfied: sentencepiece!=0.1.92 in /specific/scratches/scratch/guy/miniconda/lib/python3.7/site-packages (from transformers==3.0.2) (0.1.91)\n",
      "Requirement already satisfied: sacremoses in /specific/scratches/scratch/guy/miniconda/lib/python3.7/site-packages (from transformers==3.0.2) (0.0.43)\n",
      "Requirement already satisfied: six in /specific/scratches/scratch/guy/miniconda/lib/python3.7/site-packages (from packaging->transformers==3.0.2) (1.14.0)\n",
      "Requirement already satisfied: pyparsing>=2.0.2 in /specific/scratches/scratch/guy/miniconda/lib/python3.7/site-packages (from packaging->transformers==3.0.2) (2.4.7)\n",
      "Requirement already satisfied: chardet<4,>=3.0.2 in /specific/scratches/scratch/guy/miniconda/lib/python3.7/site-packages (from requests->transformers==3.0.2) (3.0.4)\n",
      "Requirement already satisfied: certifi>=2017.4.17 in /specific/scratches/scratch/guy/miniconda/lib/python3.7/site-packages (from requests->transformers==3.0.2) (2020.6.20)\n",
      "Requirement already satisfied: urllib3!=1.25.0,!=1.25.1,<1.26,>=1.21.1 in /specific/scratches/scratch/guy/miniconda/lib/python3.7/site-packages (from requests->transformers==3.0.2) (1.25.8)\n",
      "Requirement already satisfied: idna<3,>=2.5 in /specific/scratches/scratch/guy/miniconda/lib/python3.7/site-packages (from requests->transformers==3.0.2) (2.9)\n",
      "Requirement already satisfied: joblib in /specific/scratches/scratch/guy/miniconda/lib/python3.7/site-packages (from sacremoses->transformers==3.0.2) (0.16.0)\n",
      "Requirement already satisfied: click in /specific/scratches/scratch/guy/miniconda/lib/python3.7/site-packages (from sacremoses->transformers==3.0.2) (7.1.2)\n",
      "Building wheels for collected packages: transformers\n",
      "  Building wheel for transformers (setup.py) ... \u001b[?25l-\b \b\\\b \b|\b \bdone\n",
      "\u001b[?25h  Created wheel for transformers: filename=transformers-3.0.2-py3-none-any.whl size=801243 sha256=632bcef30db79fe88ecc196bf93445cfffd14b1c656f188478eaee873a38bc4e\n",
      "  Stored in directory: /tmp/pip-ephem-wheel-cache-mizzaam1/wheels/39/32/32/2acb69904d2cb31855aef2717e90dbf52ea3cd7ee61f887462\n",
      "Successfully built transformers\n",
      "Installing collected packages: transformers\n",
      "  Attempting uninstall: transformers\n",
      "    Found existing installation: transformers 3.0.2\n",
      "    Uninstalling transformers-3.0.2:\n",
      "      Successfully uninstalled transformers-3.0.2\n",
      "Successfully installed transformers-3.0.2\n",
      "Note: you may need to restart the kernel to use updated packages.\n",
      "Requirement already up-to-date: nlp in /specific/scratches/scratch/guy/miniconda/lib/python3.7/site-packages (0.3.0)\n",
      "Requirement already satisfied, skipping upgrade: pyarrow>=0.16.0 in /specific/scratches/scratch/guy/miniconda/lib/python3.7/site-packages (from nlp) (1.0.0)\n",
      "Requirement already satisfied, skipping upgrade: tqdm>=4.27 in /specific/scratches/scratch/guy/miniconda/lib/python3.7/site-packages (from nlp) (4.28.1)\n",
      "Requirement already satisfied, skipping upgrade: dill in /specific/scratches/scratch/guy/miniconda/lib/python3.7/site-packages (from nlp) (0.3.2)\n",
      "Requirement already satisfied, skipping upgrade: filelock in /specific/scratches/scratch/guy/miniconda/lib/python3.7/site-packages (from nlp) (3.0.12)\n",
      "Requirement already satisfied, skipping upgrade: requests>=2.19.0 in /specific/scratches/scratch/guy/miniconda/lib/python3.7/site-packages (from nlp) (2.23.0)\n",
      "Requirement already satisfied, skipping upgrade: numpy in /specific/scratches/scratch/guy/miniconda/lib/python3.7/site-packages (from nlp) (1.19.1)\n",
      "Requirement already satisfied, skipping upgrade: urllib3!=1.25.0,!=1.25.1,<1.26,>=1.21.1 in /specific/scratches/scratch/guy/miniconda/lib/python3.7/site-packages (from requests>=2.19.0->nlp) (1.25.8)\n",
      "Requirement already satisfied, skipping upgrade: idna<3,>=2.5 in /specific/scratches/scratch/guy/miniconda/lib/python3.7/site-packages (from requests>=2.19.0->nlp) (2.9)\n",
      "Requirement already satisfied, skipping upgrade: chardet<4,>=3.0.2 in /specific/scratches/scratch/guy/miniconda/lib/python3.7/site-packages (from requests>=2.19.0->nlp) (3.0.4)\n",
      "Requirement already satisfied, skipping upgrade: certifi>=2017.4.17 in /specific/scratches/scratch/guy/miniconda/lib/python3.7/site-packages (from requests>=2.19.0->nlp) (2020.6.20)\n",
      "Note: you may need to restart the kernel to use updated packages.\n"
     ]
    }
   ],
   "source": [
    "%cd /vol/scratch/guy/torch-transformers-cache/\n",
    "!git clone https://github.com/huggingface/transformers.git\n",
    "%pip install ./transformers\n",
    "%pip install -U nlp"
   ]
  },
  {
   "cell_type": "code",
   "execution_count": 8,
   "metadata": {
    "collapsed": false
   },
   "outputs": [
    {
     "name": "stdout",
     "output_type": "stream",
     "text": [
      "/specific/scratches/scratch/guy\n",
      "mkdir: cannot create directory 'datasets': File exists\n",
      "mkdir: cannot create directory 'torch-transformers-cache': File exists\n"
     ]
    }
   ],
   "source": [
    "%cd /vol/scratch/guy/\n",
    "!mkdir datasets\n",
    "!mkdir torch-transformers-cache\n",
    "## Not working!!!\n",
    "!setenv TRANSFORMERS_CACHE /vol/scratch/guy/torch-transformers-cache\n",
    "!setenv CUDA_VISIBLE_DEVICES 0"
   ]
  },
  {
   "cell_type": "code",
   "execution_count": 2,
   "metadata": {
    "collapsed": true
   },
   "outputs": [
    {
     "name": "stdout",
     "output_type": "stream",
     "text": [
      "Requirement already satisfied: matplotlib in ./miniconda/lib/python3.7/site-packages (3.3.0)\n",
      "Requirement already satisfied: seaborn in ./miniconda/lib/python3.7/site-packages (0.10.1)\n",
      "Requirement already satisfied: pandas in ./miniconda/lib/python3.7/site-packages (1.1.0)\n",
      "Requirement already satisfied: tqdm in ./miniconda/lib/python3.7/site-packages (4.28.1)\n",
      "Requirement already satisfied: python-dateutil>=2.1 in ./miniconda/lib/python3.7/site-packages (from matplotlib) (2.8.1)\n",
      "Requirement already satisfied: numpy>=1.15 in ./miniconda/lib/python3.7/site-packages (from matplotlib) (1.19.1)\n",
      "Requirement already satisfied: pyparsing!=2.0.4,!=2.1.2,!=2.1.6,>=2.0.3 in ./miniconda/lib/python3.7/site-packages (from matplotlib) (2.4.7)\n",
      "Requirement already satisfied: kiwisolver>=1.0.1 in ./miniconda/lib/python3.7/site-packages (from matplotlib) (1.2.0)\n",
      "Requirement already satisfied: cycler>=0.10 in ./miniconda/lib/python3.7/site-packages (from matplotlib) (0.10.0)\n",
      "Requirement already satisfied: pillow>=6.2.0 in ./miniconda/lib/python3.7/site-packages (from matplotlib) (7.2.0)\n",
      "Requirement already satisfied: scipy>=1.0.1 in ./miniconda/lib/python3.7/site-packages (from seaborn) (1.5.2)\n",
      "Requirement already satisfied: pytz>=2017.2 in ./miniconda/lib/python3.7/site-packages (from pandas) (2020.1)\n",
      "Requirement already satisfied: six>=1.5 in ./miniconda/lib/python3.7/site-packages (from python-dateutil>=2.1->matplotlib) (1.14.0)\n",
      "Note: you may need to restart the kernel to use updated packages.\n"
     ]
    }
   ],
   "source": [
    "%pip install matplotlib seaborn pandas tqdm"
   ]
  },
  {
   "cell_type": "code",
   "execution_count": 56,
   "metadata": {
    "collapsed": true
   },
   "outputs": [
    {
     "name": "stdout",
     "output_type": "stream",
     "text": [
      "Collecting pandas\n",
      "  Downloading pandas-1.1.0-cp37-cp37m-manylinux1_x86_64.whl (10.5 MB)\n",
      "\u001b[K     |################################| 10.5 MB 9.1 MB/s eta 0:00:01\n",
      "\u001b[?25hRequirement already satisfied: numpy>=1.15.4 in ./miniconda/lib/python3.7/site-packages (from pandas) (1.19.1)\n",
      "Collecting pytz>=2017.2\n",
      "  Downloading pytz-2020.1-py2.py3-none-any.whl (510 kB)\n",
      "\u001b[K     |################################| 510 kB 13.7 MB/s eta 0:00:01\n",
      "\u001b[?25hRequirement already satisfied: python-dateutil>=2.7.3 in ./miniconda/lib/python3.7/site-packages (from pandas) (2.8.1)\n",
      "Requirement already satisfied: six>=1.5 in ./miniconda/lib/python3.7/site-packages (from python-dateutil>=2.7.3->pandas) (1.14.0)\n",
      "Installing collected packages: pytz, pandas\n",
      "Successfully installed pandas-1.1.0 pytz-2020.1\n",
      "Note: you may need to restart the kernel to use updated packages.\n",
      "Enabling notebook extension jupyter-js-widgets/extension...\n",
      "      - Validating: \u001b[32mOK\u001b[0m\n"
     ]
    }
   ],
   "source": [
    "%pip install ipywidgets\n",
    "# %conda install ipywidgets\n",
    "!jupyter nbextension enable --py widgetsnbextension"
   ]
  },
  {
   "cell_type": "markdown",
   "metadata": {},
   "source": [
    "### import"
   ]
  },
  {
   "cell_type": "code",
   "execution_count": 1,
   "metadata": {
    "collapsed": false
   },
   "outputs": [
    {
     "name": "stdout",
     "output_type": "stream",
     "text": [
      "/specific/scratches/scratch/guy/datasets\n"
     ]
    }
   ],
   "source": [
    "cache_dir = \"/vol/scratch/guy/torch-transformers-cache/\"\n",
    "import torch\n",
    "from tokenizers import Tokenizer\n",
    "import transformers\n",
    "from transformers import AutoModel, AutoTokenizer, pipeline\n",
    "import numpy as np\n",
    "import pandas as pd\n",
    "from tqdm import tqdm\n",
    "import matplotlib.pyplot as plt \n",
    "import seaborn as sns\n",
    "import nltk\n",
    "\n",
    "%matplotlib inline\n",
    "%cd /vol/scratch/guy/datasets"
   ]
  },
  {
   "cell_type": "markdown",
   "metadata": {},
   "source": [
    "## Phrase Tokenizer"
   ]
  },
  {
   "cell_type": "markdown",
   "metadata": {},
   "source": [
    "### Load dataset"
   ]
  },
  {
   "cell_type": "code",
   "execution_count": null,
   "metadata": {
    "collapsed": true
   },
   "outputs": [],
   "source": [
    "!wget http://ai.stanford.edu/~amaas/data/sentiment/aclImdb_v1.tar.gz\n",
    "!tar -xf acl*.tar.gz"
   ]
  },
  {
   "cell_type": "code",
   "execution_count": 14,
   "metadata": {
    "collapsed": false
   },
   "outputs": [
    {
     "name": "stderr",
     "output_type": "stream",
     "text": [
      "100%|██████████| 75000/75000 [01:49<00:00, 687.41it/s] \n"
     ]
    }
   ],
   "source": [
    "import glob\n",
    "sentences = []\n",
    "target = []\n",
    "path = '/vol/scratch/guy/datasets/aclImdb/train/**/*.txt' \n",
    "files = glob.glob(path)\n",
    "for name in tqdm(files):\n",
    "    with open(name) as f:\n",
    "        target+=[int('pos' in name)] # Classical quick & dirty\n",
    "        sentences += [l for l in f]"
   ]
  },
  {
   "cell_type": "markdown",
   "metadata": {},
   "source": [
    "### \"word-BPE\" encoding"
   ]
  },
  {
   "cell_type": "code",
   "execution_count": 15,
   "metadata": {
    "collapsed": false
   },
   "outputs": [
    {
     "name": "stderr",
     "output_type": "stream",
     "text": [
      "100%|██████████| 75000/75000 [00:49<00:00, 1527.07it/s]\n"
     ]
    }
   ],
   "source": [
    "from collections import defaultdict\n",
    "\n",
    "corpus = sentences\n",
    "vocab = defaultdict(int)\n",
    "\n",
    "for sentence in tqdm(corpus):\n",
    "    for n in range(3):\n",
    "        ngrams = (nltk.ngrams(sentence.lower().split(), n))\n",
    "        for a in ngrams:\n",
    "            vocab[a] += 1"
   ]
  },
  {
   "cell_type": "code",
   "execution_count": 16,
   "metadata": {
    "collapsed": false
   },
   "outputs": [],
   "source": [
    "n_tokens = 85000\n",
    "pad_idx = n_tokens\n",
    "tokens = list(map(lambda x: \" \".join(x[0]), sorted(vocab.items(), key = lambda x: x[1], reverse=True)[:n_tokens]))"
   ]
  },
  {
   "cell_type": "code",
   "execution_count": 17,
   "metadata": {
    "collapsed": false
   },
   "outputs": [],
   "source": [
    "class NgramTokenizer:\n",
    "    def encode(self, sentence):\n",
    "        sentence_ = sentence.split()\n",
    "        id_list = []\n",
    "        for word in sentence_:\n",
    "            if word in tokens:\n",
    "                id_list+=[tokens.index(word)]\n",
    "            else:\n",
    "                id_list+=[pad_idx]\n",
    "\n",
    "        i = 0\n",
    "        max_merges = 10\n",
    "        have_merged_ids = True\n",
    "        while i < max_merges and have_merged_ids:\n",
    "            id_list, have_merged_ids = self._try_merge(id_list)\n",
    "            i += 1\n",
    "            \n",
    "        return id_list\n",
    "    def decode(self, id_list):\n",
    "        return \" \".join(map(self.id_to_token, id_list))\n",
    "    \n",
    "    def _try_merge(self, id_list):\n",
    "        bigrams = list(nltk.ngrams(id_list, 2))\n",
    "        t = 0\n",
    "        new_id_list = []\n",
    "        have_merged_ids = False\n",
    "        while t <= len(bigrams):\n",
    "            if t >= len(bigrams):\n",
    "                new_id_list+= [id_list[t]]\n",
    "            else:\n",
    "                purported_token = (\" \".join(map(self.id_to_token, bigrams[t])))\n",
    "                if purported_token in tokens:\n",
    "                    new_id_list += [tokens.index(purported_token)]\n",
    "                    t += 1\n",
    "                    have_merged_ids = True\n",
    "                else:\n",
    "                    new_id_list += [id_list[t]]\n",
    "            t+=1 \n",
    "        return new_id_list, have_merged_ids\n",
    "    \n",
    "    def id_to_token(self, i):\n",
    "        if i < len(tokens):\n",
    "            return tokens[i]\n",
    "        else:\n",
    "            return \"<UNK>\"\n",
    "        "
   ]
  },
  {
   "cell_type": "code",
   "execution_count": 18,
   "metadata": {
    "collapsed": true
   },
   "outputs": [],
   "source": [
    "tokenizer = NgramTokenizer()"
   ]
  },
  {
   "cell_type": "markdown",
   "metadata": {},
   "source": [
    "#### Play around with statistics"
   ]
  },
  {
   "cell_type": "code",
   "execution_count": 14,
   "metadata": {
    "collapsed": false
   },
   "outputs": [
    {
     "name": "stderr",
     "output_type": "stream",
     "text": [
      "100%|██████████| 300/300 [03:53<00:00,  1.24it/s]\n"
     ]
    }
   ],
   "source": [
    "q = []\n",
    "for i in tqdm(range(300)):\n",
    "    q += [len((tokenizer.encode(corpus[i])))/len(corpus[i].split())]"
   ]
  },
  {
   "cell_type": "code",
   "execution_count": 20,
   "metadata": {
    "collapsed": false
   },
   "outputs": [
    {
     "name": "stdout",
     "output_type": "stream",
     "text": [
      "0.7123880549081645\n"
     ]
    },
    {
     "data": {
      "image/png": "[encoded data removed]",
      "text/plain": [
       "<Figure size 432x288 with 1 Axes>"
      ]
     },
     "metadata": {
      "needs_background": "light"
     },
     "output_type": "display_data"
    }
   ],
   "source": [
    "sns.kdeplot(q)\n",
    "plt.axvline(np.mean(q))\n",
    "print(np.mean(q))"
   ]
  },
  {
   "cell_type": "markdown",
   "metadata": {},
   "source": [
    "#### Tokenize all sentences and save to file (deprecated)"
   ]
  },
  {
   "cell_type": "code",
   "execution_count": 56,
   "metadata": {
    "collapsed": true
   },
   "outputs": [],
   "source": [
    "!touch /vol/scratch/guy/datasets/sentences_encoded.txt"
   ]
  },
  {
   "cell_type": "code",
   "execution_count": null,
   "metadata": {
    "collapsed": false
   },
   "outputs": [
    {
     "name": "stderr",
     "output_type": "stream",
     "text": [
      "  2%|▏         | 436/20000 [05:29<2:52:55,  1.89it/s]"
     ]
    }
   ],
   "source": [
    "f = open(\"/vol/scratch/guy/datasets/sentences_encoded.txt\",\"a\")\n",
    "for s in tqdm(sentences[:20000]):\n",
    "    f.writelines([str(tokenizer.encode(s))])\n",
    "f.close()"
   ]
  },
  {
   "cell_type": "code",
   "execution_count": 10,
   "metadata": {
    "collapsed": true
   },
   "outputs": [
    {
     "name": "stderr",
     "output_type": "stream",
     "text": [
      "0it [00:00, ?it/s]\n"
     ]
    },
    {
     "ename": "TypeError",
     "evalue": "'str' object cannot be interpreted as an integer",
     "output_type": "error",
     "traceback": [
      "\u001b[0;31m---------------------------------------------------------------------------\u001b[0m",
      "\u001b[0;31mTypeError\u001b[0m                                 Traceback (most recent call last)",
      "\u001b[0;32m<ipython-input-10-536cbc8a942d>\u001b[0m in \u001b[0;36m<module>\u001b[0;34m\u001b[0m\n\u001b[1;32m      2\u001b[0m \u001b[0mtokenized_sentences\u001b[0m \u001b[0;34m=\u001b[0m \u001b[0;34m[\u001b[0m\u001b[0;34m]\u001b[0m\u001b[0;34m\u001b[0m\u001b[0;34m\u001b[0m\u001b[0m\n\u001b[1;32m      3\u001b[0m \u001b[0;32mfor\u001b[0m \u001b[0mi\u001b[0m\u001b[0;34m,\u001b[0m \u001b[0mline\u001b[0m \u001b[0;32min\u001b[0m \u001b[0menumerate\u001b[0m\u001b[0;34m(\u001b[0m\u001b[0mtqdm\u001b[0m\u001b[0;34m(\u001b[0m\u001b[0mf\u001b[0m\u001b[0;34m)\u001b[0m\u001b[0;34m)\u001b[0m\u001b[0;34m:\u001b[0m\u001b[0;34m\u001b[0m\u001b[0;34m\u001b[0m\u001b[0m\n\u001b[0;32m----> 4\u001b[0;31m     \u001b[0marr\u001b[0m \u001b[0;34m=\u001b[0m \u001b[0mstr\u001b[0m\u001b[0;34m.\u001b[0m\u001b[0mreplace\u001b[0m\u001b[0;34m(\u001b[0m\u001b[0mline\u001b[0m\u001b[0;34m,\u001b[0m\u001b[0;34m'['\u001b[0m\u001b[0;34m,\u001b[0m\u001b[0;34m''\u001b[0m\u001b[0;34m)\u001b[0m\u001b[0;34m.\u001b[0m\u001b[0mreplace\u001b[0m\u001b[0;34m(\u001b[0m\u001b[0mline\u001b[0m\u001b[0;34m,\u001b[0m\u001b[0;34m']'\u001b[0m\u001b[0;34m,\u001b[0m\u001b[0;34m''\u001b[0m\u001b[0;34m)\u001b[0m\u001b[0;34m\u001b[0m\u001b[0;34m\u001b[0m\u001b[0m\n\u001b[0m\u001b[1;32m      5\u001b[0m     \u001b[0mtokenized_sentences\u001b[0m \u001b[0;34m+=\u001b[0m \u001b[0;34m[\u001b[0m\u001b[0mnp\u001b[0m\u001b[0;34m.\u001b[0m\u001b[0mfromstring\u001b[0m\u001b[0;34m(\u001b[0m\u001b[0marr\u001b[0m\u001b[0;34m,\u001b[0m \u001b[0msep\u001b[0m \u001b[0;34m=\u001b[0m \u001b[0;34m','\u001b[0m\u001b[0;34m,\u001b[0m\u001b[0mdtype\u001b[0m \u001b[0;34m=\u001b[0m \u001b[0mint\u001b[0m\u001b[0;34m)\u001b[0m\u001b[0;34m]\u001b[0m\u001b[0;34m\u001b[0m\u001b[0;34m\u001b[0m\u001b[0m\n\u001b[1;32m      6\u001b[0m \u001b[0;34m\u001b[0m\u001b[0m\n",
      "\u001b[0;31mTypeError\u001b[0m: 'str' object cannot be interpreted as an integer"
     ]
    }
   ],
   "source": [
    "f = open(\"/vol/scratch/guy/datasets/sentences_encoded.txt\",\"r\")\n",
    "tokenized_sentences = []\n",
    "for i, line in enumerate(tqdm(f)):\n",
    "    \n",
    "    arr = str.replace(str.replace(line,'[',''),']','')\n",
    "    tokenized_sentences += [np.fromstring(arr, sep = ',',dtype = int)]\n",
    "    \n",
    "f.close()"
   ]
  },
  {
   "cell_type": "code",
   "execution_count": 34,
   "metadata": {
    "collapsed": false
   },
   "outputs": [
    {
     "name": "stderr",
     "output_type": "stream",
     "text": [
      "/specific/scratches/scratch/guy/miniconda/lib/python3.7/site-packages/numpy/core/_asarray.py:136: VisibleDeprecationWarning: Creating an ndarray from ragged nested sequences (which is a list-or-tuple of lists-or-tuples-or ndarrays with different lengths or shapes) is deprecated. If you meant to do this, you must specify 'dtype=object' when creating the ndarray\n",
      "  return array(a, dtype, copy=False, order=order, subok=True)\n"
     ]
    }
   ],
   "source": [
    "np.save(\"sentences_encoded.npy\", tokenized_sentences)"
   ]
  },
  {
   "cell_type": "markdown",
   "metadata": {},
   "source": [
    "#### Load from file (deprecated)"
   ]
  },
  {
   "cell_type": "code",
   "execution_count": 6,
   "metadata": {
    "collapsed": false
   },
   "outputs": [],
   "source": [
    "tokenized_sentences = list(np.load(\"sentences_encoded.npy\", allow_pickle = True))"
   ]
  },
  {
   "cell_type": "markdown",
   "metadata": {},
   "source": [
    "### Transformer"
   ]
  },
  {
   "cell_type": "code",
   "execution_count": 11,
   "metadata": {
    "collapsed": false
   },
   "outputs": [
    {
     "ename": "ValueError",
     "evalue": "Unrecognized configuration class <class 'str'> for this kind of AutoModel: AutoModel.\nModel type should be one of RetriBertConfig, T5Config, DistilBertConfig, AlbertConfig, CamembertConfig, XLMRobertaConfig, BartConfig, LongformerConfig, RobertaConfig, BertConfig, OpenAIGPTConfig, GPT2Config, MobileBertConfig, TransfoXLConfig, XLNetConfig, FlaubertConfig, XLMConfig, CTRLConfig, ElectraConfig, ReformerConfig.",
     "output_type": "error",
     "traceback": [
      "\u001b[0;31m---------------------------------------------------------------------------\u001b[0m",
      "\u001b[0;31mValueError\u001b[0m                                Traceback (most recent call last)",
      "\u001b[0;32m<ipython-input-11-8f947628deb8>\u001b[0m in \u001b[0;36m<module>\u001b[0;34m\u001b[0m\n\u001b[0;32m----> 1\u001b[0;31m \u001b[0mAutoModel\u001b[0m\u001b[0;34m.\u001b[0m\u001b[0mfrom_config\u001b[0m\u001b[0;34m(\u001b[0m\u001b[0;34m'BertConfig'\u001b[0m\u001b[0;34m)\u001b[0m\u001b[0;34m\u001b[0m\u001b[0;34m\u001b[0m\u001b[0m\n\u001b[0m",
      "\u001b[0;32m/specific/scratches/scratch/guy/miniconda/lib/python3.7/site-packages/transformers/modeling_auto.py\u001b[0m in \u001b[0;36mfrom_config\u001b[0;34m(cls, config)\u001b[0m\n\u001b[1;32m    412\u001b[0m             \u001b[0;34m\"Unrecognized configuration class {} for this kind of AutoModel: {}.\\n\"\u001b[0m\u001b[0;34m\u001b[0m\u001b[0;34m\u001b[0m\u001b[0m\n\u001b[1;32m    413\u001b[0m             \"Model type should be one of {}.\".format(\n\u001b[0;32m--> 414\u001b[0;31m                 \u001b[0mconfig\u001b[0m\u001b[0;34m.\u001b[0m\u001b[0m__class__\u001b[0m\u001b[0;34m,\u001b[0m \u001b[0mcls\u001b[0m\u001b[0;34m.\u001b[0m\u001b[0m__name__\u001b[0m\u001b[0;34m,\u001b[0m \u001b[0;34m\", \"\u001b[0m\u001b[0;34m.\u001b[0m\u001b[0mjoin\u001b[0m\u001b[0;34m(\u001b[0m\u001b[0mc\u001b[0m\u001b[0;34m.\u001b[0m\u001b[0m__name__\u001b[0m \u001b[0;32mfor\u001b[0m \u001b[0mc\u001b[0m \u001b[0;32min\u001b[0m \u001b[0mMODEL_MAPPING\u001b[0m\u001b[0;34m.\u001b[0m\u001b[0mkeys\u001b[0m\u001b[0;34m(\u001b[0m\u001b[0;34m)\u001b[0m\u001b[0;34m)\u001b[0m\u001b[0;34m\u001b[0m\u001b[0;34m\u001b[0m\u001b[0m\n\u001b[0m\u001b[1;32m    415\u001b[0m             )\n\u001b[1;32m    416\u001b[0m         )\n",
      "\u001b[0;31mValueError\u001b[0m: Unrecognized configuration class <class 'str'> for this kind of AutoModel: AutoModel.\nModel type should be one of RetriBertConfig, T5Config, DistilBertConfig, AlbertConfig, CamembertConfig, XLMRobertaConfig, BartConfig, LongformerConfig, RobertaConfig, BertConfig, OpenAIGPTConfig, GPT2Config, MobileBertConfig, TransfoXLConfig, XLNetConfig, FlaubertConfig, XLMConfig, CTRLConfig, ElectraConfig, ReformerConfig."
     ]
    }
   ],
   "source": [
    "AutoModel.from_config('BertConfig')"
   ]
  },
  {
   "cell_type": "code",
   "execution_count": null,
   "metadata": {
    "collapsed": true
   },
   "outputs": [],
   "source": [
    "tokenizer.tokenized_sentences"
   ]
  }
 ],
 "metadata": {
  "kernelspec": {
   "display_name": "guy-python",
   "language": "python",
   "name": "guy-python"
  },
  "language_info": {
   "codemirror_mode": {
    "name": "ipython",
    "version": 3
   },
   "file_extension": ".py",
   "mimetype": "text/x-python",
   "name": "python",
   "nbconvert_exporter": "python",
   "pygments_lexer": "ipython3",
   "version": "3.7.7"
  },
  "toc": {
   "base_numbering": 1,
   "nav_menu": {},
   "number_sections": true,
   "sideBar": true,
   "skip_h1_title": false,
   "title_cell": "Table of Contents",
   "title_sidebar": "Contents",
   "toc_cell": false,
   "toc_position": {},
   "toc_section_display": true,
   "toc_window_display": true
  }
 },
 "nbformat": 4,
 "nbformat_minor": 2
}
