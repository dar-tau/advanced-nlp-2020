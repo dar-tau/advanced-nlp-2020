{
 "cells": [
  {
   "cell_type": "markdown",
   "metadata": {},
   "source": [
    "## Initialization"
   ]
  },
  {
   "cell_type": "code",
   "execution_count": 4,
   "metadata": {
    "collapsed": true
   },
   "outputs": [
    {
     "name": "stdout",
     "output_type": "stream",
     "text": [
      "Requirement already satisfied: jupyter_contrib_nbextensions in ./miniconda/lib/python3.7/site-packages (0.5.1)\n",
      "Requirement already satisfied: jupyter-nbextensions-configurator>=0.4.0 in ./miniconda/lib/python3.7/site-packages (from jupyter_contrib_nbextensions) (0.4.1)\n",
      "Requirement already satisfied: traitlets>=4.1 in ./miniconda/lib/python3.7/site-packages (from jupyter_contrib_nbextensions) (4.3.3)\n",
      "Requirement already satisfied: lxml in ./miniconda/lib/python3.7/site-packages (from jupyter_contrib_nbextensions) (4.5.2)\n",
      "Requirement already satisfied: ipython-genutils in ./miniconda/lib/python3.7/site-packages (from jupyter_contrib_nbextensions) (0.2.0)\n",
      "Requirement already satisfied: pyyaml in ./miniconda/lib/python3.7/site-packages (from jupyter_contrib_nbextensions) (5.3.1)\n",
      "Requirement already satisfied: nbconvert>=4.2 in ./miniconda/lib/python3.7/site-packages (from jupyter_contrib_nbextensions) (5.6.1)\n",
      "Requirement already satisfied: jupyter-latex-envs>=1.3.8 in ./miniconda/lib/python3.7/site-packages (from jupyter_contrib_nbextensions) (1.4.6)\n",
      "Requirement already satisfied: notebook>=4.0 in ./miniconda/lib/python3.7/site-packages (from jupyter_contrib_nbextensions) (6.0.3)\n",
      "Requirement already satisfied: jupyter-contrib-core>=0.3.3 in ./miniconda/lib/python3.7/site-packages (from jupyter_contrib_nbextensions) (0.3.3)\n",
      "Requirement already satisfied: tornado in ./miniconda/lib/python3.7/site-packages (from jupyter_contrib_nbextensions) (6.0.4)\n",
      "Requirement already satisfied: jupyter-highlight-selected-word>=0.1.1 in ./miniconda/lib/python3.7/site-packages (from jupyter_contrib_nbextensions) (0.2.0)\n",
      "Requirement already satisfied: jupyter-core in ./miniconda/lib/python3.7/site-packages (from jupyter_contrib_nbextensions) (4.6.3)\n",
      "Requirement already satisfied: decorator in ./miniconda/lib/python3.7/site-packages (from traitlets>=4.1->jupyter_contrib_nbextensions) (4.4.2)\n",
      "Requirement already satisfied: six in ./miniconda/lib/python3.7/site-packages (from traitlets>=4.1->jupyter_contrib_nbextensions) (1.14.0)\n",
      "Requirement already satisfied: nbformat>=4.4 in ./miniconda/lib/python3.7/site-packages (from nbconvert>=4.2->jupyter_contrib_nbextensions) (5.0.7)\n",
      "Requirement already satisfied: bleach in ./miniconda/lib/python3.7/site-packages (from nbconvert>=4.2->jupyter_contrib_nbextensions) (3.1.5)\n",
      "Requirement already satisfied: pandocfilters>=1.4.1 in ./miniconda/lib/python3.7/site-packages (from nbconvert>=4.2->jupyter_contrib_nbextensions) (1.4.2)\n",
      "Requirement already satisfied: entrypoints>=0.2.2 in ./miniconda/lib/python3.7/site-packages (from nbconvert>=4.2->jupyter_contrib_nbextensions) (0.3)\n",
      "Requirement already satisfied: pygments in ./miniconda/lib/python3.7/site-packages (from nbconvert>=4.2->jupyter_contrib_nbextensions) (2.6.1)\n",
      "Requirement already satisfied: mistune<2,>=0.8.1 in ./miniconda/lib/python3.7/site-packages (from nbconvert>=4.2->jupyter_contrib_nbextensions) (0.8.4)\n",
      "Requirement already satisfied: testpath in ./miniconda/lib/python3.7/site-packages (from nbconvert>=4.2->jupyter_contrib_nbextensions) (0.4.4)\n",
      "Requirement already satisfied: defusedxml in ./miniconda/lib/python3.7/site-packages (from nbconvert>=4.2->jupyter_contrib_nbextensions) (0.6.0)\n",
      "Requirement already satisfied: jinja2>=2.4 in ./miniconda/lib/python3.7/site-packages (from nbconvert>=4.2->jupyter_contrib_nbextensions) (2.11.2)\n",
      "Requirement already satisfied: ipython in ./miniconda/lib/python3.7/site-packages (from jupyter-latex-envs>=1.3.8->jupyter_contrib_nbextensions) (7.16.1)\n",
      "Requirement already satisfied: Send2Trash in ./miniconda/lib/python3.7/site-packages (from notebook>=4.0->jupyter_contrib_nbextensions) (1.5.0)\n",
      "Requirement already satisfied: prometheus-client in ./miniconda/lib/python3.7/site-packages (from notebook>=4.0->jupyter_contrib_nbextensions) (0.8.0)\n",
      "Requirement already satisfied: jupyter-client>=5.3.4 in ./miniconda/lib/python3.7/site-packages (from notebook>=4.0->jupyter_contrib_nbextensions) (6.1.6)\n",
      "Requirement already satisfied: ipykernel in ./miniconda/lib/python3.7/site-packages (from notebook>=4.0->jupyter_contrib_nbextensions) (5.3.3)\n",
      "Requirement already satisfied: terminado>=0.8.1 in ./miniconda/lib/python3.7/site-packages (from notebook>=4.0->jupyter_contrib_nbextensions) (0.8.3)\n",
      "Requirement already satisfied: pyzmq>=17 in ./miniconda/lib/python3.7/site-packages (from notebook>=4.0->jupyter_contrib_nbextensions) (19.0.1)\n",
      "Requirement already satisfied: setuptools in ./miniconda/lib/python3.7/site-packages (from jupyter-contrib-core>=0.3.3->jupyter_contrib_nbextensions) (46.4.0.post20200518)\n",
      "Requirement already satisfied: jsonschema!=2.5.0,>=2.4 in ./miniconda/lib/python3.7/site-packages (from nbformat>=4.4->nbconvert>=4.2->jupyter_contrib_nbextensions) (3.2.0)\n",
      "Requirement already satisfied: packaging in ./miniconda/lib/python3.7/site-packages (from bleach->nbconvert>=4.2->jupyter_contrib_nbextensions) (20.4)\n",
      "Requirement already satisfied: webencodings in ./miniconda/lib/python3.7/site-packages (from bleach->nbconvert>=4.2->jupyter_contrib_nbextensions) (0.5.1)\n",
      "Requirement already satisfied: MarkupSafe>=0.23 in ./miniconda/lib/python3.7/site-packages (from jinja2>=2.4->nbconvert>=4.2->jupyter_contrib_nbextensions) (1.1.1)\n",
      "Requirement already satisfied: pexpect; sys_platform != \"win32\" in ./miniconda/lib/python3.7/site-packages (from ipython->jupyter-latex-envs>=1.3.8->jupyter_contrib_nbextensions) (4.8.0)\n",
      "Requirement already satisfied: pickleshare in ./miniconda/lib/python3.7/site-packages (from ipython->jupyter-latex-envs>=1.3.8->jupyter_contrib_nbextensions) (0.7.5)\n",
      "Requirement already satisfied: backcall in ./miniconda/lib/python3.7/site-packages (from ipython->jupyter-latex-envs>=1.3.8->jupyter_contrib_nbextensions) (0.2.0)\n",
      "Requirement already satisfied: jedi>=0.10 in ./miniconda/lib/python3.7/site-packages (from ipython->jupyter-latex-envs>=1.3.8->jupyter_contrib_nbextensions) (0.17.1)\n",
      "Requirement already satisfied: prompt-toolkit!=3.0.0,!=3.0.1,<3.1.0,>=2.0.0 in ./miniconda/lib/python3.7/site-packages (from ipython->jupyter-latex-envs>=1.3.8->jupyter_contrib_nbextensions) (3.0.5)\n",
      "Requirement already satisfied: python-dateutil>=2.1 in ./miniconda/lib/python3.7/site-packages (from jupyter-client>=5.3.4->notebook>=4.0->jupyter_contrib_nbextensions) (2.8.1)\n",
      "Requirement already satisfied: ptyprocess; os_name != \"nt\" in ./miniconda/lib/python3.7/site-packages (from terminado>=0.8.1->notebook>=4.0->jupyter_contrib_nbextensions) (0.6.0)\n",
      "Requirement already satisfied: importlib-metadata; python_version < \"3.8\" in ./miniconda/lib/python3.7/site-packages (from jsonschema!=2.5.0,>=2.4->nbformat>=4.4->nbconvert>=4.2->jupyter_contrib_nbextensions) (1.7.0)\n",
      "Requirement already satisfied: pyrsistent>=0.14.0 in ./miniconda/lib/python3.7/site-packages (from jsonschema!=2.5.0,>=2.4->nbformat>=4.4->nbconvert>=4.2->jupyter_contrib_nbextensions) (0.16.0)\n",
      "Requirement already satisfied: attrs>=17.4.0 in ./miniconda/lib/python3.7/site-packages (from jsonschema!=2.5.0,>=2.4->nbformat>=4.4->nbconvert>=4.2->jupyter_contrib_nbextensions) (19.3.0)\n",
      "Requirement already satisfied: pyparsing>=2.0.2 in ./miniconda/lib/python3.7/site-packages (from packaging->bleach->nbconvert>=4.2->jupyter_contrib_nbextensions) (2.4.7)\n",
      "Requirement already satisfied: parso<0.8.0,>=0.7.0 in ./miniconda/lib/python3.7/site-packages (from jedi>=0.10->ipython->jupyter-latex-envs>=1.3.8->jupyter_contrib_nbextensions) (0.7.0)\n",
      "Requirement already satisfied: wcwidth in ./miniconda/lib/python3.7/site-packages (from prompt-toolkit!=3.0.0,!=3.0.1,<3.1.0,>=2.0.0->ipython->jupyter-latex-envs>=1.3.8->jupyter_contrib_nbextensions) (0.2.5)\n",
      "Requirement already satisfied: zipp>=0.5 in ./miniconda/lib/python3.7/site-packages (from importlib-metadata; python_version < \"3.8\"->jsonschema!=2.5.0,>=2.4->nbformat>=4.4->nbconvert>=4.2->jupyter_contrib_nbextensions) (3.1.0)\n",
      "Note: you may need to restart the kernel to use updated packages.\n",
      "jupyter: 'contrib' is not a Jupyter command\n"
     ]
    }
   ],
   "source": [
    "%pip install jupyter_contrib_nbextensions\n",
    "!jupyter contrib nbextension install --user"
   ]
  },
  {
   "cell_type": "code",
   "execution_count": 5,
   "metadata": {
    "collapsed": false
   },
   "outputs": [
    {
     "name": "stdout",
     "output_type": "stream",
     "text": [
      "Enabling notebook extension toc2/main...\r\n",
      "      - Validating: problems found:\r\n",
      "        - require? \u001b[31m X\u001b[0m toc2/main\r\n"
     ]
    }
   ],
   "source": [
    "!jupyter nbextension enable toc2/main"
   ]
  },
  {
   "cell_type": "code",
   "execution_count": 6,
   "metadata": {
    "collapsed": true
   },
   "outputs": [
    {
     "name": "stdout",
     "output_type": "stream",
     "text": [
      "Looking in links: https://download.pytorch.org/whl/torch_stable.html\n",
      "Requirement already satisfied: torch==1.3.1+cu100 in ./miniconda/lib/python3.7/site-packages (1.3.1+cu100)\n",
      "Requirement already satisfied: torchvision==0.4.2+cu100 in ./miniconda/lib/python3.7/site-packages (0.4.2+cu100)\n",
      "Requirement already satisfied: numpy in ./miniconda/lib/python3.7/site-packages (from torch==1.3.1+cu100) (1.19.1)\n",
      "Requirement already satisfied: pillow>=4.1.1 in ./miniconda/lib/python3.7/site-packages (from torchvision==0.4.2+cu100) (7.2.0)\n",
      "Requirement already satisfied: six in ./miniconda/lib/python3.7/site-packages (from torchvision==0.4.2+cu100) (1.14.0)\n",
      "Note: you may need to restart the kernel to use updated packages.\n"
     ]
    }
   ],
   "source": [
    "%pip install torch==1.3.1+cu100 torchvision==0.4.2+cu100 -f https://download.pytorch.org/whl/torch_stable.html"
   ]
  },
  {
   "cell_type": "code",
   "execution_count": 7,
   "metadata": {
    "collapsed": true
   },
   "outputs": [
    {
     "name": "stdout",
     "output_type": "stream",
     "text": [
      "/specific/scratches/scratch/guy/torch-transformers-cache\n",
      "fatal: destination path 'transformers' already exists and is not an empty directory.\n",
      "Processing ./transformers\n",
      "Requirement already satisfied: numpy in /specific/scratches/scratch/guy/miniconda/lib/python3.7/site-packages (from transformers==3.0.2) (1.19.1)\n",
      "Requirement already satisfied: tokenizers==0.8.1.rc2 in /specific/scratches/scratch/guy/miniconda/lib/python3.7/site-packages (from transformers==3.0.2) (0.8.1rc2)\n",
      "Requirement already satisfied: packaging in /specific/scratches/scratch/guy/miniconda/lib/python3.7/site-packages (from transformers==3.0.2) (20.4)\n",
      "Requirement already satisfied: filelock in /specific/scratches/scratch/guy/miniconda/lib/python3.7/site-packages (from transformers==3.0.2) (3.0.12)\n",
      "Requirement already satisfied: requests in /specific/scratches/scratch/guy/miniconda/lib/python3.7/site-packages (from transformers==3.0.2) (2.23.0)\n",
      "Requirement already satisfied: tqdm>=4.27 in /specific/scratches/scratch/guy/miniconda/lib/python3.7/site-packages (from transformers==3.0.2) (4.28.1)\n",
      "Requirement already satisfied: regex!=2019.12.17 in /specific/scratches/scratch/guy/miniconda/lib/python3.7/site-packages (from transformers==3.0.2) (2020.7.14)\n",
      "Requirement already satisfied: sentencepiece!=0.1.92 in /specific/scratches/scratch/guy/miniconda/lib/python3.7/site-packages (from transformers==3.0.2) (0.1.91)\n",
      "Requirement already satisfied: sacremoses in /specific/scratches/scratch/guy/miniconda/lib/python3.7/site-packages (from transformers==3.0.2) (0.0.43)\n",
      "Requirement already satisfied: six in /specific/scratches/scratch/guy/miniconda/lib/python3.7/site-packages (from packaging->transformers==3.0.2) (1.14.0)\n",
      "Requirement already satisfied: pyparsing>=2.0.2 in /specific/scratches/scratch/guy/miniconda/lib/python3.7/site-packages (from packaging->transformers==3.0.2) (2.4.7)\n",
      "Requirement already satisfied: chardet<4,>=3.0.2 in /specific/scratches/scratch/guy/miniconda/lib/python3.7/site-packages (from requests->transformers==3.0.2) (3.0.4)\n",
      "Requirement already satisfied: certifi>=2017.4.17 in /specific/scratches/scratch/guy/miniconda/lib/python3.7/site-packages (from requests->transformers==3.0.2) (2020.6.20)\n",
      "Requirement already satisfied: urllib3!=1.25.0,!=1.25.1,<1.26,>=1.21.1 in /specific/scratches/scratch/guy/miniconda/lib/python3.7/site-packages (from requests->transformers==3.0.2) (1.25.8)\n",
      "Requirement already satisfied: idna<3,>=2.5 in /specific/scratches/scratch/guy/miniconda/lib/python3.7/site-packages (from requests->transformers==3.0.2) (2.9)\n",
      "Requirement already satisfied: joblib in /specific/scratches/scratch/guy/miniconda/lib/python3.7/site-packages (from sacremoses->transformers==3.0.2) (0.16.0)\n",
      "Requirement already satisfied: click in /specific/scratches/scratch/guy/miniconda/lib/python3.7/site-packages (from sacremoses->transformers==3.0.2) (7.1.2)\n",
      "Building wheels for collected packages: transformers\n",
      "  Building wheel for transformers (setup.py) ... \u001b[?25l-\b \b\\\b \b|\b \bdone\n",
      "\u001b[?25h  Created wheel for transformers: filename=transformers-3.0.2-py3-none-any.whl size=801243 sha256=632bcef30db79fe88ecc196bf93445cfffd14b1c656f188478eaee873a38bc4e\n",
      "  Stored in directory: /tmp/pip-ephem-wheel-cache-mizzaam1/wheels/39/32/32/2acb69904d2cb31855aef2717e90dbf52ea3cd7ee61f887462\n",
      "Successfully built transformers\n",
      "Installing collected packages: transformers\n",
      "  Attempting uninstall: transformers\n",
      "    Found existing installation: transformers 3.0.2\n",
      "    Uninstalling transformers-3.0.2:\n",
      "      Successfully uninstalled transformers-3.0.2\n",
      "Successfully installed transformers-3.0.2\n",
      "Note: you may need to restart the kernel to use updated packages.\n",
      "Requirement already up-to-date: nlp in /specific/scratches/scratch/guy/miniconda/lib/python3.7/site-packages (0.3.0)\n",
      "Requirement already satisfied, skipping upgrade: pyarrow>=0.16.0 in /specific/scratches/scratch/guy/miniconda/lib/python3.7/site-packages (from nlp) (1.0.0)\n",
      "Requirement already satisfied, skipping upgrade: tqdm>=4.27 in /specific/scratches/scratch/guy/miniconda/lib/python3.7/site-packages (from nlp) (4.28.1)\n",
      "Requirement already satisfied, skipping upgrade: dill in /specific/scratches/scratch/guy/miniconda/lib/python3.7/site-packages (from nlp) (0.3.2)\n",
      "Requirement already satisfied, skipping upgrade: filelock in /specific/scratches/scratch/guy/miniconda/lib/python3.7/site-packages (from nlp) (3.0.12)\n",
      "Requirement already satisfied, skipping upgrade: requests>=2.19.0 in /specific/scratches/scratch/guy/miniconda/lib/python3.7/site-packages (from nlp) (2.23.0)\n",
      "Requirement already satisfied, skipping upgrade: numpy in /specific/scratches/scratch/guy/miniconda/lib/python3.7/site-packages (from nlp) (1.19.1)\n",
      "Requirement already satisfied, skipping upgrade: urllib3!=1.25.0,!=1.25.1,<1.26,>=1.21.1 in /specific/scratches/scratch/guy/miniconda/lib/python3.7/site-packages (from requests>=2.19.0->nlp) (1.25.8)\n",
      "Requirement already satisfied, skipping upgrade: idna<3,>=2.5 in /specific/scratches/scratch/guy/miniconda/lib/python3.7/site-packages (from requests>=2.19.0->nlp) (2.9)\n",
      "Requirement already satisfied, skipping upgrade: chardet<4,>=3.0.2 in /specific/scratches/scratch/guy/miniconda/lib/python3.7/site-packages (from requests>=2.19.0->nlp) (3.0.4)\n",
      "Requirement already satisfied, skipping upgrade: certifi>=2017.4.17 in /specific/scratches/scratch/guy/miniconda/lib/python3.7/site-packages (from requests>=2.19.0->nlp) (2020.6.20)\n",
      "Note: you may need to restart the kernel to use updated packages.\n"
     ]
    }
   ],
   "source": [
    "%cd /vol/scratch/guy/torch-transformers-cache/\n",
    "!git clone https://github.com/huggingface/transformers.git\n",
    "%pip install ./transformers\n",
    "%pip install -U nlp"
   ]
  },
  {
   "cell_type": "code",
   "execution_count": 8,
   "metadata": {
    "collapsed": false
   },
   "outputs": [
    {
     "name": "stdout",
     "output_type": "stream",
     "text": [
      "/specific/scratches/scratch/guy\n",
      "mkdir: cannot create directory 'datasets': File exists\n",
      "mkdir: cannot create directory 'torch-transformers-cache': File exists\n"
     ]
    }
   ],
   "source": [
    "%cd /vol/scratch/guy/\n",
    "!mkdir datasets\n",
    "!mkdir torch-transformers-cache\n",
    "## Not working!!!\n",
    "!setenv TRANSFORMERS_CACHE /vol/scratch/guy/torch-transformers-cache\n",
    "!setenv CUDA_VISIBLE_DEVICES 0"
   ]
  },
  {
   "cell_type": "code",
   "execution_count": 2,
   "metadata": {
    "collapsed": true
   },
   "outputs": [
    {
     "name": "stdout",
     "output_type": "stream",
     "text": [
      "Requirement already satisfied: matplotlib in ./miniconda/lib/python3.7/site-packages (3.3.0)\n",
      "Requirement already satisfied: seaborn in ./miniconda/lib/python3.7/site-packages (0.10.1)\n",
      "Requirement already satisfied: pandas in ./miniconda/lib/python3.7/site-packages (1.1.0)\n",
      "Requirement already satisfied: tqdm in ./miniconda/lib/python3.7/site-packages (4.28.1)\n",
      "Requirement already satisfied: python-dateutil>=2.1 in ./miniconda/lib/python3.7/site-packages (from matplotlib) (2.8.1)\n",
      "Requirement already satisfied: numpy>=1.15 in ./miniconda/lib/python3.7/site-packages (from matplotlib) (1.19.1)\n",
      "Requirement already satisfied: pyparsing!=2.0.4,!=2.1.2,!=2.1.6,>=2.0.3 in ./miniconda/lib/python3.7/site-packages (from matplotlib) (2.4.7)\n",
      "Requirement already satisfied: kiwisolver>=1.0.1 in ./miniconda/lib/python3.7/site-packages (from matplotlib) (1.2.0)\n",
      "Requirement already satisfied: cycler>=0.10 in ./miniconda/lib/python3.7/site-packages (from matplotlib) (0.10.0)\n",
      "Requirement already satisfied: pillow>=6.2.0 in ./miniconda/lib/python3.7/site-packages (from matplotlib) (7.2.0)\n",
      "Requirement already satisfied: scipy>=1.0.1 in ./miniconda/lib/python3.7/site-packages (from seaborn) (1.5.2)\n",
      "Requirement already satisfied: pytz>=2017.2 in ./miniconda/lib/python3.7/site-packages (from pandas) (2020.1)\n",
      "Requirement already satisfied: six>=1.5 in ./miniconda/lib/python3.7/site-packages (from python-dateutil>=2.1->matplotlib) (1.14.0)\n",
      "Note: you may need to restart the kernel to use updated packages.\n"
     ]
    }
   ],
   "source": [
    "%pip install matplotlib seaborn pandas tqdm"
   ]
  },
  {
   "cell_type": "code",
   "execution_count": 56,
   "metadata": {
    "collapsed": true
   },
   "outputs": [
    {
     "name": "stdout",
     "output_type": "stream",
     "text": [
      "Collecting pandas\n",
      "  Downloading pandas-1.1.0-cp37-cp37m-manylinux1_x86_64.whl (10.5 MB)\n",
      "\u001b[K     |################################| 10.5 MB 9.1 MB/s eta 0:00:01\n",
      "\u001b[?25hRequirement already satisfied: numpy>=1.15.4 in ./miniconda/lib/python3.7/site-packages (from pandas) (1.19.1)\n",
      "Collecting pytz>=2017.2\n",
      "  Downloading pytz-2020.1-py2.py3-none-any.whl (510 kB)\n",
      "\u001b[K     |################################| 510 kB 13.7 MB/s eta 0:00:01\n",
      "\u001b[?25hRequirement already satisfied: python-dateutil>=2.7.3 in ./miniconda/lib/python3.7/site-packages (from pandas) (2.8.1)\n",
      "Requirement already satisfied: six>=1.5 in ./miniconda/lib/python3.7/site-packages (from python-dateutil>=2.7.3->pandas) (1.14.0)\n",
      "Installing collected packages: pytz, pandas\n",
      "Successfully installed pandas-1.1.0 pytz-2020.1\n",
      "Note: you may need to restart the kernel to use updated packages.\n",
      "Enabling notebook extension jupyter-js-widgets/extension...\n",
      "      - Validating: \u001b[32mOK\u001b[0m\n"
     ]
    }
   ],
   "source": [
    "%pip install ipywidgets\n",
    "# %conda install ipywidgets\n",
    "!jupyter nbextension enable --py widgetsnbextension"
   ]
  },
  {
   "cell_type": "code",
   "execution_count": 52,
   "metadata": {
    "collapsed": false
   },
   "outputs": [],
   "source": [
    "cache_dir = \"/vol/scratch/guy/torch-transformers-cache/\"\n",
    "import torch\n",
    "from tokenizers import Tokenizer\n",
    "import transformers\n",
    "from transformers import AutoModel, AutoTokenizer, pipeline\n",
    "import numpy as np\n",
    "import pandas as pd\n",
    "from tqdm import tqdm\n",
    "import matplotlib.pyplot as plt \n",
    "import seaborn as sns\n",
    "\n",
    "%matplotlib inline"
   ]
  },
  {
   "cell_type": "markdown",
   "metadata": {},
   "source": [
    "## Phrase Tokenizer"
   ]
  },
  {
   "cell_type": "markdown",
   "metadata": {},
   "source": [
    "### Load dataset"
   ]
  },
  {
   "cell_type": "code",
   "execution_count": 2,
   "metadata": {
    "collapsed": false
   },
   "outputs": [
    {
     "name": "stdout",
     "output_type": "stream",
     "text": [
      "/specific/scratches/scratch/guy/datasets\n"
     ]
    }
   ],
   "source": [
    "%cd /vol/scratch/guy/datasets"
   ]
  },
  {
   "cell_type": "code",
   "execution_count": null,
   "metadata": {
    "collapsed": true
   },
   "outputs": [],
   "source": [
    "!wget http://ai.stanford.edu/~amaas/data/sentiment/aclImdb_v1.tar.gz\n",
    "!tar -xf acl*.tar.gz"
   ]
  },
  {
   "cell_type": "code",
   "execution_count": 24,
   "metadata": {
    "collapsed": false
   },
   "outputs": [
    {
     "name": "stderr",
     "output_type": "stream",
     "text": [
      "100%|██████████| 75000/75000 [00:25<00:00, 2963.54it/s]\n"
     ]
    }
   ],
   "source": [
    "import glob\n",
    "sentences = []\n",
    "target = []\n",
    "path = '/vol/scratch/guy/datasets/aclImdb/train/**/*.txt' \n",
    "files = glob.glob(path)\n",
    "for name in tqdm(files):\n",
    "    with open(name) as f:\n",
    "        target+=[int('pos' in name)] # Classical quick & dirty\n",
    "        sentences += [l for l in f]"
   ]
  },
  {
   "cell_type": "markdown",
   "metadata": {},
   "source": [
    "### \"word-BPE\" encoding"
   ]
  },
  {
   "cell_type": "code",
   "execution_count": 25,
   "metadata": {
    "collapsed": false
   },
   "outputs": [],
   "source": [
    "import nltk"
   ]
  },
  {
   "cell_type": "code",
   "execution_count": 26,
   "metadata": {
    "collapsed": false
   },
   "outputs": [
    {
     "name": "stderr",
     "output_type": "stream",
     "text": [
      "100%|██████████| 75000/75000 [00:50<00:00, 1492.33it/s]\n"
     ]
    }
   ],
   "source": [
    "from collections import defaultdict\n",
    "from tqdm import tqdm\n",
    "\n",
    "corpus = sentences\n",
    "vocab = defaultdict(int)\n",
    "\n",
    "for sentence in tqdm(corpus):\n",
    "    for n in range(3):\n",
    "        ngrams = (nltk.ngrams(sentence.lower().split(), n))\n",
    "        for a in ngrams:\n",
    "            vocab[a] += 1"
   ]
  },
  {
   "cell_type": "code",
   "execution_count": 27,
   "metadata": {
    "collapsed": false
   },
   "outputs": [],
   "source": [
    "n_tokens = 85000\n",
    "pad_idx = n_tokens\n",
    "tokens = list(map(lambda x: \" \".join(x[0]), sorted(vocab.items(), key = lambda x: x[1], reverse=True)[:n_tokens]))"
   ]
  },
  {
   "cell_type": "code",
   "execution_count": 28,
   "metadata": {
    "collapsed": false
   },
   "outputs": [],
   "source": [
    "class NgramTokenizer:\n",
    "    def encode(self, sentence):\n",
    "        sentence_ = sentence.split()\n",
    "        id_list = []\n",
    "        for word in sentence_:\n",
    "            if word in tokens:\n",
    "                id_list+=[tokens.index(word)]\n",
    "            else:\n",
    "                id_list+=[pad_idx]\n",
    "\n",
    "        i = 0\n",
    "        max_merges = 10\n",
    "        have_merged_ids = True\n",
    "        while i < max_merges and have_merged_ids:\n",
    "            id_list, have_merged_ids = self._try_merge(id_list)\n",
    "            i += 1\n",
    "            \n",
    "        return id_list\n",
    "    def decode(self, id_list):\n",
    "        return \" \".join(map(self.id_to_token, id_list))\n",
    "    \n",
    "    def _try_merge(self, id_list):\n",
    "        bigrams = list(nltk.ngrams(id_list, 2))\n",
    "        t = 0\n",
    "        new_id_list = []\n",
    "        have_merged_ids = False\n",
    "        while t <= len(bigrams):\n",
    "            if t >= len(bigrams):\n",
    "                new_id_list+= [id_list[t]]\n",
    "            else:\n",
    "                purported_token = (\" \".join(map(self.id_to_token, bigrams[t])))\n",
    "                if purported_token in tokens:\n",
    "                    new_id_list += [tokens.index(purported_token)]\n",
    "                    t += 1\n",
    "                    have_merged_ids = True\n",
    "                else:\n",
    "                    new_id_list += [id_list[t]]\n",
    "            t+=1 \n",
    "        return new_id_list, have_merged_ids\n",
    "    \n",
    "    def id_to_token(self, i):\n",
    "        if i < len(tokens):\n",
    "            return tokens[i]\n",
    "        else:\n",
    "            return \"<UNK>\"\n",
    "        "
   ]
  },
  {
   "cell_type": "code",
   "execution_count": 29,
   "metadata": {
    "collapsed": true
   },
   "outputs": [],
   "source": [
    "tokenizer = NgramTokenizer()"
   ]
  },
  {
   "cell_type": "markdown",
   "metadata": {},
   "source": [
    "#### Play around with statistics"
   ]
  },
  {
   "cell_type": "code",
   "execution_count": 14,
   "metadata": {
    "collapsed": false
   },
   "outputs": [
    {
     "name": "stderr",
     "output_type": "stream",
     "text": [
      "100%|██████████| 300/300 [03:53<00:00,  1.24it/s]\n"
     ]
    }
   ],
   "source": [
    "q = []\n",
    "for i in tqdm(range(300)):\n",
    "    q += [len((tokenizer.encode(corpus[i])))/len(corpus[i].split())]"
   ]
  },
  {
   "cell_type": "code",
   "execution_count": 20,
   "metadata": {
    "collapsed": false
   },
   "outputs": [
    {
     "name": "stdout",
     "output_type": "stream",
     "text": [
      "0.7123880549081645\n"
     ]
    },
    {
     "data": {
      "image/png": "[encoded data removed]",
      "text/plain": [
       "<Figure size 432x288 with 1 Axes>"
      ]
     },
     "metadata": {
      "needs_background": "light"
     },
     "output_type": "display_data"
    }
   ],
   "source": [
    "sns.kdeplot(q)\n",
    "plt.axvline(np.mean(q))\n",
    "print(np.mean(q))"
   ]
  },
  {
   "cell_type": "markdown",
   "metadata": {},
   "source": [
    "#### Tokenize all sentences"
   ]
  },
  {
   "cell_type": "code",
   "execution_count": 56,
   "metadata": {
    "collapsed": true
   },
   "outputs": [],
   "source": [
    "!touch /vol/scratch/guy/datasets/sentences_encoded.txt"
   ]
  },
  {
   "cell_type": "code",
   "execution_count": null,
   "metadata": {
    "collapsed": false
   },
   "outputs": [
    {
     "name": "stderr",
     "output_type": "stream",
     "text": [
      "  2%|▏         | 436/20000 [05:29<2:52:55,  1.89it/s]"
     ]
    }
   ],
   "source": [
    "f = open(\"/vol/scratch/guy/datasets/sentences_encoded.txt\",\"a\")\n",
    "for s in tqdm(sentences[:20000]):\n",
    "    f.write(str(tokenizer.encode(s)))\n",
    "f.close()"
   ]
  },
  {
   "cell_type": "markdown",
   "metadata": {},
   "source": [
    "### Transformer"
   ]
  },
  {
   "cell_type": "code",
   "execution_count": null,
   "metadata": {
    "collapsed": true
   },
   "outputs": [],
   "source": []
  }
 ],
 "metadata": {
  "kernelspec": {
   "display_name": "guy-python",
   "language": "python",
   "name": "guy-python"
  },
  "language_info": {
   "codemirror_mode": {
    "name": "ipython",
    "version": 3
   },
   "file_extension": ".py",
   "mimetype": "text/x-python",
   "name": "python",
   "nbconvert_exporter": "python",
   "pygments_lexer": "ipython3",
   "version": "3.7.7"
  }
 },
 "nbformat": 4,
 "nbformat_minor": 2
}
