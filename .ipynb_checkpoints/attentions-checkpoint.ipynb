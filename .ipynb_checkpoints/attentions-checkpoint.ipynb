{
 "cells": [
  {
   "cell_type": "markdown",
   "metadata": {},
   "source": [
    "## Initialization"
   ]
  },
  {
   "cell_type": "code",
   "execution_count": 1,
   "metadata": {
    "ExecuteTime": {
     "end_time": "2020-08-10T18:47:03.130010Z",
     "start_time": "2020-08-10T18:47:03.127766Z"
    },
    "collapsed": true,
    "init_cell": true
   },
   "outputs": [],
   "source": [
    "guy_folder = \"/vol/scratch/guy\""
   ]
  },
  {
   "cell_type": "markdown",
   "metadata": {},
   "source": [
    "### pip"
   ]
  },
  {
   "cell_type": "code",
   "execution_count": 1,
   "metadata": {
    "ExecuteTime": {
     "end_time": "2020-08-10T07:55:13.714311Z",
     "start_time": "2020-08-10T07:54:15.569196Z"
    },
    "collapsed": false
   },
   "outputs": [
    {
     "name": "stdout",
     "output_type": "stream",
     "text": [
      "Collecting matplotlib\n",
      "  Downloading matplotlib-3.3.0-1-cp38-cp38-manylinux1_x86_64.whl (11.5 MB)\n",
      "\u001b[K     |################################| 11.5 MB 7.2 MB/s eta 0:00:01\n",
      "\u001b[?25hCollecting seaborn\n",
      "  Downloading seaborn-0.10.1-py3-none-any.whl (215 kB)\n",
      "\u001b[K     |################################| 215 kB 20.6 MB/s eta 0:00:01\n",
      "\u001b[?25hCollecting pandas\n",
      "  Downloading pandas-1.1.0-cp38-cp38-manylinux1_x86_64.whl (10.3 MB)\n",
      "\u001b[K     |################################| 10.3 MB 23.5 MB/s eta 0:00:01    |####                            | 1.5 MB 23.5 MB/s eta 0:00:01\n",
      "\u001b[?25hRequirement already satisfied: tqdm in /specific/scratches/scratch/guy/miniconda/lib/python3.8/site-packages (4.46.0)\n",
      "Collecting tensorboard\n",
      "  Downloading tensorboard-2.3.0-py3-none-any.whl (6.8 MB)\n",
      "\u001b[K     |################################| 6.8 MB 57.7 MB/s eta 0:00:01\n",
      "\u001b[?25hCollecting pyparsing!=2.0.4,!=2.1.2,!=2.1.6,>=2.0.3\n",
      "  Downloading pyparsing-2.4.7-py2.py3-none-any.whl (67 kB)\n",
      "\u001b[K     |################################| 67 kB 5.6 MB/s  eta 0:00:01\n",
      "\u001b[?25hRequirement already satisfied: python-dateutil>=2.1 in /specific/scratches/scratch/guy/miniconda/lib/python3.8/site-packages (from matplotlib) (2.8.1)\n",
      "Collecting pillow>=6.2.0\n",
      "  Downloading Pillow-7.2.0-cp38-cp38-manylinux1_x86_64.whl (2.2 MB)\n",
      "\u001b[K     |################################| 2.2 MB 47.0 MB/s eta 0:00:01\n",
      "\u001b[?25hCollecting cycler>=0.10\n",
      "  Downloading cycler-0.10.0-py2.py3-none-any.whl (6.5 kB)\n",
      "Collecting kiwisolver>=1.0.1\n",
      "  Downloading kiwisolver-1.2.0-cp38-cp38-manylinux1_x86_64.whl (92 kB)\n",
      "\u001b[K     |################################| 92 kB 91 kB/s s eta 0:00:01\n",
      "\u001b[?25hCollecting numpy>=1.15\n",
      "  Downloading numpy-1.19.1-cp38-cp38-manylinux2010_x86_64.whl (14.5 MB)\n",
      "\u001b[K     |################################| 14.5 MB 55.6 MB/s eta 0:00:01\n",
      "\u001b[?25hCollecting scipy>=1.0.1\n",
      "  Downloading scipy-1.5.2-cp38-cp38-manylinux1_x86_64.whl (25.7 MB)\n",
      "\u001b[K     |################################| 25.7 MB 68.3 MB/s eta 0:00:01B/s eta 0:00:01\n",
      "\u001b[?25hCollecting pytz>=2017.2\n",
      "  Downloading pytz-2020.1-py2.py3-none-any.whl (510 kB)\n",
      "\u001b[K     |################################| 510 kB 92.0 MB/s eta 0:00:01\n",
      "\u001b[?25hCollecting absl-py>=0.4\n",
      "  Downloading absl-py-0.9.0.tar.gz (104 kB)\n",
      "\u001b[K     |################################| 104 kB 94.7 MB/s eta 0:00:01\n",
      "\u001b[?25hCollecting google-auth<2,>=1.6.3\n",
      "  Downloading google_auth-1.20.1-py2.py3-none-any.whl (91 kB)\n",
      "\u001b[K     |################################| 91 kB 9.9 MB/s  eta 0:00:01\n",
      "\u001b[?25hCollecting werkzeug>=0.11.15\n",
      "  Downloading Werkzeug-1.0.1-py2.py3-none-any.whl (298 kB)\n",
      "\u001b[K     |################################| 298 kB 63.2 MB/s eta 0:00:01\n",
      "\u001b[?25hCollecting markdown>=2.6.8\n",
      "  Downloading Markdown-3.2.2-py3-none-any.whl (88 kB)\n",
      "\u001b[K     |################################| 88 kB 7.2 MB/s  eta 0:00:01\n",
      "\u001b[?25hCollecting google-auth-oauthlib<0.5,>=0.4.1\n",
      "  Downloading google_auth_oauthlib-0.4.1-py2.py3-none-any.whl (18 kB)\n",
      "Collecting tensorboard-plugin-wit>=1.6.0\n",
      "  Downloading tensorboard_plugin_wit-1.7.0-py3-none-any.whl (779 kB)\n",
      "\u001b[K     |################################| 779 kB 88.5 MB/s eta 0:00:01\n",
      "\u001b[?25hRequirement already satisfied: requests<3,>=2.21.0 in /specific/scratches/scratch/guy/miniconda/lib/python3.8/site-packages (from tensorboard) (2.23.0)\n",
      "Collecting grpcio>=1.24.3\n",
      "  Downloading grpcio-1.31.0-cp38-cp38-manylinux2014_x86_64.whl (3.4 MB)\n",
      "\u001b[K     |################################| 3.4 MB 70.7 MB/s eta 0:00:01\n",
      "\u001b[?25hCollecting protobuf>=3.6.0\n",
      "  Downloading protobuf-3.12.4-cp38-cp38-manylinux1_x86_64.whl (1.3 MB)\n",
      "\u001b[K     |################################| 1.3 MB 100.9 MB/s eta 0:00:01\n",
      "\u001b[?25hRequirement already satisfied: wheel>=0.26; python_version >= \"3\" in /specific/scratches/scratch/guy/miniconda/lib/python3.8/site-packages (from tensorboard) (0.34.2)\n",
      "Requirement already satisfied: six>=1.10.0 in /specific/scratches/scratch/guy/miniconda/lib/python3.8/site-packages (from tensorboard) (1.14.0)\n",
      "Requirement already satisfied: setuptools>=41.0.0 in /specific/scratches/scratch/guy/miniconda/lib/python3.8/site-packages (from tensorboard) (46.4.0.post20200518)\n",
      "Collecting cachetools<5.0,>=2.0.0\n",
      "  Downloading cachetools-4.1.1-py3-none-any.whl (10 kB)\n",
      "Collecting pyasn1-modules>=0.2.1\n",
      "  Downloading pyasn1_modules-0.2.8-py2.py3-none-any.whl (155 kB)\n",
      "\u001b[K     |################################| 155 kB 98.8 MB/s eta 0:00:01\n",
      "\u001b[?25hCollecting rsa<5,>=3.1.4; python_version >= \"3.5\"\n",
      "  Downloading rsa-4.6-py3-none-any.whl (47 kB)\n",
      "\u001b[K     |################################| 47 kB 4.1 MB/s  eta 0:00:01\n",
      "\u001b[?25hCollecting requests-oauthlib>=0.7.0\n",
      "  Downloading requests_oauthlib-1.3.0-py2.py3-none-any.whl (23 kB)\n",
      "Requirement already satisfied: chardet<4,>=3.0.2 in /specific/scratches/scratch/guy/miniconda/lib/python3.8/site-packages (from requests<3,>=2.21.0->tensorboard) (3.0.4)\n",
      "Requirement already satisfied: idna<3,>=2.5 in /specific/scratches/scratch/guy/miniconda/lib/python3.8/site-packages (from requests<3,>=2.21.0->tensorboard) (2.9)\n",
      "Requirement already satisfied: certifi>=2017.4.17 in /specific/scratches/scratch/guy/miniconda/lib/python3.8/site-packages (from requests<3,>=2.21.0->tensorboard) (2020.4.5.1)\n",
      "Requirement already satisfied: urllib3!=1.25.0,!=1.25.1,<1.26,>=1.21.1 in /specific/scratches/scratch/guy/miniconda/lib/python3.8/site-packages (from requests<3,>=2.21.0->tensorboard) (1.25.8)\n",
      "Collecting pyasn1<0.5.0,>=0.4.6\n",
      "  Downloading pyasn1-0.4.8-py2.py3-none-any.whl (77 kB)\n",
      "\u001b[K     |################################| 77 kB 5.6 MB/s  eta 0:00:01\n",
      "\u001b[?25hCollecting oauthlib>=3.0.0\n",
      "  Downloading oauthlib-3.1.0-py2.py3-none-any.whl (147 kB)\n",
      "\u001b[K     |################################| 147 kB 81.5 MB/s eta 0:00:01\n",
      "\u001b[?25hBuilding wheels for collected packages: absl-py\n",
      "  Building wheel for absl-py (setup.py) ... \u001b[?25l-\b \bdone\n",
      "\u001b[?25h  Created wheel for absl-py: filename=absl_py-0.9.0-py3-none-any.whl size=121931 sha256=717c795dbcd102724f9f0dd17b90c81cbf0335dbc6bf0ac1944095e8aa7c2f58\n",
      "  Stored in directory: /specific/a/home/cc/students/cs/dar/.cache/pip/wheels/1d/10/8e/2f79b924179ff1e6510933d63eb851bea01054fff262343b7a\n",
      "Successfully built absl-py\n",
      "Installing collected packages: pyparsing, pillow, cycler, kiwisolver, numpy, matplotlib, scipy, pytz, pandas, seaborn, absl-py, cachetools, pyasn1, pyasn1-modules, rsa, google-auth, werkzeug, markdown, oauthlib, requests-oauthlib, google-auth-oauthlib, tensorboard-plugin-wit, grpcio, protobuf, tensorboard\n",
      "Successfully installed absl-py-0.9.0 cachetools-4.1.1 cycler-0.10.0 google-auth-1.20.1 google-auth-oauthlib-0.4.1 grpcio-1.31.0 kiwisolver-1.2.0 markdown-3.2.2 matplotlib-3.3.0 numpy-1.19.1 oauthlib-3.1.0 pandas-1.1.0 pillow-7.2.0 protobuf-3.12.4 pyasn1-0.4.8 pyasn1-modules-0.2.8 pyparsing-2.4.7 pytz-2020.1 requests-oauthlib-1.3.0 rsa-4.6 scipy-1.5.2 seaborn-0.10.1 tensorboard-2.3.0 tensorboard-plugin-wit-1.7.0 werkzeug-1.0.1\n",
      "Note: you may need to restart the kernel to use updated packages.\n"
     ]
    }
   ],
   "source": [
    "%pip install matplotlib seaborn pandas tqdm tensorboard"
   ]
  },
  {
   "cell_type": "markdown",
   "metadata": {},
   "source": [
    "#### ipywidgets"
   ]
  },
  {
   "cell_type": "code",
   "execution_count": 2,
   "metadata": {
    "ExecuteTime": {
     "end_time": "2020-08-10T07:55:15.707427Z",
     "start_time": "2020-08-10T07:55:13.725349Z"
    },
    "collapsed": true
   },
   "outputs": [
    {
     "name": "stdout",
     "output_type": "stream",
     "text": [
      "Requirement already up-to-date: jupyter_client in /specific/scratches/scratch/guy/miniconda/lib/python3.8/site-packages (6.1.6)\n",
      "Requirement already satisfied, skipping upgrade: pyzmq>=13 in /specific/scratches/scratch/guy/miniconda/lib/python3.8/site-packages (from jupyter_client) (19.0.2)\n",
      "Requirement already satisfied, skipping upgrade: tornado>=4.1 in /specific/scratches/scratch/guy/miniconda/lib/python3.8/site-packages (from jupyter_client) (6.0.4)\n",
      "Requirement already satisfied, skipping upgrade: python-dateutil>=2.1 in /specific/scratches/scratch/guy/miniconda/lib/python3.8/site-packages (from jupyter_client) (2.8.1)\n",
      "Requirement already satisfied, skipping upgrade: traitlets in /specific/scratches/scratch/guy/miniconda/lib/python3.8/site-packages (from jupyter_client) (4.3.3)\n",
      "Requirement already satisfied, skipping upgrade: jupyter-core>=4.6.0 in /specific/scratches/scratch/guy/miniconda/lib/python3.8/site-packages (from jupyter_client) (4.6.3)\n",
      "Requirement already satisfied, skipping upgrade: six>=1.5 in /specific/scratches/scratch/guy/miniconda/lib/python3.8/site-packages (from python-dateutil>=2.1->jupyter_client) (1.14.0)\n",
      "Requirement already satisfied, skipping upgrade: decorator in /specific/scratches/scratch/guy/miniconda/lib/python3.8/site-packages (from traitlets->jupyter_client) (4.4.2)\n",
      "Requirement already satisfied, skipping upgrade: ipython-genutils in /specific/scratches/scratch/guy/miniconda/lib/python3.8/site-packages (from traitlets->jupyter_client) (0.2.0)\n",
      "Note: you may need to restart the kernel to use updated packages.\n"
     ]
    }
   ],
   "source": [
    "%pip install --upgrade jupyter_client"
   ]
  },
  {
   "cell_type": "code",
   "execution_count": 15,
   "metadata": {
    "ExecuteTime": {
     "end_time": "2020-08-10T08:28:17.247875Z",
     "start_time": "2020-08-10T08:28:16.405063Z"
    },
    "collapsed": false
   },
   "outputs": [
    {
     "name": "stdout",
     "output_type": "stream",
     "text": [
      "Enabling notebook extension jupyter-js-widgets/extension...\r\n",
      "      - Validating: \u001b[32mOK\u001b[0m\r\n"
     ]
    }
   ],
   "source": [
    "# !python3.7 -m pip install ipywidgets\n",
    "!jupyter nbextension enable --py widgetsnbextension"
   ]
  },
  {
   "cell_type": "code",
   "execution_count": null,
   "metadata": {
    "ExecuteTime": {
     "start_time": "2020-08-02T10:07:19.692Z"
    },
    "collapsed": true
   },
   "outputs": [
    {
     "name": "stdout",
     "output_type": "stream",
     "text": [
      "Collecting ipywidgets\n",
      "  Downloading ipywidgets-7.5.1-py2.py3-none-any.whl (121 kB)\n",
      "\u001b[K     |################################| 121 kB 597 kB/s eta 0:00:01\n",
      "\u001b[?25hCollecting widgetsnbextension~=3.5.0\n",
      "  Downloading widgetsnbextension-3.5.1-py2.py3-none-any.whl (2.2 MB)\n",
      "\u001b[K     |################################| 2.2 MB 5.0 MB/s eta 0:00:01\n",
      "\u001b[?25hRequirement already satisfied: ipykernel>=4.5.1 in /specific/scratches/scratch/guy/miniconda/lib/python3.8/site-packages (from ipywidgets) (5.3.4)\n",
      "Requirement already satisfied: traitlets>=4.3.1 in /specific/scratches/scratch/guy/miniconda/lib/python3.8/site-packages (from ipywidgets) (4.3.3)\n",
      "Collecting nbformat>=4.2.0\n",
      "  Downloading nbformat-5.0.7-py3-none-any.whl (170 kB)\n",
      "\u001b[K     |################################| 170 kB 8.2 MB/s eta 0:00:01\n",
      "\u001b[?25hRequirement already satisfied: ipython>=4.0.0; python_version >= \"3.3\" in /specific/scratches/scratch/guy/miniconda/lib/python3.8/site-packages (from ipywidgets) (7.17.0)\n",
      "Collecting notebook>=4.4.1\n",
      "  Downloading notebook-6.1.0-py3-none-any.whl (9.4 MB)\n",
      "\u001b[K     |################################| 9.4 MB 153 kB/s eta 0:00:01\n",
      "\u001b[?25hRequirement already satisfied: jupyter-client in /specific/scratches/scratch/guy/miniconda/lib/python3.8/site-packages (from ipykernel>=4.5.1->ipywidgets) (6.1.6)\n",
      "Requirement already satisfied: tornado>=4.2 in /specific/scratches/scratch/guy/miniconda/lib/python3.8/site-packages (from ipykernel>=4.5.1->ipywidgets) (6.0.4)\n",
      "Requirement already satisfied: ipython-genutils in /specific/scratches/scratch/guy/miniconda/lib/python3.8/site-packages (from traitlets>=4.3.1->ipywidgets) (0.2.0)\n",
      "Requirement already satisfied: decorator in /specific/scratches/scratch/guy/miniconda/lib/python3.8/site-packages (from traitlets>=4.3.1->ipywidgets) (4.4.2)\n",
      "Requirement already satisfied: six in /specific/scratches/scratch/guy/miniconda/lib/python3.8/site-packages (from traitlets>=4.3.1->ipywidgets) (1.14.0)\n",
      "Collecting jsonschema!=2.5.0,>=2.4\n",
      "  Downloading jsonschema-3.2.0-py2.py3-none-any.whl (56 kB)\n",
      "\u001b[K     |################################| 56 kB 2.2 MB/s  eta 0:00:01     |###########                     | 20 kB 20.0 MB/s eta 0:00:01\n",
      "\u001b[?25hRequirement already satisfied: jupyter-core in /specific/scratches/scratch/guy/miniconda/lib/python3.8/site-packages (from nbformat>=4.2.0->ipywidgets) (4.6.3)\n",
      "Requirement already satisfied: pickleshare in /specific/scratches/scratch/guy/miniconda/lib/python3.8/site-packages (from ipython>=4.0.0; python_version >= \"3.3\"->ipywidgets) (0.7.5)\n",
      "Requirement already satisfied: backcall in /specific/scratches/scratch/guy/miniconda/lib/python3.8/site-packages (from ipython>=4.0.0; python_version >= \"3.3\"->ipywidgets) (0.2.0)\n",
      "Requirement already satisfied: pexpect; sys_platform != \"win32\" in /specific/scratches/scratch/guy/miniconda/lib/python3.8/site-packages (from ipython>=4.0.0; python_version >= \"3.3\"->ipywidgets) (4.8.0)\n",
      "Requirement already satisfied: prompt-toolkit!=3.0.0,!=3.0.1,<3.1.0,>=2.0.0 in /specific/scratches/scratch/guy/miniconda/lib/python3.8/site-packages (from ipython>=4.0.0; python_version >= \"3.3\"->ipywidgets) (3.0.5)\n",
      "Requirement already satisfied: setuptools>=18.5 in /specific/scratches/scratch/guy/miniconda/lib/python3.8/site-packages (from ipython>=4.0.0; python_version >= \"3.3\"->ipywidgets) (46.4.0.post20200518)\n",
      "Requirement already satisfied: jedi>=0.10 in /specific/scratches/scratch/guy/miniconda/lib/python3.8/site-packages (from ipython>=4.0.0; python_version >= \"3.3\"->ipywidgets) (0.17.2)\n",
      "Requirement already satisfied: pygments in /specific/scratches/scratch/guy/miniconda/lib/python3.8/site-packages (from ipython>=4.0.0; python_version >= \"3.3\"->ipywidgets) (2.6.1)\n",
      "Collecting jinja2\n",
      "  Downloading Jinja2-2.11.2-py2.py3-none-any.whl (125 kB)\n",
      "\u001b[K     |################################| 125 kB 19.2 MB/s eta 0:00:01\n",
      "\u001b[?25hRequirement already satisfied: pyzmq>=17 in /specific/scratches/scratch/guy/miniconda/lib/python3.8/site-packages (from notebook>=4.4.1->widgetsnbextension~=3.5.0->ipywidgets) (19.0.2)\n",
      "Collecting nbconvert\n",
      "  Downloading nbconvert-5.6.1-py2.py3-none-any.whl (455 kB)\n",
      "\u001b[K     |################################| 455 kB 19.5 MB/s eta 0:00:01\n",
      "\u001b[?25hCollecting terminado>=0.8.3\n",
      "  Downloading terminado-0.8.3-py2.py3-none-any.whl (33 kB)\n",
      "Collecting Send2Trash\n",
      "  Downloading Send2Trash-1.5.0-py3-none-any.whl (12 kB)\n",
      "Collecting prometheus-client\n",
      "  Downloading prometheus_client-0.8.0-py2.py3-none-any.whl (53 kB)\n",
      "\u001b[K     |################################| 53 kB 422 kB/s  eta 0:00:01\n",
      "\u001b[?25hCollecting argon2-cffi\n",
      "  Downloading argon2_cffi-20.1.0-cp35-abi3-manylinux1_x86_64.whl (97 kB)\n",
      "\u001b[K     |################################| 97 kB 1.8 MB/s  eta 0:00:01\n",
      "\u001b[?25hRequirement already satisfied: python-dateutil>=2.1 in /specific/scratches/scratch/guy/miniconda/lib/python3.8/site-packages (from jupyter-client->ipykernel>=4.5.1->ipywidgets) (2.8.1)\n",
      "Collecting pyrsistent>=0.14.0\n",
      "  Downloading pyrsistent-0.16.0.tar.gz (108 kB)\n",
      "\u001b[K     |################################| 108 kB 19.2 MB/s eta 0:00:01\n",
      "\u001b[?25hCollecting attrs>=17.4.0\n",
      "  Downloading attrs-19.3.0-py2.py3-none-any.whl (39 kB)\n",
      "Requirement already satisfied: ptyprocess>=0.5 in /specific/scratches/scratch/guy/miniconda/lib/python3.8/site-packages (from pexpect; sys_platform != \"win32\"->ipython>=4.0.0; python_version >= \"3.3\"->ipywidgets) (0.6.0)\n",
      "Requirement already satisfied: wcwidth in /specific/scratches/scratch/guy/miniconda/lib/python3.8/site-packages (from prompt-toolkit!=3.0.0,!=3.0.1,<3.1.0,>=2.0.0->ipython>=4.0.0; python_version >= \"3.3\"->ipywidgets) (0.2.5)\n",
      "Requirement already satisfied: parso<0.8.0,>=0.7.0 in /specific/scratches/scratch/guy/miniconda/lib/python3.8/site-packages (from jedi>=0.10->ipython>=4.0.0; python_version >= \"3.3\"->ipywidgets) (0.7.1)\n",
      "Collecting MarkupSafe>=0.23\n",
      "  Downloading MarkupSafe-1.1.1-cp38-cp38-manylinux1_x86_64.whl (32 kB)\n",
      "Collecting mistune<2,>=0.8.1\n",
      "  Downloading mistune-0.8.4-py2.py3-none-any.whl (16 kB)\n",
      "Collecting pandocfilters>=1.4.1\n",
      "  Downloading pandocfilters-1.4.2.tar.gz (14 kB)\n",
      "Collecting entrypoints>=0.2.2\n",
      "  Downloading entrypoints-0.3-py2.py3-none-any.whl (11 kB)\n",
      "Collecting testpath\n",
      "  Downloading testpath-0.4.4-py2.py3-none-any.whl (163 kB)\n",
      "\u001b[K     |################################| 163 kB 21.0 MB/s eta 0:00:01\n",
      "\u001b[?25hCollecting defusedxml\n",
      "  Downloading defusedxml-0.6.0-py2.py3-none-any.whl (23 kB)\n",
      "Collecting bleach\n",
      "  Downloading bleach-3.1.5-py2.py3-none-any.whl (151 kB)\n",
      "\u001b[K     |################################| 151 kB 17.5 MB/s eta 0:00:01\n",
      "\u001b[?25hRequirement already satisfied: cffi>=1.0.0 in /specific/scratches/scratch/guy/miniconda/lib/python3.8/site-packages (from argon2-cffi->notebook>=4.4.1->widgetsnbextension~=3.5.0->ipywidgets) (1.14.0)\n",
      "Collecting webencodings\n",
      "  Downloading webencodings-0.5.1-py2.py3-none-any.whl (11 kB)\n",
      "Requirement already satisfied: packaging in /specific/scratches/scratch/guy/miniconda/lib/python3.8/site-packages (from bleach->nbconvert->notebook>=4.4.1->widgetsnbextension~=3.5.0->ipywidgets) (20.4)\n",
      "Requirement already satisfied: pycparser in /specific/scratches/scratch/guy/miniconda/lib/python3.8/site-packages (from cffi>=1.0.0->argon2-cffi->notebook>=4.4.1->widgetsnbextension~=3.5.0->ipywidgets) (2.20)\n",
      "Requirement already satisfied: pyparsing>=2.0.2 in /specific/scratches/scratch/guy/miniconda/lib/python3.8/site-packages (from packaging->bleach->nbconvert->notebook>=4.4.1->widgetsnbextension~=3.5.0->ipywidgets) (2.4.7)\n",
      "Building wheels for collected packages: pyrsistent, pandocfilters\n",
      "  Building wheel for pyrsistent (setup.py) ... \u001b[?25l-\b \b\\\b \b|\b \b/\b \bdone\n",
      "\u001b[?25h  Created wheel for pyrsistent: filename=pyrsistent-0.16.0-cp38-cp38-linux_x86_64.whl size=115781 sha256=a2a961ac2a3e7faaccff44f2d4eef6e0e1e2b31bc63e8346cb38cbc5b3b413d9\n",
      "  Stored in directory: /specific/a/home/cc/students/cs/dar/.cache/pip/wheels/17/be/0f/727fb20889ada6aaaaba861f5f0eb21663533915429ad43f28\n",
      "  Building wheel for pandocfilters (setup.py) ... \u001b[?25l-\b \bdone\n",
      "\u001b[?25h  Created wheel for pandocfilters: filename=pandocfilters-1.4.2-py3-none-any.whl size=7856 sha256=6a616b83303789c65bb3aea30fcbc22f6f7eaeb6c575fe18e1017cebb048491f\n",
      "  Stored in directory: /specific/a/home/cc/students/cs/dar/.cache/pip/wheels/f6/08/65/e4636b703d0e870cd62692dafd6b47db27287fe80cea433722\n",
      "Successfully built pyrsistent pandocfilters\n",
      "Installing collected packages: MarkupSafe, jinja2, pyrsistent, attrs, jsonschema, nbformat, mistune, pandocfilters, entrypoints, testpath, defusedxml, webencodings, bleach, nbconvert, terminado, Send2Trash, prometheus-client, argon2-cffi, notebook, widgetsnbextension, ipywidgets\n"
     ]
    }
   ],
   "source": [
    "%pip install ipywidgets\n",
    "!guy_python -m jupyter nbextension enable --py widgetsnbextension\n",
    "\n",
    "!jupyter nbextension enable --py widgetsnbextension"
   ]
  },
  {
   "cell_type": "markdown",
   "metadata": {},
   "source": [
    "Finally worked:"
   ]
  },
  {
   "cell_type": "code",
   "execution_count": 13,
   "metadata": {
    "ExecuteTime": {
     "end_time": "2020-08-10T08:12:09.203056Z",
     "start_time": "2020-08-10T08:05:22.047799Z"
    },
    "collapsed": false
   },
   "outputs": [
    {
     "name": "stdout",
     "output_type": "stream",
     "text": [
      "Collecting package metadata (current_repodata.json): - \b\b\\ \b\b| \b\b/ \b\b- \b\b\\ \b\b| \b\b/ \b\b- \b\b\\ \b\b| \b\b/ \b\b- \b\b\\ \b\b| \b\b/ \b\b- \b\b\\ \b\b| \b\b/ \b\b- \b\b\\ \b\b| \b\b/ \b\b- \b\b\\ \b\b| \b\b/ \b\b- \b\b\\ \b\b| \b\b/ \b\b- \b\b\\ \b\b| \b\b/ \b\b- \b\b\\ \b\b| \b\b/ \b\b- \b\b\\ \b\b| \b\b/ \b\b- \b\b\\ \b\b| \b\b/ \b\b- \b\b\\ \b\b| \b\b/ \b\b- \b\b\\ \b\b| \b\b/ \b\b- \b\b\\ \b\b| \b\b/ \b\b- \b\b\\ \b\b| \b\b/ \b\b- \b\b\\ \b\b| \b\b/ \b\b- \b\b\\ \b\b| \b\b/ \b\b- \b\b\\ \b\b| \b\b/ \b\b- \b\b\\ \b\b| \b\b/ \b\b- \b\b\\ \b\b| \b\b/ \b\b- \b\b\\ \b\b| \b\bdone\n",
      "Solving environment: - \b\b\\ \b\b| \b\b/ \b\b- \b\b\\ \b\b| \b\b/ \b\b- \b\b\\ \b\b| \b\b/ \b\b- \b\b\\ \b\b| \b\b/ \b\b- \b\b\\ \b\bdone\n",
      "\n",
      "## Package Plan ##\n",
      "\n",
      "  environment location: /vol/scratch/guy/miniconda\n",
      "\n",
      "  added / updated specs:\n",
      "    - widgetsnbextension\n",
      "\n",
      "\n",
      "The following packages will be downloaded:\n",
      "\n",
      "    package                    |            build\n",
      "    ---------------------------|-----------------\n",
      "    archspec-0.1.1             |     pyh9f0ad1d_0          25 KB  conda-forge\n",
      "    argon2-cffi-20.1.0         |   py38h1e0a361_1          47 KB  conda-forge\n",
      "    attrs-19.3.0               |             py_0          35 KB  conda-forge\n",
      "    backcall-0.2.0             |     pyh9f0ad1d_0          13 KB  conda-forge\n",
      "    backports-1.0              |             py_2           4 KB  conda-forge\n",
      "    backports.functools_lru_cache-1.6.1|             py_0           8 KB  conda-forge\n",
      "    bleach-3.1.5               |     pyh9f0ad1d_0         112 KB  conda-forge\n",
      "    ca-certificates-2020.6.20  |       hecda079_0         145 KB  conda-forge\n",
      "    certifi-2020.6.20          |   py38h32f6830_0         151 KB  conda-forge\n",
      "    conda-4.8.4                |   py38h32f6830_1         3.0 MB  conda-forge\n",
      "    decorator-4.4.2            |             py_0          11 KB  conda-forge\n",
      "    defusedxml-0.6.0           |             py_0          22 KB  conda-forge\n",
      "    entrypoints-0.3            |py38h32f6830_1001          11 KB  conda-forge\n",
      "    importlib-metadata-1.7.0   |   py38h32f6830_0          45 KB  conda-forge\n",
      "    importlib_metadata-1.7.0   |                0           3 KB  conda-forge\n",
      "    ipykernel-5.3.4            |   py38h23f93f0_0         166 KB  conda-forge\n",
      "    ipython-7.17.0             |   py38h1cdfbd6_0         1.1 MB  conda-forge\n",
      "    ipython_genutils-0.2.0     |             py_1          21 KB  conda-forge\n",
      "    jedi-0.15.2                |           py38_0         766 KB  conda-forge\n",
      "    jinja2-2.11.2              |     pyh9f0ad1d_0          93 KB  conda-forge\n",
      "    jsonschema-3.2.0           |   py38h32f6830_1          90 KB  conda-forge\n",
      "    jupyter_client-6.1.6       |             py_0          75 KB  conda-forge\n",
      "    jupyter_core-4.6.3         |   py38h32f6830_1          71 KB  conda-forge\n",
      "    libsodium-1.0.18           |       h516909a_0         339 KB  conda-forge\n",
      "    markupsafe-1.1.1           |   py38h1e0a361_1          26 KB  conda-forge\n",
      "    mistune-0.8.4              |py38h1e0a361_1001          54 KB  conda-forge\n",
      "    nbconvert-5.6.1            |   py38h32f6830_1         488 KB  conda-forge\n",
      "    nbformat-5.0.7             |             py_0          99 KB  conda-forge\n",
      "    notebook-6.1.1             |   py38h32f6830_0         6.2 MB  conda-forge\n",
      "    openssl-1.1.1g             |       h516909a_1         2.1 MB  conda-forge\n",
      "    packaging-20.4             |     pyh9f0ad1d_0          32 KB  conda-forge\n",
      "    pandoc-2.10.1              |       h516909a_0        19.3 MB  conda-forge\n",
      "    pandocfilters-1.4.2        |             py_1           9 KB  conda-forge\n",
      "    parso-0.8.0                |     pyh9f0ad1d_0          67 KB  conda-forge\n",
      "    pexpect-4.8.0              |   py38h32f6830_1          80 KB  conda-forge\n",
      "    pickleshare-0.7.5          |py38h32f6830_1001          13 KB  conda-forge\n",
      "    prometheus_client-0.8.0    |     pyh9f0ad1d_0          44 KB  conda-forge\n",
      "    prompt-toolkit-3.0.5       |             py_1         233 KB  conda-forge\n",
      "    ptyprocess-0.6.0           |          py_1001          15 KB  conda-forge\n",
      "    pygments-2.6.1             |             py_0         683 KB  conda-forge\n",
      "    pyparsing-2.4.7            |     pyh9f0ad1d_0          60 KB  conda-forge\n",
      "    pyrsistent-0.16.0          |   py38h1e0a361_0          90 KB  conda-forge\n",
      "    python-dateutil-2.8.1      |             py_0         220 KB  conda-forge\n",
      "    python_abi-3.8             |           1_cp38           4 KB  conda-forge\n",
      "    pyzmq-19.0.2               |   py38ha71036d_0         492 KB  conda-forge\n",
      "    send2trash-1.5.0           |             py_0          12 KB  conda-forge\n",
      "    terminado-0.8.3            |   py38h32f6830_1          23 KB  conda-forge\n",
      "    testpath-0.4.4             |             py_0          85 KB  conda-forge\n",
      "    tornado-6.0.4              |   py38h1e0a361_1         642 KB  conda-forge\n",
      "    traitlets-4.3.3            |   py38h32f6830_1         134 KB  conda-forge\n",
      "    wcwidth-0.2.5              |     pyh9f0ad1d_1          33 KB  conda-forge\n",
      "    webencodings-0.5.1         |             py_1          12 KB  conda-forge\n",
      "    widgetsnbextension-3.5.1   |   py38h32f6830_1         1.8 MB  conda-forge\n",
      "    zeromq-4.3.2               |       he1b5a44_3         326 KB  conda-forge\n",
      "    zipp-3.1.0                 |             py_0          10 KB  conda-forge\n",
      "    ------------------------------------------------------------\n",
      "                                           Total:        39.7 MB\n",
      "\n",
      "The following NEW packages will be INSTALLED:\n",
      "\n",
      "  archspec           conda-forge/noarch::archspec-0.1.1-pyh9f0ad1d_0\n",
      "  argon2-cffi        conda-forge/linux-64::argon2-cffi-20.1.0-py38h1e0a361_1\n",
      "  attrs              conda-forge/noarch::attrs-19.3.0-py_0\n",
      "  backcall           conda-forge/noarch::backcall-0.2.0-pyh9f0ad1d_0\n",
      "  backports          conda-forge/noarch::backports-1.0-py_2\n",
      "  backports.functoo~ conda-forge/noarch::backports.functools_lru_cache-1.6.1-py_0\n",
      "  bleach             conda-forge/noarch::bleach-3.1.5-pyh9f0ad1d_0\n",
      "  decorator          conda-forge/noarch::decorator-4.4.2-py_0\n",
      "  defusedxml         conda-forge/noarch::defusedxml-0.6.0-py_0\n",
      "  entrypoints        conda-forge/linux-64::entrypoints-0.3-py38h32f6830_1001\n",
      "  importlib-metadata conda-forge/linux-64::importlib-metadata-1.7.0-py38h32f6830_0\n",
      "  importlib_metadata conda-forge/noarch::importlib_metadata-1.7.0-0\n",
      "  ipykernel          conda-forge/linux-64::ipykernel-5.3.4-py38h23f93f0_0\n",
      "  ipython            conda-forge/linux-64::ipython-7.17.0-py38h1cdfbd6_0\n",
      "  ipython_genutils   conda-forge/noarch::ipython_genutils-0.2.0-py_1\n",
      "  jedi               conda-forge/linux-64::jedi-0.15.2-py38_0\n",
      "  jinja2             conda-forge/noarch::jinja2-2.11.2-pyh9f0ad1d_0\n",
      "  jsonschema         conda-forge/linux-64::jsonschema-3.2.0-py38h32f6830_1\n",
      "  jupyter_client     conda-forge/noarch::jupyter_client-6.1.6-py_0\n",
      "  jupyter_core       conda-forge/linux-64::jupyter_core-4.6.3-py38h32f6830_1\n",
      "  libsodium          conda-forge/linux-64::libsodium-1.0.18-h516909a_0\n",
      "  markupsafe         conda-forge/linux-64::markupsafe-1.1.1-py38h1e0a361_1\n",
      "  mistune            conda-forge/linux-64::mistune-0.8.4-py38h1e0a361_1001\n",
      "  nbconvert          conda-forge/linux-64::nbconvert-5.6.1-py38h32f6830_1\n",
      "  nbformat           conda-forge/noarch::nbformat-5.0.7-py_0\n",
      "  notebook           conda-forge/linux-64::notebook-6.1.1-py38h32f6830_0\n",
      "  packaging          conda-forge/noarch::packaging-20.4-pyh9f0ad1d_0\n",
      "  pandoc             conda-forge/linux-64::pandoc-2.10.1-h516909a_0\n",
      "  pandocfilters      conda-forge/noarch::pandocfilters-1.4.2-py_1\n",
      "  parso              conda-forge/noarch::parso-0.8.0-pyh9f0ad1d_0\n",
      "  pexpect            conda-forge/linux-64::pexpect-4.8.0-py38h32f6830_1\n",
      "  pickleshare        conda-forge/linux-64::pickleshare-0.7.5-py38h32f6830_1001\n",
      "  prometheus_client  conda-forge/noarch::prometheus_client-0.8.0-pyh9f0ad1d_0\n",
      "  prompt-toolkit     conda-forge/noarch::prompt-toolkit-3.0.5-py_1\n",
      "  ptyprocess         conda-forge/noarch::ptyprocess-0.6.0-py_1001\n",
      "  pygments           conda-forge/noarch::pygments-2.6.1-py_0\n",
      "  pyparsing          conda-forge/noarch::pyparsing-2.4.7-pyh9f0ad1d_0\n",
      "  pyrsistent         conda-forge/linux-64::pyrsistent-0.16.0-py38h1e0a361_0\n",
      "  python-dateutil    conda-forge/noarch::python-dateutil-2.8.1-py_0\n",
      "  python_abi         conda-forge/linux-64::python_abi-3.8-1_cp38\n",
      "  pyzmq              conda-forge/linux-64::pyzmq-19.0.2-py38ha71036d_0\n",
      "  send2trash         conda-forge/noarch::send2trash-1.5.0-py_0\n",
      "  terminado          conda-forge/linux-64::terminado-0.8.3-py38h32f6830_1\n",
      "  testpath           conda-forge/noarch::testpath-0.4.4-py_0\n",
      "  tornado            conda-forge/linux-64::tornado-6.0.4-py38h1e0a361_1\n",
      "  traitlets          conda-forge/linux-64::traitlets-4.3.3-py38h32f6830_1\n",
      "  wcwidth            conda-forge/noarch::wcwidth-0.2.5-pyh9f0ad1d_1\n",
      "  webencodings       conda-forge/noarch::webencodings-0.5.1-py_1\n",
      "  widgetsnbextension conda-forge/linux-64::widgetsnbextension-3.5.1-py38h32f6830_1\n",
      "  zeromq             conda-forge/linux-64::zeromq-4.3.2-he1b5a44_3\n",
      "  zipp               conda-forge/noarch::zipp-3.1.0-py_0\n",
      "\n",
      "The following packages will be UPDATED:\n",
      "\n",
      "  ca-certificates     pkgs/main::ca-certificates-2020.1.1-0 --> conda-forge::ca-certificates-2020.6.20-hecda079_0\n",
      "  certifi              pkgs/main::certifi-2020.4.5.1-py38_0 --> conda-forge::certifi-2020.6.20-py38h32f6830_0\n",
      "  conda                       pkgs/main::conda-4.8.3-py38_0 --> conda-forge::conda-4.8.4-py38h32f6830_1\n",
      "  openssl              pkgs/main::openssl-1.1.1g-h7b6447c_0 --> conda-forge::openssl-1.1.1g-h516909a_1\n",
      "\n",
      "\n",
      "Proceed ([y]/n)? ^C\n",
      "\n",
      "CondaSystemExit: \n",
      "Operation aborted.  Exiting.\n",
      "\n",
      "Collecting package metadata (current_repodata.json): - \b\b\\ \b\b| \b\b/ \b\b- \b\b\\ \b\b| \b\b/ \b\b- \b\b\\ \b\b| \b\b/ \b\b- \b\b\\ \b\b| \b\b/ \b\b- \b\b\\ \b\b| ^C\n",
      "\b\b/ \b\b- "
     ]
    }
   ],
   "source": [
    "# Run in shell\n",
    "!guy_conda install -c conda-forge widgetsnbextension\n",
    "!guy_conda install -c conda-forge ipywidgets"
   ]
  },
  {
   "cell_type": "code",
   "execution_count": 8,
   "metadata": {
    "ExecuteTime": {
     "end_time": "2020-08-10T08:22:01.342140Z",
     "start_time": "2020-08-10T08:22:00.925042Z"
    },
    "collapsed": false
   },
   "outputs": [
    {
     "name": "stdout",
     "output_type": "stream",
     "text": [
      "jupyter: 'labextension' is not a Jupyter command\r\n"
     ]
    }
   ],
   "source": [
    "!jupyter labextension install @jupyter-widgets/jupyterlab-manager"
   ]
  },
  {
   "cell_type": "markdown",
   "metadata": {},
   "source": [
    "### PyTorch + Transformers"
   ]
  },
  {
   "cell_type": "code",
   "execution_count": 2,
   "metadata": {
    "ExecuteTime": {
     "end_time": "2020-08-10T18:47:03.138222Z",
     "start_time": "2020-08-10T18:47:03.132011Z"
    },
    "collapsed": true,
    "init_cell": true
   },
   "outputs": [],
   "source": [
    "guy_folder = \"/vol/scratch/guy\""
   ]
  },
  {
   "cell_type": "code",
   "execution_count": 7,
   "metadata": {
    "ExecuteTime": {
     "end_time": "2020-08-10T07:59:21.635288Z",
     "start_time": "2020-08-10T07:58:42.530263Z"
    },
    "collapsed": false
   },
   "outputs": [
    {
     "name": "stdout",
     "output_type": "stream",
     "text": [
      "/specific/scratches/scratch/guy\n",
      "Looking in links: https://download.pytorch.org/whl/torch_stable.html\n",
      "Requirement already satisfied: torch==1.4.0+cu100 in ./miniconda/lib/python3.8/site-packages (1.4.0+cu100)\n",
      "Note: you may need to restart the kernel to use updated packages.\n",
      "/specific/scratches/scratch/guy/torch-transformers-cache\n",
      "Cloning into 'transformers'...\n",
      "remote: Enumerating objects: 14, done.\u001b[K\n",
      "remote: Counting objects: 100% (14/14), done.\u001b[K\n",
      "remote: Compressing objects: 100% (13/13), done.\u001b[K\n",
      "remote: Total 37174 (delta 3), reused 3 (delta 0), pack-reused 37160\u001b[K\n",
      "Receiving objects: 100% (37174/37174), 27.11 MiB | 5.98 MiB/s, done.\n",
      "Resolving deltas: 100% (25716/25716), done.\n",
      "Checking connectivity... done.\n",
      "Checking out files: 100% (985/985), done.\n",
      "Processing ./transformers\n",
      "Requirement already satisfied: numpy in /specific/scratches/scratch/guy/miniconda/lib/python3.8/site-packages (from transformers==3.0.2) (1.19.1)\n",
      "Collecting tokenizers==0.8.1.rc2\n",
      "  Downloading tokenizers-0.8.1rc2-cp38-cp38-manylinux1_x86_64.whl (3.0 MB)\n",
      "\u001b[K     |################################| 3.0 MB 595 kB/s eta 0:00:01\n",
      "\u001b[?25hCollecting packaging\n",
      "  Downloading packaging-20.4-py2.py3-none-any.whl (37 kB)\n",
      "Requirement already satisfied: filelock in /specific/scratches/scratch/guy/miniconda/lib/python3.8/site-packages (from transformers==3.0.2) (3.0.12)\n",
      "Requirement already satisfied: requests in /specific/scratches/scratch/guy/miniconda/lib/python3.8/site-packages (from transformers==3.0.2) (2.23.0)\n",
      "Requirement already satisfied: tqdm>=4.27 in /specific/scratches/scratch/guy/miniconda/lib/python3.8/site-packages (from transformers==3.0.2) (4.46.0)\n",
      "Collecting regex!=2019.12.17\n",
      "  Downloading regex-2020.7.14-cp38-cp38-manylinux2010_x86_64.whl (672 kB)\n",
      "\u001b[K     |################################| 672 kB 17.9 MB/s eta 0:00:01\n",
      "\u001b[?25hCollecting sentencepiece!=0.1.92\n",
      "  Downloading sentencepiece-0.1.91-cp38-cp38-manylinux1_x86_64.whl (1.1 MB)\n",
      "\u001b[K     |################################| 1.1 MB 15.1 MB/s eta 0:00:01\n",
      "\u001b[?25hCollecting sacremoses\n",
      "  Downloading sacremoses-0.0.43.tar.gz (883 kB)\n",
      "\u001b[K     |################################| 883 kB 18.5 MB/s eta 0:00:01\n",
      "\u001b[?25hRequirement already satisfied: six in /specific/scratches/scratch/guy/miniconda/lib/python3.8/site-packages (from packaging->transformers==3.0.2) (1.14.0)\n",
      "Requirement already satisfied: pyparsing>=2.0.2 in /specific/scratches/scratch/guy/miniconda/lib/python3.8/site-packages (from packaging->transformers==3.0.2) (2.4.7)\n",
      "Requirement already satisfied: chardet<4,>=3.0.2 in /specific/scratches/scratch/guy/miniconda/lib/python3.8/site-packages (from requests->transformers==3.0.2) (3.0.4)\n",
      "Requirement already satisfied: idna<3,>=2.5 in /specific/scratches/scratch/guy/miniconda/lib/python3.8/site-packages (from requests->transformers==3.0.2) (2.9)\n",
      "Requirement already satisfied: urllib3!=1.25.0,!=1.25.1,<1.26,>=1.21.1 in /specific/scratches/scratch/guy/miniconda/lib/python3.8/site-packages (from requests->transformers==3.0.2) (1.25.8)\n",
      "Requirement already satisfied: certifi>=2017.4.17 in /specific/scratches/scratch/guy/miniconda/lib/python3.8/site-packages (from requests->transformers==3.0.2) (2020.4.5.1)\n",
      "Collecting click\n",
      "  Downloading click-7.1.2-py2.py3-none-any.whl (82 kB)\n",
      "\u001b[K     |################################| 82 kB 1.1 MB/s  eta 0:00:01\n",
      "\u001b[?25hCollecting joblib\n",
      "  Downloading joblib-0.16.0-py3-none-any.whl (300 kB)\n",
      "\u001b[K     |################################| 300 kB 18.2 MB/s eta 0:00:01\n",
      "\u001b[?25hBuilding wheels for collected packages: transformers, sacremoses\n",
      "  Building wheel for transformers (setup.py) ... \u001b[?25l-\b \b\\\b \b|\b \bdone\n",
      "\u001b[?25h  Created wheel for transformers: filename=transformers-3.0.2-py3-none-any.whl size=824175 sha256=14054d3cc7bf01805a6d62af7a066c62c97b63c3f85921f13f48653fac26c349\n",
      "  Stored in directory: /tmp/pip-ephem-wheel-cache-045wv0ge/wheels/b2/c5/c3/84a04d19f1e166956bee9fa37a94f05956fd042edc35567761\n",
      "  Building wheel for sacremoses (setup.py) ... \u001b[?25l-\b \b\\\b \bdone\n",
      "\u001b[?25h  Created wheel for sacremoses: filename=sacremoses-0.0.43-py3-none-any.whl size=893259 sha256=2205595bdaedeac30f65f2fa380e6d74f6891e17ca0c1ddb380ee1fa8a1d640c\n",
      "  Stored in directory: /specific/a/home/cc/students/cs/dar/.cache/pip/wheels/7b/78/f4/27d43a65043e1b75dbddaa421b573eddc67e712be4b1c80677\n",
      "Successfully built transformers sacremoses\n",
      "Installing collected packages: tokenizers, packaging, regex, sentencepiece, click, joblib, sacremoses, transformers\n",
      "Successfully installed click-7.1.2 joblib-0.16.0 packaging-20.4 regex-2020.7.14 sacremoses-0.0.43 sentencepiece-0.1.91 tokenizers-0.8.1rc2 transformers-3.0.2\n",
      "Note: you may need to restart the kernel to use updated packages.\n",
      "Requirement already up-to-date: nlp in /specific/scratches/scratch/guy/miniconda/lib/python3.8/site-packages (0.4.0)\n",
      "Requirement already satisfied, skipping upgrade: tqdm>=4.27 in /specific/scratches/scratch/guy/miniconda/lib/python3.8/site-packages (from nlp) (4.46.0)\n",
      "Requirement already satisfied, skipping upgrade: numpy in /specific/scratches/scratch/guy/miniconda/lib/python3.8/site-packages (from nlp) (1.19.1)\n",
      "Requirement already satisfied, skipping upgrade: requests>=2.19.0 in /specific/scratches/scratch/guy/miniconda/lib/python3.8/site-packages (from nlp) (2.23.0)\n",
      "Requirement already satisfied, skipping upgrade: pyarrow>=0.16.0 in /specific/scratches/scratch/guy/miniconda/lib/python3.8/site-packages (from nlp) (1.0.0)\n",
      "Requirement already satisfied, skipping upgrade: pandas in /specific/scratches/scratch/guy/miniconda/lib/python3.8/site-packages (from nlp) (1.1.0)\n",
      "Requirement already satisfied, skipping upgrade: filelock in /specific/scratches/scratch/guy/miniconda/lib/python3.8/site-packages (from nlp) (3.0.12)\n",
      "Requirement already satisfied, skipping upgrade: xxhash in /specific/scratches/scratch/guy/miniconda/lib/python3.8/site-packages (from nlp) (2.0.0)\n",
      "Requirement already satisfied, skipping upgrade: dill in /specific/scratches/scratch/guy/miniconda/lib/python3.8/site-packages (from nlp) (0.3.2)\n",
      "Requirement already satisfied, skipping upgrade: idna<3,>=2.5 in /specific/scratches/scratch/guy/miniconda/lib/python3.8/site-packages (from requests>=2.19.0->nlp) (2.9)\n",
      "Requirement already satisfied, skipping upgrade: urllib3!=1.25.0,!=1.25.1,<1.26,>=1.21.1 in /specific/scratches/scratch/guy/miniconda/lib/python3.8/site-packages (from requests>=2.19.0->nlp) (1.25.8)\n",
      "Requirement already satisfied, skipping upgrade: certifi>=2017.4.17 in /specific/scratches/scratch/guy/miniconda/lib/python3.8/site-packages (from requests>=2.19.0->nlp) (2020.4.5.1)\n",
      "Requirement already satisfied, skipping upgrade: chardet<4,>=3.0.2 in /specific/scratches/scratch/guy/miniconda/lib/python3.8/site-packages (from requests>=2.19.0->nlp) (3.0.4)\n",
      "Requirement already satisfied, skipping upgrade: python-dateutil>=2.7.3 in /specific/scratches/scratch/guy/miniconda/lib/python3.8/site-packages (from pandas->nlp) (2.8.1)\n",
      "Requirement already satisfied, skipping upgrade: pytz>=2017.2 in /specific/scratches/scratch/guy/miniconda/lib/python3.8/site-packages (from pandas->nlp) (2020.1)\n",
      "Requirement already satisfied, skipping upgrade: six>=1.5 in /specific/scratches/scratch/guy/miniconda/lib/python3.8/site-packages (from python-dateutil>=2.7.3->pandas->nlp) (1.14.0)\n",
      "Note: you may need to restart the kernel to use updated packages.\n",
      "/specific/scratches/scratch/guy\n"
     ]
    }
   ],
   "source": [
    "%cd {guy_folder}\n",
    "!mkdir datasets\n",
    "!mkdir torch-transformers-cache\n",
    "\n",
    "%pip install --no-cache-dir torch==1.4.0+cu100 -f https://download.pytorch.org/whl/torch_stable.html\n",
    "\n",
    "%cd /vol/scratch/guy/torch-transformers-cache/\n",
    "!git clone https://github.com/huggingface/transformers.git\n",
    "%pip install ./transformers\n",
    "%pip install -U nlp\n",
    "\n",
    "%cd /vol/scratch/guy/\n",
    "## Not working!!!\n",
    "!setenv TRANSFORMERS_CACHE /vol/scratch/guy/torch-transformers-cache\n",
    "!setenv CUDA_VISIBLE_DEVICES 0"
   ]
  },
  {
   "cell_type": "code",
   "execution_count": 16,
   "metadata": {
    "ExecuteTime": {
     "end_time": "2020-08-10T08:33:12.032482Z",
     "start_time": "2020-08-10T08:33:11.826908Z"
    },
    "collapsed": true
   },
   "outputs": [],
   "source": [
    "import nlp"
   ]
  },
  {
   "cell_type": "code",
   "execution_count": 22,
   "metadata": {
    "ExecuteTime": {
     "end_time": "2020-08-10T08:38:10.146994Z",
     "start_time": "2020-08-10T08:37:59.084357Z"
    },
    "collapsed": false
   },
   "outputs": [
    {
     "data": {
      "application/vnd.jupyter.widget-view+json": {
       "model_id": "216d2e1f22e6494b96a43bd44fae9d8c",
       "version_major": 2,
       "version_minor": 0
      },
      "text/plain": [
       "HBox(children=(FloatProgress(value=0.0, description='Downloading', max=29068.0, style=ProgressStyle(descriptio…"
      ]
     },
     "metadata": {},
     "output_type": "display_data"
    },
    {
     "name": "stdout",
     "output_type": "stream",
     "text": [
      "\n"
     ]
    },
    {
     "data": {
      "application/vnd.jupyter.widget-view+json": {
       "model_id": "6e2cfdb626f3455bb8bc7cb7fcef07f9",
       "version_major": 2,
       "version_minor": 0
      },
      "text/plain": [
       "HBox(children=(FloatProgress(value=0.0, description='Downloading', max=30329.0, style=ProgressStyle(descriptio…"
      ]
     },
     "metadata": {},
     "output_type": "display_data"
    },
    {
     "name": "stdout",
     "output_type": "stream",
     "text": [
      "\n",
      "Downloading and preparing dataset glue/mrpc (download: 1.43 MiB, generated: 1.43 MiB, post-processed: Unknown sizetotal: 2.85 MiB) to /vol/scratch/guy/torch-transformers-cache/glue/mrpc/1.0.0/005857b1e5a6280d8f1a9b9537d44a08ba30cb6be958e81fac98e625a0d487a7...\n"
     ]
    },
    {
     "data": {
      "application/vnd.jupyter.widget-view+json": {
       "model_id": "244b0f3fce1b4e2a91d8df164734021b",
       "version_major": 2,
       "version_minor": 0
      },
      "text/plain": [
       "HBox(children=(FloatProgress(value=0.0, description='Downloading', max=6222.0, style=ProgressStyle(description…"
      ]
     },
     "metadata": {},
     "output_type": "display_data"
    },
    {
     "name": "stdout",
     "output_type": "stream",
     "text": [
      "\n"
     ]
    },
    {
     "data": {
      "application/vnd.jupyter.widget-view+json": {
       "model_id": "431bebc8de2340fb959422e69af73aab",
       "version_major": 2,
       "version_minor": 0
      },
      "text/plain": [
       "HBox(children=(FloatProgress(value=1.0, bar_style='info', description='Downloading', max=1.0, style=ProgressSt…"
      ]
     },
     "metadata": {},
     "output_type": "display_data"
    },
    {
     "name": "stdout",
     "output_type": "stream",
     "text": [
      "\n"
     ]
    },
    {
     "data": {
      "application/vnd.jupyter.widget-view+json": {
       "model_id": "94a14220e75e4033a8d936b38cefcbbe",
       "version_major": 2,
       "version_minor": 0
      },
      "text/plain": [
       "HBox(children=(FloatProgress(value=1.0, bar_style='info', description='Downloading', max=1.0, style=ProgressSt…"
      ]
     },
     "metadata": {},
     "output_type": "display_data"
    },
    {
     "name": "stdout",
     "output_type": "stream",
     "text": [
      "\n"
     ]
    },
    {
     "data": {
      "application/vnd.jupyter.widget-view+json": {
       "model_id": "86ba98a02d7a4e56b38a2a60479aa62f",
       "version_major": 2,
       "version_minor": 0
      },
      "text/plain": [
       "HBox(children=(FloatProgress(value=1.0, bar_style='info', max=1.0), HTML(value='')))"
      ]
     },
     "metadata": {},
     "output_type": "display_data"
    },
    {
     "data": {
      "application/vnd.jupyter.widget-view+json": {
       "model_id": "73a7862188dc4d2584e69e3680c9f335",
       "version_major": 2,
       "version_minor": 0
      },
      "text/plain": [
       "HBox(children=(FloatProgress(value=1.0, bar_style='info', max=1.0), HTML(value='')))"
      ]
     },
     "metadata": {},
     "output_type": "display_data"
    },
    {
     "data": {
      "application/vnd.jupyter.widget-view+json": {
       "model_id": "a77987d8621d411a8d70cf78c4709715",
       "version_major": 2,
       "version_minor": 0
      },
      "text/plain": [
       "HBox(children=(FloatProgress(value=1.0, bar_style='info', max=1.0), HTML(value='')))"
      ]
     },
     "metadata": {},
     "output_type": "display_data"
    },
    {
     "name": "stdout",
     "output_type": "stream",
     "text": [
      "Dataset glue downloaded and prepared to /vol/scratch/guy/torch-transformers-cache/glue/mrpc/1.0.0/005857b1e5a6280d8f1a9b9537d44a08ba30cb6be958e81fac98e625a0d487a7. Subsequent calls will reuse this data.\n"
     ]
    },
    {
     "data": {
      "text/plain": [
       "Dataset(features: {'sentence1': Value(dtype='string', id=None), 'sentence2': Value(dtype='string', id=None), 'label': ClassLabel(num_classes=2, names=['not_equivalent', 'equivalent'], names_file=None, id=None), 'idx': Value(dtype='int32', id=None)}, num_rows: 3668)"
      ]
     },
     "execution_count": 22,
     "metadata": {},
     "output_type": "execute_result"
    }
   ],
   "source": [
    "nlp.load_dataset('glue', 'mrpc', split='train', cache_dir = cache_dir)"
   ]
  },
  {
   "cell_type": "markdown",
   "metadata": {},
   "source": [
    "#### Update Transformers"
   ]
  },
  {
   "cell_type": "code",
   "execution_count": 8,
   "metadata": {
    "collapsed": true
   },
   "outputs": [
    {
     "name": "stdout",
     "output_type": "stream",
     "text": [
      "/specific/scratches/scratch/guy/torch-transformers-cache/transformers\n",
      "Already up-to-date.\n",
      "Obtaining file:///specific/scratches/scratch/guy/torch-transformers-cache/transformers\n",
      "Requirement already satisfied: numpy in /specific/scratches/scratch/guy/miniconda/lib/python3.7/site-packages (from transformers==3.0.2) (1.19.1)\n",
      "Requirement already satisfied: tokenizers==0.8.1.rc2 in /specific/scratches/scratch/guy/miniconda/lib/python3.7/site-packages (from transformers==3.0.2) (0.8.1rc2)\n",
      "Requirement already satisfied: packaging in /specific/scratches/scratch/guy/miniconda/lib/python3.7/site-packages (from transformers==3.0.2) (20.4)\n",
      "Requirement already satisfied: filelock in /specific/scratches/scratch/guy/miniconda/lib/python3.7/site-packages (from transformers==3.0.2) (3.0.12)\n",
      "Requirement already satisfied: requests in /specific/scratches/scratch/guy/miniconda/lib/python3.7/site-packages (from transformers==3.0.2) (2.23.0)\n",
      "Requirement already satisfied: tqdm>=4.27 in /specific/scratches/scratch/guy/miniconda/lib/python3.7/site-packages (from transformers==3.0.2) (4.28.1)\n",
      "Requirement already satisfied: regex!=2019.12.17 in /specific/scratches/scratch/guy/miniconda/lib/python3.7/site-packages (from transformers==3.0.2) (2020.7.14)\n",
      "Requirement already satisfied: sentencepiece!=0.1.92 in /specific/scratches/scratch/guy/miniconda/lib/python3.7/site-packages (from transformers==3.0.2) (0.1.91)\n",
      "Requirement already satisfied: sacremoses in /specific/scratches/scratch/guy/miniconda/lib/python3.7/site-packages (from transformers==3.0.2) (0.0.43)\n",
      "Requirement already satisfied: pyparsing>=2.0.2 in /specific/scratches/scratch/guy/miniconda/lib/python3.7/site-packages (from packaging->transformers==3.0.2) (2.4.7)\n",
      "Requirement already satisfied: six in /specific/scratches/scratch/guy/miniconda/lib/python3.7/site-packages (from packaging->transformers==3.0.2) (1.14.0)\n",
      "Requirement already satisfied: urllib3!=1.25.0,!=1.25.1,<1.26,>=1.21.1 in /specific/scratches/scratch/guy/miniconda/lib/python3.7/site-packages (from requests->transformers==3.0.2) (1.25.8)\n",
      "Requirement already satisfied: idna<3,>=2.5 in /specific/scratches/scratch/guy/miniconda/lib/python3.7/site-packages (from requests->transformers==3.0.2) (2.9)\n",
      "Requirement already satisfied: certifi>=2017.4.17 in /specific/scratches/scratch/guy/miniconda/lib/python3.7/site-packages (from requests->transformers==3.0.2) (2020.6.20)\n",
      "Requirement already satisfied: chardet<4,>=3.0.2 in /specific/scratches/scratch/guy/miniconda/lib/python3.7/site-packages (from requests->transformers==3.0.2) (3.0.4)\n",
      "Requirement already satisfied: click in /specific/scratches/scratch/guy/miniconda/lib/python3.7/site-packages (from sacremoses->transformers==3.0.2) (7.1.2)\n",
      "Requirement already satisfied: joblib in /specific/scratches/scratch/guy/miniconda/lib/python3.7/site-packages (from sacremoses->transformers==3.0.2) (0.16.0)\n",
      "Installing collected packages: transformers\n",
      "  Attempting uninstall: transformers\n",
      "    Found existing installation: transformers 3.0.2\n",
      "    Uninstalling transformers-3.0.2:\n",
      "      Successfully uninstalled transformers-3.0.2\n",
      "  Running setup.py develop for transformers\n",
      "Successfully installed transformers\n",
      "Note: you may need to restart the kernel to use updated packages.\n"
     ]
    }
   ],
   "source": [
    "%cd {guy_folder}/torch-transformers-cache/transformers\n",
    "!git pull\n",
    "%pip install -e ."
   ]
  },
  {
   "cell_type": "markdown",
   "metadata": {},
   "source": [
    "### Get dataset"
   ]
  },
  {
   "cell_type": "code",
   "execution_count": 9,
   "metadata": {
    "ExecuteTime": {
     "end_time": "2020-08-10T08:03:33.452119Z",
     "start_time": "2020-08-10T07:59:58.327675Z"
    },
    "collapsed": false
   },
   "outputs": [
    {
     "name": "stdout",
     "output_type": "stream",
     "text": [
      "/specific/scratches/scratch/guy/datasets\n",
      "--2020-08-10 10:59:58--  http://ai.stanford.edu/~amaas/data/sentiment/aclImdb_v1.tar.gz\n",
      "Resolving ai.stanford.edu (ai.stanford.edu)... 171.64.68.10\n",
      "Connecting to ai.stanford.edu (ai.stanford.edu)|171.64.68.10|:80... connected.\n",
      "HTTP request sent, awaiting response... 200 OK\n",
      "Length: 84125825 (80M) [application/x-gzip]\n",
      "Saving to: 'aclImdb_v1.tar.gz'\n",
      "\n",
      "100%[======================================>] 84,125,825  4.91MB/s   in 15s    \n",
      "\n",
      "2020-08-10 11:00:15 (5.18 MB/s) - 'aclImdb_v1.tar.gz' saved [84125825/84125825]\n",
      "\n",
      "/specific/scratches/scratch/guy\n"
     ]
    }
   ],
   "source": [
    "%cd {guy_folder}/datasets\n",
    "!wget http://ai.stanford.edu/~amaas/data/sentiment/aclImdb_v1.tar.gz\n",
    "!tar -xf acl*.tar.gz\n",
    "%cd {guy_folder}"
   ]
  },
  {
   "cell_type": "markdown",
   "metadata": {},
   "source": [
    "### import"
   ]
  },
  {
   "cell_type": "code",
   "execution_count": 3,
   "metadata": {
    "ExecuteTime": {
     "end_time": "2020-08-10T18:47:07.857320Z",
     "start_time": "2020-08-10T18:47:03.139992Z"
    },
    "collapsed": false,
    "init_cell": true
   },
   "outputs": [
    {
     "name": "stdout",
     "output_type": "stream",
     "text": [
      "/specific/scratches/scratch/guy/datasets\n"
     ]
    }
   ],
   "source": [
    "cache_dir = \"/vol/scratch/guy/torch-transformers-cache/\"\n",
    "import torch\n",
    "from tokenizers import Tokenizer\n",
    "import transformers\n",
    "from transformers import AutoModel, AutoTokenizer, pipeline\n",
    "import numpy as np\n",
    "import pandas as pd\n",
    "from tqdm import tqdm\n",
    "import matplotlib.pyplot as plt \n",
    "import seaborn as sns\n",
    "import re, pdb\n",
    "import itertools\n",
    "%matplotlib inline\n",
    "%cd /vol/scratch/guy/datasets\n"
   ]
  },
  {
   "cell_type": "markdown",
   "metadata": {},
   "source": [
    "### Load dataset"
   ]
  },
  {
   "cell_type": "code",
   "execution_count": 4,
   "metadata": {
    "ExecuteTime": {
     "end_time": "2020-08-10T18:47:52.639667Z",
     "start_time": "2020-08-10T18:47:07.859342Z"
    },
    "collapsed": false,
    "init_cell": true
   },
   "outputs": [
    {
     "name": "stderr",
     "output_type": "stream",
     "text": [
      "100%|██████████| 75000/75000 [00:44<00:00, 1685.67it/s]\n"
     ]
    }
   ],
   "source": [
    "import glob\n",
    "sentences = []\n",
    "target = []\n",
    "path = '/vol/scratch/guy/datasets/aclImdb/train/**/*.txt' \n",
    "files = glob.glob(path)\n",
    "for name in tqdm(files):\n",
    "    with open(name) as f:\n",
    "        target+=[int('pos' in name)] # Classical quick & dirty\n",
    "        sentences += [l for l in f]"
   ]
  },
  {
   "cell_type": "markdown",
   "metadata": {},
   "source": [
    "## Transformers Initialization "
   ]
  },
  {
   "cell_type": "markdown",
   "metadata": {},
   "source": [
    "### Load"
   ]
  },
  {
   "cell_type": "code",
   "execution_count": 11,
   "metadata": {
    "ExecuteTime": {
     "end_time": "2020-08-10T08:04:21.720127Z",
     "start_time": "2020-08-10T08:04:21.716032Z"
    },
    "collapsed": true
   },
   "outputs": [],
   "source": [
    "padding = False"
   ]
  },
  {
   "cell_type": "code",
   "execution_count": 5,
   "metadata": {
    "ExecuteTime": {
     "end_time": "2020-08-10T18:48:26.999229Z",
     "start_time": "2020-08-10T18:47:52.644029Z"
    },
    "collapsed": false,
    "init_cell": true
   },
   "outputs": [
    {
     "name": "stderr",
     "output_type": "stream",
     "text": [
      "Some weights of GPT2Model were not initialized from the model checkpoint at gpt2 and are newly initialized: ['h.0.attn.masked_bias', 'h.1.attn.masked_bias', 'h.2.attn.masked_bias', 'h.3.attn.masked_bias', 'h.4.attn.masked_bias', 'h.5.attn.masked_bias', 'h.6.attn.masked_bias', 'h.7.attn.masked_bias', 'h.8.attn.masked_bias', 'h.9.attn.masked_bias', 'h.10.attn.masked_bias', 'h.11.attn.masked_bias']\n",
      "You should probably TRAIN this model on a down-stream task to be able to use it for predictions and inference.\n"
     ]
    }
   ],
   "source": [
    "if ('padding' not in globals()) and ('padding' not in locals()):\n",
    "    padding = False\n",
    "from transformers import BertTokenizerFast, GPT2TokenizerFast, RobertaTokenizerFast\n",
    "device = 'cpu'\n",
    "bertTokenizer = BertTokenizerFast.from_pretrained('bert-base-uncased', output_attentions = True,  cache_dir = cache_dir)\n",
    "bertModel = AutoModel.from_pretrained('bert-base-uncased', output_attentions = True, cache_dir = cache_dir)\n",
    "\n",
    "robertaTokenizer = RobertaTokenizerFast.from_pretrained('roberta-base',   output_attentions = True, cache_dir = cache_dir)\n",
    "robertaModel = AutoModel.from_pretrained('roberta-base',   output_attentions = True, cache_dir = cache_dir)\n",
    "\n",
    "gptModel = AutoModel.from_pretrained('gpt2',   output_attentions = True, cache_dir = cache_dir)\n",
    "\n",
    "if padding:\n",
    "    gptTokenizer = GPT2TokenizerFast.from_pretrained('gpt2',   output_attentions = True, cache_dir = cache_dir, pad_token = '<PAD>')    \n",
    "else:\n",
    "    gptTokenizer = GPT2TokenizerFast.from_pretrained('gpt2',   output_attentions = True, cache_dir = cache_dir)#, pad_token = '<PAD>')\n",
    "\n",
    "bertModel=bertModel.to(device)\n",
    "gptModel=gptModel.to(device)\n",
    "if padding:\n",
    "    gptModel.resize_token_embeddings(len(gptTokenizer))"
   ]
  },
  {
   "cell_type": "markdown",
   "metadata": {},
   "source": [
    "## Compute Similarity"
   ]
  },
  {
   "cell_type": "code",
   "execution_count": 6,
   "metadata": {
    "ExecuteTime": {
     "end_time": "2020-08-10T18:48:27.011049Z",
     "start_time": "2020-08-10T18:48:27.001367Z"
    },
    "collapsed": false,
    "init_cell": true
   },
   "outputs": [],
   "source": [
    "def _getAttentionsReshaped(outputs, wordsToTokens = None, layerwise = True):\n",
    "    attentions_ = outputs[-1]#.attentions # (n_layers, batch, n_heads, N, N) TODO: Verify!\n",
    "    attentions = torch.stack(attentions_).permute(0, 2, 1, 3, 4)\n",
    "    if wordsToTokens is not None:\n",
    "        shape = (attentions.size(0), attentions.size(1), -1) if layerwise else (attentions.size(0) * attentions.size(1), -1)\n",
    "        attentions = _combineTokensByWords(attentions, wordsToTokens)\n",
    "        attentions = attentions.reshape(*shape)\n",
    "        # (nLayers * nHeads, batch * nWords * nWords)\n",
    "    else:\n",
    "        attentions = attentions.reshape(attentions.size(0) * attentions.size(1), -1, attentions.size(-1))\n",
    "\n",
    "    return attentions\n"
   ]
  },
  {
   "cell_type": "markdown",
   "metadata": {
    "heading_collapsed": true
   },
   "source": [
    "### With padding"
   ]
  },
  {
   "cell_type": "code",
   "execution_count": 19,
   "metadata": {
    "collapsed": false,
    "hidden": true
   },
   "outputs": [],
   "source": [
    "num_sentences = 4000\n",
    "bertEncoded = bertTokenizerFast.batch_encode_plus(sentences[:num_sentences],pad_to_max_length = True, max_length=512, return_tensors='pt', truncation=True).to(device)\n",
    "gptEncoded = gptTokenizerFast.batch_encode_plus(sentences[:num_sentences],pad_to_max_length = True,  max_length=512, return_tensors='pt', truncation=True).to(device)\n",
    "robertaEncoded = robertaTokenizer.batch_encode_plus(sentences[:num_sentences],pad_to_max_length = True, max_length=512, return_tensors='pt', truncation=True).to(device)"
   ]
  },
  {
   "cell_type": "markdown",
   "metadata": {
    "hidden": true
   },
   "source": [
    "#### Check encoding alignment"
   ]
  },
  {
   "cell_type": "code",
   "execution_count": 73,
   "metadata": {
    "collapsed": false,
    "hidden": true
   },
   "outputs": [
    {
     "name": "stdout",
     "output_type": "stream",
     "text": [
      "304\n"
     ]
    }
   ],
   "source": [
    "print(len(bertTokenizer.encode(sentences[1])))"
   ]
  },
  {
   "cell_type": "code",
   "execution_count": 78,
   "metadata": {
    "collapsed": false,
    "hidden": true
   },
   "outputs": [],
   "source": [
    "a = list(map(lambda x: len(x[1])-len(x[0]), zip(gptEncoded['input_ids'], bertEncoded['input_ids'])))"
   ]
  },
  {
   "cell_type": "code",
   "execution_count": 20,
   "metadata": {
    "collapsed": true,
    "hidden": true
   },
   "outputs": [],
   "source": [
    "def _sliceToBatches(encoded, batch_size):\n",
    "    batches = []\n",
    "    return [{k:v[i*batch_size:(1+i)*batch_size] for k,v in encoded.items()} \n",
    "                                    for i in range(int(np.ceil(len(encoded['input_ids'])/batch_size)))]\n",
    "\n",
    "def headSimilarityWithPadding(modelA, modelB, encodedA_list, encodedB_list):\n",
    "    res = None\n",
    "    for encodedA, encodedB in tqdm(zip(encodedA_list, encodedB_list), total = len(encodedA_list)):\n",
    "        N = len(encodedA['input_ids'][0])\n",
    "        attentionsA = _getAttentionsReshaped(modelA(**encodedA))\n",
    "        attentionsB = _getAttentionsReshaped(modelB(**encodedB)) # ( nLayers * nHeads, batch * N * N)\n",
    "        denom = attentionsA.size(1) / N\n",
    "        new_res = ((attentionsA @ attentionsB.transpose(0, 1))/denom).detach().numpy()\n",
    "        if res is None:\n",
    "            res=new_res\n",
    "        else:\n",
    "            res+=new_res\n",
    "    \n",
    "    return res/len(encodedA_list)"
   ]
  },
  {
   "cell_type": "code",
   "execution_count": 22,
   "metadata": {
    "collapsed": false,
    "hidden": true
   },
   "outputs": [
    {
     "name": "stderr",
     "output_type": "stream",
     "text": [
      "\n",
      "  0%|          | 0/400 [00:00<?, ?it/s]\u001b[A"
     ]
    },
    {
     "ename": "KeyboardInterrupt",
     "evalue": "",
     "output_type": "error",
     "traceback": [
      "\u001b[0;31m---------------------------------------------------------------------------\u001b[0m",
      "\u001b[0;31mKeyboardInterrupt\u001b[0m                         Traceback (most recent call last)",
      "\u001b[0;32m<ipython-input-22-5bb03c4c8d16>\u001b[0m in \u001b[0;36m<module>\u001b[0;34m\u001b[0m\n\u001b[0;32m----> 1\u001b[0;31m \u001b[0msim_mat\u001b[0m \u001b[0;34m=\u001b[0m \u001b[0mheadSimilarityWithPadding\u001b[0m\u001b[0;34m(\u001b[0m\u001b[0mrobertaModel\u001b[0m\u001b[0;34m,\u001b[0m \u001b[0mbertModel\u001b[0m\u001b[0;34m,\u001b[0m\u001b[0m_sliceToBatches\u001b[0m\u001b[0;34m(\u001b[0m\u001b[0mrobertaEncoded\u001b[0m\u001b[0;34m,\u001b[0m \u001b[0;36m10\u001b[0m\u001b[0;34m)\u001b[0m\u001b[0;34m,\u001b[0m \u001b[0m_sliceToBatches\u001b[0m\u001b[0;34m(\u001b[0m\u001b[0mbertEncoded\u001b[0m\u001b[0;34m,\u001b[0m \u001b[0;36m10\u001b[0m\u001b[0;34m)\u001b[0m \u001b[0;34m)\u001b[0m\u001b[0;34m\u001b[0m\u001b[0;34m\u001b[0m\u001b[0m\n\u001b[0m",
      "\u001b[0;32m<ipython-input-20-f9a201b65524>\u001b[0m in \u001b[0;36mheadSimilarityWithPadding\u001b[0;34m(modelA, modelB, encodedA_list, encodedB_list)\u001b[0m\n\u001b[1;32m      9\u001b[0m         \u001b[0mN\u001b[0m \u001b[0;34m=\u001b[0m \u001b[0mlen\u001b[0m\u001b[0;34m(\u001b[0m\u001b[0mencodedA\u001b[0m\u001b[0;34m[\u001b[0m\u001b[0;34m'input_ids'\u001b[0m\u001b[0;34m]\u001b[0m\u001b[0;34m[\u001b[0m\u001b[0;36m0\u001b[0m\u001b[0;34m]\u001b[0m\u001b[0;34m)\u001b[0m\u001b[0;34m\u001b[0m\u001b[0;34m\u001b[0m\u001b[0m\n\u001b[1;32m     10\u001b[0m         \u001b[0mattentionsA\u001b[0m \u001b[0;34m=\u001b[0m \u001b[0m_getAttentionsReshaped\u001b[0m\u001b[0;34m(\u001b[0m\u001b[0mmodelA\u001b[0m\u001b[0;34m(\u001b[0m\u001b[0;34m**\u001b[0m\u001b[0mencodedA\u001b[0m\u001b[0;34m)\u001b[0m\u001b[0;34m)\u001b[0m\u001b[0;34m\u001b[0m\u001b[0;34m\u001b[0m\u001b[0m\n\u001b[0;32m---> 11\u001b[0;31m         \u001b[0mattentionsB\u001b[0m \u001b[0;34m=\u001b[0m \u001b[0m_getAttentionsReshaped\u001b[0m\u001b[0;34m(\u001b[0m\u001b[0mmodelB\u001b[0m\u001b[0;34m(\u001b[0m\u001b[0;34m**\u001b[0m\u001b[0mencodedB\u001b[0m\u001b[0;34m)\u001b[0m\u001b[0;34m)\u001b[0m \u001b[0;31m# ( nLayers * nHeads, batch * N * N)\u001b[0m\u001b[0;34m\u001b[0m\u001b[0;34m\u001b[0m\u001b[0m\n\u001b[0m\u001b[1;32m     12\u001b[0m         \u001b[0mdenom\u001b[0m \u001b[0;34m=\u001b[0m \u001b[0mattentionsA\u001b[0m\u001b[0;34m.\u001b[0m\u001b[0msize\u001b[0m\u001b[0;34m(\u001b[0m\u001b[0;36m1\u001b[0m\u001b[0;34m)\u001b[0m \u001b[0;34m/\u001b[0m \u001b[0mN\u001b[0m\u001b[0;34m\u001b[0m\u001b[0;34m\u001b[0m\u001b[0m\n\u001b[1;32m     13\u001b[0m         \u001b[0mnew_res\u001b[0m \u001b[0;34m=\u001b[0m \u001b[0;34m(\u001b[0m\u001b[0;34m(\u001b[0m\u001b[0mattentionsA\u001b[0m \u001b[0;34m@\u001b[0m \u001b[0mattentionsB\u001b[0m\u001b[0;34m.\u001b[0m\u001b[0mtranspose\u001b[0m\u001b[0;34m(\u001b[0m\u001b[0;36m0\u001b[0m\u001b[0;34m,\u001b[0m \u001b[0;36m1\u001b[0m\u001b[0;34m)\u001b[0m\u001b[0;34m)\u001b[0m\u001b[0;34m/\u001b[0m\u001b[0mdenom\u001b[0m\u001b[0;34m)\u001b[0m\u001b[0;34m.\u001b[0m\u001b[0mdetach\u001b[0m\u001b[0;34m(\u001b[0m\u001b[0;34m)\u001b[0m\u001b[0;34m.\u001b[0m\u001b[0mnumpy\u001b[0m\u001b[0;34m(\u001b[0m\u001b[0;34m)\u001b[0m\u001b[0;34m\u001b[0m\u001b[0;34m\u001b[0m\u001b[0m\n",
      "\u001b[0;32m<ipython-input-18-30cecca87535>\u001b[0m in \u001b[0;36m_getAttentionsReshaped\u001b[0;34m(outputs, wordsToTokens)\u001b[0m\n\u001b[1;32m     10\u001b[0m \u001b[0;32mdef\u001b[0m \u001b[0m_getAttentionsReshaped\u001b[0m\u001b[0;34m(\u001b[0m\u001b[0moutputs\u001b[0m\u001b[0;34m,\u001b[0m \u001b[0mwordsToTokens\u001b[0m \u001b[0;34m=\u001b[0m \u001b[0;32mNone\u001b[0m\u001b[0;34m)\u001b[0m\u001b[0;34m:\u001b[0m\u001b[0;34m\u001b[0m\u001b[0;34m\u001b[0m\u001b[0m\n\u001b[1;32m     11\u001b[0m     \u001b[0mattentions_\u001b[0m \u001b[0;34m=\u001b[0m \u001b[0moutputs\u001b[0m\u001b[0;34m.\u001b[0m\u001b[0mattentions\u001b[0m \u001b[0;31m# (n_layers, batch, n_heads, N, N) TODO: Verify!\u001b[0m\u001b[0;34m\u001b[0m\u001b[0;34m\u001b[0m\u001b[0m\n\u001b[0;32m---> 12\u001b[0;31m     \u001b[0mattentions\u001b[0m \u001b[0;34m=\u001b[0m \u001b[0mtorch\u001b[0m\u001b[0;34m.\u001b[0m\u001b[0mstack\u001b[0m\u001b[0;34m(\u001b[0m\u001b[0mattentions_\u001b[0m\u001b[0;34m)\u001b[0m\u001b[0;34m.\u001b[0m\u001b[0mpermute\u001b[0m\u001b[0;34m(\u001b[0m\u001b[0;36m0\u001b[0m\u001b[0;34m,\u001b[0m \u001b[0;36m2\u001b[0m\u001b[0;34m,\u001b[0m \u001b[0;36m1\u001b[0m\u001b[0;34m,\u001b[0m \u001b[0;36m3\u001b[0m\u001b[0;34m,\u001b[0m \u001b[0;36m4\u001b[0m\u001b[0;34m)\u001b[0m\u001b[0;34m\u001b[0m\u001b[0;34m\u001b[0m\u001b[0m\n\u001b[0m\u001b[1;32m     13\u001b[0m     \u001b[0;32mif\u001b[0m \u001b[0mwordsToTokens\u001b[0m\u001b[0;34m:\u001b[0m\u001b[0;34m\u001b[0m\u001b[0;34m\u001b[0m\u001b[0m\n\u001b[1;32m     14\u001b[0m         \u001b[0mattentions\u001b[0m \u001b[0;34m=\u001b[0m \u001b[0m_combineTokensByWords\u001b[0m\u001b[0;34m(\u001b[0m\u001b[0mattentions\u001b[0m\u001b[0;34m,\u001b[0m \u001b[0mwordsToTokens\u001b[0m\u001b[0;34m)\u001b[0m\u001b[0;34m\u001b[0m\u001b[0;34m\u001b[0m\u001b[0m\n",
      "\u001b[0;31mKeyboardInterrupt\u001b[0m: "
     ]
    }
   ],
   "source": [
    "sim_mat = headSimilarityWithPadding(robertaModel, bertModel,_sliceToBatches(robertaEncoded, 10), _sliceToBatches(bertEncoded, 10) )"
   ]
  },
  {
   "cell_type": "markdown",
   "metadata": {},
   "source": [
    "### Without padding"
   ]
  },
  {
   "cell_type": "markdown",
   "metadata": {},
   "source": [
    "**TODO**: special tokens: 1) they create zero length words and 2) might be included with first word 3) and last word"
   ]
  },
  {
   "cell_type": "code",
   "execution_count": 7,
   "metadata": {
    "ExecuteTime": {
     "end_time": "2020-08-10T18:48:35.499224Z",
     "start_time": "2020-08-10T18:48:35.489656Z"
    },
    "collapsed": false
   },
   "outputs": [],
   "source": [
    "def _combineTokensByWords(attentions, wordsToTokens): # Both rows & columns\n",
    "        nTokens = sum(wordsToTokens)\n",
    "        nWords = len(wordsToTokens)\n",
    "        s = np.zeros((nTokens, nWords))\n",
    "        weights = sum([[1./a] * a for a in wordsToTokens], [])\n",
    "        wordNum = sum([[i]*a for i, a in enumerate(wordsToTokens)], [])\n",
    "        s[list(range(nTokens)), wordNum] = weights\n",
    "        s = torch.FloatTensor(s)\n",
    "        return s.T @ attentions @ s\n",
    "\n",
    "def _wordsToTokensByOffset(sent, offsets): # Not gonna document this \n",
    "    wordOffsets = [-1]+list(map(lambda x: x.span()[0], (re.finditer(r'\\s+', sent))))+[len(sent)+1]\n",
    "    offsets = list(map(lambda x: x[0], offsets)) \n",
    "    zWords = list(zip(wordOffsets, itertools.repeat(\"word\")))\n",
    "    zTokens = list(zip(offsets, itertools.repeat(\"token\")))\n",
    "    s = sorted(itertools.chain(zWords, zTokens), key = lambda x: x[0])\n",
    "    lensArr = np.diff([i for i, a in enumerate(s) if a[1] == 'word'])-1\n",
    "    return lensArr\n",
    "\n",
    "\n",
    "def tokenizeSentencesNoPadding(tokenizers, sentences):\n",
    "    output = []\n",
    "    modelsWordsToTokens = []\n",
    "    for tokenizer in tokenizers:\n",
    "        output += [[]]\n",
    "        modelsWordsToTokens += [[]]\n",
    "        print(tokenizer.__class__)\n",
    "        for sent in tqdm(sentences):\n",
    "            tokenized_sent = tokenizer(sent, pad_to_max_length = False, max_length=512, return_tensors='pt', \n",
    "                                       return_offsets_mapping = True,\n",
    "                                       truncation = True)\n",
    "            \n",
    "            modelsWordsToTokens[-1]+=[ _wordsToTokensByOffset(sent, tokenized_sent.pop('offset_mapping')) ]\n",
    "            output[-1]+=[ tokenized_sent]\n",
    "    return zip(output, modelsWordsToTokens)"
   ]
  },
  {
   "cell_type": "code",
   "execution_count": null,
   "metadata": {
    "ExecuteTime": {
     "start_time": "2020-08-10T18:47:23.065Z"
    },
    "collapsed": false
   },
   "outputs": [
    {
     "name": "stderr",
     "output_type": "stream",
     "text": [
      "  1%|          | 11/1000 [00:00<00:09, 99.75it/s]"
     ]
    },
    {
     "name": "stdout",
     "output_type": "stream",
     "text": [
      "<class 'transformers.tokenization_bert.BertTokenizerFast'>\n"
     ]
    },
    {
     "name": "stderr",
     "output_type": "stream",
     "text": [
      "100%|██████████| 1000/1000 [00:08<00:00, 115.20it/s]\n",
      "  1%|          | 10/1000 [00:00<00:10, 97.51it/s]"
     ]
    },
    {
     "name": "stdout",
     "output_type": "stream",
     "text": [
      "<class 'transformers.tokenization_gpt2.GPT2TokenizerFast'>\n"
     ]
    },
    {
     "name": "stderr",
     "output_type": "stream",
     "text": [
      "100%|██████████| 1000/1000 [00:09<00:00, 101.42it/s]\n",
      "  1%|          | 11/1000 [00:00<00:09, 99.60it/s]"
     ]
    },
    {
     "name": "stdout",
     "output_type": "stream",
     "text": [
      "<class 'transformers.tokenization_roberta.RobertaTokenizerFast'>\n"
     ]
    },
    {
     "name": "stderr",
     "output_type": "stream",
     "text": [
      " 31%|███       | 309/1000 [00:02<00:06, 110.72it/s]"
     ]
    }
   ],
   "source": [
    "num_sentences = 1000\n",
    "((bertEncoded, bertWordsToTokens), \n",
    "     (gptEncoded, gptWordsToTokens), \n",
    "     (robertaEncoded, robertaWordsToTokens)) = tokenizeSentencesNoPadding((bertTokenizer, gptTokenizer, robertaTokenizer),\n",
    "                                                                       sentences[:num_sentences])\n",
    "\n"
   ]
  },
  {
   "cell_type": "code",
   "execution_count": 10,
   "metadata": {
    "ExecuteTime": {
     "end_time": "2020-08-06T21:48:29.575632Z",
     "start_time": "2020-08-06T21:48:29.573216Z"
    },
    "collapsed": true
   },
   "outputs": [],
   "source": [
    "import scipy"
   ]
  },
  {
   "cell_type": "code",
   "execution_count": 32,
   "metadata": {
    "ExecuteTime": {
     "end_time": "2020-08-10T11:11:32.134750Z",
     "start_time": "2020-08-10T11:11:32.127854Z"
    },
    "collapsed": true
   },
   "outputs": [],
   "source": [
    "# Fix Doc: Assume output is (n, m) matrices with each row being a probability distribution\n",
    "def klDivMean(p, logP, logQ, N):\n",
    "    return np.sum(p * (logP-logQ))/N\n",
    "\n",
    "# Fix Doc: Assume outputs (b,n,m) with the same convention as before\n",
    "def klDivAllPairs(A, B, N, epsilon = 1e-5):\n",
    "    logA = np.log(A + epsilon)\n",
    "    logB = np.log(B + epsilon)\n",
    "    \n",
    "    klMat = np.zeros((A.shape[0], B.shape[0]))\n",
    "    for i in range(A.shape[0]):\n",
    "        for j in range(B.shape[0]):\n",
    "            klMat[i,j] = klDivMean(A[i], logA[i], logB[j], N)\n",
    "    return klMat"
   ]
  },
  {
   "cell_type": "code",
   "execution_count": 71,
   "metadata": {
    "ExecuteTime": {
     "end_time": "2020-08-10T18:28:24.619415Z",
     "start_time": "2020-08-10T18:28:24.614388Z"
    },
    "collapsed": false
   },
   "outputs": [],
   "source": [
    "def headSimilarityNoPadding(modelA, modelB, encodedA_list, encodedB_list, \n",
    "                                           wordsToTokensA_list, wordsToTokensB_list):\n",
    "    res = None\n",
    "    for (encodedA, encodedB, wordsToTokensA, wordsToTokensB) in tqdm(\n",
    "                                        zip(encodedA_list, encodedB_list,\n",
    "                                          wordsToTokensA_list, wordsToTokensB_list), total = len(encodedA_list)):\n",
    "\n",
    "        N = len(wordsToTokensA) # TODO: Fix N to the right formula\n",
    "        attentionsA = _getAttentionsReshaped(modelA(**encodedA), wordsToTokens = wordsToTokensA).detach().numpy()\n",
    "        attentionsB = _getAttentionsReshaped(modelB(**encodedB), wordsToTokens = wordsToTokensB).detach().numpy() \n",
    "        \n",
    "        new_res = klDivAllPairs(attentionsA, attentionsB, N)\n",
    "        if res is None:\n",
    "            res = new_res\n",
    "        else:\n",
    "            res += new_res\n",
    "    \n",
    "    return res/len(encodedA_list)"
   ]
  },
  {
   "cell_type": "code",
   "execution_count": 34,
   "metadata": {
    "ExecuteTime": {
     "end_time": "2020-08-10T11:13:03.583339Z",
     "start_time": "2020-08-10T11:11:40.089890Z"
    },
    "collapsed": false,
    "scrolled": true
   },
   "outputs": [
    {
     "name": "stderr",
     "output_type": "stream",
     "text": [
      " 40%|████      | 8/20 [00:14<00:20,  1.68s/it]<ipython-input-24-980255b78fe8>:5: RuntimeWarning: divide by zero encountered in true_divide\n",
      "  weights = sum([[1./a] * a for a in wordsToTokens], [])\n",
      "100%|██████████| 20/20 [00:45<00:00,  2.27s/it]\n",
      "100%|██████████| 20/20 [00:38<00:00,  1.90s/it]\n"
     ]
    }
   ],
   "source": [
    "sim_mat_gpt = headSimilarityNoPadding(bertModel, gptModel,\n",
    "                                  bertEncoded, gptEncoded, \n",
    "                                  bertWordsToTokens, gptWordsToTokens)\n",
    "\n",
    "sim_mat_bert = headSimilarityNoPadding(bertModel, bertModel,\n",
    "                                  bertEncoded, bertEncoded, \n",
    "                                  bertWordsToTokens, bertWordsToTokens)"
   ]
  },
  {
   "cell_type": "code",
   "execution_count": 40,
   "metadata": {
    "ExecuteTime": {
     "end_time": "2020-08-08T20:45:48.638453Z",
     "start_time": "2020-08-08T20:44:23.306400Z"
    },
    "collapsed": false
   },
   "outputs": [
    {
     "name": "stderr",
     "output_type": "stream",
     "text": [
      " 40%|████      | 8/20 [00:21<00:36,  3.05s/it]<ipython-input-10-980255b78fe8>:5: RuntimeWarning: divide by zero encountered in true_divide\n",
      "  weights = sum([[1./a] * a for a in wordsToTokens], [])\n",
      "100%|██████████| 20/20 [01:25<00:00,  4.27s/it]\n"
     ]
    }
   ],
   "source": [
    "sim_mat_roberta = headSimilarityNoPadding(bertModel, robertaModel,\n",
    "                                  bertEncoded, robertaEncoded, \n",
    "                                  bertWordsToTokens, robertaWordsToTokens)"
   ]
  },
  {
   "cell_type": "markdown",
   "metadata": {},
   "source": [
    "### Plot"
   ]
  },
  {
   "cell_type": "code",
   "execution_count": 35,
   "metadata": {
    "ExecuteTime": {
     "end_time": "2020-08-10T11:13:08.182873Z",
     "start_time": "2020-08-10T11:13:07.968507Z"
    },
    "collapsed": false
   },
   "outputs": [
    {
     "data": {
      "text/plain": [
       "100"
      ]
     },
     "execution_count": 35,
     "metadata": {},
     "output_type": "execute_result"
    }
   ],
   "source": [
    "import gc\n",
    "gc.collect()"
   ]
  },
  {
   "cell_type": "code",
   "execution_count": 53,
   "metadata": {
    "ExecuteTime": {
     "end_time": "2020-08-10T12:23:19.884635Z",
     "start_time": "2020-08-10T12:23:19.262009Z"
    },
    "collapsed": false
   },
   "outputs": [
    {
     "data": {
      "text/plain": [
       "<Figure size 432x288 with 0 Axes>"
      ]
     },
     "metadata": {},
     "output_type": "display_data"
    },
    {
     "data": {
      "image/png": "[encoded data removed]",
      "text/plain": [
       "<Figure size 576x1152 with 4 Axes>"
      ]
     },
     "metadata": {
      "needs_background": "light"
     },
     "output_type": "display_data"
    }
   ],
   "source": [
    "plt.tight_layout()\n",
    "n_heads = 12\n",
    "plt.figure(figsize = (8, 16))\n",
    "if False:\n",
    "    head_names = [ str(int(i/n_heads))+\"-\"+str(i%n_heads) for i in range(sim_mat_bert.shape[0])]\n",
    "else: \n",
    "    head_names = range(12)\n",
    "plt.subplot(211)\n",
    "sns.heatmap(pd.DataFrame(sim_mat_gpt, index = head_names, columns = head_names));\n",
    "plt.subplot(212)\n",
    "sns.heatmap(pd.DataFrame(sim_mat_bert, index = head_names, columns = head_names));"
   ]
  },
  {
   "cell_type": "code",
   "execution_count": 44,
   "metadata": {
    "ExecuteTime": {
     "end_time": "2020-08-08T20:47:39.512311Z",
     "start_time": "2020-08-08T20:47:36.327373Z"
    },
    "collapsed": false
   },
   "outputs": [
    {
     "data": {
      "image/png": "[encoded data removed]",
      "text/plain": [
       "<Figure size 1728x1728 with 2 Axes>"
      ]
     },
     "metadata": {
      "needs_background": "light"
     },
     "output_type": "display_data"
    }
   ],
   "source": [
    "plt.figure(figsize = (24,24))\n",
    "sns.heatmap(pd.DataFrame(sim_mat_roberta < 4, index = head_names, columns = head_names));"
   ]
  },
  {
   "cell_type": "code",
   "execution_count": 43,
   "metadata": {
    "ExecuteTime": {
     "end_time": "2020-08-10T11:15:41.448986Z",
     "start_time": "2020-08-10T11:15:41.444400Z"
    },
    "collapsed": true
   },
   "outputs": [],
   "source": [
    "xx, yy = np.meshgrid(np.arange(12),np.arange(12))"
   ]
  },
  {
   "cell_type": "code",
   "execution_count": 44,
   "metadata": {
    "ExecuteTime": {
     "end_time": "2020-08-10T11:15:45.377359Z",
     "start_time": "2020-08-10T11:15:45.220855Z"
    },
    "collapsed": false,
    "scrolled": true
   },
   "outputs": [
    {
     "data": {
      "text/plain": [
       "<matplotlib.collections.PathCollection at 0x7f8ea79193d0>"
      ]
     },
     "execution_count": 44,
     "metadata": {},
     "output_type": "execute_result"
    },
    {
     "data": {
      "image/png": "[encoded data removed]",
      "text/plain": [
       "<Figure size 432x288 with 1 Axes>"
      ]
     },
     "metadata": {
      "needs_background": "light"
     },
     "output_type": "display_data"
    }
   ],
   "source": [
    "plt.scatter(x = xx.ravel(), y = yy.ravel(),  c = sim_mat_gpt.ravel())"
   ]
  },
  {
   "cell_type": "markdown",
   "metadata": {},
   "source": [
    "## Predict Attention Heads"
   ]
  },
  {
   "cell_type": "code",
   "execution_count": null,
   "metadata": {
    "ExecuteTime": {
     "start_time": "2020-08-10T18:48:43.696Z"
    },
    "collapsed": false
   },
   "outputs": [],
   "source": [
    "import torch\n",
    "from torch.functional import F\n",
    "from torch import nn\n",
    "from torch.nn import Sequential\n",
    "from torch.nn import Linear"
   ]
  },
  {
   "cell_type": "code",
   "execution_count": 76,
   "metadata": {
    "ExecuteTime": {
     "end_time": "2020-08-10T18:36:41.840247Z",
     "start_time": "2020-08-10T18:36:41.835003Z"
    },
    "collapsed": false
   },
   "outputs": [],
   "source": [
    "class AttentionConverter(nn.Module):\n",
    "    def __init__(self):\n",
    "        super(AttentionConverter, self).__init__()\n",
    "        self.n_heads = self.n_layers = 12\n",
    "        self.n_total_heads = self.n_heads * self.n_layers\n",
    "        self.weight = torch.empty((self.n_total_heads, self.n_total_heads))\n",
    "        nn.init.xavier_uniform_(self.weight)\n",
    "    \n",
    "    def forward(self, x, N):\n",
    "        x = x.view(self.n_total_heads, -1)\n",
    "        x = torch.bmm(x, self.weight)\n",
    "        return F.softmax(x.view(self.n_layers, self.n_heads, N, N), \n",
    "                                 dim = -1).view(self.n_total_heads, -1)"
   ]
  },
  {
   "cell_type": "code",
   "execution_count": 83,
   "metadata": {
    "ExecuteTime": {
     "end_time": "2020-08-10T18:45:55.310120Z",
     "start_time": "2020-08-10T18:45:55.288447Z"
    },
    "collapsed": false
   },
   "outputs": [
    {
     "ename": "ValueError",
     "evalue": "optimizer got an empty parameter list",
     "output_type": "error",
     "traceback": [
      "\u001b[0;31m---------------------------------------------------------------------------\u001b[0m",
      "\u001b[0;31mValueError\u001b[0m                                Traceback (most recent call last)",
      "\u001b[0;32m<ipython-input-83-dec25edc3629>\u001b[0m in \u001b[0;36m<module>\u001b[0;34m\u001b[0m\n\u001b[1;32m      1\u001b[0m \u001b[0mattConv\u001b[0m \u001b[0;34m=\u001b[0m \u001b[0mAttentionConverter\u001b[0m\u001b[0;34m(\u001b[0m\u001b[0;34m)\u001b[0m\u001b[0;34m\u001b[0m\u001b[0;34m\u001b[0m\u001b[0m\n\u001b[0;32m----> 2\u001b[0;31m \u001b[0moptimizer\u001b[0m \u001b[0;34m=\u001b[0m \u001b[0mtorch\u001b[0m\u001b[0;34m.\u001b[0m\u001b[0moptim\u001b[0m\u001b[0;34m.\u001b[0m\u001b[0mSGD\u001b[0m\u001b[0;34m(\u001b[0m\u001b[0mattConv\u001b[0m\u001b[0;34m.\u001b[0m\u001b[0mparameters\u001b[0m\u001b[0;34m(\u001b[0m\u001b[0;34m)\u001b[0m\u001b[0;34m,\u001b[0m \u001b[0mlr\u001b[0m \u001b[0;34m=\u001b[0m \u001b[0;36m1e-3\u001b[0m\u001b[0;34m)\u001b[0m\u001b[0;34m\u001b[0m\u001b[0;34m\u001b[0m\u001b[0m\n\u001b[0m\u001b[1;32m      3\u001b[0m \u001b[0;34m\u001b[0m\u001b[0m\n\u001b[1;32m      4\u001b[0m for (encodedA, encodedB, wordsToTokensA, wordsToTokensB) in tqdm(\n\u001b[1;32m      5\u001b[0m                                         zip(encodedA_list, encodedB_list,\n",
      "\u001b[0;32m/specific/scratches/scratch/guy/miniconda/lib/python3.8/site-packages/torch/optim/sgd.py\u001b[0m in \u001b[0;36m__init__\u001b[0;34m(self, params, lr, momentum, dampening, weight_decay, nesterov)\u001b[0m\n\u001b[1;32m     62\u001b[0m         \u001b[0;32mif\u001b[0m \u001b[0mnesterov\u001b[0m \u001b[0;32mand\u001b[0m \u001b[0;34m(\u001b[0m\u001b[0mmomentum\u001b[0m \u001b[0;34m<=\u001b[0m \u001b[0;36m0\u001b[0m \u001b[0;32mor\u001b[0m \u001b[0mdampening\u001b[0m \u001b[0;34m!=\u001b[0m \u001b[0;36m0\u001b[0m\u001b[0;34m)\u001b[0m\u001b[0;34m:\u001b[0m\u001b[0;34m\u001b[0m\u001b[0;34m\u001b[0m\u001b[0m\n\u001b[1;32m     63\u001b[0m             \u001b[0;32mraise\u001b[0m \u001b[0mValueError\u001b[0m\u001b[0;34m(\u001b[0m\u001b[0;34m\"Nesterov momentum requires a momentum and zero dampening\"\u001b[0m\u001b[0;34m)\u001b[0m\u001b[0;34m\u001b[0m\u001b[0;34m\u001b[0m\u001b[0m\n\u001b[0;32m---> 64\u001b[0;31m         \u001b[0msuper\u001b[0m\u001b[0;34m(\u001b[0m\u001b[0mSGD\u001b[0m\u001b[0;34m,\u001b[0m \u001b[0mself\u001b[0m\u001b[0;34m)\u001b[0m\u001b[0;34m.\u001b[0m\u001b[0m__init__\u001b[0m\u001b[0;34m(\u001b[0m\u001b[0mparams\u001b[0m\u001b[0;34m,\u001b[0m \u001b[0mdefaults\u001b[0m\u001b[0;34m)\u001b[0m\u001b[0;34m\u001b[0m\u001b[0;34m\u001b[0m\u001b[0m\n\u001b[0m\u001b[1;32m     65\u001b[0m \u001b[0;34m\u001b[0m\u001b[0m\n\u001b[1;32m     66\u001b[0m     \u001b[0;32mdef\u001b[0m \u001b[0m__setstate__\u001b[0m\u001b[0;34m(\u001b[0m\u001b[0mself\u001b[0m\u001b[0;34m,\u001b[0m \u001b[0mstate\u001b[0m\u001b[0;34m)\u001b[0m\u001b[0;34m:\u001b[0m\u001b[0;34m\u001b[0m\u001b[0;34m\u001b[0m\u001b[0m\n",
      "\u001b[0;32m/specific/scratches/scratch/guy/miniconda/lib/python3.8/site-packages/torch/optim/optimizer.py\u001b[0m in \u001b[0;36m__init__\u001b[0;34m(self, params, defaults)\u001b[0m\n\u001b[1;32m     44\u001b[0m         \u001b[0mparam_groups\u001b[0m \u001b[0;34m=\u001b[0m \u001b[0mlist\u001b[0m\u001b[0;34m(\u001b[0m\u001b[0mparams\u001b[0m\u001b[0;34m)\u001b[0m\u001b[0;34m\u001b[0m\u001b[0;34m\u001b[0m\u001b[0m\n\u001b[1;32m     45\u001b[0m         \u001b[0;32mif\u001b[0m \u001b[0mlen\u001b[0m\u001b[0;34m(\u001b[0m\u001b[0mparam_groups\u001b[0m\u001b[0;34m)\u001b[0m \u001b[0;34m==\u001b[0m \u001b[0;36m0\u001b[0m\u001b[0;34m:\u001b[0m\u001b[0;34m\u001b[0m\u001b[0;34m\u001b[0m\u001b[0m\n\u001b[0;32m---> 46\u001b[0;31m             \u001b[0;32mraise\u001b[0m \u001b[0mValueError\u001b[0m\u001b[0;34m(\u001b[0m\u001b[0;34m\"optimizer got an empty parameter list\"\u001b[0m\u001b[0;34m)\u001b[0m\u001b[0;34m\u001b[0m\u001b[0;34m\u001b[0m\u001b[0m\n\u001b[0m\u001b[1;32m     47\u001b[0m         \u001b[0;32mif\u001b[0m \u001b[0;32mnot\u001b[0m \u001b[0misinstance\u001b[0m\u001b[0;34m(\u001b[0m\u001b[0mparam_groups\u001b[0m\u001b[0;34m[\u001b[0m\u001b[0;36m0\u001b[0m\u001b[0;34m]\u001b[0m\u001b[0;34m,\u001b[0m \u001b[0mdict\u001b[0m\u001b[0;34m)\u001b[0m\u001b[0;34m:\u001b[0m\u001b[0;34m\u001b[0m\u001b[0;34m\u001b[0m\u001b[0m\n\u001b[1;32m     48\u001b[0m             \u001b[0mparam_groups\u001b[0m \u001b[0;34m=\u001b[0m \u001b[0;34m[\u001b[0m\u001b[0;34m{\u001b[0m\u001b[0;34m'params'\u001b[0m\u001b[0;34m:\u001b[0m \u001b[0mparam_groups\u001b[0m\u001b[0;34m}\u001b[0m\u001b[0;34m]\u001b[0m\u001b[0;34m\u001b[0m\u001b[0;34m\u001b[0m\u001b[0m\n",
      "\u001b[0;31mValueError\u001b[0m: optimizer got an empty parameter list"
     ]
    }
   ],
   "source": [
    "attConv = AttentionConverter()\n",
    "optimizer = torch.optim.SGD(attConv.parameters(), lr = 1e-3)\n",
    "\n",
    "for (encodedA, encodedB, wordsToTokensA, wordsToTokensB) in tqdm(\n",
    "                                        zip(encodedA_list, encodedB_list,\n",
    "                                          wordsToTokensA_list, wordsToTokensB_list), total = len(encodedA_list)):\n",
    "\n",
    "        attConv.zero_grad()\n",
    "        N = len(wordsToTokensA) # TODO: Fix N to the right formula\n",
    "        attentionsA = _getAttentionsReshaped(modelA(**encodedA), wordsToTokens = wordsToTokensA)\n",
    "        attentionsB = _getAttentionsReshaped(modelB(**encodedB), wordsToTokens = wordsToTokensB) \n",
    "\n",
    "        criterion = F.mse_loss(attConv(attentionsA, N), attentionsB)\n",
    "        criterion.backward()\n",
    "        optimizer.step()"
   ]
  },
  {
   "cell_type": "code",
   "execution_count": null,
   "metadata": {
    "collapsed": true
   },
   "outputs": [],
   "source": []
  }
 ],
 "metadata": {
  "celltoolbar": "Initialization Cell",
  "kernelspec": {
   "display_name": "guy-python",
   "language": "python",
   "name": "guy-python"
  },
  "language_info": {
   "codemirror_mode": {
    "name": "ipython",
    "version": 3
   },
   "file_extension": ".py",
   "mimetype": "text/x-python",
   "name": "python",
   "nbconvert_exporter": "python",
   "pygments_lexer": "ipython3",
   "version": "3.8.3"
  },
  "notify_time": "30",
  "toc": {
   "base_numbering": 1,
   "nav_menu": {},
   "number_sections": true,
   "sideBar": true,
   "skip_h1_title": false,
   "title_cell": "Table of Contents",
   "title_sidebar": "Contents",
   "toc_cell": false,
   "toc_position": {
    "height": "calc(100% - 180px)",
    "left": "10px",
    "top": "150px",
    "width": "284px"
   },
   "toc_section_display": true,
   "toc_window_display": true
  },
  "varInspector": {
   "cols": {
    "lenName": 16,
    "lenType": 16,
    "lenVar": 40
   },
   "kernels_config": {
    "python": {
     "delete_cmd_postfix": "",
     "delete_cmd_prefix": "del ",
     "library": "var_list.py",
     "varRefreshCmd": "print(var_dic_list())"
    },
    "r": {
     "delete_cmd_postfix": ") ",
     "delete_cmd_prefix": "rm(",
     "library": "var_list.r",
     "varRefreshCmd": "cat(var_dic_list()) "
    }
   },
   "position": {
    "height": "457px",
    "left": "734px",
    "right": "20px",
    "top": "147px",
    "width": "351px"
   },
   "types_to_exclude": [
    "module",
    "function",
    "builtin_function_or_method",
    "instance",
    "_Feature"
   ],
   "window_display": false
  }
 },
 "nbformat": 4,
 "nbformat_minor": 2
}
