{
 "cells": [
  {
   "cell_type": "code",
   "execution_count": null,
   "metadata": {
    "collapsed": true
   },
   "outputs": [],
   "source": [
    "%pip install --user jupyter_contrib_nbextensions\n",
    "!/vol/scratch/guy/miniconda/bin/python3.7 -m jupyter contrib nbextension install --user"
   ]
  },
  {
   "cell_type": "code",
   "execution_count": null,
   "metadata": {
    "collapsed": true
   },
   "outputs": [],
   "source": [
    "%pip install ipywidgets\n",
    "!/vol/scratch/guy/miniconda/bin/python3.7 -m jupyter nbextension enable --py widgetsnbextension\n",
    "!/vol/scratch/guy/miniconda/bin/python3.7 -m jupyter nbextension enable toc2/main\n",
    "!/vol/scratch/guy/miniconda/bin/python3.7 -m jupyter nbextension enable init_cell/main\n",
    "!/vol/scratch/guy/miniconda/bin/python3.7 -m jupyter nbextension enable scratchpad/main\n",
    "!/vol/scratch/guy/miniconda/bin/python3.7 -m jupyter nbextension enable varInspector/main"
   ]
  }
 ],
 "metadata": {
  "kernelspec": {
   "display_name": "guy-python",
   "language": "python",
   "name": "guy-python"
  },
  "language_info": {
   "codemirror_mode": {
    "name": "ipython",
    "version": 3
   },
   "file_extension": ".py",
   "mimetype": "text/x-python",
   "name": "python",
   "nbconvert_exporter": "python",
   "pygments_lexer": "ipython3",
   "version": "3.7.7"
  },
  "toc": {
   "base_numbering": 1,
   "nav_menu": {},
   "number_sections": true,
   "sideBar": true,
   "skip_h1_title": false,
   "title_cell": "Table of Contents",
   "title_sidebar": "Contents",
   "toc_cell": false,
   "toc_position": {},
   "toc_section_display": true,
   "toc_window_display": false
  }
 },
 "nbformat": 4,
 "nbformat_minor": 2
}
