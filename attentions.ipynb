{
 "cells": [
  {
   "cell_type": "markdown",
   "metadata": {
    "colab_type": "text",
    "id": "FeGNJuzX5lwN"
   },
   "source": [
    "## Initialization"
   ]
  },
  {
   "cell_type": "code",
   "execution_count": 1,
   "metadata": {
    "colab": {},
    "colab_type": "code",
    "collapsed": true,
    "id": "pRztYi7T5lwW"
   },
   "outputs": [],
   "source": [
    "universityStorage = True"
   ]
  },
  {
   "cell_type": "code",
   "execution_count": 2,
   "metadata": {
    "ExecuteTime": {
     "end_time": "2020-08-11T18:51:46.129829Z",
     "start_time": "2020-08-11T18:51:46.127294Z"
    },
    "colab": {},
    "colab_type": "code",
    "collapsed": true,
    "id": "wnuOEkE85lwZ",
    "init_cell": true
   },
   "outputs": [],
   "source": [
    "guy_folder = \"/vol/scratch/guy\" if universityStorage else \"/content\""
   ]
  },
  {
   "cell_type": "markdown",
   "metadata": {
    "colab_type": "text",
    "id": "snTq16Ru5lwd"
   },
   "source": [
    "### pip"
   ]
  },
  {
   "cell_type": "code",
   "execution_count": 9,
   "metadata": {
    "ExecuteTime": {
     "end_time": "2020-08-10T07:55:13.714311Z",
     "start_time": "2020-08-10T07:54:15.569196Z"
    },
    "colab": {},
    "colab_type": "code",
    "collapsed": false,
    "id": "f6nEbhZs5lwe",
    "scrolled": true
   },
   "outputs": [
    {
     "name": "stdout",
     "output_type": "stream",
     "text": [
      "Requirement already satisfied: matplotlib in /specific/scratches/scratch/guy/miniconda/lib/python3.8/site-packages (3.3.1)\n",
      "Requirement already satisfied: seaborn in /specific/scratches/scratch/guy/miniconda/lib/python3.8/site-packages (0.10.1)\n",
      "Requirement already satisfied: pandas in /specific/scratches/scratch/guy/miniconda/lib/python3.8/site-packages (1.1.0)\n",
      "Requirement already satisfied: tqdm in /specific/scratches/scratch/guy/miniconda/lib/python3.8/site-packages (4.46.0)\n",
      "Requirement already satisfied: tensorboard in /specific/scratches/scratch/guy/miniconda/lib/python3.8/site-packages (2.3.0)\n",
      "Requirement already satisfied: numpy>=1.15 in /specific/scratches/scratch/guy/miniconda/lib/python3.8/site-packages (from matplotlib) (1.19.1)\n",
      "Requirement already satisfied: certifi>=2020.06.20 in /specific/scratches/scratch/guy/miniconda/lib/python3.8/site-packages (from matplotlib) (2020.6.20)\n",
      "Requirement already satisfied: kiwisolver>=1.0.1 in /specific/scratches/scratch/guy/miniconda/lib/python3.8/site-packages (from matplotlib) (1.2.0)\n",
      "Requirement already satisfied: python-dateutil>=2.1 in /specific/scratches/scratch/guy/miniconda/lib/python3.8/site-packages (from matplotlib) (2.8.1)\n",
      "Requirement already satisfied: cycler>=0.10 in /specific/scratches/scratch/guy/miniconda/lib/python3.8/site-packages (from matplotlib) (0.10.0)\n",
      "Requirement already satisfied: pillow>=6.2.0 in /specific/scratches/scratch/guy/miniconda/lib/python3.8/site-packages (from matplotlib) (7.2.0)\n",
      "Requirement already satisfied: pyparsing!=2.0.4,!=2.1.2,!=2.1.6,>=2.0.3 in /specific/scratches/scratch/guy/miniconda/lib/python3.8/site-packages (from matplotlib) (2.4.7)\n",
      "Requirement already satisfied: scipy>=1.0.1 in /specific/scratches/scratch/guy/miniconda/lib/python3.8/site-packages (from seaborn) (1.5.2)\n",
      "Requirement already satisfied: pytz>=2017.2 in /specific/scratches/scratch/guy/miniconda/lib/python3.8/site-packages (from pandas) (2020.1)\n",
      "Requirement already satisfied: absl-py>=0.4 in /specific/scratches/scratch/guy/miniconda/lib/python3.8/site-packages (from tensorboard) (0.9.0)\n",
      "Requirement already satisfied: protobuf>=3.6.0 in /specific/scratches/scratch/guy/miniconda/lib/python3.8/site-packages (from tensorboard) (3.13.0)\n",
      "Requirement already satisfied: tensorboard-plugin-wit>=1.6.0 in /specific/scratches/scratch/guy/miniconda/lib/python3.8/site-packages (from tensorboard) (1.7.0)\n",
      "Requirement already satisfied: werkzeug>=0.11.15 in /specific/scratches/scratch/guy/miniconda/lib/python3.8/site-packages (from tensorboard) (1.0.1)\n",
      "Requirement already satisfied: requests<3,>=2.21.0 in /specific/scratches/scratch/guy/miniconda/lib/python3.8/site-packages (from tensorboard) (2.23.0)\n",
      "Requirement already satisfied: google-auth-oauthlib<0.5,>=0.4.1 in /specific/scratches/scratch/guy/miniconda/lib/python3.8/site-packages (from tensorboard) (0.4.1)\n",
      "Requirement already satisfied: google-auth<2,>=1.6.3 in /specific/scratches/scratch/guy/miniconda/lib/python3.8/site-packages (from tensorboard) (1.20.1)\n",
      "Requirement already satisfied: grpcio>=1.24.3 in /specific/scratches/scratch/guy/miniconda/lib/python3.8/site-packages (from tensorboard) (1.31.0)\n",
      "Requirement already satisfied: markdown>=2.6.8 in /specific/scratches/scratch/guy/miniconda/lib/python3.8/site-packages (from tensorboard) (3.2.2)\n",
      "Requirement already satisfied: setuptools>=41.0.0 in /specific/scratches/scratch/guy/miniconda/lib/python3.8/site-packages (from tensorboard) (46.4.0.post20200518)\n",
      "Requirement already satisfied: wheel>=0.26; python_version >= \"3\" in /specific/scratches/scratch/guy/miniconda/lib/python3.8/site-packages (from tensorboard) (0.34.2)\n",
      "Requirement already satisfied: six>=1.10.0 in /specific/scratches/scratch/guy/miniconda/lib/python3.8/site-packages (from tensorboard) (1.14.0)\n",
      "Requirement already satisfied: urllib3!=1.25.0,!=1.25.1,<1.26,>=1.21.1 in /specific/scratches/scratch/guy/miniconda/lib/python3.8/site-packages (from requests<3,>=2.21.0->tensorboard) (1.25.8)\n",
      "Requirement already satisfied: idna<3,>=2.5 in /specific/scratches/scratch/guy/miniconda/lib/python3.8/site-packages (from requests<3,>=2.21.0->tensorboard) (2.9)\n",
      "Requirement already satisfied: chardet<4,>=3.0.2 in /specific/scratches/scratch/guy/miniconda/lib/python3.8/site-packages (from requests<3,>=2.21.0->tensorboard) (3.0.4)\n",
      "Requirement already satisfied: requests-oauthlib>=0.7.0 in /specific/scratches/scratch/guy/miniconda/lib/python3.8/site-packages (from google-auth-oauthlib<0.5,>=0.4.1->tensorboard) (1.3.0)\n",
      "Requirement already satisfied: rsa<5,>=3.1.4; python_version >= \"3.5\" in /specific/scratches/scratch/guy/miniconda/lib/python3.8/site-packages (from google-auth<2,>=1.6.3->tensorboard) (4.6)\n",
      "Requirement already satisfied: pyasn1-modules>=0.2.1 in /specific/scratches/scratch/guy/miniconda/lib/python3.8/site-packages (from google-auth<2,>=1.6.3->tensorboard) (0.2.8)\n",
      "Requirement already satisfied: cachetools<5.0,>=2.0.0 in /specific/scratches/scratch/guy/miniconda/lib/python3.8/site-packages (from google-auth<2,>=1.6.3->tensorboard) (4.1.1)\n",
      "Requirement already satisfied: oauthlib>=3.0.0 in /specific/scratches/scratch/guy/miniconda/lib/python3.8/site-packages (from requests-oauthlib>=0.7.0->google-auth-oauthlib<0.5,>=0.4.1->tensorboard) (3.1.0)\n",
      "Requirement already satisfied: pyasn1>=0.1.3 in /specific/scratches/scratch/guy/miniconda/lib/python3.8/site-packages (from rsa<5,>=3.1.4; python_version >= \"3.5\"->google-auth<2,>=1.6.3->tensorboard) (0.4.8)\n",
      "Note: you may need to restart the kernel to use updated packages.\n"
     ]
    }
   ],
   "source": [
    "%pip install matplotlib seaborn pandas tqdm tensorboard"
   ]
  },
  {
   "cell_type": "markdown",
   "metadata": {
    "colab_type": "text",
    "id": "4hPNjtF95lxA"
   },
   "source": [
    "### PyTorch + Transformers"
   ]
  },
  {
   "cell_type": "code",
   "execution_count": 20,
   "metadata": {
    "colab": {
     "base_uri": "https://localhost:8080/",
     "height": 50
    },
    "colab_type": "code",
    "collapsed": false,
    "id": "UsNuEmiI5lxB",
    "outputId": "b66d4df4-b45a-4b82-dad1-0d449d98788b"
   },
   "outputs": [
    {
     "name": "stdout",
     "output_type": "stream",
     "text": [
      "/specific/scratches/scratch/guy\n",
      "mkdir: cannot create directory 'torch-transformers-cache': File exists\n"
     ]
    }
   ],
   "source": [
    "%cd {guy_folder}\n",
    "!mkdir torch-transformers-cache"
   ]
  },
  {
   "cell_type": "code",
   "execution_count": 13,
   "metadata": {
    "ExecuteTime": {
     "end_time": "2020-08-10T07:59:21.635288Z",
     "start_time": "2020-08-10T07:58:42.530263Z"
    },
    "colab": {},
    "colab_type": "code",
    "collapsed": false,
    "id": "H144hSbF5lxD"
   },
   "outputs": [
    {
     "name": "stdout",
     "output_type": "stream",
     "text": [
      "/specific/scratches/scratch/guy\n",
      "mkdir: cannot create directory 'torch-transformers-cache': File exists\n",
      "Looking in links: https://download.pytorch.org/whl/torch_stable.html\n",
      "Requirement already satisfied: torch==1.4.0+cu100 in ./miniconda/lib/python3.8/site-packages (1.4.0+cu100)\n",
      "Note: you may need to restart the kernel to use updated packages.\n",
      "/specific/scratches/scratch/guy/torch-transformers-cache\n",
      "Cloning into 'transformers'...\n",
      "remote: Enumerating objects: 23, done.\u001b[K\n",
      "remote: Counting objects: 100% (23/23), done.\u001b[K\n",
      "remote: Compressing objects: 100% (18/18), done.\u001b[K\n",
      "remote: Total 38349 (delta 9), reused 9 (delta 2), pack-reused 38326\u001b[K\n",
      "Receiving objects: 100% (38349/38349), 27.73 MiB | 5.96 MiB/s, done.\n",
      "Resolving deltas: 100% (26573/26573), done.\n",
      "Checking connectivity... done.\n",
      "Checking out files: 100% (1014/1014), done.\n",
      "Processing ./transformers\n",
      "Requirement already satisfied: numpy in /specific/scratches/scratch/guy/miniconda/lib/python3.8/site-packages (from transformers==3.0.2) (1.19.1)\n",
      "Collecting tokenizers==0.8.1.rc2\n",
      "  Using cached tokenizers-0.8.1rc2-cp38-cp38-manylinux1_x86_64.whl (3.0 MB)\n",
      "Collecting packaging\n",
      "  Using cached packaging-20.4-py2.py3-none-any.whl (37 kB)\n",
      "Collecting filelock\n",
      "  Using cached filelock-3.0.12-py3-none-any.whl (7.6 kB)\n",
      "Requirement already satisfied: requests in /specific/scratches/scratch/guy/miniconda/lib/python3.8/site-packages (from transformers==3.0.2) (2.23.0)\n",
      "Requirement already satisfied: tqdm>=4.27 in /specific/scratches/scratch/guy/miniconda/lib/python3.8/site-packages (from transformers==3.0.2) (4.46.0)\n",
      "Collecting regex!=2019.12.17\n",
      "  Using cached regex-2020.7.14-cp38-cp38-manylinux2010_x86_64.whl (672 kB)\n",
      "Collecting sentencepiece!=0.1.92\n",
      "  Using cached sentencepiece-0.1.91-cp38-cp38-manylinux1_x86_64.whl (1.1 MB)\n",
      "Processing /specific/a/home/cc/students/cs/dar/.cache/pip/wheels/7b/78/f4/27d43a65043e1b75dbddaa421b573eddc67e712be4b1c80677/sacremoses-0.0.43-py3-none-any.whl\n",
      "Requirement already satisfied: six in /specific/scratches/scratch/guy/miniconda/lib/python3.8/site-packages (from packaging->transformers==3.0.2) (1.14.0)\n",
      "Requirement already satisfied: pyparsing>=2.0.2 in /specific/scratches/scratch/guy/miniconda/lib/python3.8/site-packages (from packaging->transformers==3.0.2) (2.4.7)\n",
      "Requirement already satisfied: idna<3,>=2.5 in /specific/scratches/scratch/guy/miniconda/lib/python3.8/site-packages (from requests->transformers==3.0.2) (2.9)\n",
      "Requirement already satisfied: urllib3!=1.25.0,!=1.25.1,<1.26,>=1.21.1 in /specific/scratches/scratch/guy/miniconda/lib/python3.8/site-packages (from requests->transformers==3.0.2) (1.25.8)\n",
      "Requirement already satisfied: chardet<4,>=3.0.2 in /specific/scratches/scratch/guy/miniconda/lib/python3.8/site-packages (from requests->transformers==3.0.2) (3.0.4)\n",
      "Requirement already satisfied: certifi>=2017.4.17 in /specific/scratches/scratch/guy/miniconda/lib/python3.8/site-packages (from requests->transformers==3.0.2) (2020.6.20)\n",
      "Collecting joblib\n",
      "  Using cached joblib-0.16.0-py3-none-any.whl (300 kB)\n",
      "Collecting click\n",
      "  Using cached click-7.1.2-py2.py3-none-any.whl (82 kB)\n",
      "Building wheels for collected packages: transformers\n",
      "  Building wheel for transformers (setup.py) ... \u001b[?25l-\b \b\\\b \b|\b \b/\b \bdone\n",
      "\u001b[?25h  Created wheel for transformers: filename=transformers-3.0.2-py3-none-any.whl size=858593 sha256=e3adb78ed010b7923e7ac8c317f2292dd00723dfd1b01fb5982c131f0fa6684e\n",
      "  Stored in directory: /tmp/pip-ephem-wheel-cache-vlseae09/wheels/b2/c5/c3/84a04d19f1e166956bee9fa37a94f05956fd042edc35567761\n",
      "Successfully built transformers\n",
      "Installing collected packages: tokenizers, packaging, filelock, regex, sentencepiece, joblib, click, sacremoses, transformers\n",
      "Successfully installed click-7.1.2 filelock-3.0.12 joblib-0.16.0 packaging-20.4 regex-2020.7.14 sacremoses-0.0.43 sentencepiece-0.1.91 tokenizers-0.8.1rc2 transformers-3.0.2\n",
      "Note: you may need to restart the kernel to use updated packages.\n",
      "Collecting nlp\n",
      "  Using cached nlp-0.4.0-py3-none-any.whl (1.7 MB)\n",
      "Processing /specific/a/home/cc/students/cs/dar/.cache/pip/wheels/93/7f/7d/78ec535a4340ef2696aad8b17fe8bb063d56301bd62881b069/dill-0.3.2-py3-none-any.whl\n",
      "Requirement already satisfied, skipping upgrade: numpy in /specific/scratches/scratch/guy/miniconda/lib/python3.8/site-packages (from nlp) (1.19.1)\n",
      "Requirement already satisfied, skipping upgrade: requests>=2.19.0 in /specific/scratches/scratch/guy/miniconda/lib/python3.8/site-packages (from nlp) (2.23.0)\n",
      "Requirement already satisfied, skipping upgrade: tqdm>=4.27 in /specific/scratches/scratch/guy/miniconda/lib/python3.8/site-packages (from nlp) (4.46.0)\n",
      "Collecting xxhash\n",
      "  Using cached xxhash-2.0.0-cp38-cp38-manylinux2010_x86_64.whl (243 kB)\n",
      "Requirement already satisfied, skipping upgrade: filelock in /specific/scratches/scratch/guy/miniconda/lib/python3.8/site-packages (from nlp) (3.0.12)\n",
      "Collecting pyarrow>=0.16.0\n",
      "  Using cached pyarrow-1.0.0-cp38-cp38-manylinux2014_x86_64.whl (17.3 MB)\n",
      "Requirement already satisfied, skipping upgrade: pandas in /specific/scratches/scratch/guy/miniconda/lib/python3.8/site-packages (from nlp) (1.1.0)\n",
      "Requirement already satisfied, skipping upgrade: chardet<4,>=3.0.2 in /specific/scratches/scratch/guy/miniconda/lib/python3.8/site-packages (from requests>=2.19.0->nlp) (3.0.4)\n",
      "Requirement already satisfied, skipping upgrade: certifi>=2017.4.17 in /specific/scratches/scratch/guy/miniconda/lib/python3.8/site-packages (from requests>=2.19.0->nlp) (2020.6.20)\n",
      "Requirement already satisfied, skipping upgrade: urllib3!=1.25.0,!=1.25.1,<1.26,>=1.21.1 in /specific/scratches/scratch/guy/miniconda/lib/python3.8/site-packages (from requests>=2.19.0->nlp) (1.25.8)\n",
      "Requirement already satisfied, skipping upgrade: idna<3,>=2.5 in /specific/scratches/scratch/guy/miniconda/lib/python3.8/site-packages (from requests>=2.19.0->nlp) (2.9)\n",
      "Requirement already satisfied, skipping upgrade: pytz>=2017.2 in /specific/scratches/scratch/guy/miniconda/lib/python3.8/site-packages (from pandas->nlp) (2020.1)\n",
      "Requirement already satisfied, skipping upgrade: python-dateutil>=2.7.3 in /specific/scratches/scratch/guy/miniconda/lib/python3.8/site-packages (from pandas->nlp) (2.8.1)\n",
      "Requirement already satisfied, skipping upgrade: six>=1.5 in /specific/scratches/scratch/guy/miniconda/lib/python3.8/site-packages (from python-dateutil>=2.7.3->pandas->nlp) (1.14.0)\n",
      "Installing collected packages: dill, xxhash, pyarrow, nlp\n",
      "Successfully installed dill-0.3.2 nlp-0.4.0 pyarrow-1.0.0 xxhash-2.0.0\n",
      "Note: you may need to restart the kernel to use updated packages.\n",
      "/specific/scratches/scratch/guy\n"
     ]
    }
   ],
   "source": [
    "%cd {guy_folder}\n",
    "!mkdir datasets\n",
    "!mkdir torch-transformers-cache\n",
    "\n",
    "%pip install --no-cache-dir torch==1.4.0+cu100 -f https://download.pytorch.org/whl/torch_stable.html\n",
    "\n",
    "%cd {guy_folder}/torch-transformers-cache/\n",
    "!git clone https://github.com/huggingface/transformers.git\n",
    "%pip install ./transformers\n",
    "%pip install -U nlp\n",
    "\n",
    "%cd {guy_folder}\n",
    "## Not working!!!\n",
    "!setenv TRANSFORMERS_CACHE /vol/scratch/guy/torch-transformers-cache\n",
    "!setenv CUDA_VISIBLE_DEVICES 0"
   ]
  },
  {
   "cell_type": "markdown",
   "metadata": {
    "colab_type": "text",
    "id": "q0grNoXN5lxJ"
   },
   "source": [
    "#### Update Transformers"
   ]
  },
  {
   "cell_type": "code",
   "execution_count": null,
   "metadata": {
    "colab": {},
    "colab_type": "code",
    "collapsed": true,
    "id": "Q_l4MeVn5lxK",
    "outputId": "d4b622c8-8fa6-40c8-aabc-c7fd94ba1f98"
   },
   "outputs": [
    {
     "name": "stdout",
     "output_type": "stream",
     "text": [
      "/specific/scratches/scratch/guy/torch-transformers-cache/transformers\n",
      "Already up-to-date.\n",
      "Obtaining file:///specific/scratches/scratch/guy/torch-transformers-cache/transformers\n",
      "Requirement already satisfied: numpy in /specific/scratches/scratch/guy/miniconda/lib/python3.7/site-packages (from transformers==3.0.2) (1.19.1)\n",
      "Requirement already satisfied: tokenizers==0.8.1.rc2 in /specific/scratches/scratch/guy/miniconda/lib/python3.7/site-packages (from transformers==3.0.2) (0.8.1rc2)\n",
      "Requirement already satisfied: packaging in /specific/scratches/scratch/guy/miniconda/lib/python3.7/site-packages (from transformers==3.0.2) (20.4)\n",
      "Requirement already satisfied: filelock in /specific/scratches/scratch/guy/miniconda/lib/python3.7/site-packages (from transformers==3.0.2) (3.0.12)\n",
      "Requirement already satisfied: requests in /specific/scratches/scratch/guy/miniconda/lib/python3.7/site-packages (from transformers==3.0.2) (2.23.0)\n",
      "Requirement already satisfied: tqdm>=4.27 in /specific/scratches/scratch/guy/miniconda/lib/python3.7/site-packages (from transformers==3.0.2) (4.28.1)\n",
      "Requirement already satisfied: regex!=2019.12.17 in /specific/scratches/scratch/guy/miniconda/lib/python3.7/site-packages (from transformers==3.0.2) (2020.7.14)\n",
      "Requirement already satisfied: sentencepiece!=0.1.92 in /specific/scratches/scratch/guy/miniconda/lib/python3.7/site-packages (from transformers==3.0.2) (0.1.91)\n",
      "Requirement already satisfied: sacremoses in /specific/scratches/scratch/guy/miniconda/lib/python3.7/site-packages (from transformers==3.0.2) (0.0.43)\n",
      "Requirement already satisfied: pyparsing>=2.0.2 in /specific/scratches/scratch/guy/miniconda/lib/python3.7/site-packages (from packaging->transformers==3.0.2) (2.4.7)\n",
      "Requirement already satisfied: six in /specific/scratches/scratch/guy/miniconda/lib/python3.7/site-packages (from packaging->transformers==3.0.2) (1.14.0)\n",
      "Requirement already satisfied: urllib3!=1.25.0,!=1.25.1,<1.26,>=1.21.1 in /specific/scratches/scratch/guy/miniconda/lib/python3.7/site-packages (from requests->transformers==3.0.2) (1.25.8)\n",
      "Requirement already satisfied: idna<3,>=2.5 in /specific/scratches/scratch/guy/miniconda/lib/python3.7/site-packages (from requests->transformers==3.0.2) (2.9)\n",
      "Requirement already satisfied: certifi>=2017.4.17 in /specific/scratches/scratch/guy/miniconda/lib/python3.7/site-packages (from requests->transformers==3.0.2) (2020.6.20)\n",
      "Requirement already satisfied: chardet<4,>=3.0.2 in /specific/scratches/scratch/guy/miniconda/lib/python3.7/site-packages (from requests->transformers==3.0.2) (3.0.4)\n",
      "Requirement already satisfied: click in /specific/scratches/scratch/guy/miniconda/lib/python3.7/site-packages (from sacremoses->transformers==3.0.2) (7.1.2)\n",
      "Requirement already satisfied: joblib in /specific/scratches/scratch/guy/miniconda/lib/python3.7/site-packages (from sacremoses->transformers==3.0.2) (0.16.0)\n",
      "Installing collected packages: transformers\n",
      "  Attempting uninstall: transformers\n",
      "    Found existing installation: transformers 3.0.2\n",
      "    Uninstalling transformers-3.0.2:\n",
      "      Successfully uninstalled transformers-3.0.2\n",
      "  Running setup.py develop for transformers\n",
      "Successfully installed transformers\n",
      "Note: you may need to restart the kernel to use updated packages.\n"
     ]
    }
   ],
   "source": [
    "%cd {guy_folder}/torch-transformers-cache/transformers\n",
    "!git pull\n",
    "%pip install -e ."
   ]
  },
  {
   "cell_type": "markdown",
   "metadata": {
    "colab_type": "text",
    "id": "i4KL7QM05lxN"
   },
   "source": [
    "### Get dataset"
   ]
  },
  {
   "cell_type": "code",
   "execution_count": 14,
   "metadata": {
    "ExecuteTime": {
     "end_time": "2020-08-10T08:03:33.452119Z",
     "start_time": "2020-08-10T07:59:58.327675Z"
    },
    "colab": {
     "base_uri": "https://localhost:8080/",
     "height": 234
    },
    "colab_type": "code",
    "collapsed": false,
    "id": "Ga-Z7SLJ5lxN",
    "outputId": "502b30d6-1b0b-4c3b-bea2-5749649d704c"
   },
   "outputs": [
    {
     "name": "stdout",
     "output_type": "stream",
     "text": [
      "/specific/scratches/scratch/guy/datasets\n",
      "--2020-08-16 12:54:47--  http://ai.stanford.edu/~amaas/data/sentiment/aclImdb_v1.tar.gz\n",
      "Resolving ai.stanford.edu (ai.stanford.edu)... 171.64.68.10\n",
      "Connecting to ai.stanford.edu (ai.stanford.edu)|171.64.68.10|:80... connected.\n",
      "HTTP request sent, awaiting response... 200 OK\n",
      "Length: 84125825 (80M) [application/x-gzip]\n",
      "Saving to: 'aclImdb_v1.tar.gz'\n",
      "\n",
      "100%[======================================>] 84,125,825  1.04MB/s   in 97s    \n",
      "\n",
      "2020-08-16 12:56:25 (847 KB/s) - 'aclImdb_v1.tar.gz' saved [84125825/84125825]\n",
      "\n",
      "/specific/scratches/scratch/guy\n"
     ]
    }
   ],
   "source": [
    "%cd {guy_folder}/datasets\n",
    "!wget http://ai.stanford.edu/~amaas/data/sentiment/aclImdb_v1.tar.gz\n",
    "!tar -xf acl*.tar.gz\n",
    "%cd {guy_folder}"
   ]
  },
  {
   "cell_type": "markdown",
   "metadata": {
    "colab_type": "text",
    "id": "kkN-nMU95lxP"
   },
   "source": [
    "### import"
   ]
  },
  {
   "cell_type": "code",
   "execution_count": 3,
   "metadata": {
    "ExecuteTime": {
     "end_time": "2020-08-11T18:51:48.838700Z",
     "start_time": "2020-08-11T18:51:46.139543Z"
    },
    "colab": {
     "base_uri": "https://localhost:8080/",
     "height": 87
    },
    "colab_type": "code",
    "collapsed": false,
    "id": "3uSn0h9S5lxQ",
    "init_cell": true,
    "outputId": "f31d917a-65bf-43ed-a604-07c2d30b18d4"
   },
   "outputs": [
    {
     "name": "stdout",
     "output_type": "stream",
     "text": [
      "/specific/scratches/scratch/guy/datasets\n"
     ]
    }
   ],
   "source": [
    "cache_dir = guy_folder + \"/torch-transformers-cache/\"\n",
    "import torch\n",
    "from tokenizers import Tokenizer\n",
    "import transformers\n",
    "from transformers import AutoModel, AutoTokenizer, pipeline\n",
    "import numpy as np\n",
    "import pandas as pd\n",
    "from tqdm import tqdm\n",
    "import matplotlib.pyplot as plt \n",
    "import seaborn as sns\n",
    "import re, pdb\n",
    "import itertools\n",
    "%matplotlib inline\n",
    "%cd {guy_folder}/datasets\n"
   ]
  },
  {
   "cell_type": "markdown",
   "metadata": {
    "colab_type": "text",
    "id": "mWAn-iNH5lxS"
   },
   "source": [
    "### Load dataset"
   ]
  },
  {
   "cell_type": "code",
   "execution_count": 16,
   "metadata": {
    "colab": {
     "base_uri": "https://localhost:8080/",
     "height": 50
    },
    "colab_type": "code",
    "collapsed": false,
    "id": "B3fXBkNJ5lxT",
    "outputId": "93124ced-3716-428a-aa32-96a8a0d98a0d"
   },
   "outputs": [
    {
     "name": "stdout",
     "output_type": "stream",
     "text": [
      "/specific/scratches/scratch/guy\n",
      "mkdir: cannot create directory 'datasets': File exists\n"
     ]
    }
   ],
   "source": [
    "%cd {guy_folder}\n",
    "!mkdir datasets"
   ]
  },
  {
   "cell_type": "code",
   "execution_count": 4,
   "metadata": {
    "ExecuteTime": {
     "end_time": "2020-08-11T18:52:22.072850Z",
     "start_time": "2020-08-11T18:51:48.841009Z"
    },
    "colab": {
     "base_uri": "https://localhost:8080/",
     "height": 33
    },
    "colab_type": "code",
    "collapsed": false,
    "id": "Xzr6EAIq5lxa",
    "init_cell": true,
    "outputId": "ba720fb1-96d5-43c1-eb05-1730eaa8bd3a"
   },
   "outputs": [
    {
     "name": "stderr",
     "output_type": "stream",
     "text": [
      "100%|██████████| 75000/75000 [02:32<00:00, 491.67it/s]\n"
     ]
    }
   ],
   "source": [
    "import glob\n",
    "sentences = []\n",
    "target = []\n",
    "path =  guy_folder + '/datasets/aclImdb/train/**/*.txt' \n",
    "files = glob.glob(path)\n",
    "for name in tqdm(files):\n",
    "    with open(name) as f:\n",
    "        target+=[int('pos' in name)] # Classical quick & dirty\n",
    "        sentences += [l for l in f]"
   ]
  },
  {
   "cell_type": "markdown",
   "metadata": {
    "colab_type": "text",
    "id": "EmBVLY7F5lxd"
   },
   "source": [
    "## Transformers Initialization "
   ]
  },
  {
   "cell_type": "markdown",
   "metadata": {
    "colab_type": "text",
    "id": "9vOYa5sl5lxd"
   },
   "source": [
    "### Load"
   ]
  },
  {
   "cell_type": "code",
   "execution_count": 18,
   "metadata": {
    "ExecuteTime": {
     "end_time": "2020-08-10T08:04:21.720127Z",
     "start_time": "2020-08-10T08:04:21.716032Z"
    },
    "colab": {},
    "colab_type": "code",
    "collapsed": true,
    "id": "0bSZ7Ivs5lxe"
   },
   "outputs": [],
   "source": [
    "padding = False"
   ]
  },
  {
   "cell_type": "code",
   "execution_count": 5,
   "metadata": {
    "ExecuteTime": {
     "end_time": "2020-08-11T18:52:42.105495Z",
     "start_time": "2020-08-11T18:52:22.075141Z"
    },
    "colab": {
     "base_uri": "https://localhost:8080/",
     "height": 70
    },
    "colab_type": "code",
    "collapsed": false,
    "id": "3yfJ8kCO5lxg",
    "init_cell": true,
    "outputId": "11f6307b-477f-4c3e-a2ef-b6727c78b91e"
   },
   "outputs": [
    {
     "name": "stderr",
     "output_type": "stream",
     "text": [
      "Some weights of GPT2Model were not initialized from the model checkpoint at gpt2 and are newly initialized: ['h.0.attn.masked_bias', 'h.1.attn.masked_bias', 'h.2.attn.masked_bias', 'h.3.attn.masked_bias', 'h.4.attn.masked_bias', 'h.5.attn.masked_bias', 'h.6.attn.masked_bias', 'h.7.attn.masked_bias', 'h.8.attn.masked_bias', 'h.9.attn.masked_bias', 'h.10.attn.masked_bias', 'h.11.attn.masked_bias']\n",
      "You should probably TRAIN this model on a down-stream task to be able to use it for predictions and inference.\n"
     ]
    }
   ],
   "source": [
    "if ('padding' not in globals()) and ('padding' not in locals()):\n",
    "    padding = False\n",
    "from transformers import BertTokenizerFast, GPT2TokenizerFast, RobertaTokenizerFast\n",
    "device = 'cpu'\n",
    "bertTokenizer = BertTokenizerFast.from_pretrained('bert-base-uncased', output_attentions = True,  cache_dir = cache_dir)\n",
    "bertModel = AutoModel.from_pretrained('bert-base-uncased', output_attentions = True, cache_dir = cache_dir)\n",
    "\n",
    "robertaTokenizer = RobertaTokenizerFast.from_pretrained('roberta-base',   output_attentions = True, cache_dir = cache_dir)\n",
    "robertaModel = AutoModel.from_pretrained('roberta-base',   output_attentions = True, cache_dir = cache_dir)\n",
    "\n",
    "gptModel = AutoModel.from_pretrained('gpt2',   output_attentions = True, cache_dir = cache_dir)\n",
    "\n",
    "if padding:\n",
    "    gptTokenizer = GPT2TokenizerFast.from_pretrained('gpt2',   output_attentions = True, cache_dir = cache_dir, pad_token = '<PAD>')    \n",
    "else:\n",
    "    gptTokenizer = GPT2TokenizerFast.from_pretrained('gpt2',   output_attentions = True, cache_dir = cache_dir)#, pad_token = '<PAD>')\n",
    "\n",
    "bertModel=bertModel.to(device)\n",
    "gptModel=gptModel.to(device)\n",
    "if padding:\n",
    "    gptModel.resize_token_embeddings(len(gptTokenizer))"
   ]
  },
  {
   "cell_type": "code",
   "execution_count": 6,
   "metadata": {
    "ExecuteTime": {
     "end_time": "2020-08-11T18:52:42.121351Z",
     "start_time": "2020-08-11T18:52:42.108498Z"
    },
    "colab": {},
    "colab_type": "code",
    "collapsed": true,
    "id": "jaVhpCY_5lxj",
    "init_cell": true
   },
   "outputs": [],
   "source": [
    "def _getAttentionsReshaped(outputs, wordsToTokens = None, layerwise = False, reshape = True):\n",
    "    attentions_ = outputs[-1]#.attentions # (n_layers, batch, n_heads, N, N) TODO: Verify!\n",
    "    attentions = torch.stack(attentions_).permute(0, 2, 1, 3, 4)\n",
    "    if wordsToTokens is not None:\n",
    "        shape = (attentions.size(0), attentions.size(1), -1) if layerwise else (attentions.size(0) * attentions.size(1), -1)\n",
    "        attentions = _combineTokensByWords(attentions, wordsToTokens)\n",
    "        assert((abs(attentions.sum(axis = -1) - 1) < 0.1).all())\n",
    "        if reshape:\n",
    "          attentions = attentions.reshape(*shape)\n",
    "    else:\n",
    "        if reshape:\n",
    "          attentions = attentions.reshape(attentions.size(0) * attentions.size(1), -1, attentions.size(-1))\n",
    "    if not reshape:\n",
    "        attentions = torch.squeeze(attentions)\n",
    "    return attentions\n"
   ]
  },
  {
   "cell_type": "code",
   "execution_count": 7,
   "metadata": {
    "ExecuteTime": {
     "end_time": "2020-08-11T18:52:50.949397Z",
     "start_time": "2020-08-11T18:52:50.939546Z"
    },
    "colab": {},
    "colab_type": "code",
    "collapsed": true,
    "id": "mAkZw1Jn5lxp"
   },
   "outputs": [],
   "source": [
    "def _combineTokensByWords(attentions, wordsToTokens): # Both rows & columns\n",
    "        nTokens = sum(wordsToTokens)\n",
    "        nWords = len(wordsToTokens)\n",
    "        s = np.zeros((nTokens, nWords))\n",
    "        weights = sum([[1./a] * a for a in wordsToTokens], [])\n",
    "        wordNum = sum([[i]*a for i, a in enumerate(wordsToTokens)], [])\n",
    "        s[list(range(nTokens)), wordNum] = weights\n",
    "        s = torch.FloatTensor(s)\n",
    "        return s.T @ attentions @ s\n",
    "\n",
    "def _wordsToTokensByOffset(sent, offsets): # Not gonna document this \n",
    "    wordOffsets = [-1]+list(map(lambda x: x.span()[0], (re.finditer(r'\\s+', sent))))+[len(sent)+1]\n",
    "    offsets = list(map(lambda x: x[0], offsets)) \n",
    "    zWords = list(zip(wordOffsets, itertools.repeat(\"word\")))\n",
    "    zTokens = list(zip(offsets, itertools.repeat(\"token\")))\n",
    "    s = sorted(itertools.chain(zWords, zTokens), key = lambda x: x[0])\n",
    "    lensArr = np.diff([i for i, a in enumerate(s) if a[1] == 'word'])-1\n",
    "    return lensArr\n",
    "\n",
    "\n",
    "def tokenizeSentencesNoPadding(tokenizers, sentences):\n",
    "    output = []\n",
    "    modelsWordsToTokens = []\n",
    "    for tokenizer in tokenizers:\n",
    "        output += [[]]\n",
    "        modelsWordsToTokens += [[]]\n",
    "        print(tokenizer.__class__)\n",
    "        for sent in tqdm(sentences):\n",
    "            tokenized_sent = tokenizer(sent, pad_to_max_length = False, max_length=60, return_tensors='pt', \n",
    "                                       return_offsets_mapping = True,\n",
    "                                       truncation = True)\n",
    "            \n",
    "            tokenOffsets = (tokenized_sent.pop('offset_mapping').numpy()[0]).tolist() #TODO: Make sure the 0-index does the right thing\n",
    "            modelsWordsToTokens[-1]+=[ _wordsToTokensByOffset(sent, tokenOffsets) ]\n",
    "            output[-1]+=[ tokenized_sent]\n",
    "    return zip(output, modelsWordsToTokens)"
   ]
  },
  {
   "cell_type": "code",
   "execution_count": 8,
   "metadata": {
    "ExecuteTime": {
     "end_time": "2020-08-11T18:53:21.643478Z",
     "start_time": "2020-08-11T18:52:52.364863Z"
    },
    "colab": {
     "base_uri": "https://localhost:8080/",
     "height": 418
    },
    "colab_type": "code",
    "collapsed": false,
    "id": "NRgaPczi5lxs",
    "outputId": "0ac4a6e0-1fa0-4586-b7c6-946621004b9c"
   },
   "outputs": [
    {
     "name": "stderr",
     "output_type": "stream",
     "text": [
      " 18%|█▊        | 18/100 [00:00<00:00, 176.62it/s]"
     ]
    },
    {
     "name": "stdout",
     "output_type": "stream",
     "text": [
      "<class 'transformers.tokenization_bert.BertTokenizerFast'>\n"
     ]
    },
    {
     "name": "stderr",
     "output_type": "stream",
     "text": [
      "100%|██████████| 100/100 [00:00<00:00, 414.74it/s]\n",
      " 16%|█▌        | 16/100 [00:00<00:00, 154.18it/s]"
     ]
    },
    {
     "name": "stdout",
     "output_type": "stream",
     "text": [
      "<class 'transformers.tokenization_gpt2.GPT2TokenizerFast'>\n"
     ]
    },
    {
     "name": "stderr",
     "output_type": "stream",
     "text": [
      "100%|██████████| 100/100 [00:00<00:00, 268.16it/s]\n",
      " 22%|██▏       | 22/100 [00:00<00:00, 186.84it/s]"
     ]
    },
    {
     "name": "stdout",
     "output_type": "stream",
     "text": [
      "<class 'transformers.tokenization_roberta.RobertaTokenizerFast'>\n"
     ]
    },
    {
     "name": "stderr",
     "output_type": "stream",
     "text": [
      "100%|██████████| 100/100 [00:00<00:00, 233.79it/s]\n"
     ]
    }
   ],
   "source": [
    "num_sentences = 100\n",
    "((bertEncoded, bertWordsToTokens), \n",
    "     (gptEncoded, gptWordsToTokens), \n",
    "     (robertaEncoded, robertaWordsToTokens)) = tokenizeSentencesNoPadding((bertTokenizer, gptTokenizer, robertaTokenizer),\n",
    "                                                                       sentences[:num_sentences])\n",
    "\n"
   ]
  },
  {
   "cell_type": "code",
   "execution_count": 9,
   "metadata": {
    "ExecuteTime": {
     "end_time": "2020-08-10T18:28:24.619415Z",
     "start_time": "2020-08-10T18:28:24.614388Z"
    },
    "colab": {},
    "colab_type": "code",
    "collapsed": true,
    "id": "Iyjjm5d-5lx0"
   },
   "outputs": [],
   "source": [
    "def headSimilarityNoPadding(modelA, modelB, encodedA_list, encodedB_list, \n",
    "                                           wordsToTokensA_list, wordsToTokensB_list):\n",
    "    res = None\n",
    "    for (encodedA, encodedB, wordsToTokensA, wordsToTokensB) in tqdm(\n",
    "                                        zip(encodedA_list, encodedB_list,\n",
    "                                          wordsToTokensA_list, wordsToTokensB_list), total = len(encodedA_list)):\n",
    "\n",
    "        N = len(wordsToTokensA) # TODO: Fix N to the right formula\n",
    "        attentionsA = _getAttentionsReshaped(modelA(**encodedA), wordsToTokens = wordsToTokensA).detach().numpy()\n",
    "        attentionsB = _getAttentionsReshaped(modelB(**encodedB), wordsToTokens = wordsToTokensB).detach().numpy() \n",
    "        \n",
    "        new_res = klDivAllPairs(attentionsA, attentionsB, N)\n",
    "        if res is None:\n",
    "            res = new_res\n",
    "        else:\n",
    "            res += new_res\n",
    "    \n",
    "    return res/len(encodedA_list)"
   ]
  },
  {
   "cell_type": "markdown",
   "metadata": {
    "colab_type": "text",
    "id": "lwjJpboC5lyR"
   },
   "source": [
    "## Get \"clean\" attention heads"
   ]
  },
  {
   "cell_type": "code",
   "execution_count": 135,
   "metadata": {
    "ExecuteTime": {
     "end_time": "2020-08-11T18:53:52.018950Z",
     "start_time": "2020-08-11T18:53:52.015621Z"
    },
    "colab": {},
    "colab_type": "code",
    "collapsed": true,
    "id": "J-pH_9jU5lyR"
   },
   "outputs": [],
   "source": [
    "def cleanseAttentions(att):\n",
    "    att_ = att.clone()\n",
    "    mymax = att.max(axis = -1)[0].unsqueeze(-1)\n",
    "    threshold = mymax * .25\n",
    "    att_[att < threshold] = 0\n",
    "    att_[att >= threshold] = 1\n",
    "    return att_"
   ]
  },
  {
   "cell_type": "code",
   "execution_count": 10,
   "metadata": {
    "ExecuteTime": {
     "end_time": "2020-08-11T18:54:23.532500Z",
     "start_time": "2020-08-11T18:54:23.529616Z"
    },
    "colab": {},
    "colab_type": "code",
    "collapsed": true,
    "id": "Bor_KUdj5lyT"
   },
   "outputs": [],
   "source": [
    "(modelA, modelB, encodedA_list, encodedB_list, \n",
    "            wordsToTokensA_list, wordsToTokensB_list) = (bertModel, gptModel, bertEncoded, gptEncoded, \n",
    "                                  bertWordsToTokens, gptWordsToTokens)\n"
   ]
  },
  {
   "cell_type": "code",
   "execution_count": 194,
   "metadata": {
    "colab": {},
    "colab_type": "code",
    "collapsed": true,
    "id": "LT_xlE8qoNdy"
   },
   "outputs": [],
   "source": [
    "def goodAttention(attentionsA):\n",
    "  return ((attentionsA.topk(5, axis = -1)[0].sum(axis =-1, keepdims = False ) > 0.7)\n",
    "         & (attentionsA.topk(2, axis = -1)[0].sum(axis =-1, keepdims = False ) < 0.7)\n",
    "  ).type('torch.FloatTensor')\n",
    "  # (cleanseAttentions(attentionsA)\n",
    "  #                 .topk(3, axis = -1)[0].sum(axis =-1, keepdims = False ) > 0.5).type('torch.FloatTensor')"
   ]
  },
  {
   "cell_type": "code",
   "execution_count": 204,
   "metadata": {
    "colab": {
     "base_uri": "https://localhost:8080/",
     "height": 116,
     "referenced_widgets": [
      "575e168dc3e342a092436f0c2de9df16",
      "45bd909ed17845a78b6704a2f05867b8",
      "d8e0a1f5957d41d0939c37e966747116",
      "374ad1ad791a4a6a9374b26d64e5f893",
      "0e316a96df4a4bcebdc5843feeaa7079",
      "5cad6ce6fa6249e0a41b864a3544bf75",
      "16b72f333a9b4f8aa15ef5d8b23f4db0",
      "1e2bd499aa854b4b9f31ffbe29408f9d"
     ]
    },
    "colab_type": "code",
    "collapsed": false,
    "id": "1l9_v09g5lyU",
    "outputId": "b5e6e6ad-397a-464d-ce11-c99b48422732"
   },
   "outputs": [
    {
     "name": "stderr",
     "output_type": "stream",
     "text": [
      "/usr/local/lib/python3.6/dist-packages/ipykernel_launcher.py:6: TqdmDeprecationWarning: This function will be removed in tqdm==5.0.0\n",
      "Please use `tqdm.notebook.tqdm` instead of `tqdm.tqdm_notebook`\n",
      "  \n"
     ]
    },
    {
     "data": {
      "application/vnd.jupyter.widget-view+json": {
       "model_id": "575e168dc3e342a092436f0c2de9df16",
       "version_major": 2,
       "version_minor": 0
      },
      "text/plain": [
       "HBox(children=(FloatProgress(value=0.0), HTML(value='')))"
      ]
     },
     "metadata": {
      "tags": []
     },
     "output_type": "display_data"
    },
    {
     "name": "stdout",
     "output_type": "stream",
     "text": [
      "\n"
     ]
    }
   ],
   "source": [
    "from tqdm import tqdm_notebook\n",
    "nSamples = len(encodedA_list)\n",
    "s = torch.zeros((24,16))\n",
    "with torch.no_grad():\n",
    "  for (encodedA, wordsToTokensA) in tqdm_notebook(\n",
    "                                          zip(encodedA_list, wordsToTokensA_list), total = len(encodedA_list)):\n",
    "          \n",
    "          N = len(wordsToTokensA) # TODO: Fix N to the right formula\n",
    "          attentionsA = _getAttentionsReshaped(largeBertModel(**encodedA), \n",
    "                                               wordsToTokens = None, \n",
    "                                               reshape = False)\n",
    "          curS = (goodAttention(attentionsA)\n",
    "                  .mean(axis = -1, keepdims = False))\n",
    "          s += curS\n",
    "                  \n",
    "s = s/nSamples"
   ]
  },
  {
   "cell_type": "code",
   "execution_count": 207,
   "metadata": {
    "colab": {
     "base_uri": "https://localhost:8080/",
     "height": 286
    },
    "colab_type": "code",
    "collapsed": false,
    "id": "XAUxBReqKlsO",
    "outputId": "13b6fc02-f06b-4e7f-ea99-24a52a778571"
   },
   "outputs": [
    {
     "data": {
      "text/plain": [
       "<matplotlib.axes._subplots.AxesSubplot at 0x7fc2a29ccb00>"
      ]
     },
     "execution_count": 207,
     "metadata": {
      "tags": []
     },
     "output_type": "execute_result"
    },
    {
     "data": {
      "image/png": "[encoded data removed]",
      "text/plain": [
       "<Figure size 432x288 with 2 Axes>"
      ]
     },
     "metadata": {
      "needs_background": "light",
      "tags": []
     },
     "output_type": "display_data"
    }
   ],
   "source": [
    "sns.heatmap(s < 0.25)"
   ]
  },
  {
   "cell_type": "code",
   "execution_count": 263,
   "metadata": {
    "colab": {
     "base_uri": "https://localhost:8080/",
     "height": 286
    },
    "colab_type": "code",
    "collapsed": false,
    "id": "w-ZEcj1TsVHb",
    "outputId": "cdd64686-cac3-4fdf-9320-dbc56034105c"
   },
   "outputs": [
    {
     "data": {
      "text/plain": [
       "<matplotlib.axes._subplots.AxesSubplot at 0x7fc2a0f068d0>"
      ]
     },
     "execution_count": 263,
     "metadata": {
      "tags": []
     },
     "output_type": "execute_result"
    },
    {
     "data": {
      "image/png": "[encoded data removed]",
      "text/plain": [
       "<Figure size 432x288 with 2 Axes>"
      ]
     },
     "metadata": {
      "needs_background": "light",
      "tags": []
     },
     "output_type": "display_data"
    }
   ],
   "source": [
    "layer =  11\n",
    "head =  10\n",
    "\n",
    "\n",
    "x = attentionsA[layer, head]\n",
    "a = []\n",
    "y = x.topk(3, axis = 0)[1].tolist()\n",
    "for y_ in y:\n",
    "  a+=list(enumerate(y_))\n",
    "\n",
    "z = torch.zeros(*x.shape)\n",
    "for a_ in a:\n",
    "  z[a_] = 1\n",
    "sns.heatmap(z) # Why axis = -1 is not the right one\n"
   ]
  },
  {
   "cell_type": "code",
   "execution_count": 193,
   "metadata": {
    "colab": {
     "base_uri": "https://localhost:8080/",
     "height": 405
    },
    "colab_type": "code",
    "collapsed": false,
    "id": "cOwDFzoTy5O5",
    "outputId": "cf8724e2-c8a0-47b4-b85f-eddebf731106"
   },
   "outputs": [
    {
     "data": {
      "text/html": [
       "<div>\n",
       "<style scoped>\n",
       "    .dataframe tbody tr th:only-of-type {\n",
       "        vertical-align: middle;\n",
       "    }\n",
       "\n",
       "    .dataframe tbody tr th {\n",
       "        vertical-align: top;\n",
       "    }\n",
       "\n",
       "    .dataframe thead th {\n",
       "        text-align: right;\n",
       "    }\n",
       "</style>\n",
       "<table border=\"1\" class=\"dataframe\">\n",
       "  <thead>\n",
       "    <tr style=\"text-align: right;\">\n",
       "      <th></th>\n",
       "      <th>0</th>\n",
       "      <th>1</th>\n",
       "      <th>2</th>\n",
       "      <th>3</th>\n",
       "      <th>4</th>\n",
       "      <th>5</th>\n",
       "      <th>6</th>\n",
       "      <th>7</th>\n",
       "      <th>8</th>\n",
       "      <th>9</th>\n",
       "      <th>10</th>\n",
       "      <th>11</th>\n",
       "    </tr>\n",
       "  </thead>\n",
       "  <tbody>\n",
       "    <tr>\n",
       "      <th>0</th>\n",
       "      <td>0.000000</td>\n",
       "      <td>0.013750</td>\n",
       "      <td>0.860000</td>\n",
       "      <td>0.968333</td>\n",
       "      <td>0.016917</td>\n",
       "      <td>0.036750</td>\n",
       "      <td>0.014417</td>\n",
       "      <td>0.000750</td>\n",
       "      <td>0.001500</td>\n",
       "      <td>0.009000</td>\n",
       "      <td>0.982332</td>\n",
       "      <td>0.080000</td>\n",
       "    </tr>\n",
       "    <tr>\n",
       "      <th>1</th>\n",
       "      <td>0.065333</td>\n",
       "      <td>0.980916</td>\n",
       "      <td>0.081167</td>\n",
       "      <td>0.069333</td>\n",
       "      <td>0.982916</td>\n",
       "      <td>0.187833</td>\n",
       "      <td>1.000000</td>\n",
       "      <td>0.044583</td>\n",
       "      <td>0.013417</td>\n",
       "      <td>0.019417</td>\n",
       "      <td>0.370500</td>\n",
       "      <td>0.269583</td>\n",
       "    </tr>\n",
       "    <tr>\n",
       "      <th>2</th>\n",
       "      <td>1.000000</td>\n",
       "      <td>0.960000</td>\n",
       "      <td>0.730750</td>\n",
       "      <td>0.110750</td>\n",
       "      <td>0.328500</td>\n",
       "      <td>0.144333</td>\n",
       "      <td>0.698167</td>\n",
       "      <td>0.117833</td>\n",
       "      <td>0.249667</td>\n",
       "      <td>1.000000</td>\n",
       "      <td>0.258833</td>\n",
       "      <td>0.210917</td>\n",
       "    </tr>\n",
       "    <tr>\n",
       "      <th>3</th>\n",
       "      <td>0.979000</td>\n",
       "      <td>0.073250</td>\n",
       "      <td>0.445333</td>\n",
       "      <td>0.836583</td>\n",
       "      <td>0.247000</td>\n",
       "      <td>1.000000</td>\n",
       "      <td>0.216167</td>\n",
       "      <td>0.177667</td>\n",
       "      <td>0.201167</td>\n",
       "      <td>0.999667</td>\n",
       "      <td>0.466417</td>\n",
       "      <td>0.960083</td>\n",
       "    </tr>\n",
       "    <tr>\n",
       "      <th>4</th>\n",
       "      <td>0.511417</td>\n",
       "      <td>0.041583</td>\n",
       "      <td>0.520833</td>\n",
       "      <td>0.996000</td>\n",
       "      <td>0.138500</td>\n",
       "      <td>0.964250</td>\n",
       "      <td>0.535167</td>\n",
       "      <td>0.998000</td>\n",
       "      <td>0.681583</td>\n",
       "      <td>0.184167</td>\n",
       "      <td>0.811750</td>\n",
       "      <td>0.985999</td>\n",
       "    </tr>\n",
       "    <tr>\n",
       "      <th>5</th>\n",
       "      <td>0.980667</td>\n",
       "      <td>1.000000</td>\n",
       "      <td>0.274250</td>\n",
       "      <td>0.798666</td>\n",
       "      <td>0.162250</td>\n",
       "      <td>0.936000</td>\n",
       "      <td>0.999833</td>\n",
       "      <td>0.980666</td>\n",
       "      <td>0.572833</td>\n",
       "      <td>0.999833</td>\n",
       "      <td>0.997500</td>\n",
       "      <td>0.969000</td>\n",
       "    </tr>\n",
       "    <tr>\n",
       "      <th>6</th>\n",
       "      <td>0.875250</td>\n",
       "      <td>0.718917</td>\n",
       "      <td>0.902250</td>\n",
       "      <td>1.000000</td>\n",
       "      <td>0.967917</td>\n",
       "      <td>0.922250</td>\n",
       "      <td>0.993666</td>\n",
       "      <td>0.153083</td>\n",
       "      <td>0.768000</td>\n",
       "      <td>0.990000</td>\n",
       "      <td>0.984000</td>\n",
       "      <td>0.999833</td>\n",
       "    </tr>\n",
       "    <tr>\n",
       "      <th>7</th>\n",
       "      <td>0.764000</td>\n",
       "      <td>0.901667</td>\n",
       "      <td>0.992833</td>\n",
       "      <td>0.999667</td>\n",
       "      <td>0.998167</td>\n",
       "      <td>0.506333</td>\n",
       "      <td>1.000000</td>\n",
       "      <td>0.999667</td>\n",
       "      <td>0.780333</td>\n",
       "      <td>0.983000</td>\n",
       "      <td>0.970583</td>\n",
       "      <td>0.999667</td>\n",
       "    </tr>\n",
       "    <tr>\n",
       "      <th>8</th>\n",
       "      <td>0.951667</td>\n",
       "      <td>0.358917</td>\n",
       "      <td>0.983166</td>\n",
       "      <td>0.726000</td>\n",
       "      <td>0.921417</td>\n",
       "      <td>0.990666</td>\n",
       "      <td>0.995500</td>\n",
       "      <td>0.362833</td>\n",
       "      <td>0.086250</td>\n",
       "      <td>0.685250</td>\n",
       "      <td>0.828667</td>\n",
       "      <td>0.759083</td>\n",
       "    </tr>\n",
       "    <tr>\n",
       "      <th>9</th>\n",
       "      <td>0.745583</td>\n",
       "      <td>0.758167</td>\n",
       "      <td>0.423833</td>\n",
       "      <td>0.834500</td>\n",
       "      <td>0.818750</td>\n",
       "      <td>0.181167</td>\n",
       "      <td>0.883000</td>\n",
       "      <td>0.923167</td>\n",
       "      <td>0.260000</td>\n",
       "      <td>0.832833</td>\n",
       "      <td>0.416667</td>\n",
       "      <td>0.202500</td>\n",
       "    </tr>\n",
       "    <tr>\n",
       "      <th>10</th>\n",
       "      <td>0.130333</td>\n",
       "      <td>0.985999</td>\n",
       "      <td>0.738833</td>\n",
       "      <td>0.457000</td>\n",
       "      <td>0.780250</td>\n",
       "      <td>0.952667</td>\n",
       "      <td>0.829500</td>\n",
       "      <td>0.589167</td>\n",
       "      <td>0.396167</td>\n",
       "      <td>0.949500</td>\n",
       "      <td>0.910000</td>\n",
       "      <td>0.501583</td>\n",
       "    </tr>\n",
       "    <tr>\n",
       "      <th>11</th>\n",
       "      <td>0.948250</td>\n",
       "      <td>0.848750</td>\n",
       "      <td>0.304583</td>\n",
       "      <td>0.870833</td>\n",
       "      <td>0.738917</td>\n",
       "      <td>0.733750</td>\n",
       "      <td>0.755500</td>\n",
       "      <td>0.963500</td>\n",
       "      <td>0.469250</td>\n",
       "      <td>0.180333</td>\n",
       "      <td>0.869333</td>\n",
       "      <td>0.941583</td>\n",
       "    </tr>\n",
       "  </tbody>\n",
       "</table>\n",
       "</div>"
      ],
      "text/plain": [
       "          0         1         2   ...        9         10        11\n",
       "0   0.000000  0.013750  0.860000  ...  0.009000  0.982332  0.080000\n",
       "1   0.065333  0.980916  0.081167  ...  0.019417  0.370500  0.269583\n",
       "2   1.000000  0.960000  0.730750  ...  1.000000  0.258833  0.210917\n",
       "3   0.979000  0.073250  0.445333  ...  0.999667  0.466417  0.960083\n",
       "4   0.511417  0.041583  0.520833  ...  0.184167  0.811750  0.985999\n",
       "5   0.980667  1.000000  0.274250  ...  0.999833  0.997500  0.969000\n",
       "6   0.875250  0.718917  0.902250  ...  0.990000  0.984000  0.999833\n",
       "7   0.764000  0.901667  0.992833  ...  0.983000  0.970583  0.999667\n",
       "8   0.951667  0.358917  0.983166  ...  0.685250  0.828667  0.759083\n",
       "9   0.745583  0.758167  0.423833  ...  0.832833  0.416667  0.202500\n",
       "10  0.130333  0.985999  0.738833  ...  0.949500  0.910000  0.501583\n",
       "11  0.948250  0.848750  0.304583  ...  0.180333  0.869333  0.941583\n",
       "\n",
       "[12 rows x 12 columns]"
      ]
     },
     "execution_count": 193,
     "metadata": {
      "tags": []
     },
     "output_type": "execute_result"
    }
   ],
   "source": [
    "pd.DataFrame(s.numpy())"
   ]
  },
  {
   "cell_type": "code",
   "execution_count": 178,
   "metadata": {
    "colab": {
     "base_uri": "https://localhost:8080/",
     "height": 284
    },
    "colab_type": "code",
    "collapsed": false,
    "id": "9zpJWeskntzZ",
    "outputId": "69a5666c-b64f-4d78-ebf3-4fc5c46fd6e8"
   },
   "outputs": [
    {
     "data": {
      "text/plain": [
       "<matplotlib.axes._subplots.AxesSubplot at 0x7fc2a4163c18>"
      ]
     },
     "execution_count": 178,
     "metadata": {
      "tags": []
     },
     "output_type": "execute_result"
    },
    {
     "data": {
      "image/png": "[encoded data removed]",
      "text/plain": [
       "<Figure size 432x288 with 1 Axes>"
      ]
     },
     "metadata": {
      "needs_background": "light",
      "tags": []
     },
     "output_type": "display_data"
    }
   ],
   "source": [
    "sns.distplot(s.numpy().ravel())"
   ]
  },
  {
   "cell_type": "markdown",
   "metadata": {
    "colab_type": "text",
    "id": "ynJiy0nR5lyY"
   },
   "source": [
    "### With padding"
   ]
  },
  {
   "cell_type": "code",
   "execution_count": 24,
   "metadata": {
    "colab": {},
    "colab_type": "code",
    "collapsed": false,
    "id": "Nv8Ew6JV5lyZ"
   },
   "outputs": [
    {
     "ename": "NameError",
     "evalue": "name 'bertTokenizerFast' is not defined",
     "output_type": "error",
     "traceback": [
      "\u001b[0;31m---------------------------------------------------------------------------\u001b[0m",
      "\u001b[0;31mNameError\u001b[0m                                 Traceback (most recent call last)",
      "\u001b[0;32m<ipython-input-24-750ef19081f3>\u001b[0m in \u001b[0;36m<module>\u001b[0;34m\u001b[0m\n\u001b[1;32m      1\u001b[0m \u001b[0mnum_sentences\u001b[0m \u001b[0;34m=\u001b[0m \u001b[0;36m4000\u001b[0m\u001b[0;34m\u001b[0m\u001b[0;34m\u001b[0m\u001b[0m\n\u001b[0;32m----> 2\u001b[0;31m \u001b[0mbertEncoded\u001b[0m \u001b[0;34m=\u001b[0m \u001b[0mbertTokenizerFast\u001b[0m\u001b[0;34m.\u001b[0m\u001b[0mbatch_encode_plus\u001b[0m\u001b[0;34m(\u001b[0m\u001b[0msentences\u001b[0m\u001b[0;34m[\u001b[0m\u001b[0;34m:\u001b[0m\u001b[0mnum_sentences\u001b[0m\u001b[0;34m]\u001b[0m\u001b[0;34m,\u001b[0m\u001b[0mpad_to_max_length\u001b[0m \u001b[0;34m=\u001b[0m \u001b[0;32mTrue\u001b[0m\u001b[0;34m,\u001b[0m \u001b[0mmax_length\u001b[0m\u001b[0;34m=\u001b[0m\u001b[0;36m512\u001b[0m\u001b[0;34m,\u001b[0m \u001b[0mreturn_tensors\u001b[0m\u001b[0;34m=\u001b[0m\u001b[0;34m'pt'\u001b[0m\u001b[0;34m,\u001b[0m \u001b[0mtruncation\u001b[0m\u001b[0;34m=\u001b[0m\u001b[0;32mTrue\u001b[0m\u001b[0;34m)\u001b[0m\u001b[0;34m.\u001b[0m\u001b[0mto\u001b[0m\u001b[0;34m(\u001b[0m\u001b[0mdevice\u001b[0m\u001b[0;34m)\u001b[0m\u001b[0;34m\u001b[0m\u001b[0;34m\u001b[0m\u001b[0m\n\u001b[0m\u001b[1;32m      3\u001b[0m \u001b[0mgptEncoded\u001b[0m \u001b[0;34m=\u001b[0m \u001b[0mgptTokenizerFast\u001b[0m\u001b[0;34m.\u001b[0m\u001b[0mbatch_encode_plus\u001b[0m\u001b[0;34m(\u001b[0m\u001b[0msentences\u001b[0m\u001b[0;34m[\u001b[0m\u001b[0;34m:\u001b[0m\u001b[0mnum_sentences\u001b[0m\u001b[0;34m]\u001b[0m\u001b[0;34m,\u001b[0m\u001b[0mpad_to_max_length\u001b[0m \u001b[0;34m=\u001b[0m \u001b[0;32mTrue\u001b[0m\u001b[0;34m,\u001b[0m  \u001b[0mmax_length\u001b[0m\u001b[0;34m=\u001b[0m\u001b[0;36m512\u001b[0m\u001b[0;34m,\u001b[0m \u001b[0mreturn_tensors\u001b[0m\u001b[0;34m=\u001b[0m\u001b[0;34m'pt'\u001b[0m\u001b[0;34m,\u001b[0m \u001b[0mtruncation\u001b[0m\u001b[0;34m=\u001b[0m\u001b[0;32mTrue\u001b[0m\u001b[0;34m)\u001b[0m\u001b[0;34m.\u001b[0m\u001b[0mto\u001b[0m\u001b[0;34m(\u001b[0m\u001b[0mdevice\u001b[0m\u001b[0;34m)\u001b[0m\u001b[0;34m\u001b[0m\u001b[0;34m\u001b[0m\u001b[0m\n\u001b[1;32m      4\u001b[0m \u001b[0mrobertaEncoded\u001b[0m \u001b[0;34m=\u001b[0m \u001b[0mrobertaTokenizer\u001b[0m\u001b[0;34m.\u001b[0m\u001b[0mbatch_encode_plus\u001b[0m\u001b[0;34m(\u001b[0m\u001b[0msentences\u001b[0m\u001b[0;34m[\u001b[0m\u001b[0;34m:\u001b[0m\u001b[0mnum_sentences\u001b[0m\u001b[0;34m]\u001b[0m\u001b[0;34m,\u001b[0m\u001b[0mpad_to_max_length\u001b[0m \u001b[0;34m=\u001b[0m \u001b[0;32mTrue\u001b[0m\u001b[0;34m,\u001b[0m \u001b[0mmax_length\u001b[0m\u001b[0;34m=\u001b[0m\u001b[0;36m512\u001b[0m\u001b[0;34m,\u001b[0m \u001b[0mreturn_tensors\u001b[0m\u001b[0;34m=\u001b[0m\u001b[0;34m'pt'\u001b[0m\u001b[0;34m,\u001b[0m \u001b[0mtruncation\u001b[0m\u001b[0;34m=\u001b[0m\u001b[0;32mTrue\u001b[0m\u001b[0;34m)\u001b[0m\u001b[0;34m.\u001b[0m\u001b[0mto\u001b[0m\u001b[0;34m(\u001b[0m\u001b[0mdevice\u001b[0m\u001b[0;34m)\u001b[0m\u001b[0;34m\u001b[0m\u001b[0;34m\u001b[0m\u001b[0m\n",
      "\u001b[0;31mNameError\u001b[0m: name 'bertTokenizerFast' is not defined"
     ]
    }
   ],
   "source": [
    "num_sentences = 4000\n",
    "bertEncoded = bertTokenizerFast.batch_encode_plus(sentences[:num_sentences],pad_to_max_length = True, max_length=512, return_tensors='pt', truncation=True).to(device)\n",
    "gptEncoded = gptTokenizerFast.batch_encode_plus(sentences[:num_sentences],pad_to_max_length = True,  max_length=512, return_tensors='pt', truncation=True).to(device)\n",
    "robertaEncoded = robertaTokenizer.batch_encode_plus(sentences[:num_sentences],pad_to_max_length = True, max_length=512, return_tensors='pt', truncation=True).to(device)"
   ]
  },
  {
   "cell_type": "markdown",
   "metadata": {
    "colab_type": "text",
    "id": "WzzIFwjj5lyc"
   },
   "source": [
    "#### Check encoding alignment"
   ]
  },
  {
   "cell_type": "code",
   "execution_count": null,
   "metadata": {
    "colab": {},
    "colab_type": "code",
    "collapsed": false,
    "id": "OFHg2-405lyd",
    "outputId": "f89b7c1c-d39b-40cc-b696-efd725938798"
   },
   "outputs": [
    {
     "name": "stdout",
     "output_type": "stream",
     "text": [
      "304\n"
     ]
    }
   ],
   "source": [
    "print(len(bertTokenizer.encode(sentences[1])))"
   ]
  },
  {
   "cell_type": "code",
   "execution_count": null,
   "metadata": {
    "colab": {},
    "colab_type": "code",
    "collapsed": true,
    "id": "ZMoxeKJP5lyh"
   },
   "outputs": [],
   "source": [
    "a = list(map(lambda x: len(x[1])-len(x[0]), zip(gptEncoded['input_ids'], bertEncoded['input_ids'])))"
   ]
  },
  {
   "cell_type": "code",
   "execution_count": null,
   "metadata": {
    "colab": {},
    "colab_type": "code",
    "collapsed": true,
    "id": "5tY-FN5I5lyj"
   },
   "outputs": [],
   "source": [
    "def _sliceToBatches(encoded, batch_size):\n",
    "    batches = []\n",
    "    return [{k:v[i*batch_size:(1+i)*batch_size] for k,v in encoded.items()} \n",
    "                                    for i in range(int(np.ceil(len(encoded['input_ids'])/batch_size)))]\n",
    "\n",
    "def headSimilarityWithPadding(modelA, modelB, encodedA_list, encodedB_list):\n",
    "    res = None\n",
    "    for encodedA, encodedB in tqdm(zip(encodedA_list, encodedB_list), total = len(encodedA_list)):\n",
    "        N = len(encodedA['input_ids'][0])\n",
    "        attentionsA = _getAttentionsReshaped(modelA(**encodedA))\n",
    "        attentionsB = _getAttentionsReshaped(modelB(**encodedB)) # ( nLayers * nHeads, batch * N * N)\n",
    "        denom = attentionsA.size(1) / N\n",
    "        new_res = ((attentionsA @ attentionsB.transpose(0, 1))/denom).detach().numpy()\n",
    "        if res is None:\n",
    "            res=new_res\n",
    "        else:\n",
    "            res+=new_res\n",
    "    \n",
    "    return res/len(encodedA_list)"
   ]
  },
  {
   "cell_type": "code",
   "execution_count": null,
   "metadata": {
    "colab": {},
    "colab_type": "code",
    "collapsed": true,
    "id": "mMmetqT75lyn"
   },
   "outputs": [],
   "source": [
    "sim_mat = headSimilarityWithPadding(robertaModel, bertModel,_sliceToBatches(robertaEncoded, 10), _sliceToBatches(bertEncoded, 10) )"
   ]
  },
  {
   "cell_type": "markdown",
   "metadata": {
    "colab_type": "text",
    "id": "RWg2PzmF5lyK"
   },
   "source": [
    "## Predict Attention Heads"
   ]
  },
  {
   "cell_type": "code",
   "execution_count": 16,
   "metadata": {
    "ExecuteTime": {
     "end_time": "2020-08-10T18:49:35.365055Z",
     "start_time": "2020-08-10T18:49:35.362188Z"
    },
    "colab": {},
    "colab_type": "code",
    "collapsed": true,
    "id": "7RPeQDf45lyL"
   },
   "outputs": [],
   "source": [
    "import torch\n",
    "from torch.functional import F\n",
    "from torch import nn\n",
    "from torch.nn import Sequential\n",
    "from torch.nn import Linear"
   ]
  },
  {
   "cell_type": "code",
   "execution_count": 11,
   "metadata": {
    "colab": {
     "base_uri": "https://localhost:8080/",
     "height": 163,
     "referenced_widgets": [
      "88dc2ba072974a9187389fe2af3d2012",
      "318357c2a0b24bc98763b93ba9032636",
      "e41e3d84c003421bac6a0afa82c4300e",
      "3376dc3b87fc418f8ab0e4547cb992fb",
      "9e9dab99dba646839e5450def9ebd453",
      "f85fa4aa2f734a72acb8992539bdd089",
      "dc841261a32a44cba6ba8c08fd4d56dd",
      "1de3d9f0dd6e478da539fa81298c3b84",
      "cf16150fc7d14066807605a36e4bfdab",
      "8a431d69834f490388ac15f401274cc8",
      "cc2bcbbae5c34880a6469733598fd187",
      "26c8f6a7bf2048c5ae8b8cfb10b5f7d5",
      "b578804a78a044ce85f6b5febff7bc9a",
      "8802e88f3c004e1ab23979b279deb832",
      "7763205de9874472a1d884153e77d359",
      "27bb1801879145eab963c9a22aba747f",
      "dd2275ce3fb040fabb05b9898a27fa5a",
      "a54ba335b91d446e863a31faf2874953",
      "a69e626df9d5401ab54c024ec73cde64",
      "c6461e5536254c17bf94a849d67268ca",
      "c5e4644028b74d0996a6a2c4c8d080c0",
      "7c2834261f024e67ac3f0cd8702b6c17",
      "c336af7f3dd544f491edb29cc237f081",
      "79be731212994afb9f4a46d4a7c244c9"
     ]
    },
    "colab_type": "code",
    "collapsed": false,
    "id": "9eompz7NxXC0",
    "outputId": "a2b1c655-3bb3-4316-dfa2-b92f8b3d6070"
   },
   "outputs": [],
   "source": [
    "largeBertTokenizer = BertTokenizerFast.from_pretrained('bert-large-uncased', output_attentions = True,  cache_dir = cache_dir)\n",
    "largeBertModel = AutoModel.from_pretrained('bert-large-uncased', output_attentions = True, cache_dir = cache_dir)"
   ]
  },
  {
   "cell_type": "code",
   "execution_count": 81,
   "metadata": {
    "collapsed": true
   },
   "outputs": [],
   "source": [
    "def _getSentLen(sent):\n",
    "  assert(len(sent.shape) == 1)\n",
    "  a = np.where(np.isnan(sent))[0]\n",
    "  if len(a) == 0:\n",
    "    return (sent.shape[0])\n",
    "  else:\n",
    "    return a[0]\n",
    "\n",
    "from tqdm import tqdm_notebook"
   ]
  },
  {
   "cell_type": "code",
   "execution_count": 19,
   "metadata": {
    "ExecuteTime": {
     "end_time": "2020-08-10T18:50:13.397980Z",
     "start_time": "2020-08-10T18:49:13.512Z"
    },
    "colab": {},
    "colab_type": "code",
    "collapsed": false,
    "id": "4xh88-4o5lyP"
   },
   "outputs": [
    {
     "name": "stderr",
     "output_type": "stream",
     "text": [
      "<ipython-input-19-86b3a2a9c14b>:9: TqdmDeprecationWarning: This function will be removed in tqdm==5.0.0\n",
      "Please use `tqdm.notebook.tqdm` instead of `tqdm.tqdm_notebook`\n",
      "  t = tqdm_notebook(enumerate(encodedA_list))\n"
     ]
    },
    {
     "data": {
      "application/vnd.jupyter.widget-view+json": {
       "model_id": "b5f88f944cc549d9a174264e61db546c",
       "version_major": 2,
       "version_minor": 0
      },
      "text/plain": [
       "HBox(children=(FloatProgress(value=1.0, bar_style='info', max=1.0), HTML(value='')))"
      ]
     },
     "metadata": {},
     "output_type": "display_data"
    },
    {
     "name": "stdout",
     "output_type": "stream",
     "text": [
      "\n"
     ]
    }
   ],
   "source": [
    "max_sent_len = 60\n",
    "inputs_memmap = np.memmap(guy_folder + \"/inputs.memmap\", dtype = 'float32', shape = (100, 12, 12, max_sent_len, max_sent_len), mode = \"w+\")\n",
    "target_memmap = np.memmap(guy_folder + \"/target.memmap\", dtype = 'float32', shape = (100, max_sent_len, max_sent_len), mode = \"w+\")\n",
    "\n",
    "inputs_memmap[:] = None\n",
    "target_memmap[:] = None\n",
    "\n",
    "from tqdm import tqdm_notebook\n",
    "t = tqdm_notebook(enumerate(encodedA_list))\n",
    "for i, encodedA in t:\n",
    "        inputs = _getAttentionsReshaped(bertModel(**encodedA), wordsToTokens = None, reshape = False).detach().numpy()\n",
    "        target = _getAttentionsReshaped(largeBertModel(**encodedA), wordsToTokens = None, reshape = False)[10, 0].detach().numpy()\n",
    "        \n",
    "        sent_len = target.shape[0]\n",
    "        inputs_memmap[i, :, :, :sent_len, :sent_len] = inputs\n",
    "        target_memmap[i, :sent_len, :sent_len] = target\n",
    "\n",
    "\n",
    "\n",
    "inputs_memmap.flush()\n",
    "target_memmap.flush()\n"
   ]
  },
  {
   "cell_type": "code",
   "execution_count": 83,
   "metadata": {
    "ExecuteTime": {
     "end_time": "2020-08-10T18:50:04.829422Z",
     "start_time": "2020-08-10T18:50:04.824480Z"
    },
    "colab": {},
    "colab_type": "code",
    "collapsed": false,
    "id": "HuUdGkgm5lyN"
   },
   "outputs": [],
   "source": [
    "class AttentionCombiner(nn.Module):\n",
    "    def __init__(self):\n",
    "        super(AttentionCombiner, self).__init__()\n",
    "        self.n_heads = self.n_layers = 12\n",
    "        self.n_total_heads = self.n_heads * self.n_layers\n",
    "        self.weight = nn.Parameter(torch.ones((self.n_total_heads,1, 1))/100)\n",
    "        \n",
    "        \n",
    "    def forward(self, x):\n",
    "        x = x.view(self.n_total_heads, x.size(2), x.size(3))\n",
    "        w = F.softmax(self.weight)\n",
    "        # w /= w.sum(axis = 0, keepdims = True)\n",
    "        x = (w * x).sum(axis = 0)\n",
    "        return x #F.softmax(x, dim = -1)"
   ]
  },
  {
   "cell_type": "code",
   "execution_count": 84,
   "metadata": {
    "collapsed": true
   },
   "outputs": [],
   "source": [
    "class AttentionConverter(nn.Module):\n",
    "    def __init__(self):\n",
    "        super(AttentionConverter, self).__init__()\n",
    "        self.combiner = AttentionCombiner()\n",
    "        self.cnn = nn.Conv1d(1, 1, 3, padding = 1)\n",
    "\n",
    "        nn.init.xavier_uniform_(self.cnn.weight)\n",
    "    def forward(self, x):\n",
    "        shape = x.shape\n",
    "        x = self.cnn(x.view(-1, 1, x.size(-1)))\n",
    "        x = x.view(*shape)\n",
    "        x = self.combiner(x)\n",
    "        return F.softmax(x.view(x.size(-1), x.size(-1)), dim = -1)"
   ]
  },
  {
   "cell_type": "code",
   "execution_count": null,
   "metadata": {
    "collapsed": false,
    "scrolled": false
   },
   "outputs": [
    {
     "name": "stderr",
     "output_type": "stream",
     "text": [
      "  0%|          | 0/100 [00:00<?, ?it/s]<ipython-input-83-86b061a03448>:11: UserWarning: Implicit dimension choice for softmax has been deprecated. Change the call to include dim=X as an argument.\n",
      "  w = F.softmax(self.weight)\n",
      "  2%|▏         | 2/100 [00:00<00:09, 10.05it/s, Loss: 0.7369477272033692]"
     ]
    },
    {
     "name": "stdout",
     "output_type": "stream",
     "text": [
      "Epoch 0\n"
     ]
    },
    {
     "name": "stderr",
     "output_type": "stream",
     "text": [
      "100%|██████████| 100/100 [00:15<00:00,  6.37it/s, Loss: 0.5626647146961006]\n",
      "  1%|          | 1/100 [00:00<00:16,  6.09it/s, Loss: 0.5574845884044832]"
     ]
    },
    {
     "name": "stdout",
     "output_type": "stream",
     "text": [
      "Epoch 1\n"
     ]
    },
    {
     "name": "stderr",
     "output_type": "stream",
     "text": [
      "100%|██████████| 100/100 [00:16<00:00,  5.98it/s, Loss: 0.5597491644467759]\n",
      "  3%|▎         | 3/100 [00:00<00:03, 26.88it/s, Loss: 0.5507944445590733]"
     ]
    },
    {
     "name": "stdout",
     "output_type": "stream",
     "text": [
      "Epoch 2\n"
     ]
    },
    {
     "name": "stderr",
     "output_type": "stream",
     "text": [
      "100%|██████████| 100/100 [00:18<00:00,  5.51it/s, Loss: 0.5532592730270723]\n",
      "  0%|          | 0/100 [00:00<?, ?it/s, Loss: 0.5479231453656708]"
     ]
    },
    {
     "name": "stdout",
     "output_type": "stream",
     "text": [
      "Epoch 3\n"
     ]
    },
    {
     "name": "stderr",
     "output_type": "stream",
     "text": [
      "100%|██████████| 100/100 [00:15<00:00,  6.28it/s, Loss: 0.5568424806796712]\n",
      "  1%|          | 1/100 [00:00<00:11,  8.35it/s, Loss: 0.5475673899141342]"
     ]
    },
    {
     "name": "stdout",
     "output_type": "stream",
     "text": [
      "Epoch 4\n"
     ]
    },
    {
     "name": "stderr",
     "output_type": "stream",
     "text": [
      "100%|██████████| 100/100 [00:17<00:00,  5.85it/s, Loss: 0.5736961430884732]\n",
      "  0%|          | 0/100 [00:00<?, ?it/s, Loss: 0.5682125854739016]"
     ]
    },
    {
     "name": "stdout",
     "output_type": "stream",
     "text": [
      "Epoch 5\n"
     ]
    },
    {
     "name": "stderr",
     "output_type": "stream",
     "text": [
      "100%|██████████| 100/100 [00:16<00:00,  6.10it/s, Loss: 0.563281676072879]\n",
      "  0%|          | 0/100 [00:00<?, ?it/s, Loss: 0.5497624980293542]"
     ]
    },
    {
     "name": "stdout",
     "output_type": "stream",
     "text": [
      "Epoch 6\n"
     ]
    },
    {
     "name": "stderr",
     "output_type": "stream",
     "text": [
      "100%|██████████| 100/100 [00:16<00:00,  6.25it/s, Loss: 0.564752683173536]\n",
      "  0%|          | 0/100 [00:00<?, ?it/s]"
     ]
    },
    {
     "name": "stdout",
     "output_type": "stream",
     "text": [
      "Epoch     7: reducing learning rate of group 0 to 5.0000e-01.\n",
      "Epoch 7\n"
     ]
    },
    {
     "name": "stderr",
     "output_type": "stream",
     "text": [
      "100%|██████████| 100/100 [00:19<00:00,  5.21it/s, Loss: 0.5557776252523241]\n",
      "  0%|          | 0/100 [00:00<?, ?it/s, Loss: 0.5510568442037124]"
     ]
    },
    {
     "name": "stdout",
     "output_type": "stream",
     "text": [
      "Epoch 8\n"
     ]
    },
    {
     "name": "stderr",
     "output_type": "stream",
     "text": [
      "100%|██████████| 100/100 [00:15<00:00,  6.43it/s, Loss: 0.5575514441152277]\n",
      "  2%|▏         | 2/100 [00:00<00:06, 15.25it/s, Loss: 0.5434966996569788]"
     ]
    },
    {
     "name": "stdout",
     "output_type": "stream",
     "text": [
      "Epoch 9\n"
     ]
    },
    {
     "name": "stderr",
     "output_type": "stream",
     "text": [
      "100%|██████████| 100/100 [00:17<00:00,  5.72it/s, Loss: 0.5567320547470468]\n",
      "  0%|          | 0/100 [00:00<?, ?it/s, Loss: 0.5474983564940133]"
     ]
    },
    {
     "name": "stdout",
     "output_type": "stream",
     "text": [
      "Epoch 10\n"
     ]
    },
    {
     "name": "stderr",
     "output_type": "stream",
     "text": [
      "100%|██████████| 100/100 [00:16<00:00,  6.00it/s, Loss: 0.5585986844613839]\n",
      "  3%|▎         | 3/100 [00:00<00:04, 20.88it/s, Loss: 0.5449971921985703]"
     ]
    },
    {
     "name": "stdout",
     "output_type": "stream",
     "text": [
      "Epoch    11: reducing learning rate of group 0 to 2.5000e-01.\n",
      "Epoch 11\n"
     ]
    },
    {
     "name": "stderr",
     "output_type": "stream",
     "text": [
      " 78%|███████▊  | 78/100 [00:14<00:06,  3.42it/s, Loss: 0.543146003252798] "
     ]
    }
   ],
   "source": [
    "\n",
    "attConv = AttentionConverter()\n",
    "optimizer = torch.optim.Adam(attConv.parameters(), lr = 1)\n",
    "criterion = nn.KLDivLoss(reduction = 'batchmean')\n",
    "avg_loss = None\n",
    "beta = 0.95\n",
    "scheduler = torch.optim.lr_scheduler.ReduceLROnPlateau(optimizer, factor = 0.5, patience = 3, \n",
    "                                                       threshold = 1e-2,\n",
    "                                                       min_lr = 1e-4,\n",
    "                                                      verbose = True)\n",
    "\n",
    "for i in range(100):\n",
    "    print(\"Epoch \" + str(i))\n",
    "    t = tqdm(encodedA_list)\n",
    "    for i, encodedA in enumerate(t):\n",
    "      attConv.zero_grad()\n",
    "      cur_inputs = inputs_memmap[i]\n",
    "      cur_target = target_memmap[i]\n",
    "\n",
    "      sent_len = _getSentLen(cur_target[0])\n",
    "      inputs = torch.from_numpy(cur_inputs[:,:, :sent_len, :sent_len])\n",
    "      target = torch.from_numpy(cur_target[ :sent_len, :sent_len]) \n",
    "      loss = criterion(torch.log(attConv(inputs)), target)\n",
    "      if not avg_loss:\n",
    "            avg_loss = loss.item()\n",
    "      avg_loss = beta * avg_loss + (1-beta) * loss.item()\n",
    "      t.set_postfix_str(\"Loss: \" + str(avg_loss))\n",
    "      loss.backward()\n",
    "      optimizer.step()\n",
    "\n",
    "    scheduler.step(avg_loss)\n",
    "    t.clear()"
   ]
  },
  {
   "cell_type": "markdown",
   "metadata": {},
   "source": [
    "### Old"
   ]
  },
  {
   "cell_type": "code",
   "execution_count": 29,
   "metadata": {
    "collapsed": true
   },
   "outputs": [
    {
     "name": "stdout",
     "output_type": "stream",
     "text": [
      "Epoch 0\n"
     ]
    },
    {
     "name": "stderr",
     "output_type": "stream",
     "text": [
      "<ipython-input-29-20c3bd58a35b>:7: TqdmDeprecationWarning: This function will be removed in tqdm==5.0.0\n",
      "Please use `tqdm.notebook.tqdm` instead of `tqdm.tqdm_notebook`\n",
      "  t = tqdm_notebook(encodedA_list)\n"
     ]
    },
    {
     "data": {
      "application/vnd.jupyter.widget-view+json": {
       "model_id": "fa13d3f90243400496d4fa2cf2554687",
       "version_major": 2,
       "version_minor": 0
      },
      "text/plain": [
       "HBox(children=(FloatProgress(value=0.0), HTML(value='')))"
      ]
     },
     "metadata": {},
     "output_type": "display_data"
    },
    {
     "name": "stderr",
     "output_type": "stream",
     "text": [
      "<ipython-input-17-86b061a03448>:11: UserWarning: Implicit dimension choice for softmax has been deprecated. Change the call to include dim=X as an argument.\n",
      "  w = F.softmax(self.weight)\n"
     ]
    },
    {
     "name": "stdout",
     "output_type": "stream",
     "text": [
      "\n"
     ]
    },
    {
     "ename": "KeyboardInterrupt",
     "evalue": "",
     "output_type": "error",
     "traceback": [
      "\u001b[0;31m---------------------------------------------------------------------------\u001b[0m",
      "\u001b[0;31mKeyboardInterrupt\u001b[0m                         Traceback (most recent call last)",
      "\u001b[0;32m<ipython-input-29-20c3bd58a35b>\u001b[0m in \u001b[0;36m<module>\u001b[0;34m\u001b[0m\n\u001b[1;32m     14\u001b[0m           \u001b[0mloss\u001b[0m \u001b[0;34m=\u001b[0m \u001b[0mcriterion\u001b[0m\u001b[0;34m(\u001b[0m\u001b[0mtorch\u001b[0m\u001b[0;34m.\u001b[0m\u001b[0mlog\u001b[0m\u001b[0;34m(\u001b[0m\u001b[0mattConv\u001b[0m\u001b[0;34m(\u001b[0m\u001b[0minputs\u001b[0m\u001b[0;34m)\u001b[0m\u001b[0;34m)\u001b[0m\u001b[0;34m,\u001b[0m \u001b[0mtarget\u001b[0m\u001b[0;34m)\u001b[0m\u001b[0;34m\u001b[0m\u001b[0;34m\u001b[0m\u001b[0m\n\u001b[1;32m     15\u001b[0m           \u001b[0mt\u001b[0m\u001b[0;34m.\u001b[0m\u001b[0mset_postfix_str\u001b[0m\u001b[0;34m(\u001b[0m\u001b[0;34m\"Loss: \"\u001b[0m \u001b[0;34m+\u001b[0m \u001b[0mstr\u001b[0m\u001b[0;34m(\u001b[0m\u001b[0mloss\u001b[0m\u001b[0;34m.\u001b[0m\u001b[0mitem\u001b[0m\u001b[0;34m(\u001b[0m\u001b[0;34m)\u001b[0m\u001b[0;34m)\u001b[0m\u001b[0;34m)\u001b[0m\u001b[0;34m\u001b[0m\u001b[0;34m\u001b[0m\u001b[0m\n\u001b[0;32m---> 16\u001b[0;31m           \u001b[0mloss\u001b[0m\u001b[0;34m.\u001b[0m\u001b[0mbackward\u001b[0m\u001b[0;34m(\u001b[0m\u001b[0;34m)\u001b[0m\u001b[0;34m\u001b[0m\u001b[0;34m\u001b[0m\u001b[0m\n\u001b[0m\u001b[1;32m     17\u001b[0m           \u001b[0moptimizer\u001b[0m\u001b[0;34m.\u001b[0m\u001b[0mstep\u001b[0m\u001b[0;34m(\u001b[0m\u001b[0;34m)\u001b[0m\u001b[0;34m\u001b[0m\u001b[0;34m\u001b[0m\u001b[0m\n",
      "\u001b[0;32m/specific/scratches/scratch/guy/miniconda/lib/python3.8/site-packages/torch/tensor.py\u001b[0m in \u001b[0;36mbackward\u001b[0;34m(self, gradient, retain_graph, create_graph)\u001b[0m\n\u001b[1;32m    193\u001b[0m                 \u001b[0mproducts\u001b[0m\u001b[0;34m.\u001b[0m \u001b[0mDefaults\u001b[0m \u001b[0mto\u001b[0m\u001b[0;31m \u001b[0m\u001b[0;31m`\u001b[0m\u001b[0;31m`\u001b[0m\u001b[0;32mFalse\u001b[0m\u001b[0;31m`\u001b[0m\u001b[0;31m`\u001b[0m\u001b[0;34m.\u001b[0m\u001b[0;34m\u001b[0m\u001b[0;34m\u001b[0m\u001b[0m\n\u001b[1;32m    194\u001b[0m         \"\"\"\n\u001b[0;32m--> 195\u001b[0;31m         \u001b[0mtorch\u001b[0m\u001b[0;34m.\u001b[0m\u001b[0mautograd\u001b[0m\u001b[0;34m.\u001b[0m\u001b[0mbackward\u001b[0m\u001b[0;34m(\u001b[0m\u001b[0mself\u001b[0m\u001b[0;34m,\u001b[0m \u001b[0mgradient\u001b[0m\u001b[0;34m,\u001b[0m \u001b[0mretain_graph\u001b[0m\u001b[0;34m,\u001b[0m \u001b[0mcreate_graph\u001b[0m\u001b[0;34m)\u001b[0m\u001b[0;34m\u001b[0m\u001b[0;34m\u001b[0m\u001b[0m\n\u001b[0m\u001b[1;32m    196\u001b[0m \u001b[0;34m\u001b[0m\u001b[0m\n\u001b[1;32m    197\u001b[0m     \u001b[0;32mdef\u001b[0m \u001b[0mregister_hook\u001b[0m\u001b[0;34m(\u001b[0m\u001b[0mself\u001b[0m\u001b[0;34m,\u001b[0m \u001b[0mhook\u001b[0m\u001b[0;34m)\u001b[0m\u001b[0;34m:\u001b[0m\u001b[0;34m\u001b[0m\u001b[0;34m\u001b[0m\u001b[0m\n",
      "\u001b[0;32m/specific/scratches/scratch/guy/miniconda/lib/python3.8/site-packages/torch/autograd/__init__.py\u001b[0m in \u001b[0;36mbackward\u001b[0;34m(tensors, grad_tensors, retain_graph, create_graph, grad_variables)\u001b[0m\n\u001b[1;32m     95\u001b[0m         \u001b[0mretain_graph\u001b[0m \u001b[0;34m=\u001b[0m \u001b[0mcreate_graph\u001b[0m\u001b[0;34m\u001b[0m\u001b[0;34m\u001b[0m\u001b[0m\n\u001b[1;32m     96\u001b[0m \u001b[0;34m\u001b[0m\u001b[0m\n\u001b[0;32m---> 97\u001b[0;31m     Variable._execution_engine.run_backward(\n\u001b[0m\u001b[1;32m     98\u001b[0m         \u001b[0mtensors\u001b[0m\u001b[0;34m,\u001b[0m \u001b[0mgrad_tensors\u001b[0m\u001b[0;34m,\u001b[0m \u001b[0mretain_graph\u001b[0m\u001b[0;34m,\u001b[0m \u001b[0mcreate_graph\u001b[0m\u001b[0;34m,\u001b[0m\u001b[0;34m\u001b[0m\u001b[0;34m\u001b[0m\u001b[0m\n\u001b[1;32m     99\u001b[0m         allow_unreachable=True)  # allow_unreachable flag\n",
      "\u001b[0;31mKeyboardInterrupt\u001b[0m: "
     ]
    }
   ],
   "source": [
    "optimizer = torch.optim.Adam(attConv.parameters(), lr = 1e-2)\n",
    "from tqdm import tqdm_notebook\n",
    "criterion = nn.KLDivLoss(reduction = 'batchmean')\n",
    "for i in range(5):\n",
    "  print(\"Epoch \" + str(i))\n",
    "  t = tqdm_notebook(encodedA_list)\n",
    "\n",
    "  for encodedA in t:\n",
    "          attConv.zero_grad()\n",
    "          inputs = _getAttentionsReshaped(bertModel(**encodedA), wordsToTokens = None, reshape = False)\n",
    "          target = _getAttentionsReshaped(largeBertModel(**encodedA), wordsToTokens = None, reshape = False)[10, 0] \n",
    "          shape = target.shape\n",
    "          loss = criterion(torch.log(attConv(inputs)), target)\n",
    "          t.set_postfix_str(\"Loss: \" + str(loss.item()))\n",
    "          loss.backward()\n",
    "          optimizer.step()"
   ]
  }
 ],
 "metadata": {
  "celltoolbar": "Initialization Cell",
  "colab": {
   "name": "attentions.ipynb",
   "provenance": []
  },
  "kernelspec": {
   "display_name": "guy-python",
   "language": "python",
   "name": "guy-python"
  },
  "language_info": {
   "codemirror_mode": {
    "name": "ipython",
    "version": 3
   },
   "file_extension": ".py",
   "mimetype": "text/x-python",
   "name": "python",
   "nbconvert_exporter": "python",
   "pygments_lexer": "ipython3",
   "version": "3.8.3"
  },
  "notify_time": "30",
  "toc": {
   "base_numbering": 1,
   "nav_menu": {},
   "number_sections": true,
   "sideBar": true,
   "skip_h1_title": false,
   "title_cell": "Table of Contents",
   "title_sidebar": "Contents",
   "toc_cell": false,
   "toc_position": {
    "height": "calc(100% - 180px)",
    "left": "10px",
    "top": "150px",
    "width": "284px"
   },
   "toc_section_display": true,
   "toc_window_display": true
  },
  "varInspector": {
   "cols": {
    "lenName": 16,
    "lenType": 16,
    "lenVar": 40
   },
   "kernels_config": {
    "python": {
     "delete_cmd_postfix": "",
     "delete_cmd_prefix": "del ",
     "library": "var_list.py",
     "varRefreshCmd": "print(var_dic_list())"
    },
    "r": {
     "delete_cmd_postfix": ") ",
     "delete_cmd_prefix": "rm(",
     "library": "var_list.r",
     "varRefreshCmd": "cat(var_dic_list()) "
    }
   },
   "position": {
    "height": "457px",
    "left": "734px",
    "right": "20px",
    "top": "147px",
    "width": "351px"
   },
   "types_to_exclude": [
    "module",
    "function",
    "builtin_function_or_method",
    "instance",
    "_Feature"
   ],
   "window_display": false
  }
 },
 "nbformat": 4,
 "nbformat_minor": 0
}
